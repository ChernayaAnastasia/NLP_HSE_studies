{
 "cells": [
  {
   "cell_type": "code",
   "execution_count": 71,
   "metadata": {},
   "outputs": [
    {
     "name": "stdout",
     "output_type": "stream",
     "text": [
      "Самое частотное слово: и.\n",
      "Число вхождений: 27.\n"
     ]
    }
   ],
   "source": [
    "#Данный код ищет самое частотное слово \n",
    "#(без лемматизации, то есть разные словоформы одного и того же слова считаются разными словами)\n",
    "\n",
    "import string\n",
    "with open('city_smells.txt','r+', encoding = 'utf-8') as file:\n",
    "    file = file.read() #читаем файл и записываем результат в переменную \n",
    "    nrmlzd_file = read_file.lower().translate(str.maketrans('','','«»—!\"$%&\\'()*+,-./:;<=>?@[\\\\]^_`{|}~')).split() #убираем пунктуацию и приводим все к нижнему регистру\n",
    "    new_dic = {} #создадим пустой словарь \n",
    "    bigcount = None #переменная для поиска самого большого значения в словаре. По умолчанию значение отсутствует.  \n",
    "    bigword = None #переменная для поиска самого частотного слова в словаре. По умолчанию значение отсутствует.\n",
    "    for word in nrmlzd_file: #Циклом проходим по каждому слову \n",
    "         if word.isalpha(): #поверяем, что строка состоит из букв (цифры не считаем)\n",
    "            new_dic[word]= new_dic.get(word,0)+1 #добавляем в словарь слово-ключ, а методом get добавляем значение\n",
    "                                                    #dict.get(key[, default]) возвращает значение ключа, \n",
    "                                                    #но если его нет, не выдает ошибку, а возвращает default (по умолчанию None).\n",
    "            if bigcount is None or new_dic[word]>bigcount:\n",
    "                bigcount = new_dic[word]\n",
    "                bigword = word\n",
    "print('Самое частотное слово: '+bigword+'.',\"\\n\",'Число вхождений: ',bigcount,'.',sep='')\n",
    "text_for_new_file = 'Самое частотное слово:'+bigword+'.'+'\\n'+'Число вхождений:'+str(bigcount)+'.' #переменная, которая будет хранить результат работы кода\n",
    "\n",
    "with open ('most_frequent_word.txt', 'w') as f: #Содаем новый файл, куда запишем результат \n",
    "    f.write(text_for_new_file) #пишем в новый файл результат отработанного кода выше    \n",
    "        \n",
    "    "
   ]
  },
  {
   "cell_type": "code",
   "execution_count": null,
   "metadata": {},
   "outputs": [],
   "source": []
  }
 ],
 "metadata": {
  "kernelspec": {
   "display_name": "Python 3",
   "language": "python",
   "name": "python3"
  },
  "language_info": {
   "codemirror_mode": {
    "name": "ipython",
    "version": 3
   },
   "file_extension": ".py",
   "mimetype": "text/x-python",
   "name": "python",
   "nbconvert_exporter": "python",
   "pygments_lexer": "ipython3",
   "version": "3.7.3"
  }
 },
 "nbformat": 4,
 "nbformat_minor": 2
}

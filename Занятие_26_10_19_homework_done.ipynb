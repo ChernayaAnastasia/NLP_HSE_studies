{
 "cells": [
  {
   "cell_type": "code",
   "execution_count": 2,
   "metadata": {},
   "outputs": [
    {
     "name": "stdout",
     "output_type": "stream",
     "text": [
      "мама мыла\n"
     ]
    }
   ],
   "source": [
    "print('мама','мыла')\n"
   ]
  },
  {
   "cell_type": "code",
   "execution_count": 10,
   "metadata": {},
   "outputs": [
    {
     "name": "stdout",
     "output_type": "stream",
     "text": [
      "\n",
      "мама \n",
      "мыла \n",
      "раму\n"
     ]
    }
   ],
   "source": [
    "print ('\\nмама',\n",
    "        '\\nмыла',\n",
    "        '\\nраму')"
   ]
  },
  {
   "cell_type": "markdown",
   "metadata": {},
   "source": [
    "\\n - новая строка"
   ]
  },
  {
   "cell_type": "code",
   "execution_count": 8,
   "metadata": {},
   "outputs": [
    {
     "name": "stdout",
     "output_type": "stream",
     "text": [
      "he said, 'I can't go there'\n"
     ]
    }
   ],
   "source": [
    "print(\"he said, 'I can't go there'\")"
   ]
  },
  {
   "cell_type": "code",
   "execution_count": 9,
   "metadata": {},
   "outputs": [
    {
     "name": "stdout",
     "output_type": "stream",
     "text": [
      "//\n"
     ]
    }
   ],
   "source": [
    "print('//')"
   ]
  },
  {
   "cell_type": "markdown",
   "metadata": {},
   "source": [
    "Экранируем слэшом кавычку, слэш... "
   ]
  },
  {
   "cell_type": "markdown",
   "metadata": {},
   "source": [
    "у функции принт есть оператор sep (можем модифицировать пробелы по умолчанию между аргументами)"
   ]
  },
  {
   "cell_type": "code",
   "execution_count": 11,
   "metadata": {},
   "outputs": [
    {
     "name": "stdin",
     "output_type": "stream",
     "text": [
      "Введите текст:  Привет!\n"
     ]
    }
   ],
   "source": [
    "name = input('Введите текст: ')"
   ]
  },
  {
   "cell_type": "code",
   "execution_count": 19,
   "metadata": {},
   "outputs": [
    {
     "name": "stdin",
     "output_type": "stream",
     "text": [
      "Привет! Как тебя зовут? Настя\n"
     ]
    },
    {
     "name": "stdout",
     "output_type": "stream",
     "text": [
      "\n",
      "\n",
      "Приятно познакомиться, Настя.\n"
     ]
    }
   ],
   "source": [
    "name = input('Привет! Как тебя зовут?')\n",
    "print ('\\n\\nПриятно познакомиться,', name+'.') #+ - можем конкатенировать точку с name"
   ]
  },
  {
   "cell_type": "markdown",
   "metadata": {},
   "source": [
    "**Списки** "
   ]
  },
  {
   "cell_type": "markdown",
   "metadata": {},
   "source": [
    "Список - это такой тип данных . Это интерируемый объект. Задается литералом []"
   ]
  },
  {
   "cell_type": "code",
   "execution_count": null,
   "metadata": {},
   "outputs": [],
   "source": [
    "my_list = [1, 'hello', 3.56] # в списке могут быть разные данные: числа, строки"
   ]
  },
  {
   "cell_type": "code",
   "execution_count": 20,
   "metadata": {},
   "outputs": [
    {
     "ename": "SyntaxError",
     "evalue": "invalid syntax (<ipython-input-20-27ceffe00e6b>, line 1)",
     "output_type": "error",
     "traceback": [
      "\u001b[0;36m  File \u001b[0;32m\"<ipython-input-20-27ceffe00e6b>\"\u001b[0;36m, line \u001b[0;32m1\u001b[0m\n\u001b[0;31m    4var = 5\u001b[0m\n\u001b[0m       ^\u001b[0m\n\u001b[0;31mSyntaxError\u001b[0m\u001b[0;31m:\u001b[0m invalid syntax\n"
     ]
    }
   ],
   "source": [
    "4var = 5 #имя переменной не должно начинаться с числа "
   ]
  },
  {
   "cell_type": "code",
   "execution_count": 26,
   "metadata": {},
   "outputs": [
    {
     "data": {
      "text/plain": [
       "['1', '4', '5', '6', '2', '8']"
      ]
     },
     "execution_count": 26,
     "metadata": {},
     "output_type": "execute_result"
    }
   ],
   "source": [
    "list('145628') #функция лист возвращает список с набором элементов. \n",
    "#Внутри функции может быть не более 1 аргумента"
   ]
  },
  {
   "cell_type": "code",
   "execution_count": 23,
   "metadata": {},
   "outputs": [
    {
     "name": "stdout",
     "output_type": "stream",
     "text": [
      "hello\n"
     ]
    },
    {
     "data": {
      "text/plain": [
       "4"
      ]
     },
     "execution_count": 23,
     "metadata": {},
     "output_type": "execute_result"
    }
   ],
   "source": [
    "new_list = [[1,2,3, [4,5]], [3.09, 'hello'], 3]\n",
    "print(new_list[1][1])  #можно посмотреть на индекс внутри какого-то элемента\n",
    "len(new_list[0])"
   ]
  },
  {
   "cell_type": "markdown",
   "metadata": {},
   "source": [
    "Можно итерироваться по списку, смотреть на его элементы, вызывая нужный нам индекс"
   ]
  },
  {
   "cell_type": "code",
   "execution_count": null,
   "metadata": {},
   "outputs": [],
   "source": [
    "empty_list = []\n",
    "empty_list.append('hi')\n",
    "print(empty_list)"
   ]
  },
  {
   "cell_type": "markdown",
   "metadata": {},
   "source": [
    "function(x)\n",
    "x.method() - в скобках тоже аргумент"
   ]
  },
  {
   "cell_type": "code",
   "execution_count": 1,
   "metadata": {},
   "outputs": [
    {
     "name": "stdout",
     "output_type": "stream",
     "text": [
      "['hi', 'Jane', 'Jack']\n"
     ]
    }
   ],
   "source": [
    "empty_list = []\n",
    "empty_list.append('hi')\n",
    "empty_list.extend(['Jane','Jack'])\n",
    "print(empty_list)"
   ]
  },
  {
   "cell_type": "code",
   "execution_count": 2,
   "metadata": {},
   "outputs": [
    {
     "name": "stdout",
     "output_type": "stream",
     "text": [
      "['hi', 'Jane', 'hi', 'Jack']\n"
     ]
    }
   ],
   "source": [
    "empty_list.insert(2, 'hi') #shift + insert - покажет возможности работы функции \n",
    "print(empty_list)"
   ]
  },
  {
   "cell_type": "code",
   "execution_count": 3,
   "metadata": {},
   "outputs": [
    {
     "name": "stdout",
     "output_type": "stream",
     "text": [
      "['hi', 'Jane', 'hi']\n"
     ]
    }
   ],
   "source": [
    "empty_list.remove('Jack')\n",
    "print(empty_list)"
   ]
  },
  {
   "cell_type": "code",
   "execution_count": 4,
   "metadata": {},
   "outputs": [
    {
     "data": {
      "text/plain": [
       "2"
      ]
     },
     "execution_count": 4,
     "metadata": {},
     "output_type": "execute_result"
    }
   ],
   "source": [
    "empty_list.count('hi') #возвращает кол-во элементов, указанных в скобках, в списке"
   ]
  },
  {
   "cell_type": "code",
   "execution_count": 6,
   "metadata": {},
   "outputs": [
    {
     "name": "stdout",
     "output_type": "stream",
     "text": [
      "[1, 3, 5, 18]\n"
     ]
    }
   ],
   "source": [
    "test = [1, 5, 18, 3]\n",
    "test.sort()\n",
    "print(test)"
   ]
  },
  {
   "cell_type": "code",
   "execution_count": 18,
   "metadata": {},
   "outputs": [
    {
     "name": "stdout",
     "output_type": "stream",
     "text": [
      "['а', 'б', 'в', 'г']\n"
     ]
    }
   ],
   "source": [
    "test2 = ['а', 'г', 'б', 'в']\n",
    "test2.sort()\n",
    "print(test2)\n",
    "#print(test2.sort())"
   ]
  },
  {
   "cell_type": "code",
   "execution_count": 7,
   "metadata": {},
   "outputs": [
    {
     "data": {
      "text/plain": [
       "list"
      ]
     },
     "execution_count": 7,
     "metadata": {},
     "output_type": "execute_result"
    }
   ],
   "source": [
    "type(test)"
   ]
  },
  {
   "cell_type": "code",
   "execution_count": 10,
   "metadata": {},
   "outputs": [
    {
     "name": "stdout",
     "output_type": "stream",
     "text": [
      "[18, 5, 3, 1]\n"
     ]
    }
   ],
   "source": [
    "test.reverse() #разворачивает список \n",
    "print(test)"
   ]
  },
  {
   "cell_type": "code",
   "execution_count": 16,
   "metadata": {},
   "outputs": [
    {
     "name": "stdout",
     "output_type": "stream",
     "text": [
      "[]\n"
     ]
    }
   ],
   "source": [
    "test.clear() #очищает список\n",
    "print(test)"
   ]
  },
  {
   "cell_type": "markdown",
   "metadata": {},
   "source": [
    "Модуль Random\n",
    "Выбирает рандомные элементы из списков\n",
    "Полезно для генерации чего-нибудь\n",
    "Модуль нужно импортировать\n",
    "Модуль - это часть библиотеки - импортируемый код\n"
   ]
  },
  {
   "cell_type": "code",
   "execution_count": 24,
   "metadata": {},
   "outputs": [
    {
     "name": "stdout",
     "output_type": "stream",
     "text": [
      "Hello Mike\n"
     ]
    }
   ],
   "source": [
    "import random\n",
    "seq = ['Jane', 'Mary', 'John', 'Mike']\n",
    "print('Hello', random.choice(seq)) #вызываем метод choice из модуля random\n",
    "#выбирает случайный элемент непустой последовательности"
   ]
  },
  {
   "cell_type": "code",
   "execution_count": null,
   "metadata": {},
   "outputs": [],
   "source": [
    "Менеджер пакетов pip\n",
    "List показывает все модули, которые у меня установлены"
   ]
  },
  {
   "cell_type": "markdown",
   "metadata": {},
   "source": [
    "**Условия**\n",
    "\n",
    "else - опициональный\n",
    "elif - может быть сколько угодно\n"
   ]
  },
  {
   "cell_type": "code",
   "execution_count": 30,
   "metadata": {},
   "outputs": [
    {
     "name": "stdin",
     "output_type": "stream",
     "text": [
      "Введите число, а я угадаю, четное оно или нет: 6.00\n"
     ]
    },
    {
     "name": "stdout",
     "output_type": "stream",
     "text": [
      "Число четное\n"
     ]
    }
   ],
   "source": [
    "inp = float(input(\"Введите число, а я угадаю, четное оно или нет:\")) #по умолчанию результат input рассматривается как строка\n",
    "if inp%2 ==0:\n",
    "    print(\"Число четное\")\n",
    "else:\n",
    "    print(\"Число нечетное\")"
   ]
  },
  {
   "cell_type": "code",
   "execution_count": null,
   "metadata": {},
   "outputs": [],
   "source": [
    "a = 'hello' - присваиваем значение\n",
    "a == 'hello' - сравниваем"
   ]
  },
  {
   "cell_type": "code",
   "execution_count": 35,
   "metadata": {},
   "outputs": [
    {
     "name": "stdin",
     "output_type": "stream",
     "text": [
      "Оцените вашу усталось по шкале от 0 до 10 7\n"
     ]
    },
    {
     "name": "stdout",
     "output_type": "stream",
     "text": [
      "Вы на грани\n"
     ]
    }
   ],
   "source": [
    "a = float(input('Оцените вашу усталось по шкале от 0 до 10'))\n",
    "if a<0.7:\n",
    "    print('Вы совсем не устали')\n",
    "elif 0.7<= a <=6.8:\n",
    "    print('Вы средненько устали')\n",
    "elif 6.8<a<=8.5:\n",
    "    print('Вы на грани')\n",
    "else:\n",
    "    print('Скорее идите отдыхать')"
   ]
  },
  {
   "cell_type": "code",
   "execution_count": 43,
   "metadata": {},
   "outputs": [
    {
     "name": "stdin",
     "output_type": "stream",
     "text": [
      "Какой кофе вы любите? Латте)\n"
     ]
    },
    {
     "name": "stdout",
     "output_type": "stream",
     "text": [
      "Я тоже\n"
     ]
    }
   ],
   "source": [
    "x = input('Какой кофе вы любите?').lower().strip('!,.?)')\n",
    "print ('Я тоже') if x in ['каппучино', 'латте', 'флэтвайт'] else print('Отличный выбор!')"
   ]
  },
  {
   "cell_type": "markdown",
   "metadata": {},
   "source": [
    "true и false - логический тип данных, логические операторы\n",
    "while забирает большое кол-во памяти\n",
    "!= не равен\n",
    "\n"
   ]
  }
 ],
 "metadata": {
  "kernelspec": {
   "display_name": "Python 3",
   "language": "python",
   "name": "python3"
  },
  "language_info": {
   "codemirror_mode": {
    "name": "ipython",
    "version": 3
   },
   "file_extension": ".py",
   "mimetype": "text/x-python",
   "name": "python",
   "nbconvert_exporter": "python",
   "pygments_lexer": "ipython3",
   "version": "3.7.3"
  }
 },
 "nbformat": 4,
 "nbformat_minor": 2
}

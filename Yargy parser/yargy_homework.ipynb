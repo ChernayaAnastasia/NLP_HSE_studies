{
 "cells": [
  {
   "cell_type": "markdown",
   "metadata": {},
   "source": [
    "###  Домашнее задание по NER: извлечение адресов с помощью библиотеки [Natasha](https://github.com/natasha)"
   ]
  },
  {
   "cell_type": "markdown",
   "metadata": {},
   "source": [
    "### Загрузка необходимых библиотек"
   ]
  },
  {
   "cell_type": "code",
   "execution_count": 216,
   "metadata": {},
   "outputs": [],
   "source": [
    "import wget, os, re\n",
    "from pprint import pprint\n",
    "from natasha import AddressExtractor\n",
    "from ipymarkup import show_markup\n",
    "from yargy.pipelines import (\n",
    "    pipeline,\n",
    "    morph_pipeline)\n",
    "from yargy.predicates import (\n",
    "    eq, in_, dictionary,normalized,\n",
    "    type, gram\n",
    ")\n",
    "from yargy.tokenizer import MorphTokenizer\n",
    "from yargy import interpretation as interp\n",
    "from yargy import rule, Parser, or_\n",
    "from yargy.interpretation import fact, attribute"
   ]
  },
  {
   "cell_type": "markdown",
   "metadata": {},
   "source": [
    "#### Загрузка файла, из которого будем извлекать информацию"
   ]
  },
  {
   "cell_type": "code",
   "execution_count": 330,
   "metadata": {},
   "outputs": [
    {
     "data": {
      "text/plain": [
       "'flats.txt'"
      ]
     },
     "execution_count": 330,
     "metadata": {},
     "output_type": "execute_result"
    }
   ],
   "source": [
    "wget.download('https://github.com/sjut/DPO_Materials/blob/master/Практические занятия/flats.txt')"
   ]
  },
  {
   "cell_type": "code",
   "execution_count": 4,
   "metadata": {},
   "outputs": [],
   "source": [
    "flats = open('flats.txt', encoding = 'utf-8').read()"
   ]
  },
  {
   "cell_type": "markdown",
   "metadata": {},
   "source": [
    "#### Запустим извлечение адресов из нашего текста про квартиры c помощью готовой библиотеки AddrX: "
   ]
  },
  {
   "cell_type": "code",
   "execution_count": 331,
   "metadata": {},
   "outputs": [],
   "source": [
    "#Инициализируем экстрактор для адресов:\n",
    "AddrX =  AddressExtractor()"
   ]
  },
  {
   "cell_type": "code",
   "execution_count": 5,
   "metadata": {},
   "outputs": [],
   "source": [
    "ad_matches = AddrX(flats)"
   ]
  },
  {
   "cell_type": "markdown",
   "metadata": {},
   "source": [
    "Смотрю, что извлекла встроенная библиотека для извлечения адресов из текста flats:"
   ]
  },
  {
   "cell_type": "code",
   "execution_count": 7,
   "metadata": {},
   "outputs": [
    {
     "name": "stdout",
     "output_type": "stream",
     "text": [
      "[70, 96) Address(parts=[Street(name='Староконюшенный', type='переулок'), Building(number='30', type='дом')])\n",
      "[307, 325) Address(parts=[Street(name='Арбат', type='улица'), Building(number='15/43', type='дом')])\n",
      "[532, 553) Address(parts=[Street(name='Б.Грузинская', type='улица'), Building(number='14', type='дом')])\n",
      "[703, 727) Address(parts=[Street(name='Аптекарский', type='переулок'), Building(number='3/22', type='дом')])\n",
      "[1343, 1366) Address(parts=[Street(name='Спартаковская', type='улица'), Building(number='18', type='дом')])\n",
      "[1547, 1568) Address(parts=[Street(name='Госпитальный', type='переулок'), Building(number='8', type='дом')])\n",
      "[1747, 1764) Address(parts=[Street(name='М.Почтовая', type='улица'), Building(number='10', type=None)])\n",
      "[1999, 2019) Address(parts=[Street(name='Токмаков', type='переулок'), Building(number='28/16', type=None)])\n",
      "[2213, 2248) Address(parts=[Street(name='Б. Почтовая', type='улица'), Building(number='18/20', type='дом'), Building(number='16', type='корпус')])\n",
      "[2433, 2458) Address(parts=[Street(name='Плетешковский', type='переулок'), Building(number='18/20', type=None)])\n",
      "[2657, 2685) Address(parts=[Street(name='Волочаевская', type='улица'), Building(number='2', type='дом'), Building(number='1', type='корпус')])\n",
      "[2879, 2900) Address(parts=[Street(name='Денисовский', type='переулок'), Building(number='7', type='дом')])\n",
      "[3071, 3091) Address(parts=[Street(name='Волховский', type='переулок'), Building(number='2', type='дом')])\n",
      "[3316, 3345) Address(parts=[Street(name='Волочаевская', type='улица'), Building(number='2', type='дом'), Building(number='1', type='корпус')])\n",
      "[3627, 3642) Address(parts=[Street(name='Нижняя', type='улица'), Building(number='5', type='дом')])\n",
      "[3846, 3861) Address(parts=[Street(name='Верхняя', type='улица'), Building(number='6', type='дом')])\n",
      "[4090, 4114) Address(parts=[Street(name='Бутырский вал', type='улица'), Building(number='34', type='дом')])\n",
      "[4311, 4334) Address(parts=[Street(name='Б.Тишинский', type='переулок'), Building(number='22/15', type=None)])\n"
     ]
    }
   ],
   "source": [
    "for match in ad_matches:\n",
    "    print(match.span, match.fact)"
   ]
  },
  {
   "cell_type": "markdown",
   "metadata": {},
   "source": [
    "#### А теперь попробую сама написать разные правила"
   ]
  },
  {
   "cell_type": "code",
   "execution_count": 27,
   "metadata": {},
   "outputs": [],
   "source": [
    "#Сделаем список текстов и сразу удалим пустые строки в тексте:\n",
    "flats_list = list(filter(None, flats.splitlines()))"
   ]
  },
  {
   "cell_type": "code",
   "execution_count": 9,
   "metadata": {},
   "outputs": [
    {
     "name": "stdout",
     "output_type": "stream",
     "text": [
      "text1. ann1. Арбатская м. 1-комн. кв-ру, или м.Кропоткинская 7 мин/п, Староконюшенный пер., д.30. 35/21 кв.м, кухня 10, 10/12 эт, блоч. дома, балкон, тел., хор. сост., с/у совм., окна в тихий сквер, освобождение сразу, продаю, 45 тыс.$. Торг Т 557-00-73 \n",
      "text2. ann2. Арбатская м. 1-комн. кв ру, 5 м/пеш., ул.Арбат дом 15/43; 53/20/13 кв.м, еврорем., 4/6-эт. кирп. дома, д/фон, евростиль, тел , кондиц., стоянка, с мебелью, охрана, свободна, хозяин, 130 тыс.$. Торг. Т.762-55-67, Сергей\n",
      "text3. ann3. Баррикадная м. 1-комн. кв-ру, ул.Б.Грузинская, д.14, 36/20.2 кв.м, кухня 8.3, 2/14-эт. кирп. дома, балкон, тел., консьержка, свободна, Т.962-30-63 \n",
      "text4. ann4. Бауманская м. 1-комн. кв-ру, 5 мин/п., Аптекарский пер., д.3/22, 30/16.2 кв.м, кухня 8, вые. бельэтаж/8-эт, кирп. дома, тел., с/у совм. больш., хор. сост., хор. двор, тихо, свободную, 27 тыс.$. Т.737-76-67, раб., Т.265-23-31, дом., Аня \n",
      "text5. ann5. Бауманская м. 1-комн. кв-ру, метро пешком, 45/22 кв.м, кухня 10, лоджия 3, 8/8-эт. кирп. элит. дома новостройка, без отделки, без сантехники, с/у разд., Т.279-52-79, вечером, Татьяна \n",
      "text6. ann6. Бауманская м. 1-комн. кв-ру, 5 мин/п., Аптекарский, д.15, 33/22 кв.м, кухня 6, 3/9-эт. пан. дома, балкон, тел., с/у совм., окна в тихое место, код. замок, свободна, Т.405-50-68\n",
      "text7. ann7. Бауманская м. 1-комн. кв-ру, 2 мин/п., ул.Спартаковская, д. 18; 36/20,5/10,5 кв.м, 9/12 пан., с/у совм., балкон застекл., тел., домофон, жел. дверь, паркет, доска, альтернатива подобрана, Т. 125-68-31\n",
      "text8. ann8. Бауманская м. 1-комн кв-ру, Госпитальный пер. д.8; 10 мин/п., 36/19.8 кв.м, кухня 9.8, 11/12-эт. блочн. дома, паркет, балкон, тел., с/у совм., свободна, 23 тыс.$. Т. 133-61-00 \n",
      "text9. ann9. Бауманская м. 1-комн. кв-ру, 5 м.п., ул.М.Почтовая, 10; 44/21 кв.м, кухня 13.5, 2/8-эт. элитн. кирп. дома, встр. оборуд., евростанд., с/у совм., имп. сантехника, застекл. лоджия, стеклопакеты, консьержка, 60 тыс.$. Т.189-65-88, Ирина\n",
      "text10. ann10. Бауманская м. 1-комн. кв-ру, 5 мин/п., Токмаков пер., 28/16 кв.м, кух. 5.5, 6/7 кирп. дома, балкон, без тел., с/у совм., лифт, тихо, свободна, 17тыс.$. Т.978-92-94, Тамара Григорьевна, до 23.00 \n",
      "text11. ann11. Бауманская м. 1-комн. кв-ру, 7 мин. пеш., ул. Б. Почтовая, д. 18/20, корп. 16, 34/15 кв.м. кухня 7,5/5-эт. кирп. дома, с/у разд., большой кор., тел., без балкона, хор. сост., свободна, 23.5 тыс.$. Т.218-59-90\n",
      "text12. ann12. Бауманская м. 1-комн. кв-ру, 5 м.п., Плетешковский пер., 18/20; 35/20 кв.м, кухня 10,3/12 эт. пан. дома, лифт, паркет, с/у совм., тел., во двор, подъезд норм., заст. балкон, 28 тыс. у.е., торг. Т.322-70-36\n",
      "text13. ann13. Бауманская м. 1-комн. кв-ру, 10 мин.п-.ул.Волочаевская, д.2, корп.1; 31/15 кв.м, кухня 8, 11/12 эт.пан.дома 90 г.постр., домофон, консьерж, рядом парк, тел., м/провод, в хор.сост , 23 тыс.$. Т.361-47-62\n",
      "text14. ann14. Бауманская м. 1-комн. кв-ру, 10 мин.пеш., Денисовский пер., д.7; 33.6/18.6 кв.м, кухня 6, 5/5-эт. кирп. дома, с/у совм., балкон, код, тел., 21 тыс.$, Т.966-54-29, Ирина Викторовна\n",
      "text15. ann15. •БАУМАНСКАЯ м. 1-комн. кв-ру, 3 м.п., Волховский пер., д.2, 9-126., 34.4/19.3/10, без балк., без тел., парк. доска, окна-двор, чистый подъезд, код.зам., приват., альт-ва. 24.000$. Лиц-N 000676/РП(006). Т.203-12-31, Т.737-00-93 с 9 до 20\n",
      "text16. ann16. •БАУМАНСКАЯ М. 1-комн. кв-ра, Волочаевская ул. дом 2 корп 1, 34/14,4/кух. 8,5, 12/12 пан.+тех.этаж, 15 м.п., телефон, лоджия, окна - двор, сделан качественный ремонт, кондиционеры, жалюзи, домофон, консьержка, жел. дверь, чистая продажа, 27 500 дол. Т.924-59-92, Т.925-10-83 с 9 до 19\n",
      "text17. ann17. Белорусская м. 1-комн. кв-ру, 5 мин/п., ул.Нижняя, д. 5, 31,3/13,4 кв.м, кухня 9,2, 3/5-эт. кирп. дома, лифт, тел., с/у совм., пот. 3.5, газ. колонка, линолеум, окна на улицу, альтернатива, 25 тыс.$. Т.318-94-49 \n",
      "text18. ann18. Белорусская м. 1-комн. кв-ру, ул.Верхняя, д.6;43/20 кв.м, кухня 13,2/14-эт.кирп. дома ЖСК, тел., лоджия 6 заст., с/у совм., паркет, темная комната 2.7, домоф., мет .дверь, консьерж., окна во двор, 41.5 тыс.$, торг. Т.405-85-64 \n",
      "text19. ann19. Белорусская м. 1-комн. кв-ру, ул. Бутырский вал, д. 34, 10 м/п; 36/20 кв.м, к. 10, 12/12-пан. дома, с/у совм., окна двор, тел., балкон, хор. сост., домофон, свободна, 28 тыс.$. Торг. Т.299-96-51\n",
      "text20. ann20. Белорусская м. 1-комн. кв-ру, 6 мин.п., Б.Тишинский пер., 22/15 кв.м, 2/6 эт. кирп, дома, паркет, пот.3.15, домофон, тихо, 18 тыс.$, торг, без посредников. Альтернатива. Т.253-30-92, вечером\n"
     ]
    }
   ],
   "source": [
    "#pprint(flats_list)\n",
    "for el in flats_list:\n",
    "    print(el)"
   ]
  },
  {
   "cell_type": "markdown",
   "metadata": {},
   "source": [
    "Создадим всякие переменные, которые помогают компактно обращаться к нужным инструментам:"
   ]
  },
  {
   "cell_type": "code",
   "execution_count": 888,
   "metadata": {},
   "outputs": [],
   "source": [
    "INT = type('INT') #предикат type будет мэтчить по типу данных - в нашем случае INT\n",
    "DOT = eq('.')  #чтобы быстро обращаться к точке\n",
    "COMMA = eq(',') #чтобы быстро обращаться к запятой\n",
    "DASH = in_('-–—--') #всякие виды тире, дефиса\n",
    "ADJF = gram('ADJF') #чтобы быстро обращаться к прилагательным"
   ]
  },
  {
   "cell_type": "markdown",
   "metadata": {},
   "source": [
    "Инициализирую морф парсер: Yargy парсит с помощью Pymorphy2"
   ]
  },
  {
   "cell_type": "code",
   "execution_count": 889,
   "metadata": {},
   "outputs": [],
   "source": [
    "#MorphTokenizer принимает на вход строку (текст) и возвращает список токенов.\n",
    "TOKENIZER = MorphTokenizer() "
   ]
  },
  {
   "cell_type": "markdown",
   "metadata": {},
   "source": [
    "Напишем функцию для показа мэтчей и деревьев разбора (Update: на деревья пока не буду смотреть - включу только показ факта и подсветку)"
   ]
  },
  {
   "cell_type": "code",
   "execution_count": 821,
   "metadata": {},
   "outputs": [],
   "source": [
    "#У парсера есть несколько методов. По аналогии с модулем re  - есть метод findall, который возвращает список мэтчей:\n",
    "#Каждый match выводится как последовательность токенов. У каждого объекта мэтча есть span - span начала и конец мэтча\n",
    "#посмотрим на них отдельно:\n",
    "#очень часто приходится смотреть на спаны, поэтому в Наташе есть отдельная библиотека для этого, которая принимает на вход текст, в нашем случае line со списками спанов\n",
    "# и показывает в Jupiter желтым квадратиком разметку\n",
    "\n",
    "def show_matches (rule, *lines):\n",
    "    parser = Parser(rule)\n",
    "    for line in lines:\n",
    "        matches = parser.findall(line)\n",
    "        matches = sorted(matches, key=lambda _: _.span)\n",
    "        spans = [_.span for _ in matches]\n",
    "        show_markup(line, spans)\n",
    "        if matches:\n",
    "            facts = [_.fact for _ in matches]\n",
    "            if len(facts) == 1:\n",
    "                facts = facts[0]\n",
    "                display(facts)\n",
    "            #match = matches[0]\n",
    "            #display(match.tree.as_dot)\n",
    "            #display(match.fact)"
   ]
  },
  {
   "cell_type": "markdown",
   "metadata": {},
   "source": [
    "### Извлечем названия станций метро"
   ]
  },
  {
   "cell_type": "code",
   "execution_count": 328,
   "metadata": {},
   "outputs": [
    {
     "data": {
      "text/plain": [
       "'metro_stations.txt'"
      ]
     },
     "execution_count": 328,
     "metadata": {},
     "output_type": "execute_result"
    }
   ],
   "source": [
    "#Загрузим список станций Московского метрополитена (для учебных целей ограничимся пока только московским метрополитеном...)\n",
    "wget.download('https://github.com/ChernayaAnastasia/Python-Course_HSE/blob/master/Yargy parser/metro_stations.txt')"
   ]
  },
  {
   "cell_type": "markdown",
   "metadata": {},
   "source": [
    "Названия станций метро - это один из элементов списка stations (подстраховка, чтобы не извлекать все подряд)"
   ]
  },
  {
   "cell_type": "code",
   "execution_count": 846,
   "metadata": {},
   "outputs": [],
   "source": [
    "stations = []\n",
    "with open('metro_stations.txt', encoding = 'utf-8') as file:\n",
    "    for line in file:\n",
    "        station = re.sub('\\u2028', '', line).rstrip()\n",
    "        stations.append(station)\n",
    "#pprint(stations)"
   ]
  },
  {
   "cell_type": "markdown",
   "metadata": {},
   "source": [
    "Создадим факт Metro_Station с полем name"
   ]
  },
  {
   "cell_type": "code",
   "execution_count": 847,
   "metadata": {},
   "outputs": [],
   "source": [
    "Metro_Station = fact(\n",
    "    'Metro_Station',\n",
    "    ['name'] \n",
    "                    )"
   ]
  },
  {
   "cell_type": "code",
   "execution_count": 848,
   "metadata": {},
   "outputs": [],
   "source": [
    "#Для обработки названий станций метро передаем в morph_pipeline список названий станций:\n",
    "METRO_NAME = morph_pipeline(stations)\n",
    "\n",
    "#Для обработки \"метро\":\n",
    "ABBRV = morph_pipeline(['м',\n",
    "                        'ст.м',\n",
    "                        'ст. м',\n",
    "                        'метро',\n",
    "                        'станция метро'\n",
    "                       ])\n",
    "\n",
    "#Правило для обработки \"метро\" в разных вариациях, в том числе с точкой и без: \n",
    "METRO = rule(ABBRV,\n",
    "           DOT.optional()\n",
    "            )\n",
    "\n",
    "#Правило для извлечения названий станций метро в тексте: \n",
    "METRO_STATION = or_(\n",
    "    rule(\n",
    "        METRO_NAME.interpretation(\n",
    "                Metro_Station.name),\n",
    "        METRO),\n",
    "\n",
    "    rule(\n",
    "        METRO,\n",
    "        METRO_NAME.interpretation(\n",
    "                Metro_Station.name)\n",
    "        )\n",
    "                ).interpretation(\n",
    "                Metro_Station)"
   ]
  },
  {
   "cell_type": "code",
   "execution_count": 849,
   "metadata": {},
   "outputs": [
    {
     "data": {
      "text/html": [
       "<div class=\"tex2jax_ignore\" style=\"white-space: pre-wrap\">text1. ann1. <span style=\"padding: 2px; border-radius: 4px; border: 1px solid #bbdefb; background: #e3f2fd\">Арбатская м.</span> 1-комн. кв-ру, или <span style=\"padding: 2px; border-radius: 4px; border: 1px solid #bbdefb; background: #e3f2fd\">м.Кропоткинская</span> 7 мин/п, Староконюшенный пер., д.30. 35/21 кв.м, кухня 10, 10/12 эт, блоч. дома, балкон, тел., хор. сост., с/у совм., окна в тихий сквер, освобождение сразу, продаю, 45 тыс.$. Торг Т 557-00-73 </div>"
      ],
      "text/plain": [
       "BoxMarkup('text1. ann1. Арбатская м. 1-комн. кв-ру, или м.Кропоткинская 7 мин/п, Староконюшенный пер., д.30. 35/21 кв.м, кухня 10, 10/12 эт, блоч. дома, балкон, тел., хор. сост., с/у совм., окна в тихий сквер, освобождение сразу, продаю, 45 тыс.$. Торг Т 557-00-73 ',\n",
       "          [Span(13, 25, None), Span(45, 60, None)])"
      ]
     },
     "metadata": {},
     "output_type": "display_data"
    },
    {
     "data": {
      "text/html": [
       "<div class=\"tex2jax_ignore\" style=\"white-space: pre-wrap\">text2. ann2. <span style=\"padding: 2px; border-radius: 4px; border: 1px solid #bbdefb; background: #e3f2fd\">Арбатская м.</span> 1-комн. кв ру, 5 м/пеш., ул.Арбат дом 15/43; 53/20/13 кв.м, еврорем., 4/6-эт. кирп. дома, д/фон, евростиль, тел , кондиц., стоянка, с мебелью, охрана, свободна, хозяин, 130 тыс.$. Торг. Т.762-55-67, Сергей</div>"
      ],
      "text/plain": [
       "BoxMarkup('text2. ann2. Арбатская м. 1-комн. кв ру, 5 м/пеш., ул.Арбат дом 15/43; 53/20/13 кв.м, еврорем., 4/6-эт. кирп. дома, д/фон, евростиль, тел , кондиц., стоянка, с мебелью, охрана, свободна, хозяин, 130 тыс.$. Торг. Т.762-55-67, Сергей',\n",
       "          [Span(13, 25, None)])"
      ]
     },
     "metadata": {},
     "output_type": "display_data"
    },
    {
     "data": {
      "text/plain": [
       "Metro_Station(name='Арбатская')"
      ]
     },
     "metadata": {},
     "output_type": "display_data"
    },
    {
     "data": {
      "text/html": [
       "<div class=\"tex2jax_ignore\" style=\"white-space: pre-wrap\">text3. ann3. <span style=\"padding: 2px; border-radius: 4px; border: 1px solid #bbdefb; background: #e3f2fd\">Баррикадная м.</span> 1-комн. кв-ру, ул.Б.Грузинская, д.14, 36/20.2 кв.м, кухня 8.3, 2/14-эт. кирп. дома, балкон, тел., консьержка, свободна, Т.962-30-63 </div>"
      ],
      "text/plain": [
       "BoxMarkup('text3. ann3. Баррикадная м. 1-комн. кв-ру, ул.Б.Грузинская, д.14, 36/20.2 кв.м, кухня 8.3, 2/14-эт. кирп. дома, балкон, тел., консьержка, свободна, Т.962-30-63 ',\n",
       "          [Span(13, 27, None)])"
      ]
     },
     "metadata": {},
     "output_type": "display_data"
    },
    {
     "data": {
      "text/plain": [
       "Metro_Station(name='Баррикадная')"
      ]
     },
     "metadata": {},
     "output_type": "display_data"
    },
    {
     "data": {
      "text/html": [
       "<div class=\"tex2jax_ignore\" style=\"white-space: pre-wrap\">text4. ann4. <span style=\"padding: 2px; border-radius: 4px; border: 1px solid #bbdefb; background: #e3f2fd\">Бауманская м.</span> 1-комн. кв-ру, 5 мин/п., Аптекарский пер., д.3/22, 30/16.2 кв.м, кухня 8, вые. бельэтаж/8-эт, кирп. дома, тел., с/у совм. больш., хор. сост., хор. двор, тихо, свободную, 27 тыс.$. Т.737-76-67, раб., Т.265-23-31, дом., Аня </div>"
      ],
      "text/plain": [
       "BoxMarkup('text4. ann4. Бауманская м. 1-комн. кв-ру, 5 мин/п., Аптекарский пер., д.3/22, 30/16.2 кв.м, кухня 8, вые. бельэтаж/8-эт, кирп. дома, тел., с/у совм. больш., хор. сост., хор. двор, тихо, свободную, 27 тыс.$. Т.737-76-67, раб., Т.265-23-31, дом., Аня ',\n",
       "          [Span(13, 26, None)])"
      ]
     },
     "metadata": {},
     "output_type": "display_data"
    },
    {
     "data": {
      "text/plain": [
       "Metro_Station(name='Бауманская')"
      ]
     },
     "metadata": {},
     "output_type": "display_data"
    },
    {
     "data": {
      "text/html": [
       "<div class=\"tex2jax_ignore\" style=\"white-space: pre-wrap\">text5. ann5. <span style=\"padding: 2px; border-radius: 4px; border: 1px solid #bbdefb; background: #e3f2fd\">Бауманская м.</span> 1-комн. кв-ру, метро пешком, 45/22 кв.м, кухня 10, лоджия 3, 8/8-эт. кирп. элит. дома новостройка, без отделки, без сантехники, с/у разд., Т.279-52-79, вечером, Татьяна </div>"
      ],
      "text/plain": [
       "BoxMarkup('text5. ann5. Бауманская м. 1-комн. кв-ру, метро пешком, 45/22 кв.м, кухня 10, лоджия 3, 8/8-эт. кирп. элит. дома новостройка, без отделки, без сантехники, с/у разд., Т.279-52-79, вечером, Татьяна ',\n",
       "          [Span(13, 26, None)])"
      ]
     },
     "metadata": {},
     "output_type": "display_data"
    },
    {
     "data": {
      "text/plain": [
       "Metro_Station(name='Бауманская')"
      ]
     },
     "metadata": {},
     "output_type": "display_data"
    },
    {
     "data": {
      "text/html": [
       "<div class=\"tex2jax_ignore\" style=\"white-space: pre-wrap\">text6. ann6. <span style=\"padding: 2px; border-radius: 4px; border: 1px solid #bbdefb; background: #e3f2fd\">Бауманская м.</span> 1-комн. кв-ру, 5 мин/п., Аптекарский, д.15, 33/22 кв.м, кухня 6, 3/9-эт. пан. дома, балкон, тел., с/у совм., окна в тихое место, код. замок, свободна, Т.405-50-68</div>"
      ],
      "text/plain": [
       "BoxMarkup('text6. ann6. Бауманская м. 1-комн. кв-ру, 5 мин/п., Аптекарский, д.15, 33/22 кв.м, кухня 6, 3/9-эт. пан. дома, балкон, тел., с/у совм., окна в тихое место, код. замок, свободна, Т.405-50-68',\n",
       "          [Span(13, 26, None)])"
      ]
     },
     "metadata": {},
     "output_type": "display_data"
    },
    {
     "data": {
      "text/plain": [
       "Metro_Station(name='Бауманская')"
      ]
     },
     "metadata": {},
     "output_type": "display_data"
    },
    {
     "data": {
      "text/html": [
       "<div class=\"tex2jax_ignore\" style=\"white-space: pre-wrap\">text7. ann7. <span style=\"padding: 2px; border-radius: 4px; border: 1px solid #bbdefb; background: #e3f2fd\">Бауманская м.</span> 1-комн. кв-ру, 2 мин/п., ул.Спартаковская, д. 18; 36/20,5/10,5 кв.м, 9/12 пан., с/у совм., балкон застекл., тел., домофон, жел. дверь, паркет, доска, альтернатива подобрана, Т. 125-68-31</div>"
      ],
      "text/plain": [
       "BoxMarkup('text7. ann7. Бауманская м. 1-комн. кв-ру, 2 мин/п., ул.Спартаковская, д. 18; 36/20,5/10,5 кв.м, 9/12 пан., с/у совм., балкон застекл., тел., домофон, жел. дверь, паркет, доска, альтернатива подобрана, Т. 125-68-31',\n",
       "          [Span(13, 26, None)])"
      ]
     },
     "metadata": {},
     "output_type": "display_data"
    },
    {
     "data": {
      "text/plain": [
       "Metro_Station(name='Бауманская')"
      ]
     },
     "metadata": {},
     "output_type": "display_data"
    },
    {
     "data": {
      "text/html": [
       "<div class=\"tex2jax_ignore\" style=\"white-space: pre-wrap\">text8. ann8. <span style=\"padding: 2px; border-radius: 4px; border: 1px solid #bbdefb; background: #e3f2fd\">Бауманская м.</span> 1-комн кв-ру, Госпитальный пер. д.8; 10 мин/п., 36/19.8 кв.м, кухня 9.8, 11/12-эт. блочн. дома, паркет, балкон, тел., с/у совм., свободна, 23 тыс.$. Т. 133-61-00 </div>"
      ],
      "text/plain": [
       "BoxMarkup('text8. ann8. Бауманская м. 1-комн кв-ру, Госпитальный пер. д.8; 10 мин/п., 36/19.8 кв.м, кухня 9.8, 11/12-эт. блочн. дома, паркет, балкон, тел., с/у совм., свободна, 23 тыс.$. Т. 133-61-00 ',\n",
       "          [Span(13, 26, None)])"
      ]
     },
     "metadata": {},
     "output_type": "display_data"
    },
    {
     "data": {
      "text/plain": [
       "Metro_Station(name='Бауманская')"
      ]
     },
     "metadata": {},
     "output_type": "display_data"
    },
    {
     "data": {
      "text/html": [
       "<div class=\"tex2jax_ignore\" style=\"white-space: pre-wrap\">text9. ann9. <span style=\"padding: 2px; border-radius: 4px; border: 1px solid #bbdefb; background: #e3f2fd\">Бауманская м.</span> 1-комн. кв-ру, 5 м.п., ул.М.Почтовая, 10; 44/21 кв.м, кухня 13.5, 2/8-эт. элитн. кирп. дома, встр. оборуд., евростанд., с/у совм., имп. сантехника, застекл. лоджия, стеклопакеты, консьержка, 60 тыс.$. Т.189-65-88, Ирина</div>"
      ],
      "text/plain": [
       "BoxMarkup('text9. ann9. Бауманская м. 1-комн. кв-ру, 5 м.п., ул.М.Почтовая, 10; 44/21 кв.м, кухня 13.5, 2/8-эт. элитн. кирп. дома, встр. оборуд., евростанд., с/у совм., имп. сантехника, застекл. лоджия, стеклопакеты, консьержка, 60 тыс.$. Т.189-65-88, Ирина',\n",
       "          [Span(13, 26, None)])"
      ]
     },
     "metadata": {},
     "output_type": "display_data"
    },
    {
     "data": {
      "text/plain": [
       "Metro_Station(name='Бауманская')"
      ]
     },
     "metadata": {},
     "output_type": "display_data"
    },
    {
     "data": {
      "text/html": [
       "<div class=\"tex2jax_ignore\" style=\"white-space: pre-wrap\">text10. ann10. <span style=\"padding: 2px; border-radius: 4px; border: 1px solid #bbdefb; background: #e3f2fd\">Бауманская м.</span> 1-комн. кв-ру, 5 мин/п., Токмаков пер., 28/16 кв.м, кух. 5.5, 6/7 кирп. дома, балкон, без тел., с/у совм., лифт, тихо, свободна, 17тыс.$. Т.978-92-94, Тамара Григорьевна, до 23.00 </div>"
      ],
      "text/plain": [
       "BoxMarkup('text10. ann10. Бауманская м. 1-комн. кв-ру, 5 мин/п., Токмаков пер., 28/16 кв.м, кух. 5.5, 6/7 кирп. дома, балкон, без тел., с/у совм., лифт, тихо, свободна, 17тыс.$. Т.978-92-94, Тамара Григорьевна, до 23.00 ',\n",
       "          [Span(15, 28, None)])"
      ]
     },
     "metadata": {},
     "output_type": "display_data"
    },
    {
     "data": {
      "text/plain": [
       "Metro_Station(name='Бауманская')"
      ]
     },
     "metadata": {},
     "output_type": "display_data"
    },
    {
     "data": {
      "text/html": [
       "<div class=\"tex2jax_ignore\" style=\"white-space: pre-wrap\">text11. ann11. <span style=\"padding: 2px; border-radius: 4px; border: 1px solid #bbdefb; background: #e3f2fd\">Бауманская м.</span> 1-комн. кв-ру, 7 мин. пеш., ул. Б. Почтовая, д. 18/20, корп. 16, 34/15 кв.м. кухня 7,5/5-эт. кирп. дома, с/у разд., большой кор., тел., без балкона, хор. сост., свободна, 23.5 тыс.$. Т.218-59-90</div>"
      ],
      "text/plain": [
       "BoxMarkup('text11. ann11. Бауманская м. 1-комн. кв-ру, 7 мин. пеш., ул. Б. Почтовая, д. 18/20, корп. 16, 34/15 кв.м. кухня 7,5/5-эт. кирп. дома, с/у разд., большой кор., тел., без балкона, хор. сост., свободна, 23.5 тыс.$. Т.218-59-90',\n",
       "          [Span(15, 28, None)])"
      ]
     },
     "metadata": {},
     "output_type": "display_data"
    },
    {
     "data": {
      "text/plain": [
       "Metro_Station(name='Бауманская')"
      ]
     },
     "metadata": {},
     "output_type": "display_data"
    },
    {
     "data": {
      "text/html": [
       "<div class=\"tex2jax_ignore\" style=\"white-space: pre-wrap\">text12. ann12. <span style=\"padding: 2px; border-radius: 4px; border: 1px solid #bbdefb; background: #e3f2fd\">Бауманская м.</span> 1-комн. кв-ру, 5 м.п., Плетешковский пер., 18/20; 35/20 кв.м, кухня 10,3/12 эт. пан. дома, лифт, паркет, с/у совм., тел., во двор, подъезд норм., заст. балкон, 28 тыс. у.е., торг. Т.322-70-36</div>"
      ],
      "text/plain": [
       "BoxMarkup('text12. ann12. Бауманская м. 1-комн. кв-ру, 5 м.п., Плетешковский пер., 18/20; 35/20 кв.м, кухня 10,3/12 эт. пан. дома, лифт, паркет, с/у совм., тел., во двор, подъезд норм., заст. балкон, 28 тыс. у.е., торг. Т.322-70-36',\n",
       "          [Span(15, 28, None)])"
      ]
     },
     "metadata": {},
     "output_type": "display_data"
    },
    {
     "data": {
      "text/plain": [
       "Metro_Station(name='Бауманская')"
      ]
     },
     "metadata": {},
     "output_type": "display_data"
    },
    {
     "data": {
      "text/html": [
       "<div class=\"tex2jax_ignore\" style=\"white-space: pre-wrap\">text13. ann13. <span style=\"padding: 2px; border-radius: 4px; border: 1px solid #bbdefb; background: #e3f2fd\">Бауманская м.</span> 1-комн. кв-ру, 10 мин.п-.ул.Волочаевская, д.2, корп.1; 31/15 кв.м, кухня 8, 11/12 эт.пан.дома 90 г.постр., домофон, консьерж, рядом парк, тел., м/провод, в хор.сост , 23 тыс.$. Т.361-47-62</div>"
      ],
      "text/plain": [
       "BoxMarkup('text13. ann13. Бауманская м. 1-комн. кв-ру, 10 мин.п-.ул.Волочаевская, д.2, корп.1; 31/15 кв.м, кухня 8, 11/12 эт.пан.дома 90 г.постр., домофон, консьерж, рядом парк, тел., м/провод, в хор.сост , 23 тыс.$. Т.361-47-62',\n",
       "          [Span(15, 28, None)])"
      ]
     },
     "metadata": {},
     "output_type": "display_data"
    },
    {
     "data": {
      "text/plain": [
       "Metro_Station(name='Бауманская')"
      ]
     },
     "metadata": {},
     "output_type": "display_data"
    },
    {
     "data": {
      "text/html": [
       "<div class=\"tex2jax_ignore\" style=\"white-space: pre-wrap\">text14. ann14. <span style=\"padding: 2px; border-radius: 4px; border: 1px solid #bbdefb; background: #e3f2fd\">Бауманская м.</span> 1-комн. кв-ру, 10 мин.пеш., Денисовский пер., д.7; 33.6/18.6 кв.м, кухня 6, 5/5-эт. кирп. дома, с/у совм., балкон, код, тел., 21 тыс.$, Т.966-54-29, Ирина Викторовна</div>"
      ],
      "text/plain": [
       "BoxMarkup('text14. ann14. Бауманская м. 1-комн. кв-ру, 10 мин.пеш., Денисовский пер., д.7; 33.6/18.6 кв.м, кухня 6, 5/5-эт. кирп. дома, с/у совм., балкон, код, тел., 21 тыс.$, Т.966-54-29, Ирина Викторовна',\n",
       "          [Span(15, 28, None)])"
      ]
     },
     "metadata": {},
     "output_type": "display_data"
    },
    {
     "data": {
      "text/plain": [
       "Metro_Station(name='Бауманская')"
      ]
     },
     "metadata": {},
     "output_type": "display_data"
    },
    {
     "data": {
      "text/html": [
       "<div class=\"tex2jax_ignore\" style=\"white-space: pre-wrap\">text15. ann15. •<span style=\"padding: 2px; border-radius: 4px; border: 1px solid #bbdefb; background: #e3f2fd\">БАУМАНСКАЯ м.</span> 1-комн. кв-ру, 3 м.п., Волховский пер., д.2, 9-126., 34.4/19.3/10, без балк., без тел., парк. доска, окна-двор, чистый подъезд, код.зам., приват., альт-ва. 24.000$. Лиц-N 000676/РП(006). Т.203-12-31, Т.737-00-93 с 9 до 20</div>"
      ],
      "text/plain": [
       "BoxMarkup('text15. ann15. •БАУМАНСКАЯ м. 1-комн. кв-ру, 3 м.п., Волховский пер., д.2, 9-126., 34.4/19.3/10, без балк., без тел., парк. доска, окна-двор, чистый подъезд, код.зам., приват., альт-ва. 24.000$. Лиц-N 000676/РП(006). Т.203-12-31, Т.737-00-93 с 9 до 20',\n",
       "          [Span(16, 29, None)])"
      ]
     },
     "metadata": {},
     "output_type": "display_data"
    },
    {
     "data": {
      "text/plain": [
       "Metro_Station(name='БАУМАНСКАЯ')"
      ]
     },
     "metadata": {},
     "output_type": "display_data"
    },
    {
     "data": {
      "text/html": [
       "<div class=\"tex2jax_ignore\" style=\"white-space: pre-wrap\">text16. ann16. •<span style=\"padding: 2px; border-radius: 4px; border: 1px solid #bbdefb; background: #e3f2fd\">БАУМАНСКАЯ М.</span> 1-комн. кв-ра, Волочаевская ул. дом 2 корп 1, 34/14,4/кух. 8,5, 12/12 пан.+тех.этаж, 15 м.п., телефон, лоджия, окна - двор, сделан качественный ремонт, кондиционеры, жалюзи, домофон, консьержка, жел. дверь, чистая продажа, 27 500 дол. Т.924-59-92, Т.925-10-83 с 9 до 19</div>"
      ],
      "text/plain": [
       "BoxMarkup('text16. ann16. •БАУМАНСКАЯ М. 1-комн. кв-ра, Волочаевская ул. дом 2 корп 1, 34/14,4/кух. 8,5, 12/12 пан.+тех.этаж, 15 м.п., телефон, лоджия, окна - двор, сделан качественный ремонт, кондиционеры, жалюзи, домофон, консьержка, жел. дверь, чистая продажа, 27 500 дол. Т.924-59-92, Т.925-10-83 с 9 до 19',\n",
       "          [Span(16, 29, None)])"
      ]
     },
     "metadata": {},
     "output_type": "display_data"
    },
    {
     "data": {
      "text/plain": [
       "Metro_Station(name='БАУМАНСКАЯ')"
      ]
     },
     "metadata": {},
     "output_type": "display_data"
    },
    {
     "data": {
      "text/html": [
       "<div class=\"tex2jax_ignore\" style=\"white-space: pre-wrap\">text17. ann17. <span style=\"padding: 2px; border-radius: 4px; border: 1px solid #bbdefb; background: #e3f2fd\">Белорусская м.</span> 1-комн. кв-ру, 5 мин/п., ул.Нижняя, д. 5, 31,3/13,4 кв.м, кухня 9,2, 3/5-эт. кирп. дома, лифт, тел., с/у совм., пот. 3.5, газ. колонка, линолеум, окна на улицу, альтернатива, 25 тыс.$. Т.318-94-49 </div>"
      ],
      "text/plain": [
       "BoxMarkup('text17. ann17. Белорусская м. 1-комн. кв-ру, 5 мин/п., ул.Нижняя, д. 5, 31,3/13,4 кв.м, кухня 9,2, 3/5-эт. кирп. дома, лифт, тел., с/у совм., пот. 3.5, газ. колонка, линолеум, окна на улицу, альтернатива, 25 тыс.$. Т.318-94-49 ',\n",
       "          [Span(15, 29, None)])"
      ]
     },
     "metadata": {},
     "output_type": "display_data"
    },
    {
     "data": {
      "text/plain": [
       "Metro_Station(name='Белорусская')"
      ]
     },
     "metadata": {},
     "output_type": "display_data"
    },
    {
     "data": {
      "text/html": [
       "<div class=\"tex2jax_ignore\" style=\"white-space: pre-wrap\">text18. ann18. <span style=\"padding: 2px; border-radius: 4px; border: 1px solid #bbdefb; background: #e3f2fd\">Белорусская м.</span> 1-комн. кв-ру, ул.Верхняя, д.6;43/20 кв.м, кухня 13,2/14-эт.кирп. дома ЖСК, тел., лоджия 6 заст., с/у совм., паркет, темная комната 2.7, домоф., мет .дверь, консьерж., окна во двор, 41.5 тыс.$, торг. Т.405-85-64 </div>"
      ],
      "text/plain": [
       "BoxMarkup('text18. ann18. Белорусская м. 1-комн. кв-ру, ул.Верхняя, д.6;43/20 кв.м, кухня 13,2/14-эт.кирп. дома ЖСК, тел., лоджия 6 заст., с/у совм., паркет, темная комната 2.7, домоф., мет .дверь, консьерж., окна во двор, 41.5 тыс.$, торг. Т.405-85-64 ',\n",
       "          [Span(15, 29, None)])"
      ]
     },
     "metadata": {},
     "output_type": "display_data"
    },
    {
     "data": {
      "text/plain": [
       "Metro_Station(name='Белорусская')"
      ]
     },
     "metadata": {},
     "output_type": "display_data"
    },
    {
     "data": {
      "text/html": [
       "<div class=\"tex2jax_ignore\" style=\"white-space: pre-wrap\">text19. ann19. <span style=\"padding: 2px; border-radius: 4px; border: 1px solid #bbdefb; background: #e3f2fd\">Белорусская м.</span> 1-комн. кв-ру, ул. Бутырский вал, д. 34, 10 м/п; 36/20 кв.м, к. 10, 12/12-пан. дома, с/у совм., окна двор, тел., балкон, хор. сост., домофон, свободна, 28 тыс.$. Торг. Т.299-96-51</div>"
      ],
      "text/plain": [
       "BoxMarkup('text19. ann19. Белорусская м. 1-комн. кв-ру, ул. Бутырский вал, д. 34, 10 м/п; 36/20 кв.м, к. 10, 12/12-пан. дома, с/у совм., окна двор, тел., балкон, хор. сост., домофон, свободна, 28 тыс.$. Торг. Т.299-96-51',\n",
       "          [Span(15, 29, None)])"
      ]
     },
     "metadata": {},
     "output_type": "display_data"
    },
    {
     "data": {
      "text/plain": [
       "Metro_Station(name='Белорусская')"
      ]
     },
     "metadata": {},
     "output_type": "display_data"
    },
    {
     "data": {
      "text/html": [
       "<div class=\"tex2jax_ignore\" style=\"white-space: pre-wrap\">text20. ann20. <span style=\"padding: 2px; border-radius: 4px; border: 1px solid #bbdefb; background: #e3f2fd\">Белорусская м.</span> 1-комн. кв-ру, 6 мин.п., Б.Тишинский пер., 22/15 кв.м, 2/6 эт. кирп, дома, паркет, пот.3.15, домофон, тихо, 18 тыс.$, торг, без посредников. Альтернатива. Т.253-30-92, вечером</div>"
      ],
      "text/plain": [
       "BoxMarkup('text20. ann20. Белорусская м. 1-комн. кв-ру, 6 мин.п., Б.Тишинский пер., 22/15 кв.м, 2/6 эт. кирп, дома, паркет, пот.3.15, домофон, тихо, 18 тыс.$, торг, без посредников. Альтернатива. Т.253-30-92, вечером',\n",
       "          [Span(15, 29, None)])"
      ]
     },
     "metadata": {},
     "output_type": "display_data"
    },
    {
     "data": {
      "text/plain": [
       "Metro_Station(name='Белорусская')"
      ]
     },
     "metadata": {},
     "output_type": "display_data"
    }
   ],
   "source": [
    "show_matches(METRO_STATION, *flats_list)"
   ]
  },
  {
   "cell_type": "markdown",
   "metadata": {},
   "source": [
    "### НЕРЕШЕННАЯ ПРОБЛЕМА:  \n",
    "В первом тексте есть два упоминания станций метро. В итоге ни один атрибут name не заполняется. Как устранить эту проблему?"
   ]
  },
  {
   "cell_type": "markdown",
   "metadata": {},
   "source": [
    "### Пробую извлечь количество комнат"
   ]
  },
  {
   "cell_type": "code",
   "execution_count": 833,
   "metadata": {},
   "outputs": [],
   "source": [
    "Rooms_Number = fact(\n",
    "    'Rooms_Number',\n",
    "    ['number'] \n",
    "                    )"
   ]
  },
  {
   "cell_type": "markdown",
   "metadata": {},
   "source": [
    "Немного посмотрим на морф разборы нужных нам конструкций"
   ]
  },
  {
   "cell_type": "code",
   "execution_count": 55,
   "metadata": {},
   "outputs": [
    {
     "data": {
      "text/plain": [
       "[Token('1', [0, 1), 'INT'),\n",
       " Token('-', [1, 2), 'PUNCT'),\n",
       " MorphToken('комн',\n",
       "            [2, 6),\n",
       "            'RU',\n",
       "            [Form('комна', Grams(NOUN,Name,anim,femn,gent,plur)),\n",
       "             Form('комна', Grams(NOUN,Name,accs,anim,femn,plur))]),\n",
       " Token('.', [6, 7), 'PUNCT'),\n",
       " MorphToken('кв', [8, 10), 'RU', [Form('кв', Grams(UNKN))]),\n",
       " Token('-', [10, 11), 'PUNCT'),\n",
       " MorphToken('ру', [11, 13), 'RU', [Form('ру', Grams(UNKN))])]"
      ]
     },
     "execution_count": 55,
     "metadata": {},
     "output_type": "execute_result"
    }
   ],
   "source": [
    "list(TOKENIZER('1-комн. кв-ру'))"
   ]
  },
  {
   "cell_type": "code",
   "execution_count": 56,
   "metadata": {},
   "outputs": [
    {
     "data": {
      "text/plain": [
       "[Token('1', [0, 1), 'INT'),\n",
       " Token('-', [1, 2), 'PUNCT'),\n",
       " MorphToken('комнатную',\n",
       "            [2, 11),\n",
       "            'RU',\n",
       "            [Form('комнатный', Grams(ADJF,accs,femn,sing))]),\n",
       " MorphToken('кв', [12, 14), 'RU', [Form('кв', Grams(UNKN))]),\n",
       " Token('-', [14, 15), 'PUNCT'),\n",
       " MorphToken('ру', [15, 17), 'RU', [Form('ру', Grams(UNKN))])]"
      ]
     },
     "execution_count": 56,
     "metadata": {},
     "output_type": "execute_result"
    }
   ],
   "source": [
    "list(TOKENIZER('1-комнатную квартиру'))"
   ]
  },
  {
   "cell_type": "code",
   "execution_count": 57,
   "metadata": {},
   "outputs": [
    {
     "data": {
      "text/plain": [
       "[MorphToken('однокомнатную',\n",
       "            [0, 13),\n",
       "            'RU',\n",
       "            [Form('однокомнатный', Grams(ADJF,accs,femn,sing))]),\n",
       " MorphToken('квартиру',\n",
       "            [14, 22),\n",
       "            'RU',\n",
       "            [Form('квартира', Grams(NOUN,accs,femn,inan,sing))])]"
      ]
     },
     "execution_count": 57,
     "metadata": {},
     "output_type": "execute_result"
    }
   ],
   "source": [
    "list(TOKENIZER('однокомнатную квартиру'))"
   ]
  },
  {
   "cell_type": "code",
   "execution_count": 834,
   "metadata": {},
   "outputs": [],
   "source": [
    "MODIFIERS = {\n",
    "    'однокомнатный': 1,\n",
    "    'двухкомнатный': 2,\n",
    "    'трехкомнатный': 3,\n",
    "    'четырехкомнатный': 4,\n",
    "    'пятикомнатный': 5\n",
    "            }\n",
    "\n",
    "MODIFIER = dictionary(MODIFIERS).interpretation(interp.normalized().custom(MODIFIERS.get))\n",
    "    \n",
    "ROOMS_NUMBER = or_(\n",
    "    rule(INT.interpretation(Rooms_Number.number.custom(int)),\n",
    "        eq('-').optional(), # 1 комн.\n",
    "        eq('комн'), #1-комн.\n",
    "        DOT.optional()\n",
    "        ),\n",
    "    rule(INT.interpretation(Rooms_Number.number.custom(int)), #1-комнатную\n",
    "        DASH.optional(), #1 комнатную\n",
    "        normalized('комнатный')\n",
    "        ),\n",
    "    rule(MODIFIER).interpretation(Rooms_Number.number)\n",
    "                ).interpretation(Rooms_Number)"
   ]
  },
  {
   "cell_type": "code",
   "execution_count": 841,
   "metadata": {},
   "outputs": [
    {
     "data": {
      "text/html": [
       "<div class=\"tex2jax_ignore\" style=\"white-space: pre-wrap\">text1. ann1. Арбатская м. <span style=\"padding: 2px; border-radius: 4px; border: 1px solid #bbdefb; background: #e3f2fd\">1-комн.</span> кв-ру, или м.Кропоткинская 7 мин/п, Староконюшенный пер., д.30. 35/21 кв.м, кухня 10, 10/12 эт, блоч. дома, балкон, тел., хор. сост., с/у совм., окна в тихий сквер, освобождение сразу, продаю, 45 тыс.$. Торг Т 557-00-73 </div>"
      ],
      "text/plain": [
       "BoxMarkup('text1. ann1. Арбатская м. 1-комн. кв-ру, или м.Кропоткинская 7 мин/п, Староконюшенный пер., д.30. 35/21 кв.м, кухня 10, 10/12 эт, блоч. дома, балкон, тел., хор. сост., с/у совм., окна в тихий сквер, освобождение сразу, продаю, 45 тыс.$. Торг Т 557-00-73 ',\n",
       "          [Span(26, 33, None)])"
      ]
     },
     "metadata": {},
     "output_type": "display_data"
    },
    {
     "data": {
      "text/plain": [
       "Rooms_Number(number=1)"
      ]
     },
     "metadata": {},
     "output_type": "display_data"
    },
    {
     "data": {
      "text/html": [
       "<div class=\"tex2jax_ignore\" style=\"white-space: pre-wrap\">text2. ann2. Арбатская м. <span style=\"padding: 2px; border-radius: 4px; border: 1px solid #bbdefb; background: #e3f2fd\">1-комн.</span> кв ру, 5 м/пеш., ул.Арбат дом 15/43; 53/20/13 кв.м, еврорем., 4/6-эт. кирп. дома, д/фон, евростиль, тел , кондиц., стоянка, с мебелью, охрана, свободна, хозяин, 130 тыс.$. Торг. Т.762-55-67, Сергей</div>"
      ],
      "text/plain": [
       "BoxMarkup('text2. ann2. Арбатская м. 1-комн. кв ру, 5 м/пеш., ул.Арбат дом 15/43; 53/20/13 кв.м, еврорем., 4/6-эт. кирп. дома, д/фон, евростиль, тел , кондиц., стоянка, с мебелью, охрана, свободна, хозяин, 130 тыс.$. Торг. Т.762-55-67, Сергей',\n",
       "          [Span(26, 33, None)])"
      ]
     },
     "metadata": {},
     "output_type": "display_data"
    },
    {
     "data": {
      "text/plain": [
       "Rooms_Number(number=1)"
      ]
     },
     "metadata": {},
     "output_type": "display_data"
    },
    {
     "data": {
      "text/html": [
       "<div class=\"tex2jax_ignore\" style=\"white-space: pre-wrap\">text3. ann3. Баррикадная м. <span style=\"padding: 2px; border-radius: 4px; border: 1px solid #bbdefb; background: #e3f2fd\">1-комн.</span> кв-ру, ул.Б.Грузинская, д.14, 36/20.2 кв.м, кухня 8.3, 2/14-эт. кирп. дома, балкон, тел., консьержка, свободна, Т.962-30-63 </div>"
      ],
      "text/plain": [
       "BoxMarkup('text3. ann3. Баррикадная м. 1-комн. кв-ру, ул.Б.Грузинская, д.14, 36/20.2 кв.м, кухня 8.3, 2/14-эт. кирп. дома, балкон, тел., консьержка, свободна, Т.962-30-63 ',\n",
       "          [Span(28, 35, None)])"
      ]
     },
     "metadata": {},
     "output_type": "display_data"
    },
    {
     "data": {
      "text/plain": [
       "Rooms_Number(number=1)"
      ]
     },
     "metadata": {},
     "output_type": "display_data"
    },
    {
     "data": {
      "text/html": [
       "<div class=\"tex2jax_ignore\" style=\"white-space: pre-wrap\">text4. ann4. Бауманская м. <span style=\"padding: 2px; border-radius: 4px; border: 1px solid #bbdefb; background: #e3f2fd\">1-комн.</span> кв-ру, 5 мин/п., Аптекарский пер., д.3/22, 30/16.2 кв.м, кухня 8, вые. бельэтаж/8-эт, кирп. дома, тел., с/у совм. больш., хор. сост., хор. двор, тихо, свободную, 27 тыс.$. Т.737-76-67, раб., Т.265-23-31, дом., Аня </div>"
      ],
      "text/plain": [
       "BoxMarkup('text4. ann4. Бауманская м. 1-комн. кв-ру, 5 мин/п., Аптекарский пер., д.3/22, 30/16.2 кв.м, кухня 8, вые. бельэтаж/8-эт, кирп. дома, тел., с/у совм. больш., хор. сост., хор. двор, тихо, свободную, 27 тыс.$. Т.737-76-67, раб., Т.265-23-31, дом., Аня ',\n",
       "          [Span(27, 34, None)])"
      ]
     },
     "metadata": {},
     "output_type": "display_data"
    },
    {
     "data": {
      "text/plain": [
       "Rooms_Number(number=1)"
      ]
     },
     "metadata": {},
     "output_type": "display_data"
    },
    {
     "data": {
      "text/html": [
       "<div class=\"tex2jax_ignore\" style=\"white-space: pre-wrap\">text5. ann5. Бауманская м. <span style=\"padding: 2px; border-radius: 4px; border: 1px solid #bbdefb; background: #e3f2fd\">1-комн.</span> кв-ру, метро пешком, 45/22 кв.м, кухня 10, лоджия 3, 8/8-эт. кирп. элит. дома новостройка, без отделки, без сантехники, с/у разд., Т.279-52-79, вечером, Татьяна </div>"
      ],
      "text/plain": [
       "BoxMarkup('text5. ann5. Бауманская м. 1-комн. кв-ру, метро пешком, 45/22 кв.м, кухня 10, лоджия 3, 8/8-эт. кирп. элит. дома новостройка, без отделки, без сантехники, с/у разд., Т.279-52-79, вечером, Татьяна ',\n",
       "          [Span(27, 34, None)])"
      ]
     },
     "metadata": {},
     "output_type": "display_data"
    },
    {
     "data": {
      "text/plain": [
       "Rooms_Number(number=1)"
      ]
     },
     "metadata": {},
     "output_type": "display_data"
    },
    {
     "data": {
      "text/html": [
       "<div class=\"tex2jax_ignore\" style=\"white-space: pre-wrap\">text6. ann6. Бауманская м. <span style=\"padding: 2px; border-radius: 4px; border: 1px solid #bbdefb; background: #e3f2fd\">1-комн.</span> кв-ру, 5 мин/п., Аптекарский, д.15, 33/22 кв.м, кухня 6, 3/9-эт. пан. дома, балкон, тел., с/у совм., окна в тихое место, код. замок, свободна, Т.405-50-68</div>"
      ],
      "text/plain": [
       "BoxMarkup('text6. ann6. Бауманская м. 1-комн. кв-ру, 5 мин/п., Аптекарский, д.15, 33/22 кв.м, кухня 6, 3/9-эт. пан. дома, балкон, тел., с/у совм., окна в тихое место, код. замок, свободна, Т.405-50-68',\n",
       "          [Span(27, 34, None)])"
      ]
     },
     "metadata": {},
     "output_type": "display_data"
    },
    {
     "data": {
      "text/plain": [
       "Rooms_Number(number=1)"
      ]
     },
     "metadata": {},
     "output_type": "display_data"
    },
    {
     "data": {
      "text/html": [
       "<div class=\"tex2jax_ignore\" style=\"white-space: pre-wrap\">text7. ann7. Бауманская м. <span style=\"padding: 2px; border-radius: 4px; border: 1px solid #bbdefb; background: #e3f2fd\">1-комн.</span> кв-ру, 2 мин/п., ул.Спартаковская, д. 18; 36/20,5/10,5 кв.м, 9/12 пан., с/у совм., балкон застекл., тел., домофон, жел. дверь, паркет, доска, альтернатива подобрана, Т. 125-68-31</div>"
      ],
      "text/plain": [
       "BoxMarkup('text7. ann7. Бауманская м. 1-комн. кв-ру, 2 мин/п., ул.Спартаковская, д. 18; 36/20,5/10,5 кв.м, 9/12 пан., с/у совм., балкон застекл., тел., домофон, жел. дверь, паркет, доска, альтернатива подобрана, Т. 125-68-31',\n",
       "          [Span(27, 34, None)])"
      ]
     },
     "metadata": {},
     "output_type": "display_data"
    },
    {
     "data": {
      "text/plain": [
       "Rooms_Number(number=1)"
      ]
     },
     "metadata": {},
     "output_type": "display_data"
    },
    {
     "data": {
      "text/html": [
       "<div class=\"tex2jax_ignore\" style=\"white-space: pre-wrap\">text8. ann8. Бауманская м. <span style=\"padding: 2px; border-radius: 4px; border: 1px solid #bbdefb; background: #e3f2fd\">1-комн</span> кв-ру, Госпитальный пер. д.8; 10 мин/п., 36/19.8 кв.м, кухня 9.8, 11/12-эт. блочн. дома, паркет, балкон, тел., с/у совм., свободна, 23 тыс.$. Т. 133-61-00 </div>"
      ],
      "text/plain": [
       "BoxMarkup('text8. ann8. Бауманская м. 1-комн кв-ру, Госпитальный пер. д.8; 10 мин/п., 36/19.8 кв.м, кухня 9.8, 11/12-эт. блочн. дома, паркет, балкон, тел., с/у совм., свободна, 23 тыс.$. Т. 133-61-00 ',\n",
       "          [Span(27, 33, None)])"
      ]
     },
     "metadata": {},
     "output_type": "display_data"
    },
    {
     "data": {
      "text/plain": [
       "Rooms_Number(number=1)"
      ]
     },
     "metadata": {},
     "output_type": "display_data"
    },
    {
     "data": {
      "text/html": [
       "<div class=\"tex2jax_ignore\" style=\"white-space: pre-wrap\">text9. ann9. Бауманская м. <span style=\"padding: 2px; border-radius: 4px; border: 1px solid #bbdefb; background: #e3f2fd\">1-комн.</span> кв-ру, 5 м.п., ул.М.Почтовая, 10; 44/21 кв.м, кухня 13.5, 2/8-эт. элитн. кирп. дома, встр. оборуд., евростанд., с/у совм., имп. сантехника, застекл. лоджия, стеклопакеты, консьержка, 60 тыс.$. Т.189-65-88, Ирина</div>"
      ],
      "text/plain": [
       "BoxMarkup('text9. ann9. Бауманская м. 1-комн. кв-ру, 5 м.п., ул.М.Почтовая, 10; 44/21 кв.м, кухня 13.5, 2/8-эт. элитн. кирп. дома, встр. оборуд., евростанд., с/у совм., имп. сантехника, застекл. лоджия, стеклопакеты, консьержка, 60 тыс.$. Т.189-65-88, Ирина',\n",
       "          [Span(27, 34, None)])"
      ]
     },
     "metadata": {},
     "output_type": "display_data"
    },
    {
     "data": {
      "text/plain": [
       "Rooms_Number(number=1)"
      ]
     },
     "metadata": {},
     "output_type": "display_data"
    },
    {
     "data": {
      "text/html": [
       "<div class=\"tex2jax_ignore\" style=\"white-space: pre-wrap\">text10. ann10. Бауманская м. <span style=\"padding: 2px; border-radius: 4px; border: 1px solid #bbdefb; background: #e3f2fd\">1-комн.</span> кв-ру, 5 мин/п., Токмаков пер., 28/16 кв.м, кух. 5.5, 6/7 кирп. дома, балкон, без тел., с/у совм., лифт, тихо, свободна, 17тыс.$. Т.978-92-94, Тамара Григорьевна, до 23.00 </div>"
      ],
      "text/plain": [
       "BoxMarkup('text10. ann10. Бауманская м. 1-комн. кв-ру, 5 мин/п., Токмаков пер., 28/16 кв.м, кух. 5.5, 6/7 кирп. дома, балкон, без тел., с/у совм., лифт, тихо, свободна, 17тыс.$. Т.978-92-94, Тамара Григорьевна, до 23.00 ',\n",
       "          [Span(29, 36, None)])"
      ]
     },
     "metadata": {},
     "output_type": "display_data"
    },
    {
     "data": {
      "text/plain": [
       "Rooms_Number(number=1)"
      ]
     },
     "metadata": {},
     "output_type": "display_data"
    },
    {
     "data": {
      "text/html": [
       "<div class=\"tex2jax_ignore\" style=\"white-space: pre-wrap\">text11. ann11. Бауманская м. <span style=\"padding: 2px; border-radius: 4px; border: 1px solid #bbdefb; background: #e3f2fd\">1-комн.</span> кв-ру, 7 мин. пеш., ул. Б. Почтовая, д. 18/20, корп. 16, 34/15 кв.м. кухня 7,5/5-эт. кирп. дома, с/у разд., большой кор., тел., без балкона, хор. сост., свободна, 23.5 тыс.$. Т.218-59-90</div>"
      ],
      "text/plain": [
       "BoxMarkup('text11. ann11. Бауманская м. 1-комн. кв-ру, 7 мин. пеш., ул. Б. Почтовая, д. 18/20, корп. 16, 34/15 кв.м. кухня 7,5/5-эт. кирп. дома, с/у разд., большой кор., тел., без балкона, хор. сост., свободна, 23.5 тыс.$. Т.218-59-90',\n",
       "          [Span(29, 36, None)])"
      ]
     },
     "metadata": {},
     "output_type": "display_data"
    },
    {
     "data": {
      "text/plain": [
       "Rooms_Number(number=1)"
      ]
     },
     "metadata": {},
     "output_type": "display_data"
    },
    {
     "data": {
      "text/html": [
       "<div class=\"tex2jax_ignore\" style=\"white-space: pre-wrap\">text12. ann12. Бауманская м. <span style=\"padding: 2px; border-radius: 4px; border: 1px solid #bbdefb; background: #e3f2fd\">1-комн.</span> кв-ру, 5 м.п., Плетешковский пер., 18/20; 35/20 кв.м, кухня 10,3/12 эт. пан. дома, лифт, паркет, с/у совм., тел., во двор, подъезд норм., заст. балкон, 28 тыс. у.е., торг. Т.322-70-36</div>"
      ],
      "text/plain": [
       "BoxMarkup('text12. ann12. Бауманская м. 1-комн. кв-ру, 5 м.п., Плетешковский пер., 18/20; 35/20 кв.м, кухня 10,3/12 эт. пан. дома, лифт, паркет, с/у совм., тел., во двор, подъезд норм., заст. балкон, 28 тыс. у.е., торг. Т.322-70-36',\n",
       "          [Span(29, 36, None)])"
      ]
     },
     "metadata": {},
     "output_type": "display_data"
    },
    {
     "data": {
      "text/plain": [
       "Rooms_Number(number=1)"
      ]
     },
     "metadata": {},
     "output_type": "display_data"
    },
    {
     "data": {
      "text/html": [
       "<div class=\"tex2jax_ignore\" style=\"white-space: pre-wrap\">text13. ann13. Бауманская м. <span style=\"padding: 2px; border-radius: 4px; border: 1px solid #bbdefb; background: #e3f2fd\">1-комн.</span> кв-ру, 10 мин.п-.ул.Волочаевская, д.2, корп.1; 31/15 кв.м, кухня 8, 11/12 эт.пан.дома 90 г.постр., домофон, консьерж, рядом парк, тел., м/провод, в хор.сост , 23 тыс.$. Т.361-47-62</div>"
      ],
      "text/plain": [
       "BoxMarkup('text13. ann13. Бауманская м. 1-комн. кв-ру, 10 мин.п-.ул.Волочаевская, д.2, корп.1; 31/15 кв.м, кухня 8, 11/12 эт.пан.дома 90 г.постр., домофон, консьерж, рядом парк, тел., м/провод, в хор.сост , 23 тыс.$. Т.361-47-62',\n",
       "          [Span(29, 36, None)])"
      ]
     },
     "metadata": {},
     "output_type": "display_data"
    },
    {
     "data": {
      "text/plain": [
       "Rooms_Number(number=1)"
      ]
     },
     "metadata": {},
     "output_type": "display_data"
    },
    {
     "data": {
      "text/html": [
       "<div class=\"tex2jax_ignore\" style=\"white-space: pre-wrap\">text14. ann14. Бауманская м. <span style=\"padding: 2px; border-radius: 4px; border: 1px solid #bbdefb; background: #e3f2fd\">1-комн.</span> кв-ру, 10 мин.пеш., Денисовский пер., д.7; 33.6/18.6 кв.м, кухня 6, 5/5-эт. кирп. дома, с/у совм., балкон, код, тел., 21 тыс.$, Т.966-54-29, Ирина Викторовна</div>"
      ],
      "text/plain": [
       "BoxMarkup('text14. ann14. Бауманская м. 1-комн. кв-ру, 10 мин.пеш., Денисовский пер., д.7; 33.6/18.6 кв.м, кухня 6, 5/5-эт. кирп. дома, с/у совм., балкон, код, тел., 21 тыс.$, Т.966-54-29, Ирина Викторовна',\n",
       "          [Span(29, 36, None)])"
      ]
     },
     "metadata": {},
     "output_type": "display_data"
    },
    {
     "data": {
      "text/plain": [
       "Rooms_Number(number=1)"
      ]
     },
     "metadata": {},
     "output_type": "display_data"
    },
    {
     "data": {
      "text/html": [
       "<div class=\"tex2jax_ignore\" style=\"white-space: pre-wrap\">text15. ann15. •БАУМАНСКАЯ м. <span style=\"padding: 2px; border-radius: 4px; border: 1px solid #bbdefb; background: #e3f2fd\">1-комн.</span> кв-ру, 3 м.п., Волховский пер., д.2, 9-126., 34.4/19.3/10, без балк., без тел., парк. доска, окна-двор, чистый подъезд, код.зам., приват., альт-ва. 24.000$. Лиц-N 000676/РП(006). Т.203-12-31, Т.737-00-93 с 9 до 20</div>"
      ],
      "text/plain": [
       "BoxMarkup('text15. ann15. •БАУМАНСКАЯ м. 1-комн. кв-ру, 3 м.п., Волховский пер., д.2, 9-126., 34.4/19.3/10, без балк., без тел., парк. доска, окна-двор, чистый подъезд, код.зам., приват., альт-ва. 24.000$. Лиц-N 000676/РП(006). Т.203-12-31, Т.737-00-93 с 9 до 20',\n",
       "          [Span(30, 37, None)])"
      ]
     },
     "metadata": {},
     "output_type": "display_data"
    },
    {
     "data": {
      "text/plain": [
       "Rooms_Number(number=1)"
      ]
     },
     "metadata": {},
     "output_type": "display_data"
    },
    {
     "data": {
      "text/html": [
       "<div class=\"tex2jax_ignore\" style=\"white-space: pre-wrap\">text16. ann16. •БАУМАНСКАЯ М. <span style=\"padding: 2px; border-radius: 4px; border: 1px solid #bbdefb; background: #e3f2fd\">1-комн.</span> кв-ра, Волочаевская ул. дом 2 корп 1, 34/14,4/кух. 8,5, 12/12 пан.+тех.этаж, 15 м.п., телефон, лоджия, окна - двор, сделан качественный ремонт, кондиционеры, жалюзи, домофон, консьержка, жел. дверь, чистая продажа, 27 500 дол. Т.924-59-92, Т.925-10-83 с 9 до 19</div>"
      ],
      "text/plain": [
       "BoxMarkup('text16. ann16. •БАУМАНСКАЯ М. 1-комн. кв-ра, Волочаевская ул. дом 2 корп 1, 34/14,4/кух. 8,5, 12/12 пан.+тех.этаж, 15 м.п., телефон, лоджия, окна - двор, сделан качественный ремонт, кондиционеры, жалюзи, домофон, консьержка, жел. дверь, чистая продажа, 27 500 дол. Т.924-59-92, Т.925-10-83 с 9 до 19',\n",
       "          [Span(30, 37, None)])"
      ]
     },
     "metadata": {},
     "output_type": "display_data"
    },
    {
     "data": {
      "text/plain": [
       "Rooms_Number(number=1)"
      ]
     },
     "metadata": {},
     "output_type": "display_data"
    },
    {
     "data": {
      "text/html": [
       "<div class=\"tex2jax_ignore\" style=\"white-space: pre-wrap\">text17. ann17. Белорусская м. <span style=\"padding: 2px; border-radius: 4px; border: 1px solid #bbdefb; background: #e3f2fd\">1-комн.</span> кв-ру, 5 мин/п., ул.Нижняя, д. 5, 31,3/13,4 кв.м, кухня 9,2, 3/5-эт. кирп. дома, лифт, тел., с/у совм., пот. 3.5, газ. колонка, линолеум, окна на улицу, альтернатива, 25 тыс.$. Т.318-94-49 </div>"
      ],
      "text/plain": [
       "BoxMarkup('text17. ann17. Белорусская м. 1-комн. кв-ру, 5 мин/п., ул.Нижняя, д. 5, 31,3/13,4 кв.м, кухня 9,2, 3/5-эт. кирп. дома, лифт, тел., с/у совм., пот. 3.5, газ. колонка, линолеум, окна на улицу, альтернатива, 25 тыс.$. Т.318-94-49 ',\n",
       "          [Span(30, 37, None)])"
      ]
     },
     "metadata": {},
     "output_type": "display_data"
    },
    {
     "data": {
      "text/plain": [
       "Rooms_Number(number=1)"
      ]
     },
     "metadata": {},
     "output_type": "display_data"
    },
    {
     "data": {
      "text/html": [
       "<div class=\"tex2jax_ignore\" style=\"white-space: pre-wrap\">text18. ann18. Белорусская м. <span style=\"padding: 2px; border-radius: 4px; border: 1px solid #bbdefb; background: #e3f2fd\">1-комн.</span> кв-ру, ул.Верхняя, д.6;43/20 кв.м, кухня 13,2/14-эт.кирп. дома ЖСК, тел., лоджия 6 заст., с/у совм., паркет, темная комната 2.7, домоф., мет .дверь, консьерж., окна во двор, 41.5 тыс.$, торг. Т.405-85-64 </div>"
      ],
      "text/plain": [
       "BoxMarkup('text18. ann18. Белорусская м. 1-комн. кв-ру, ул.Верхняя, д.6;43/20 кв.м, кухня 13,2/14-эт.кирп. дома ЖСК, тел., лоджия 6 заст., с/у совм., паркет, темная комната 2.7, домоф., мет .дверь, консьерж., окна во двор, 41.5 тыс.$, торг. Т.405-85-64 ',\n",
       "          [Span(30, 37, None)])"
      ]
     },
     "metadata": {},
     "output_type": "display_data"
    },
    {
     "data": {
      "text/plain": [
       "Rooms_Number(number=1)"
      ]
     },
     "metadata": {},
     "output_type": "display_data"
    },
    {
     "data": {
      "text/html": [
       "<div class=\"tex2jax_ignore\" style=\"white-space: pre-wrap\">text19. ann19. Белорусская м. <span style=\"padding: 2px; border-radius: 4px; border: 1px solid #bbdefb; background: #e3f2fd\">1-комн.</span> кв-ру, ул. Бутырский вал, д. 34, 10 м/п; 36/20 кв.м, к. 10, 12/12-пан. дома, с/у совм., окна двор, тел., балкон, хор. сост., домофон, свободна, 28 тыс.$. Торг. Т.299-96-51</div>"
      ],
      "text/plain": [
       "BoxMarkup('text19. ann19. Белорусская м. 1-комн. кв-ру, ул. Бутырский вал, д. 34, 10 м/п; 36/20 кв.м, к. 10, 12/12-пан. дома, с/у совм., окна двор, тел., балкон, хор. сост., домофон, свободна, 28 тыс.$. Торг. Т.299-96-51',\n",
       "          [Span(30, 37, None)])"
      ]
     },
     "metadata": {},
     "output_type": "display_data"
    },
    {
     "data": {
      "text/plain": [
       "Rooms_Number(number=1)"
      ]
     },
     "metadata": {},
     "output_type": "display_data"
    },
    {
     "data": {
      "text/html": [
       "<div class=\"tex2jax_ignore\" style=\"white-space: pre-wrap\">text20. ann20. Белорусская м. <span style=\"padding: 2px; border-radius: 4px; border: 1px solid #bbdefb; background: #e3f2fd\">1-комн.</span> кв-ру, 6 мин.п., Б.Тишинский пер., 22/15 кв.м, 2/6 эт. кирп, дома, паркет, пот.3.15, домофон, тихо, 18 тыс.$, торг, без посредников. Альтернатива. Т.253-30-92, вечером</div>"
      ],
      "text/plain": [
       "BoxMarkup('text20. ann20. Белорусская м. 1-комн. кв-ру, 6 мин.п., Б.Тишинский пер., 22/15 кв.м, 2/6 эт. кирп, дома, паркет, пот.3.15, домофон, тихо, 18 тыс.$, торг, без посредников. Альтернатива. Т.253-30-92, вечером',\n",
       "          [Span(30, 37, None)])"
      ]
     },
     "metadata": {},
     "output_type": "display_data"
    },
    {
     "data": {
      "text/plain": [
       "Rooms_Number(number=1)"
      ]
     },
     "metadata": {},
     "output_type": "display_data"
    }
   ],
   "source": [
    "show_matches(ROOMS_NUMBER, *flats_list)"
   ]
  },
  {
   "cell_type": "code",
   "execution_count": 217,
   "metadata": {},
   "outputs": [
    {
     "data": {
      "text/html": [
       "<div class=\"tex2jax_ignore\" style=\"white-space: pre-wrap\"><span style=\"padding: 2px; border-radius: 4px; border: 1px solid #bbdefb; background: #e3f2fd\">двухкомнатную</span> квартиру</div>"
      ],
      "text/plain": [
       "BoxMarkup('двухкомнатную квартиру', [Span(0, 13, None)])"
      ]
     },
     "metadata": {},
     "output_type": "display_data"
    },
    {
     "data": {
      "text/plain": [
       "Rooms_Number(number=2)"
      ]
     },
     "metadata": {},
     "output_type": "display_data"
    },
    {
     "data": {
      "text/html": [
       "<div class=\"tex2jax_ignore\" style=\"white-space: pre-wrap\"><span style=\"padding: 2px; border-radius: 4px; border: 1px solid #bbdefb; background: #e3f2fd\">2 комн</span> квартиру</div>"
      ],
      "text/plain": [
       "BoxMarkup('2 комн квартиру', [Span(0, 6, None)])"
      ]
     },
     "metadata": {},
     "output_type": "display_data"
    },
    {
     "data": {
      "text/plain": [
       "Rooms_Number(number=2)"
      ]
     },
     "metadata": {},
     "output_type": "display_data"
    },
    {
     "data": {
      "text/html": [
       "<div class=\"tex2jax_ignore\" style=\"white-space: pre-wrap\"><span style=\"padding: 2px; border-radius: 4px; border: 1px solid #bbdefb; background: #e3f2fd\">3-комнатную</span> квартиру</div>"
      ],
      "text/plain": [
       "BoxMarkup('3-комнатную квартиру', [Span(0, 11, None)])"
      ]
     },
     "metadata": {},
     "output_type": "display_data"
    },
    {
     "data": {
      "text/plain": [
       "Rooms_Number(number=3)"
      ]
     },
     "metadata": {},
     "output_type": "display_data"
    }
   ],
   "source": [
    "show_matches(ROOMS_NUMBER,\n",
    "            'двухкомнатную квартиру',\n",
    "            '2 комн квартиру',\n",
    "            '3-комнатную квартиру')"
   ]
  },
  {
   "cell_type": "markdown",
   "metadata": {},
   "source": [
    "### Пробуем извлечь расстояние до метро"
   ]
  },
  {
   "cell_type": "code",
   "execution_count": 835,
   "metadata": {},
   "outputs": [],
   "source": [
    "Distance_from_metro = fact(\n",
    "    'Distance_from_metro',\n",
    "    ['Walking_Distance', 'Time', 'Time_Unit'] \n",
    "                        )"
   ]
  },
  {
   "cell_type": "code",
   "execution_count": 107,
   "metadata": {},
   "outputs": [
    {
     "data": {
      "text/plain": [
       "[Token('7', [0, 1), 'INT'),\n",
       " MorphToken('мин',\n",
       "            [2, 5),\n",
       "            'RU',\n",
       "            [Form('мина', Grams(NOUN,femn,gent,inan,plur))]),\n",
       " Token('/', [5, 6), 'PUNCT'),\n",
       " MorphToken('п',\n",
       "            [6, 7),\n",
       "            'RU',\n",
       "            [Form('плата', Grams(Abbr,Fixd,NOUN,femn,inan,nomn,sing)),\n",
       "             Form('плата', Grams(Abbr,Fixd,NOUN,femn,gent,inan,sing)),\n",
       "             Form('плата', Grams(Abbr,Fixd,NOUN,datv,femn,inan,sing)),\n",
       "             Form('плата', Grams(Abbr,Fixd,NOUN,accs,femn,inan,sing)),\n",
       "             Form('плата', Grams(Abbr,Fixd,NOUN,ablt,femn,inan,sing)),\n",
       "             Form('плата', Grams(Abbr,Fixd,NOUN,femn,inan,loct,sing)),\n",
       "             Form('плата', Grams(Abbr,Fixd,NOUN,femn,inan,nomn,plur)),\n",
       "             Form('плата', Grams(Abbr,Fixd,NOUN,femn,gent,inan,plur)),\n",
       "             Form('плата', Grams(Abbr,Fixd,NOUN,datv,femn,inan,plur)),\n",
       "             Form('плата', Grams(Abbr,Fixd,NOUN,accs,femn,inan,plur)),\n",
       "             Form('плата', Grams(Abbr,Fixd,NOUN,ablt,femn,inan,plur)),\n",
       "             Form('плата', Grams(Abbr,Fixd,NOUN,femn,inan,loct,plur)),\n",
       "             Form('подобный', Grams(ADJF,Abbr,Qual,Subx,neut,nomn,sing)),\n",
       "             Form('подобный', Grams(ADJF,Abbr,Qual,Subx,accs,neut,sing)),\n",
       "             Form('пункт', Grams(Abbr,Fixd,NOUN,inan,masc,nomn,sing)),\n",
       "             Form('пункт', Grams(Abbr,Fixd,NOUN,gent,inan,masc,sing)),\n",
       "             Form('пункт', Grams(Abbr,Fixd,NOUN,datv,inan,masc,sing)),\n",
       "             Form('пункт', Grams(Abbr,Fixd,NOUN,accs,inan,masc,sing)),\n",
       "             Form('пункт', Grams(Abbr,Fixd,NOUN,ablt,inan,masc,sing)),\n",
       "             Form('пункт', Grams(Abbr,Fixd,NOUN,inan,loct,masc,sing)),\n",
       "             Form('пункт', Grams(Abbr,Fixd,NOUN,inan,masc,nomn,plur)),\n",
       "             Form('пункт', Grams(Abbr,Fixd,NOUN,gent,inan,masc,plur)),\n",
       "             Form('пункт', Grams(Abbr,Fixd,NOUN,datv,inan,masc,plur)),\n",
       "             Form('пункт', Grams(Abbr,Fixd,NOUN,accs,inan,masc,plur)),\n",
       "             Form('пункт', Grams(Abbr,Fixd,NOUN,ablt,inan,masc,plur)),\n",
       "             Form('пункт', Grams(Abbr,Fixd,NOUN,inan,loct,masc,plur))])]"
      ]
     },
     "execution_count": 107,
     "metadata": {},
     "output_type": "execute_result"
    }
   ],
   "source": [
    "list(TOKENIZER('7 мин/п'))"
   ]
  },
  {
   "cell_type": "code",
   "execution_count": 108,
   "metadata": {},
   "outputs": [
    {
     "data": {
      "text/plain": [
       "[Token('5', [0, 1), 'INT'),\n",
       " MorphToken('м',\n",
       "            [2, 3),\n",
       "            'RU',\n",
       "            [Form('метр', Grams(Abbr,Fixd,NOUN,gent,inan,masc,sing)),\n",
       "             Form('метр', Grams(Abbr,Fixd,NOUN,inan,masc,nomn,sing)),\n",
       "             Form('метр', Grams(Abbr,Fixd,NOUN,ablt,inan,masc,sing)),\n",
       "             Form('метр', Grams(Abbr,Fixd,NOUN,gent,inan,masc,plur)),\n",
       "             Form('метр', Grams(Abbr,Fixd,NOUN,datv,inan,masc,sing)),\n",
       "             Form('метр', Grams(Abbr,Fixd,NOUN,accs,inan,masc,sing)),\n",
       "             Form('метр', Grams(Abbr,Fixd,NOUN,inan,loct,masc,sing)),\n",
       "             Form('метр', Grams(Abbr,Fixd,NOUN,inan,masc,nomn,plur)),\n",
       "             Form('метр', Grams(Abbr,Fixd,NOUN,datv,inan,masc,plur)),\n",
       "             Form('метр', Grams(Abbr,Fixd,NOUN,accs,inan,masc,plur)),\n",
       "             Form('метр', Grams(Abbr,Fixd,NOUN,ablt,inan,masc,plur)),\n",
       "             Form('метр', Grams(Abbr,Fixd,NOUN,inan,loct,masc,plur)),\n",
       "             Form('москва',\n",
       "                  Grams(Abbr,Fixd,Geox,NOUN,Sgtm,femn,inan,nomn,sing)),\n",
       "             Form('москва',\n",
       "                  Grams(Abbr,Fixd,Geox,NOUN,Sgtm,femn,gent,inan,sing)),\n",
       "             Form('москва',\n",
       "                  Grams(Abbr,Fixd,Geox,NOUN,Sgtm,datv,femn,inan,sing)),\n",
       "             Form('москва',\n",
       "                  Grams(Abbr,Fixd,Geox,NOUN,Sgtm,accs,femn,inan,sing)),\n",
       "             Form('москва',\n",
       "                  Grams(Abbr,Fixd,Geox,NOUN,Sgtm,ablt,femn,inan,sing)),\n",
       "             Form('москва',\n",
       "                  Grams(Abbr,Fixd,Geox,NOUN,Sgtm,femn,inan,loct,sing))]),\n",
       " Token('/', [3, 4), 'PUNCT'),\n",
       " MorphToken('пеш', [4, 7), 'RU', [Form('пеший', Grams(ADJS,masc,sing))]),\n",
       " Token('.', [7, 8), 'PUNCT')]"
      ]
     },
     "execution_count": 108,
     "metadata": {},
     "output_type": "execute_result"
    }
   ],
   "source": [
    "list(TOKENIZER('5 м/пеш.'))"
   ]
  },
  {
   "cell_type": "code",
   "execution_count": 109,
   "metadata": {},
   "outputs": [
    {
     "data": {
      "text/plain": [
       "[MorphToken('метро',\n",
       "            [0, 5),\n",
       "            'RU',\n",
       "            [Form('метро', Grams(Fixd,NOUN,inan,neut,nomn,sing)),\n",
       "             Form('метро', Grams(Fixd,NOUN,gent,inan,neut,sing)),\n",
       "             Form('метро', Grams(Fixd,NOUN,datv,inan,neut,sing)),\n",
       "             Form('метро', Grams(Fixd,NOUN,accs,inan,neut,sing)),\n",
       "             Form('метро', Grams(Fixd,NOUN,ablt,inan,neut,sing)),\n",
       "             Form('метро', Grams(Fixd,NOUN,inan,loct,neut,sing)),\n",
       "             Form('метро', Grams(Fixd,NOUN,inan,neut,nomn,plur)),\n",
       "             Form('метро', Grams(Fixd,NOUN,gent,inan,neut,plur)),\n",
       "             Form('метро', Grams(Fixd,NOUN,datv,inan,neut,plur)),\n",
       "             Form('метро', Grams(Fixd,NOUN,accs,inan,neut,plur)),\n",
       "             Form('метро', Grams(Fixd,NOUN,ablt,inan,neut,plur)),\n",
       "             Form('метро', Grams(Fixd,NOUN,inan,loct,neut,plur))]),\n",
       " MorphToken('пешком', [6, 12), 'RU', [Form('пешком', Grams(ADVB))])]"
      ]
     },
     "execution_count": 109,
     "metadata": {},
     "output_type": "execute_result"
    }
   ],
   "source": [
    "list(TOKENIZER('метро пешком'))"
   ]
  },
  {
   "cell_type": "code",
   "execution_count": 110,
   "metadata": {},
   "outputs": [
    {
     "data": {
      "text/plain": [
       "[Token('5', [0, 1), 'INT'),\n",
       " MorphToken('м',\n",
       "            [2, 3),\n",
       "            'RU',\n",
       "            [Form('метр', Grams(Abbr,Fixd,NOUN,gent,inan,masc,sing)),\n",
       "             Form('метр', Grams(Abbr,Fixd,NOUN,inan,masc,nomn,sing)),\n",
       "             Form('метр', Grams(Abbr,Fixd,NOUN,ablt,inan,masc,sing)),\n",
       "             Form('метр', Grams(Abbr,Fixd,NOUN,gent,inan,masc,plur)),\n",
       "             Form('метр', Grams(Abbr,Fixd,NOUN,datv,inan,masc,sing)),\n",
       "             Form('метр', Grams(Abbr,Fixd,NOUN,accs,inan,masc,sing)),\n",
       "             Form('метр', Grams(Abbr,Fixd,NOUN,inan,loct,masc,sing)),\n",
       "             Form('метр', Grams(Abbr,Fixd,NOUN,inan,masc,nomn,plur)),\n",
       "             Form('метр', Grams(Abbr,Fixd,NOUN,datv,inan,masc,plur)),\n",
       "             Form('метр', Grams(Abbr,Fixd,NOUN,accs,inan,masc,plur)),\n",
       "             Form('метр', Grams(Abbr,Fixd,NOUN,ablt,inan,masc,plur)),\n",
       "             Form('метр', Grams(Abbr,Fixd,NOUN,inan,loct,masc,plur)),\n",
       "             Form('москва',\n",
       "                  Grams(Abbr,Fixd,Geox,NOUN,Sgtm,femn,inan,nomn,sing)),\n",
       "             Form('москва',\n",
       "                  Grams(Abbr,Fixd,Geox,NOUN,Sgtm,femn,gent,inan,sing)),\n",
       "             Form('москва',\n",
       "                  Grams(Abbr,Fixd,Geox,NOUN,Sgtm,datv,femn,inan,sing)),\n",
       "             Form('москва',\n",
       "                  Grams(Abbr,Fixd,Geox,NOUN,Sgtm,accs,femn,inan,sing)),\n",
       "             Form('москва',\n",
       "                  Grams(Abbr,Fixd,Geox,NOUN,Sgtm,ablt,femn,inan,sing)),\n",
       "             Form('москва',\n",
       "                  Grams(Abbr,Fixd,Geox,NOUN,Sgtm,femn,inan,loct,sing))]),\n",
       " Token('.', [3, 4), 'PUNCT'),\n",
       " MorphToken('п',\n",
       "            [4, 5),\n",
       "            'RU',\n",
       "            [Form('плата', Grams(Abbr,Fixd,NOUN,femn,inan,nomn,sing)),\n",
       "             Form('плата', Grams(Abbr,Fixd,NOUN,femn,gent,inan,sing)),\n",
       "             Form('плата', Grams(Abbr,Fixd,NOUN,datv,femn,inan,sing)),\n",
       "             Form('плата', Grams(Abbr,Fixd,NOUN,accs,femn,inan,sing)),\n",
       "             Form('плата', Grams(Abbr,Fixd,NOUN,ablt,femn,inan,sing)),\n",
       "             Form('плата', Grams(Abbr,Fixd,NOUN,femn,inan,loct,sing)),\n",
       "             Form('плата', Grams(Abbr,Fixd,NOUN,femn,inan,nomn,plur)),\n",
       "             Form('плата', Grams(Abbr,Fixd,NOUN,femn,gent,inan,plur)),\n",
       "             Form('плата', Grams(Abbr,Fixd,NOUN,datv,femn,inan,plur)),\n",
       "             Form('плата', Grams(Abbr,Fixd,NOUN,accs,femn,inan,plur)),\n",
       "             Form('плата', Grams(Abbr,Fixd,NOUN,ablt,femn,inan,plur)),\n",
       "             Form('плата', Grams(Abbr,Fixd,NOUN,femn,inan,loct,plur)),\n",
       "             Form('подобный', Grams(ADJF,Abbr,Qual,Subx,neut,nomn,sing)),\n",
       "             Form('подобный', Grams(ADJF,Abbr,Qual,Subx,accs,neut,sing)),\n",
       "             Form('пункт', Grams(Abbr,Fixd,NOUN,inan,masc,nomn,sing)),\n",
       "             Form('пункт', Grams(Abbr,Fixd,NOUN,gent,inan,masc,sing)),\n",
       "             Form('пункт', Grams(Abbr,Fixd,NOUN,datv,inan,masc,sing)),\n",
       "             Form('пункт', Grams(Abbr,Fixd,NOUN,accs,inan,masc,sing)),\n",
       "             Form('пункт', Grams(Abbr,Fixd,NOUN,ablt,inan,masc,sing)),\n",
       "             Form('пункт', Grams(Abbr,Fixd,NOUN,inan,loct,masc,sing)),\n",
       "             Form('пункт', Grams(Abbr,Fixd,NOUN,inan,masc,nomn,plur)),\n",
       "             Form('пункт', Grams(Abbr,Fixd,NOUN,gent,inan,masc,plur)),\n",
       "             Form('пункт', Grams(Abbr,Fixd,NOUN,datv,inan,masc,plur)),\n",
       "             Form('пункт', Grams(Abbr,Fixd,NOUN,accs,inan,masc,plur)),\n",
       "             Form('пункт', Grams(Abbr,Fixd,NOUN,ablt,inan,masc,plur)),\n",
       "             Form('пункт', Grams(Abbr,Fixd,NOUN,inan,loct,masc,plur))]),\n",
       " Token('.', [5, 6), 'PUNCT')]"
      ]
     },
     "execution_count": 110,
     "metadata": {},
     "output_type": "execute_result"
    }
   ],
   "source": [
    "list(TOKENIZER('5 м.п.'))"
   ]
  },
  {
   "cell_type": "code",
   "execution_count": 112,
   "metadata": {},
   "outputs": [
    {
     "data": {
      "text/plain": [
       "[Token('7', [0, 1), 'INT'),\n",
       " MorphToken('мин',\n",
       "            [2, 5),\n",
       "            'RU',\n",
       "            [Form('мина', Grams(NOUN,femn,gent,inan,plur))]),\n",
       " Token('.', [5, 6), 'PUNCT'),\n",
       " MorphToken('пеш', [7, 10), 'RU', [Form('пеший', Grams(ADJS,masc,sing))]),\n",
       " Token('.', [10, 11), 'PUNCT')]"
      ]
     },
     "execution_count": 112,
     "metadata": {},
     "output_type": "execute_result"
    }
   ],
   "source": [
    "list(TOKENIZER('7 мин. пеш.'))"
   ]
  },
  {
   "cell_type": "code",
   "execution_count": 113,
   "metadata": {},
   "outputs": [
    {
     "data": {
      "text/plain": [
       "[Token('10', [0, 2), 'INT'),\n",
       " MorphToken('мин',\n",
       "            [3, 6),\n",
       "            'RU',\n",
       "            [Form('мина', Grams(NOUN,femn,gent,inan,plur))]),\n",
       " Token('.', [6, 7), 'PUNCT'),\n",
       " MorphToken('п',\n",
       "            [7, 8),\n",
       "            'RU',\n",
       "            [Form('плата', Grams(Abbr,Fixd,NOUN,femn,inan,nomn,sing)),\n",
       "             Form('плата', Grams(Abbr,Fixd,NOUN,femn,gent,inan,sing)),\n",
       "             Form('плата', Grams(Abbr,Fixd,NOUN,datv,femn,inan,sing)),\n",
       "             Form('плата', Grams(Abbr,Fixd,NOUN,accs,femn,inan,sing)),\n",
       "             Form('плата', Grams(Abbr,Fixd,NOUN,ablt,femn,inan,sing)),\n",
       "             Form('плата', Grams(Abbr,Fixd,NOUN,femn,inan,loct,sing)),\n",
       "             Form('плата', Grams(Abbr,Fixd,NOUN,femn,inan,nomn,plur)),\n",
       "             Form('плата', Grams(Abbr,Fixd,NOUN,femn,gent,inan,plur)),\n",
       "             Form('плата', Grams(Abbr,Fixd,NOUN,datv,femn,inan,plur)),\n",
       "             Form('плата', Grams(Abbr,Fixd,NOUN,accs,femn,inan,plur)),\n",
       "             Form('плата', Grams(Abbr,Fixd,NOUN,ablt,femn,inan,plur)),\n",
       "             Form('плата', Grams(Abbr,Fixd,NOUN,femn,inan,loct,plur)),\n",
       "             Form('подобный', Grams(ADJF,Abbr,Qual,Subx,neut,nomn,sing)),\n",
       "             Form('подобный', Grams(ADJF,Abbr,Qual,Subx,accs,neut,sing)),\n",
       "             Form('пункт', Grams(Abbr,Fixd,NOUN,inan,masc,nomn,sing)),\n",
       "             Form('пункт', Grams(Abbr,Fixd,NOUN,gent,inan,masc,sing)),\n",
       "             Form('пункт', Grams(Abbr,Fixd,NOUN,datv,inan,masc,sing)),\n",
       "             Form('пункт', Grams(Abbr,Fixd,NOUN,accs,inan,masc,sing)),\n",
       "             Form('пункт', Grams(Abbr,Fixd,NOUN,ablt,inan,masc,sing)),\n",
       "             Form('пункт', Grams(Abbr,Fixd,NOUN,inan,loct,masc,sing)),\n",
       "             Form('пункт', Grams(Abbr,Fixd,NOUN,inan,masc,nomn,plur)),\n",
       "             Form('пункт', Grams(Abbr,Fixd,NOUN,gent,inan,masc,plur)),\n",
       "             Form('пункт', Grams(Abbr,Fixd,NOUN,datv,inan,masc,plur)),\n",
       "             Form('пункт', Grams(Abbr,Fixd,NOUN,accs,inan,masc,plur)),\n",
       "             Form('пункт', Grams(Abbr,Fixd,NOUN,ablt,inan,masc,plur)),\n",
       "             Form('пункт', Grams(Abbr,Fixd,NOUN,inan,loct,masc,plur))])]"
      ]
     },
     "execution_count": 113,
     "metadata": {},
     "output_type": "execute_result"
    }
   ],
   "source": [
    "list(TOKENIZER('10 мин.п'))"
   ]
  },
  {
   "cell_type": "code",
   "execution_count": 870,
   "metadata": {},
   "outputs": [],
   "source": [
    "TIME_UNITS = {'мин': 'минута',\n",
    "              'мин.': 'минута',\n",
    "            'м': 'минута',\n",
    "            'м.': 'минута',\n",
    "            'минута': 'минута',\n",
    "            'ч': 'час',\n",
    "            'ч.': 'час'\n",
    "             }\n",
    "\n",
    "MEANS = {'пешком': 'да',\n",
    "         'пеш.': 'да',\n",
    "         'пеш': 'да',\n",
    "         'п': 'да',\n",
    "         'п.': 'да',\n",
    "        'п-': 'да',  #10 мин.п-.ул.Волочаевская, д.2, корп.1\n",
    "         'на общественном транспорте': 'нет',\n",
    "         'на общ. транспорте': 'нет',\n",
    "         'на общ транспорте': 'нет',\n",
    "         'на автомобиле': 'нет'}\n",
    "\n",
    "TIME_UNIT = morph_pipeline(TIME_UNITS).interpretation(interp.normalized().custom(TIME_UNITS.get))\n",
    "\n",
    "IS_WALKING_DISTANCE = morph_pipeline(MEANS).interpretation(Distance_from_metro.Walking_Distance.custom(MEANS.get))\n",
    "    \n",
    "DISTANCE_FROM_METRO = or_(\n",
    "                        rule(INT.interpretation(Distance_from_metro.Time.custom(int)),\n",
    "                            TIME_UNIT.interpretation(Distance_from_metro.Time_Unit),\n",
    "                            in_('/').optional(),\n",
    "                               rule (IS_WALKING_DISTANCE).interpretation(Distance_from_metro.Walking_Distance)\n",
    "                            ),\n",
    "    \n",
    "                        rule(eq('метро'), \n",
    "                             rule(IS_WALKING_DISTANCE).interpretation(Distance_from_metro.Walking_Distance)\n",
    "                            ) #метро пешком\n",
    "                        ).interpretation(Distance_from_metro)"
   ]
  },
  {
   "cell_type": "code",
   "execution_count": 871,
   "metadata": {},
   "outputs": [
    {
     "data": {
      "text/html": [
       "<div class=\"tex2jax_ignore\" style=\"white-space: pre-wrap\">text1. ann1. Арбатская м. 1-комн. кв-ру, или м.Кропоткинская <span style=\"padding: 2px; border-radius: 4px; border: 1px solid #bbdefb; background: #e3f2fd\">7 мин/п</span>, Староконюшенный пер., д.30. 35/21 кв.м, кухня 10, 10/12 эт, блоч. дома, балкон, тел., хор. сост., с/у совм., окна в тихий сквер, освобождение сразу, продаю, 45 тыс.$. Торг Т 557-00-73 </div>"
      ],
      "text/plain": [
       "BoxMarkup('text1. ann1. Арбатская м. 1-комн. кв-ру, или м.Кропоткинская 7 мин/п, Староконюшенный пер., д.30. 35/21 кв.м, кухня 10, 10/12 эт, блоч. дома, балкон, тел., хор. сост., с/у совм., окна в тихий сквер, освобождение сразу, продаю, 45 тыс.$. Торг Т 557-00-73 ',\n",
       "          [Span(61, 68, None)])"
      ]
     },
     "metadata": {},
     "output_type": "display_data"
    },
    {
     "data": {
      "text/plain": [
       "Distance_from_metro(Walking_Distance='да',\n",
       "                    Time=7,\n",
       "                    Time_Unit='минута')"
      ]
     },
     "metadata": {},
     "output_type": "display_data"
    },
    {
     "data": {
      "text/html": [
       "<div class=\"tex2jax_ignore\" style=\"white-space: pre-wrap\">text2. ann2. Арбатская м. 1-комн. кв ру, <span style=\"padding: 2px; border-radius: 4px; border: 1px solid #bbdefb; background: #e3f2fd\">5 м/пеш.</span>, ул.Арбат дом 15/43; 53/20/13 кв.м, еврорем., 4/6-эт. кирп. дома, д/фон, евростиль, тел , кондиц., стоянка, с мебелью, охрана, свободна, хозяин, 130 тыс.$. Торг. Т.762-55-67, Сергей</div>"
      ],
      "text/plain": [
       "BoxMarkup('text2. ann2. Арбатская м. 1-комн. кв ру, 5 м/пеш., ул.Арбат дом 15/43; 53/20/13 кв.м, еврорем., 4/6-эт. кирп. дома, д/фон, евростиль, тел , кондиц., стоянка, с мебелью, охрана, свободна, хозяин, 130 тыс.$. Торг. Т.762-55-67, Сергей',\n",
       "          [Span(41, 49, None)])"
      ]
     },
     "metadata": {},
     "output_type": "display_data"
    },
    {
     "data": {
      "text/plain": [
       "Distance_from_metro(Walking_Distance='да',\n",
       "                    Time=5,\n",
       "                    Time_Unit='минута')"
      ]
     },
     "metadata": {},
     "output_type": "display_data"
    },
    {
     "data": {
      "text/html": [
       "<div class=\"tex2jax_ignore\" style=\"white-space: pre-wrap\">text3. ann3. Баррикадная м. 1-комн. кв-ру, ул.Б.Грузинская, д.14, 36/20.2 кв.м, кухня 8.3, 2/14-эт. кирп. дома, балкон, тел., консьержка, свободна, Т.962-30-63 </div>"
      ],
      "text/plain": [
       "BoxMarkup('text3. ann3. Баррикадная м. 1-комн. кв-ру, ул.Б.Грузинская, д.14, 36/20.2 кв.м, кухня 8.3, 2/14-эт. кирп. дома, балкон, тел., консьержка, свободна, Т.962-30-63 ',\n",
       "          [])"
      ]
     },
     "metadata": {},
     "output_type": "display_data"
    },
    {
     "data": {
      "text/html": [
       "<div class=\"tex2jax_ignore\" style=\"white-space: pre-wrap\">text4. ann4. Бауманская м. 1-комн. кв-ру, <span style=\"padding: 2px; border-radius: 4px; border: 1px solid #bbdefb; background: #e3f2fd\">5 мин/п.</span>, Аптекарский пер., д.3/22, 30/16.2 кв.м, кухня 8, вые. бельэтаж/8-эт, кирп. дома, тел., с/у совм. больш., хор. сост., хор. двор, тихо, свободную, 27 тыс.$. Т.737-76-67, раб., Т.265-23-31, дом., Аня </div>"
      ],
      "text/plain": [
       "BoxMarkup('text4. ann4. Бауманская м. 1-комн. кв-ру, 5 мин/п., Аптекарский пер., д.3/22, 30/16.2 кв.м, кухня 8, вые. бельэтаж/8-эт, кирп. дома, тел., с/у совм. больш., хор. сост., хор. двор, тихо, свободную, 27 тыс.$. Т.737-76-67, раб., Т.265-23-31, дом., Аня ',\n",
       "          [Span(42, 50, None)])"
      ]
     },
     "metadata": {},
     "output_type": "display_data"
    },
    {
     "data": {
      "text/plain": [
       "Distance_from_metro(Walking_Distance='да',\n",
       "                    Time=5,\n",
       "                    Time_Unit='минута')"
      ]
     },
     "metadata": {},
     "output_type": "display_data"
    },
    {
     "data": {
      "text/html": [
       "<div class=\"tex2jax_ignore\" style=\"white-space: pre-wrap\">text5. ann5. Бауманская м. 1-комн. кв-ру, <span style=\"padding: 2px; border-radius: 4px; border: 1px solid #bbdefb; background: #e3f2fd\">метро пешком</span>, 45/22 кв.м, кухня 10, лоджия 3, 8/8-эт. кирп. элит. дома новостройка, без отделки, без сантехники, с/у разд., Т.279-52-79, вечером, Татьяна </div>"
      ],
      "text/plain": [
       "BoxMarkup('text5. ann5. Бауманская м. 1-комн. кв-ру, метро пешком, 45/22 кв.м, кухня 10, лоджия 3, 8/8-эт. кирп. элит. дома новостройка, без отделки, без сантехники, с/у разд., Т.279-52-79, вечером, Татьяна ',\n",
       "          [Span(42, 54, None)])"
      ]
     },
     "metadata": {},
     "output_type": "display_data"
    },
    {
     "data": {
      "text/plain": [
       "Distance_from_metro(Walking_Distance='да',\n",
       "                    Time=None,\n",
       "                    Time_Unit=None)"
      ]
     },
     "metadata": {},
     "output_type": "display_data"
    },
    {
     "data": {
      "text/html": [
       "<div class=\"tex2jax_ignore\" style=\"white-space: pre-wrap\">text6. ann6. Бауманская м. 1-комн. кв-ру, <span style=\"padding: 2px; border-radius: 4px; border: 1px solid #bbdefb; background: #e3f2fd\">5 мин/п.</span>, Аптекарский, д.15, 33/22 кв.м, кухня 6, 3/9-эт. пан. дома, балкон, тел., с/у совм., окна в тихое место, код. замок, свободна, Т.405-50-68</div>"
      ],
      "text/plain": [
       "BoxMarkup('text6. ann6. Бауманская м. 1-комн. кв-ру, 5 мин/п., Аптекарский, д.15, 33/22 кв.м, кухня 6, 3/9-эт. пан. дома, балкон, тел., с/у совм., окна в тихое место, код. замок, свободна, Т.405-50-68',\n",
       "          [Span(42, 50, None)])"
      ]
     },
     "metadata": {},
     "output_type": "display_data"
    },
    {
     "data": {
      "text/plain": [
       "Distance_from_metro(Walking_Distance='да',\n",
       "                    Time=5,\n",
       "                    Time_Unit='минута')"
      ]
     },
     "metadata": {},
     "output_type": "display_data"
    },
    {
     "data": {
      "text/html": [
       "<div class=\"tex2jax_ignore\" style=\"white-space: pre-wrap\">text7. ann7. Бауманская м. 1-комн. кв-ру, <span style=\"padding: 2px; border-radius: 4px; border: 1px solid #bbdefb; background: #e3f2fd\">2 мин/п.</span>, ул.Спартаковская, д. 18; 36/20,5/10,5 кв.м, 9/12 пан., с/у совм., балкон застекл., тел., домофон, жел. дверь, паркет, доска, альтернатива подобрана, Т. 125-68-31</div>"
      ],
      "text/plain": [
       "BoxMarkup('text7. ann7. Бауманская м. 1-комн. кв-ру, 2 мин/п., ул.Спартаковская, д. 18; 36/20,5/10,5 кв.м, 9/12 пан., с/у совм., балкон застекл., тел., домофон, жел. дверь, паркет, доска, альтернатива подобрана, Т. 125-68-31',\n",
       "          [Span(42, 50, None)])"
      ]
     },
     "metadata": {},
     "output_type": "display_data"
    },
    {
     "data": {
      "text/plain": [
       "Distance_from_metro(Walking_Distance='да',\n",
       "                    Time=2,\n",
       "                    Time_Unit='минута')"
      ]
     },
     "metadata": {},
     "output_type": "display_data"
    },
    {
     "data": {
      "text/html": [
       "<div class=\"tex2jax_ignore\" style=\"white-space: pre-wrap\">text8. ann8. Бауманская м. 1-комн кв-ру, Госпитальный пер. д.8; <span style=\"padding: 2px; border-radius: 4px; border: 1px solid #bbdefb; background: #e3f2fd\">10 мин/п.</span>, 36/19.8 кв.м, кухня 9.8, 11/12-эт. блочн. дома, паркет, балкон, тел., с/у совм., свободна, 23 тыс.$. Т. 133-61-00 </div>"
      ],
      "text/plain": [
       "BoxMarkup('text8. ann8. Бауманская м. 1-комн кв-ру, Госпитальный пер. д.8; 10 мин/п., 36/19.8 кв.м, кухня 9.8, 11/12-эт. блочн. дома, паркет, балкон, тел., с/у совм., свободна, 23 тыс.$. Т. 133-61-00 ',\n",
       "          [Span(64, 73, None)])"
      ]
     },
     "metadata": {},
     "output_type": "display_data"
    },
    {
     "data": {
      "text/plain": [
       "Distance_from_metro(Walking_Distance='да',\n",
       "                    Time=10,\n",
       "                    Time_Unit='минута')"
      ]
     },
     "metadata": {},
     "output_type": "display_data"
    },
    {
     "data": {
      "text/html": [
       "<div class=\"tex2jax_ignore\" style=\"white-space: pre-wrap\">text9. ann9. Бауманская м. 1-комн. кв-ру, <span style=\"padding: 2px; border-radius: 4px; border: 1px solid #bbdefb; background: #e3f2fd\">5 м.п.</span>, ул.М.Почтовая, 10; 44/21 кв.м, кухня 13.5, 2/8-эт. элитн. кирп. дома, встр. оборуд., евростанд., с/у совм., имп. сантехника, застекл. лоджия, стеклопакеты, консьержка, 60 тыс.$. Т.189-65-88, Ирина</div>"
      ],
      "text/plain": [
       "BoxMarkup('text9. ann9. Бауманская м. 1-комн. кв-ру, 5 м.п., ул.М.Почтовая, 10; 44/21 кв.м, кухня 13.5, 2/8-эт. элитн. кирп. дома, встр. оборуд., евростанд., с/у совм., имп. сантехника, застекл. лоджия, стеклопакеты, консьержка, 60 тыс.$. Т.189-65-88, Ирина',\n",
       "          [Span(42, 48, None)])"
      ]
     },
     "metadata": {},
     "output_type": "display_data"
    },
    {
     "data": {
      "text/plain": [
       "Distance_from_metro(Walking_Distance='да',\n",
       "                    Time=5,\n",
       "                    Time_Unit='минута')"
      ]
     },
     "metadata": {},
     "output_type": "display_data"
    },
    {
     "data": {
      "text/html": [
       "<div class=\"tex2jax_ignore\" style=\"white-space: pre-wrap\">text10. ann10. Бауманская м. 1-комн. кв-ру, <span style=\"padding: 2px; border-radius: 4px; border: 1px solid #bbdefb; background: #e3f2fd\">5 мин/п.</span>, Токмаков пер., 28/16 кв.м, кух. 5.5, 6/7 кирп. дома, балкон, без тел., с/у совм., лифт, тихо, свободна, 17тыс.$. Т.978-92-94, Тамара Григорьевна, до 23.00 </div>"
      ],
      "text/plain": [
       "BoxMarkup('text10. ann10. Бауманская м. 1-комн. кв-ру, 5 мин/п., Токмаков пер., 28/16 кв.м, кух. 5.5, 6/7 кирп. дома, балкон, без тел., с/у совм., лифт, тихо, свободна, 17тыс.$. Т.978-92-94, Тамара Григорьевна, до 23.00 ',\n",
       "          [Span(44, 52, None)])"
      ]
     },
     "metadata": {},
     "output_type": "display_data"
    },
    {
     "data": {
      "text/plain": [
       "Distance_from_metro(Walking_Distance='да',\n",
       "                    Time=5,\n",
       "                    Time_Unit='минута')"
      ]
     },
     "metadata": {},
     "output_type": "display_data"
    },
    {
     "data": {
      "text/html": [
       "<div class=\"tex2jax_ignore\" style=\"white-space: pre-wrap\">text11. ann11. Бауманская м. 1-комн. кв-ру, <span style=\"padding: 2px; border-radius: 4px; border: 1px solid #bbdefb; background: #e3f2fd\">7 мин. пеш.</span>, ул. Б. Почтовая, д. 18/20, корп. 16, 34/15 кв.м. кухня 7,5/5-эт. кирп. дома, с/у разд., большой кор., тел., без балкона, хор. сост., свободна, 23.5 тыс.$. Т.218-59-90</div>"
      ],
      "text/plain": [
       "BoxMarkup('text11. ann11. Бауманская м. 1-комн. кв-ру, 7 мин. пеш., ул. Б. Почтовая, д. 18/20, корп. 16, 34/15 кв.м. кухня 7,5/5-эт. кирп. дома, с/у разд., большой кор., тел., без балкона, хор. сост., свободна, 23.5 тыс.$. Т.218-59-90',\n",
       "          [Span(44, 55, None)])"
      ]
     },
     "metadata": {},
     "output_type": "display_data"
    },
    {
     "data": {
      "text/plain": [
       "Distance_from_metro(Walking_Distance='да',\n",
       "                    Time=7,\n",
       "                    Time_Unit='минута')"
      ]
     },
     "metadata": {},
     "output_type": "display_data"
    },
    {
     "data": {
      "text/html": [
       "<div class=\"tex2jax_ignore\" style=\"white-space: pre-wrap\">text12. ann12. Бауманская м. 1-комн. кв-ру, <span style=\"padding: 2px; border-radius: 4px; border: 1px solid #bbdefb; background: #e3f2fd\">5 м.п.</span>, Плетешковский пер., 18/20; 35/20 кв.м, кухня 10,3/12 эт. пан. дома, лифт, паркет, с/у совм., тел., во двор, подъезд норм., заст. балкон, 28 тыс. у.е., торг. Т.322-70-36</div>"
      ],
      "text/plain": [
       "BoxMarkup('text12. ann12. Бауманская м. 1-комн. кв-ру, 5 м.п., Плетешковский пер., 18/20; 35/20 кв.м, кухня 10,3/12 эт. пан. дома, лифт, паркет, с/у совм., тел., во двор, подъезд норм., заст. балкон, 28 тыс. у.е., торг. Т.322-70-36',\n",
       "          [Span(44, 50, None)])"
      ]
     },
     "metadata": {},
     "output_type": "display_data"
    },
    {
     "data": {
      "text/plain": [
       "Distance_from_metro(Walking_Distance='да',\n",
       "                    Time=5,\n",
       "                    Time_Unit='минута')"
      ]
     },
     "metadata": {},
     "output_type": "display_data"
    },
    {
     "data": {
      "text/html": [
       "<div class=\"tex2jax_ignore\" style=\"white-space: pre-wrap\">text13. ann13. Бауманская м. 1-комн. кв-ру, <span style=\"padding: 2px; border-radius: 4px; border: 1px solid #bbdefb; background: #e3f2fd\">10 мин.п-</span>.ул.Волочаевская, д.2, корп.1; 31/15 кв.м, кухня 8, 11/12 эт.пан.дома 90 г.постр., домофон, консьерж, рядом парк, тел., м/провод, в хор.сост , 23 тыс.$. Т.361-47-62</div>"
      ],
      "text/plain": [
       "BoxMarkup('text13. ann13. Бауманская м. 1-комн. кв-ру, 10 мин.п-.ул.Волочаевская, д.2, корп.1; 31/15 кв.м, кухня 8, 11/12 эт.пан.дома 90 г.постр., домофон, консьерж, рядом парк, тел., м/провод, в хор.сост , 23 тыс.$. Т.361-47-62',\n",
       "          [Span(44, 53, None)])"
      ]
     },
     "metadata": {},
     "output_type": "display_data"
    },
    {
     "data": {
      "text/plain": [
       "Distance_from_metro(Walking_Distance='да',\n",
       "                    Time=10,\n",
       "                    Time_Unit='минута')"
      ]
     },
     "metadata": {},
     "output_type": "display_data"
    },
    {
     "data": {
      "text/html": [
       "<div class=\"tex2jax_ignore\" style=\"white-space: pre-wrap\">text14. ann14. Бауманская м. 1-комн. кв-ру, <span style=\"padding: 2px; border-radius: 4px; border: 1px solid #bbdefb; background: #e3f2fd\">10 мин.пеш.</span>, Денисовский пер., д.7; 33.6/18.6 кв.м, кухня 6, 5/5-эт. кирп. дома, с/у совм., балкон, код, тел., 21 тыс.$, Т.966-54-29, Ирина Викторовна</div>"
      ],
      "text/plain": [
       "BoxMarkup('text14. ann14. Бауманская м. 1-комн. кв-ру, 10 мин.пеш., Денисовский пер., д.7; 33.6/18.6 кв.м, кухня 6, 5/5-эт. кирп. дома, с/у совм., балкон, код, тел., 21 тыс.$, Т.966-54-29, Ирина Викторовна',\n",
       "          [Span(44, 55, None)])"
      ]
     },
     "metadata": {},
     "output_type": "display_data"
    },
    {
     "data": {
      "text/plain": [
       "Distance_from_metro(Walking_Distance='да',\n",
       "                    Time=10,\n",
       "                    Time_Unit='минута')"
      ]
     },
     "metadata": {},
     "output_type": "display_data"
    },
    {
     "data": {
      "text/html": [
       "<div class=\"tex2jax_ignore\" style=\"white-space: pre-wrap\">text15. ann15. •БАУМАНСКАЯ м. 1-комн. кв-ру, <span style=\"padding: 2px; border-radius: 4px; border: 1px solid #bbdefb; background: #e3f2fd\">3 м.п.</span>, Волховский пер., д.2, 9-126., 34.4/19.3/10, без балк., без тел., парк. доска, окна-двор, чистый подъезд, код.зам., приват., альт-ва. 24.000$. Лиц-N 000676/РП(006). Т.203-12-31, Т.737-00-93 с 9 до 20</div>"
      ],
      "text/plain": [
       "BoxMarkup('text15. ann15. •БАУМАНСКАЯ м. 1-комн. кв-ру, 3 м.п., Волховский пер., д.2, 9-126., 34.4/19.3/10, без балк., без тел., парк. доска, окна-двор, чистый подъезд, код.зам., приват., альт-ва. 24.000$. Лиц-N 000676/РП(006). Т.203-12-31, Т.737-00-93 с 9 до 20',\n",
       "          [Span(45, 51, None)])"
      ]
     },
     "metadata": {},
     "output_type": "display_data"
    },
    {
     "data": {
      "text/plain": [
       "Distance_from_metro(Walking_Distance='да',\n",
       "                    Time=3,\n",
       "                    Time_Unit='минута')"
      ]
     },
     "metadata": {},
     "output_type": "display_data"
    },
    {
     "data": {
      "text/html": [
       "<div class=\"tex2jax_ignore\" style=\"white-space: pre-wrap\">text16. ann16. •БАУМАНСКАЯ М. 1-комн. кв-ра, Волочаевская ул. дом 2 корп 1, 34/14,4/кух. 8,5, 12/12 пан.+тех.этаж, <span style=\"padding: 2px; border-radius: 4px; border: 1px solid #bbdefb; background: #e3f2fd\">15 м.п.</span>, телефон, лоджия, окна - двор, сделан качественный ремонт, кондиционеры, жалюзи, домофон, консьержка, жел. дверь, чистая продажа, 27 500 дол. Т.924-59-92, Т.925-10-83 с 9 до 19</div>"
      ],
      "text/plain": [
       "BoxMarkup('text16. ann16. •БАУМАНСКАЯ М. 1-комн. кв-ра, Волочаевская ул. дом 2 корп 1, 34/14,4/кух. 8,5, 12/12 пан.+тех.этаж, 15 м.п., телефон, лоджия, окна - двор, сделан качественный ремонт, кондиционеры, жалюзи, домофон, консьержка, жел. дверь, чистая продажа, 27 500 дол. Т.924-59-92, Т.925-10-83 с 9 до 19',\n",
       "          [Span(115, 122, None)])"
      ]
     },
     "metadata": {},
     "output_type": "display_data"
    },
    {
     "data": {
      "text/plain": [
       "Distance_from_metro(Walking_Distance='да',\n",
       "                    Time=15,\n",
       "                    Time_Unit='минута')"
      ]
     },
     "metadata": {},
     "output_type": "display_data"
    },
    {
     "data": {
      "text/html": [
       "<div class=\"tex2jax_ignore\" style=\"white-space: pre-wrap\">text17. ann17. Белорусская м. 1-комн. кв-ру, <span style=\"padding: 2px; border-radius: 4px; border: 1px solid #bbdefb; background: #e3f2fd\">5 мин/п.</span>, ул.Нижняя, д. 5, 31,3/13,4 кв.м, кухня 9,2, 3/5-эт. кирп. дома, лифт, тел., с/у совм., пот. 3.5, газ. колонка, линолеум, окна на улицу, альтернатива, 25 тыс.$. Т.318-94-49 </div>"
      ],
      "text/plain": [
       "BoxMarkup('text17. ann17. Белорусская м. 1-комн. кв-ру, 5 мин/п., ул.Нижняя, д. 5, 31,3/13,4 кв.м, кухня 9,2, 3/5-эт. кирп. дома, лифт, тел., с/у совм., пот. 3.5, газ. колонка, линолеум, окна на улицу, альтернатива, 25 тыс.$. Т.318-94-49 ',\n",
       "          [Span(45, 53, None)])"
      ]
     },
     "metadata": {},
     "output_type": "display_data"
    },
    {
     "data": {
      "text/plain": [
       "Distance_from_metro(Walking_Distance='да',\n",
       "                    Time=5,\n",
       "                    Time_Unit='минута')"
      ]
     },
     "metadata": {},
     "output_type": "display_data"
    },
    {
     "data": {
      "text/html": [
       "<div class=\"tex2jax_ignore\" style=\"white-space: pre-wrap\">text18. ann18. Белорусская м. 1-комн. кв-ру, ул.Верхняя, д.6;43/20 кв.м, кухня 13,2/14-эт.кирп. дома ЖСК, тел., лоджия 6 заст., с/у совм., паркет, темная комната 2.7, домоф., мет .дверь, консьерж., окна во двор, 41.5 тыс.$, торг. Т.405-85-64 </div>"
      ],
      "text/plain": [
       "BoxMarkup('text18. ann18. Белорусская м. 1-комн. кв-ру, ул.Верхняя, д.6;43/20 кв.м, кухня 13,2/14-эт.кирп. дома ЖСК, тел., лоджия 6 заст., с/у совм., паркет, темная комната 2.7, домоф., мет .дверь, консьерж., окна во двор, 41.5 тыс.$, торг. Т.405-85-64 ',\n",
       "          [])"
      ]
     },
     "metadata": {},
     "output_type": "display_data"
    },
    {
     "data": {
      "text/html": [
       "<div class=\"tex2jax_ignore\" style=\"white-space: pre-wrap\">text19. ann19. Белорусская м. 1-комн. кв-ру, ул. Бутырский вал, д. 34, <span style=\"padding: 2px; border-radius: 4px; border: 1px solid #bbdefb; background: #e3f2fd\">10 м/п</span>; 36/20 кв.м, к. 10, 12/12-пан. дома, с/у совм., окна двор, тел., балкон, хор. сост., домофон, свободна, 28 тыс.$. Торг. Т.299-96-51</div>"
      ],
      "text/plain": [
       "BoxMarkup('text19. ann19. Белорусская м. 1-комн. кв-ру, ул. Бутырский вал, д. 34, 10 м/п; 36/20 кв.м, к. 10, 12/12-пан. дома, с/у совм., окна двор, тел., балкон, хор. сост., домофон, свободна, 28 тыс.$. Торг. Т.299-96-51',\n",
       "          [Span(71, 77, None)])"
      ]
     },
     "metadata": {},
     "output_type": "display_data"
    },
    {
     "data": {
      "text/plain": [
       "Distance_from_metro(Walking_Distance='да',\n",
       "                    Time=10,\n",
       "                    Time_Unit='минута')"
      ]
     },
     "metadata": {},
     "output_type": "display_data"
    },
    {
     "data": {
      "text/html": [
       "<div class=\"tex2jax_ignore\" style=\"white-space: pre-wrap\">text20. ann20. Белорусская м. 1-комн. кв-ру, <span style=\"padding: 2px; border-radius: 4px; border: 1px solid #bbdefb; background: #e3f2fd\">6 мин.п.</span>, Б.Тишинский пер., 22/15 кв.м, 2/6 эт. кирп, дома, паркет, пот.3.15, домофон, тихо, 18 тыс.$, торг, без посредников. Альтернатива. Т.253-30-92, вечером</div>"
      ],
      "text/plain": [
       "BoxMarkup('text20. ann20. Белорусская м. 1-комн. кв-ру, 6 мин.п., Б.Тишинский пер., 22/15 кв.м, 2/6 эт. кирп, дома, паркет, пот.3.15, домофон, тихо, 18 тыс.$, торг, без посредников. Альтернатива. Т.253-30-92, вечером',\n",
       "          [Span(45, 53, None)])"
      ]
     },
     "metadata": {},
     "output_type": "display_data"
    },
    {
     "data": {
      "text/plain": [
       "Distance_from_metro(Walking_Distance='да',\n",
       "                    Time=6,\n",
       "                    Time_Unit='минута')"
      ]
     },
     "metadata": {},
     "output_type": "display_data"
    }
   ],
   "source": [
    "show_matches(DISTANCE_FROM_METRO, *flats_list)"
   ]
  },
  {
   "cell_type": "code",
   "execution_count": 872,
   "metadata": {},
   "outputs": [
    {
     "data": {
      "text/html": [
       "<div class=\"tex2jax_ignore\" style=\"white-space: pre-wrap\"><span style=\"padding: 2px; border-radius: 4px; border: 1px solid #bbdefb; background: #e3f2fd\">8 минут пешком</span></div>"
      ],
      "text/plain": [
       "BoxMarkup('8 минут пешком', [Span(0, 14, None)])"
      ]
     },
     "metadata": {},
     "output_type": "display_data"
    },
    {
     "data": {
      "text/plain": [
       "Distance_from_metro(Walking_Distance='да',\n",
       "                    Time=8,\n",
       "                    Time_Unit='минута')"
      ]
     },
     "metadata": {},
     "output_type": "display_data"
    },
    {
     "data": {
      "text/html": [
       "<div class=\"tex2jax_ignore\" style=\"white-space: pre-wrap\"><span style=\"padding: 2px; border-radius: 4px; border: 1px solid #bbdefb; background: #e3f2fd\">8 мин. пешком</span></div>"
      ],
      "text/plain": [
       "BoxMarkup('8 мин. пешком', [Span(0, 13, None)])"
      ]
     },
     "metadata": {},
     "output_type": "display_data"
    },
    {
     "data": {
      "text/plain": [
       "Distance_from_metro(Walking_Distance='да',\n",
       "                    Time=8,\n",
       "                    Time_Unit='минута')"
      ]
     },
     "metadata": {},
     "output_type": "display_data"
    },
    {
     "data": {
      "text/html": [
       "<div class=\"tex2jax_ignore\" style=\"white-space: pre-wrap\"><span style=\"padding: 2px; border-radius: 4px; border: 1px solid #bbdefb; background: #e3f2fd\">2 часа пешком</span></div>"
      ],
      "text/plain": [
       "BoxMarkup('2 часа пешком', [Span(0, 13, None)])"
      ]
     },
     "metadata": {},
     "output_type": "display_data"
    },
    {
     "data": {
      "text/plain": [
       "Distance_from_metro(Walking_Distance='да',\n",
       "                    Time=2,\n",
       "                    Time_Unit='час')"
      ]
     },
     "metadata": {},
     "output_type": "display_data"
    },
    {
     "data": {
      "text/html": [
       "<div class=\"tex2jax_ignore\" style=\"white-space: pre-wrap\"><span style=\"padding: 2px; border-radius: 4px; border: 1px solid #bbdefb; background: #e3f2fd\">7 мин/п</span></div>"
      ],
      "text/plain": [
       "BoxMarkup('7 мин/п', [Span(0, 7, None)])"
      ]
     },
     "metadata": {},
     "output_type": "display_data"
    },
    {
     "data": {
      "text/plain": [
       "Distance_from_metro(Walking_Distance='да',\n",
       "                    Time=7,\n",
       "                    Time_Unit='минута')"
      ]
     },
     "metadata": {},
     "output_type": "display_data"
    },
    {
     "data": {
      "text/html": [
       "<div class=\"tex2jax_ignore\" style=\"white-space: pre-wrap\"><span style=\"padding: 2px; border-radius: 4px; border: 1px solid #bbdefb; background: #e3f2fd\">5 м/пеш.</span></div>"
      ],
      "text/plain": [
       "BoxMarkup('5 м/пеш.', [Span(0, 8, None)])"
      ]
     },
     "metadata": {},
     "output_type": "display_data"
    },
    {
     "data": {
      "text/plain": [
       "Distance_from_metro(Walking_Distance='да',\n",
       "                    Time=5,\n",
       "                    Time_Unit='минута')"
      ]
     },
     "metadata": {},
     "output_type": "display_data"
    },
    {
     "data": {
      "text/html": [
       "<div class=\"tex2jax_ignore\" style=\"white-space: pre-wrap\"><span style=\"padding: 2px; border-radius: 4px; border: 1px solid #bbdefb; background: #e3f2fd\">метро пешком</span></div>"
      ],
      "text/plain": [
       "BoxMarkup('метро пешком', [Span(0, 12, None)])"
      ]
     },
     "metadata": {},
     "output_type": "display_data"
    },
    {
     "data": {
      "text/plain": [
       "Distance_from_metro(Walking_Distance='да',\n",
       "                    Time=None,\n",
       "                    Time_Unit=None)"
      ]
     },
     "metadata": {},
     "output_type": "display_data"
    },
    {
     "data": {
      "text/html": [
       "<div class=\"tex2jax_ignore\" style=\"white-space: pre-wrap\"><span style=\"padding: 2px; border-radius: 4px; border: 1px solid #bbdefb; background: #e3f2fd\">5 м.п.</span></div>"
      ],
      "text/plain": [
       "BoxMarkup('5 м.п.', [Span(0, 6, None)])"
      ]
     },
     "metadata": {},
     "output_type": "display_data"
    },
    {
     "data": {
      "text/plain": [
       "Distance_from_metro(Walking_Distance='да',\n",
       "                    Time=5,\n",
       "                    Time_Unit='минута')"
      ]
     },
     "metadata": {},
     "output_type": "display_data"
    },
    {
     "data": {
      "text/html": [
       "<div class=\"tex2jax_ignore\" style=\"white-space: pre-wrap\"><span style=\"padding: 2px; border-radius: 4px; border: 1px solid #bbdefb; background: #e3f2fd\">7 мин. пеш.</span></div>"
      ],
      "text/plain": [
       "BoxMarkup('7 мин. пеш.', [Span(0, 11, None)])"
      ]
     },
     "metadata": {},
     "output_type": "display_data"
    },
    {
     "data": {
      "text/plain": [
       "Distance_from_metro(Walking_Distance='да',\n",
       "                    Time=7,\n",
       "                    Time_Unit='минута')"
      ]
     },
     "metadata": {},
     "output_type": "display_data"
    },
    {
     "data": {
      "text/html": [
       "<div class=\"tex2jax_ignore\" style=\"white-space: pre-wrap\"><span style=\"padding: 2px; border-radius: 4px; border: 1px solid #bbdefb; background: #e3f2fd\">10 мин.п</span></div>"
      ],
      "text/plain": [
       "BoxMarkup('10 мин.п', [Span(0, 8, None)])"
      ]
     },
     "metadata": {},
     "output_type": "display_data"
    },
    {
     "data": {
      "text/plain": [
       "Distance_from_metro(Walking_Distance='да',\n",
       "                    Time=10,\n",
       "                    Time_Unit='минута')"
      ]
     },
     "metadata": {},
     "output_type": "display_data"
    },
    {
     "data": {
      "text/html": [
       "<div class=\"tex2jax_ignore\" style=\"white-space: pre-wrap\"><span style=\"padding: 2px; border-radius: 4px; border: 1px solid #bbdefb; background: #e3f2fd\">5 минут на общественном транспорте</span></div>"
      ],
      "text/plain": [
       "BoxMarkup('5 минут на общественном транспорте', [Span(0, 34, None)])"
      ]
     },
     "metadata": {},
     "output_type": "display_data"
    },
    {
     "data": {
      "text/plain": [
       "Distance_from_metro(Walking_Distance='нет',\n",
       "                    Time=5,\n",
       "                    Time_Unit='минута')"
      ]
     },
     "metadata": {},
     "output_type": "display_data"
    }
   ],
   "source": [
    "show_matches(DISTANCE_FROM_METRO, \n",
    "             '8 минут пешком',\n",
    "             '8 мин. пешком',\n",
    "             '2 часа пешком',\n",
    "             '7 мин/п',\n",
    "             '5 м/пеш.',\n",
    "             'метро пешком',\n",
    "             '5 м.п.',\n",
    "             '7 мин. пеш.',\n",
    "             '10 мин.п',\n",
    "             '5 минут на общественном транспорте', \n",
    "            )"
   ]
  },
  {
   "cell_type": "markdown",
   "metadata": {},
   "source": [
    "### Попытка самостоятельно (без готовой библиотеки) извлечь адреса"
   ]
  },
  {
   "cell_type": "markdown",
   "metadata": {},
   "source": [
    "#### Загрузим список улиц российских городов. \n",
    "Список исходно взят [отсюда]('https://raw.githubusercontent.com/AMDmi3/streetmangler/master/data/ru/main.txt').\n",
    "\n",
    "Для наших учебных этот список очень широкий. Чтобы код работал быстрее (под конкретные \"московские\" объявления), я его в ячейках ниже буду сокращать.\n",
    "Мне кажется, часть работы со списком в данном коде можно было бы оптимизировать (слишком много ячеек с кодом про него я написала), \n",
    "но поскольку нет времени сейчас, я оставлю так - оптимизирую позже."
   ]
  },
  {
   "cell_type": "code",
   "execution_count": 329,
   "metadata": {},
   "outputs": [
    {
     "data": {
      "text/plain": [
       "'streets.txt'"
      ]
     },
     "execution_count": 329,
     "metadata": {},
     "output_type": "execute_result"
    }
   ],
   "source": [
    "wget.download('https://github.com/ChernayaAnastasia/Python-Course_HSE/blob/master/Yargy parser/streets.txt')"
   ]
  },
  {
   "cell_type": "code",
   "execution_count": 790,
   "metadata": {},
   "outputs": [],
   "source": [
    "streets = open('streets.txt', encoding = 'utf-8').readlines()"
   ]
  },
  {
   "cell_type": "code",
   "execution_count": 753,
   "metadata": {},
   "outputs": [
    {
     "data": {
      "text/plain": [
       "42845"
      ]
     },
     "execution_count": 753,
     "metadata": {},
     "output_type": "execute_result"
    }
   ],
   "source": [
    "len(streets)"
   ]
  },
  {
   "cell_type": "code",
   "execution_count": 718,
   "metadata": {},
   "outputs": [
    {
     "data": {
      "text/plain": [
       "['# vim: tabstop=29 expandtab softtabstop=29 syntax=conf\\n',\n",
       " '# Основной список (потенциально всех) русских названий улиц\\n',\n",
       " '# ========================================================================\\n',\n",
       " '# Для удобства:\\n',\n",
       " '# - Не удаляйте заголовок\\n',\n",
       " '# - Поддерживайте сортировку списка (см. скрипт sort.sh)\\n',\n",
       " '# - Добавляйте комментарии к неочевидным названиям (Ангелов переулок,\\n',\n",
       " '#   Усачёва улица) и проблемам с е/ё; в комментарии указывайте регион,\\n',\n",
       " '#   где название встречается и, если возможно, ссылки на информацию\\n',\n",
       " '#   почему название именно такое\\n',\n",
       " '# - Комментарии начинаются с # <- 30-й позиции в строке\\n',\n",
       " '# - Возможные ошибки, которые надо расследовать и исправить, отмечаются\\n',\n",
       " '#   XXX или FIXME\\n',\n",
       " '# - Для названий, проверенных по внешним источникам, добавляйте тэги\\n',\n",
       " '#   в комментариях. При изменении, соответственно, тэг следует убрать.\\n',\n",
       " '#   На данный момент:\\n',\n",
       " '#     [ОМКУМ] - классификатор улиц Москвы\\n',\n",
       " '#     Реестр названий объектов городской среды Правительства Санкт-Петербурга\\n',\n",
       " '#     [СПБ3]  - таблица 3 (названия проездов)\\n',\n",
       " '#     [СПБ4]  - таблица 4 (названия проездов)\\n',\n",
       " '# ========================================================================\\n',\n",
       " '# Общие непонятки:\\n',\n",
       " '# - 1-я улица Ельцовка/улица 1-я Ельцовка (скорее всего, второе)\\n',\n",
       " '# - Все Ново-Какойтовские улицы вероятно должны быть Новокакойтовскими\\n',\n",
       " '#   (аналогично с другими приставками)\\n',\n",
       " '0-я линия\\n',\n",
       " '0-я улица\\n',\n",
       " '1-е Корытовское шоссе\\n',\n",
       " '1-е Успенское шоссе\\n',\n",
       " '1-й Авдотьинский переулок\\n',\n",
       " '1-й Авиационный проезд\\n',\n",
       " '1-й Автодромный переулок\\n',\n",
       " '1-й Автозаводский проезд\\n',\n",
       " '1-й Автомобильный проезд\\n',\n",
       " '1-й Автосборочный переулок\\n',\n",
       " '1-й Аграрный переулок\\n',\n",
       " '1-й Агрегатный переулок\\n',\n",
       " '1-й Агрономический переулок\\n',\n",
       " '1-й Адагумский переулок      # Крымск\\n',\n",
       " '1-й Адыгейский переулок\\n',\n",
       " '1-й Азовский проезд\\n',\n",
       " '1-й Академический переулок\\n',\n",
       " '1-й Академический проезд\\n',\n",
       " '1-й Акмолинский проезд\\n',\n",
       " '1-й Активный проезд          # Пенза\\n',\n",
       " '1-й Акуловский проезд\\n',\n",
       " '1-й Александровский проезд\\n',\n",
       " '1-й Алеутский переулок\\n',\n",
       " '1-й Аллейный проезд\\n',\n",
       " '1-й Алмазный переулок\\n',\n",
       " '1-й Алтайский переулок\\n',\n",
       " '1-й Алтуховский переулок\\n',\n",
       " '1-й Амбулаторный проезд\\n',\n",
       " '1-й Амурский переулок\\n',\n",
       " '1-й Амурский проезд\\n',\n",
       " '1-й Амурский тупик\\n',\n",
       " '1-й Ангарский проезд\\n',\n",
       " '1-й Андреевский переулок\\n',\n",
       " '1-й Андреевский проезд\\n',\n",
       " '1-й Аникинский переулок\\n',\n",
       " '1-й Апельсиновый тупик\\n',\n",
       " '1-й Аптечный проезд\\n',\n",
       " '1-й Апшеронский проезд       # Краснодар\\n',\n",
       " '1-й Артезианский проезд\\n',\n",
       " '1-й Артельный переулок\\n',\n",
       " '1-й Артельный проезд\\n',\n",
       " '1-й Артиллерийский переулок\\n',\n",
       " '1-й Архангельский переулок\\n',\n",
       " '1-й Архангельский проезд\\n',\n",
       " '1-й Архивный переулок\\n',\n",
       " '1-й Аршанский переулок       # Астрахань\\n',\n",
       " '1-й Асеевский переулок\\n',\n",
       " '1-й Астровый тупик\\n',\n",
       " '1-й Аткарский проезд\\n',\n",
       " '1-й Атмосферный переулок\\n',\n",
       " '1-й Аэродромный переулок\\n',\n",
       " '1-й Аэрофлотский переулок\\n',\n",
       " '1-й Бабьегородский переулок\\n',\n",
       " '1-й Бадаевский проезд        # [СПБ4]\\n',\n",
       " '1-й Базарный проезд\\n',\n",
       " '1-й Базовый проезд\\n',\n",
       " '1-й Байкальский переулок\\n',\n",
       " '1-й Бакунинский переулок\\n',\n",
       " '1-й Балашовский переулок\\n',\n",
       " '1-й Балинский переулок\\n',\n",
       " '1-й Балинский проезд\\n',\n",
       " '1-й Балластный переулок\\n',\n",
       " '1-й Балтийский переулок\\n',\n",
       " '1-й Банный переулок\\n',\n",
       " '1-й Барьерный переулок\\n',\n",
       " '1-й Басманный переулок\\n',\n",
       " '1-й Батайский проезд         # Пенза\\n',\n",
       " '1-й Бауманский переулок\\n',\n",
       " '1-й Бахмачеевский проезд\\n',\n",
       " '1-й Башенный переулок\\n',\n",
       " '1-й Беговой переулок\\n',\n",
       " '1-й Безымянный переулок\\n',\n",
       " '1-й Белогорский переулок\\n',\n",
       " '1-й Белозерский проезд       # см. также Белозёрский\\n',\n",
       " '1-й Белозёрский проезд       # см. также Белозерский\\n',\n",
       " '1-й Белокаменный проезд\\n',\n",
       " '1-й Беломорский переулок\\n',\n",
       " '1-й Белорецкий переулок\\n',\n",
       " '1-й Белоусовский переулок\\n',\n",
       " '1-й Белоярский переулок\\n',\n",
       " '1-й Бельский проезд\\n',\n",
       " '1-й Беляницкий переулок\\n',\n",
       " '1-й Береговой переулок\\n',\n",
       " '1-й Береговой проезд\\n',\n",
       " '1-й Березинский переулок\\n',\n",
       " '1-й Березовский переулок\\n',\n",
       " '1-й Берендяковский переулок\\n',\n",
       " '1-й Берёзовый переулок\\n',\n",
       " '1-й Берёзовый проезд\\n',\n",
       " '1-й Берёзовый просек\\n',\n",
       " '1-й Бийский переулок\\n',\n",
       " '1-й Биржевой проезд\\n',\n",
       " '1-й Бирюзовый переулок\\n',\n",
       " '1-й Благоварский переулок\\n',\n",
       " '1-й Благодатный переулок\\n',\n",
       " '1-й Благодатный проезд\\n',\n",
       " '1-й Блочный переулок\\n',\n",
       " '1-й Богородский проезд\\n',\n",
       " '1-й Богучарский переулок\\n',\n",
       " '1-й Бодайбинский переулок    # Кемерово\\n',\n",
       " '1-й Бойный переулок\\n',\n",
       " '1-й Болотный переулок\\n',\n",
       " '1-й Больничный переулок\\n',\n",
       " '1-й Больничный проезд\\n',\n",
       " '1-й Большой Московский проезд\\n',\n",
       " '1-й Большой Поливановский проезд\\n',\n",
       " '1-й Большой переулок\\n',\n",
       " '1-й Борковский переулок      # Андреаполь\\n',\n",
       " '1-й Боровой переулок\\n',\n",
       " '1-й Ботанический переулок\\n',\n",
       " '1-й Ботанический проезд\\n',\n",
       " '1-й Боткинский проезд\\n',\n",
       " '1-й Боцманский переулок\\n',\n",
       " '1-й Брагинский переулок\\n',\n",
       " '1-й Брагинский проезд\\n',\n",
       " '1-й Братский переулок\\n',\n",
       " '1-й Брейтовский переулок     # Ярославль\\n',\n",
       " '1-й Брестский переулок\\n',\n",
       " '1-й Бронницкий переулок\\n',\n",
       " '1-й Бронный переулок\\n',\n",
       " '1-й Брусничный переулок\\n',\n",
       " '1-й Брянский переулок\\n',\n",
       " '1-й Брянский тупик\\n',\n",
       " '1-й Буковый переулок\\n',\n",
       " '1-й Булатовский переулок\\n',\n",
       " '1-й Бульварный переулок\\n',\n",
       " '1-й Буньковский переулок\\n',\n",
       " '1-й Бурцевский переулок\\n',\n",
       " '1-й Бутырский переулок\\n',\n",
       " '1-й Бухарский проезд         # Пенза\\n',\n",
       " '1-й Былинный переулок\\n',\n",
       " '1-й Бытовой переулок\\n',\n",
       " '1-й Бытовой проезд\\n',\n",
       " '1-й Вагонный переулок\\n',\n",
       " '1-й Вагонный проезд\\n',\n",
       " '1-й Вакуровский проезд\\n',\n",
       " '1-й Варшавский проезд\\n',\n",
       " '1-й Варяжский переулок\\n',\n",
       " '1-й Васильевский переулок    # Белгород\\n',\n",
       " '1-й Ведомственный проезд\\n',\n",
       " '1-й Веерный переулок\\n',\n",
       " '1-й Везельский переулок\\n',\n",
       " '1-й Велижский переулок       # Смоленск\\n',\n",
       " '1-й Вертковский переулок\\n',\n",
       " '1-й Верхне-Профинтерновский переулок\\n',\n",
       " '1-й Верхний Михайловский проезд\\n',\n",
       " '1-й Верхний Первоцветный проезд # Саратов\\n',\n",
       " '1-й Верхний Просветительский проезд # Саратов\\n',\n",
       " '1-й Верхний Черешневый проезд # Саратов\\n',\n",
       " '1-й Верхний переулок         # [СПБ3]\\n',\n",
       " '1-й Верхний проезд\\n',\n",
       " '1-й Верхоянский переулок\\n',\n",
       " '1-й Весенний переулок\\n',\n",
       " '1-й Весенний проезд\\n',\n",
       " '1-й Веськовский проезд\\n',\n",
       " '1-й Ветеринарный переулок\\n',\n",
       " '1-й Вешний тупик\\n',\n",
       " '1-й Вешняковский проезд\\n',\n",
       " '1-й Вилюйский проезд\\n',\n",
       " '1-й Винновский переулок      # Ульяновск\\n',\n",
       " '1-й Владимирский переулок\\n',\n",
       " '1-й Владимирский проезд\\n',\n",
       " '1-й Внутренний тупик\\n',\n",
       " '1-й Водяной переулок\\n',\n",
       " '1-й Воздвиженский переулок\\n',\n",
       " '1-й Войковский проезд\\n',\n",
       " '1-й Вокзальный переулок\\n',\n",
       " '1-й Вокзальный проезд\\n',\n",
       " '1-й Вокзальный тупик\\n',\n",
       " '1-й Волгоградский переулок\\n',\n",
       " '1-й Волгоградский проезд\\n',\n",
       " '1-й Волжский переулок\\n',\n",
       " '1-й Волжский проезд\\n',\n",
       " '1-й Волконский переулок\\n',\n",
       " '1-й Вологодский проезд\\n',\n",
       " '1-й Володарский переулок\\n',\n",
       " '1-й Володин переулок\\n',\n",
       " '1-й Волоколамский проезд\\n',\n",
       " '1-й Волочаевский переулок\\n',\n",
       " '1-й Вольный переулок\\n',\n",
       " '1-й Вольский проезд\\n',\n",
       " '1-й Воркутинский переулок\\n',\n",
       " '1-й Воронежский проезд\\n',\n",
       " '1-й Ворошиловский переулок\\n',\n",
       " '1-й Восточный переулок\\n',\n",
       " '1-й Восточный проезд\\n',\n",
       " '1-й Восточный спуск\\n',\n",
       " '1-й Вражский переулок\\n',\n",
       " '1-й Вырыпаевский переулок    # Ульяновск\\n',\n",
       " '1-й Высокий проезд\\n',\n",
       " '1-й Высоковольтный переулок\\n',\n",
       " '1-й Высотный проезд\\n',\n",
       " '1-й Вышеславцев переулок     # Москва, http://ru.wikipedia.org/wiki/Первый_Вышеславцев_переулок\\n',\n",
       " '1-й Вяземский переулок\\n',\n",
       " '1-й Вязовский проезд\\n',\n",
       " '1-й Газетный переулок\\n',\n",
       " '1-й Газовый переулок\\n',\n",
       " '1-й Газовый проезд\\n',\n",
       " '1-й Газонный переулок\\n',\n",
       " '1-й Галев проезд\\n',\n",
       " '1-й Гаражный проезд\\n',\n",
       " '1-й Гвардейский переулок\\n',\n",
       " '1-й Гвоздильный проезд\\n',\n",
       " '1-й Геологический проезд\\n',\n",
       " '1-й Георгиевский переулок\\n',\n",
       " '1-й Георгиевский проезд\\n',\n",
       " '1-й Глазурный переулок\\n',\n",
       " '1-й Глебучев проезд          # Саратов\\n',\n",
       " '1-й Глинковский переулок\\n',\n",
       " '1-й Гоголевский переулок\\n',\n",
       " '1-й Голутвинский переулок\\n',\n",
       " '1-й Гольшанский переулок\\n',\n",
       " '1-й Гончарный переулок\\n',\n",
       " '1-й Гончаровский переулок\\n',\n",
       " '1-й Горноспасательный переулок\\n',\n",
       " '1-й Горный переулок\\n',\n",
       " '1-й Горный проезд\\n',\n",
       " '1-й Горный тупик\\n',\n",
       " '1-й Горняцкий переулок\\n',\n",
       " '1-й Городищенский переулок   # Ярославль\\n',\n",
       " '1-й Городищенский проезд\\n',\n",
       " '1-й Городской проезд\\n',\n",
       " '1-й Гороховский переулок\\n',\n",
       " '1-й Горский переулок\\n',\n",
       " '1-й Госпитальный переулок\\n',\n",
       " '1-й Гравийный проезд\\n',\n",
       " '1-й Гражданский переулок\\n',\n",
       " '1-й Гражданский проезд\\n',\n",
       " '1-й Грайвороновский проезд\\n',\n",
       " '1-й Граничный переулок\\n',\n",
       " '1-й Граничный проезд\\n',\n",
       " '1-й Гремячий переулок\\n',\n",
       " '1-й Греческий переулок\\n',\n",
       " '1-й Грибной переулок\\n',\n",
       " '1-й Гривенский переулок\\n',\n",
       " '1-й Губернский проезд\\n',\n",
       " '1-й Гусинский переулок\\n',\n",
       " '1-й Гуторовский переулок     # Курск\\n',\n",
       " '1-й Гэсстроевский переулок\\n',\n",
       " '1-й Давыдовский проезд       # Кострома\\n',\n",
       " '1-й Дальний переулок\\n',\n",
       " '1-й Дальний проезд           # Тверь\\n',\n",
       " '1-й Дамасский переулок\\n',\n",
       " '1-й Даньшинский переулок     # Курск\\n',\n",
       " '1-й Дачный переулок          # [СПБ4]\\n',\n",
       " '1-й Дачный проезд\\n',\n",
       " '1-й Двинский переулок\\n',\n",
       " '1-й Дегтяревский переулок    # Ярославль XXX: е/ё\\n',\n",
       " '1-й Декабрьский переулок\\n',\n",
       " '1-й Делегатский переулок\\n',\n",
       " '1-й Деловой проезд\\n',\n",
       " '1-й Деповский переулок\\n',\n",
       " '1-й Депутатский переулок\\n',\n",
       " '1-й Дербеневский переулок\\n',\n",
       " '1-й Детский переулок\\n',\n",
       " '1-й Детский проезд\\n',\n",
       " '1-й Дзержинский переулок\\n',\n",
       " '1-й Дивизионный переулок\\n',\n",
       " '1-й Динамовский проезд\\n',\n",
       " '1-й Дмитровский проезд\\n',\n",
       " '1-й Днепровский проезд\\n',\n",
       " '1-й Днепропетровский переулок\\n',\n",
       " '1-й Добролюбовский проезд\\n',\n",
       " '1-й Добрынинский переулок\\n',\n",
       " '1-й Домбаровский переулок    # Орск\\n',\n",
       " '1-й Донбасский переулок\\n',\n",
       " '1-й Донецкий переулок\\n',\n",
       " '1-й Донской проезд\\n',\n",
       " '1-й Дорожный переулок\\n',\n",
       " '1-й Дорожный проезд\\n',\n",
       " '1-й Доронинский переулок\\n',\n",
       " '1-й Дорской переулок         # Малая Вишера\\n',\n",
       " '1-й Досуговский проезд       # Смоленск\\n',\n",
       " '1-й Дружный переулок\\n',\n",
       " '1-й Дубковский переулок\\n',\n",
       " '1-й Дубровский переулок\\n',\n",
       " '1-й Дубровский проезд\\n',\n",
       " '1-й Дуванский переулок\\n',\n",
       " '1-й Дунайский переулок\\n',\n",
       " '1-й Дунайский проезд         # Краснодар\\n',\n",
       " '1-й Духовщинский проезд\\n',\n",
       " '1-й Дюнный переулок\\n',\n",
       " '1-й Дягилевский проезд\\n',\n",
       " '1-й Евдокимовский переулок\\n',\n",
       " '1-й Еланский переулок\\n',\n",
       " '1-й Еловский переулок\\n',\n",
       " '1-й Еловый переулок\\n',\n",
       " '1-й Елшанский проезд         # Саратов\\n',\n",
       " '1-й Елшанский тупик\\n',\n",
       " '1-й Елыкаевский переулок     # Кемерово\\n',\n",
       " '1-й Ельнинский переулок\\n',\n",
       " '1-й Енисейский переулок\\n',\n",
       " '1-й Есаульский переулок\\n',\n",
       " '1-й Жасминный переулок       # Ульяновск\\n',\n",
       " '1-й Ждановский переулок\\n',\n",
       " '1-й Желанный переулок\\n',\n",
       " '1-й Железнодорожный переулок\\n',\n",
       " '1-й Железнодорожный проезд   # [СПБ4]\\n',\n",
       " '1-й Железнодорожный тупик\\n',\n",
       " '1-й Журавлиный переулок\\n',\n",
       " '1-й Жёлтиковский проезд\\n',\n",
       " '1-й Забавный тупик\\n',\n",
       " '1-й Заветный переулок\\n',\n",
       " '1-й Заводской переулок\\n',\n",
       " '1-й Заводской проезд\\n',\n",
       " '1-й Завокзальный переулок\\n',\n",
       " '1-й Заволжский переулок\\n',\n",
       " '1-й Загородный переулок      # [СПБ4]\\n',\n",
       " '1-й Загородный проезд\\n',\n",
       " '1-й Загорский переулок\\n',\n",
       " '1-й Загорский проезд\\n',\n",
       " '1-й Заезжий проезд\\n',\n",
       " '1-й Закирпичный переулок     # Рузаевка, Мордовия\\n',\n",
       " '1-й Заозёрный переулок\\n',\n",
       " '1-й Западный переулок\\n',\n",
       " '1-й Западный проезд\\n',\n",
       " '1-й Заповедный тупик\\n',\n",
       " '1-й Запольный переулок       # Пречистое, Смоленская область\\n',\n",
       " '1-й Запорожский переулок\\n',\n",
       " '1-й Запрудный переулок\\n',\n",
       " '1-й Заречный переулок\\n',\n",
       " '1-й Заречный проезд\\n',\n",
       " '1-й Заречный тупик\\n',\n",
       " '1-й Затонский переулок\\n',\n",
       " '1-й Зачатьевский переулок\\n',\n",
       " '1-й Зборовский переулок\\n',\n",
       " '1-й Звенигородский проезд    # Краснодар\\n',\n",
       " '1-й Звонкий переулок\\n',\n",
       " '1-й Звёздный переулок\\n',\n",
       " '1-й Звёздный проезд\\n',\n",
       " '1-й Зейский переулок         # Кемерово\\n',\n",
       " '1-й Зеленодольский тупик     # Саратов\\n',\n",
       " '1-й Зеленхозовский переулок\\n',\n",
       " '1-й Зелёный переулок\\n',\n",
       " '1-й Зелёный проезд\\n',\n",
       " '1-й Земельный переулок\\n',\n",
       " '1-й Земледельческий переулок\\n',\n",
       " '1-й Земляничный проезд\\n',\n",
       " '1-й Земский переулок         # Белгород\\n',\n",
       " '1-й Зерновой проезд\\n',\n",
       " '1-й Зимний переулок\\n',\n",
       " '1-й Знаменский переулок\\n',\n",
       " '1-й Знаменский проезд\\n',\n",
       " '1-й Зональный проезд\\n',\n",
       " '1-й Зубцовский переулок\\n',\n",
       " '1-й Иваньковский переулок\\n',\n",
       " '1-й Иглинский переулок       # Уфа\\n',\n",
       " '1-й Ижевский переулок\\n',\n",
       " '1-й Извозный переулок\\n',\n",
       " '1-й Измайловский переулок\\n',\n",
       " '1-й Изумрудный проезд\\n',\n",
       " '1-й Ильинский переулок\\n',\n",
       " '1-й Индивидуальный переулок\\n',\n",
       " '1-й Индустриальный переулок\\n',\n",
       " '1-й Индустриальный проезд\\n',\n",
       " '1-й Инженерный проезд\\n',\n",
       " '1-й Инзенский переулок       # Ульяновск\\n',\n",
       " '1-й Институтский переулок\\n',\n",
       " '1-й Институтский проезд\\n',\n",
       " '1-й Инструментальный переулок\\n',\n",
       " '1-й Интернатский переулок    # Тагай, Ульяновская обл.\\n',\n",
       " '1-й Интернациональный переулок\\n',\n",
       " '1-й Интернациональный проезд # Саратов\\n',\n",
       " '1-й Инфекционный переулок\\n',\n",
       " '1-й Инюшенский переулок      # Новосибирск\\n',\n",
       " '1-й Ипподромный проезд\\n',\n",
       " '1-й Ирининский переулок\\n',\n",
       " '1-й Иртышский проезд\\n',\n",
       " '1-й Июльский переулок\\n',\n",
       " '1-й Кабельный проезд\\n',\n",
       " '1-й Кавказский переулок\\n',\n",
       " '1-й Кавказский тупик\\n',\n",
       " '1-й Кадашёвский переулок     # Москва, http://ru.wikipedia.org/wiki/Первый_Кадашёвский_переулок\\n',\n",
       " '1-й Кадетский переулок\\n',\n",
       " '1-й Казанский переулок\\n',\n",
       " '1-й Казанский проезд\\n',\n",
       " '1-й Казанский просек\\n',\n",
       " '1-й Казачий переулок\\n',\n",
       " '1-й Казачий проезд           # Саратов\\n',\n",
       " '1-й Календарный переулок\\n',\n",
       " '1-й Калининский переулок\\n',\n",
       " '1-й Калиновский проезд\\n',\n",
       " '1-й Калужский переулок\\n',\n",
       " '1-й Калужский проезд\\n',\n",
       " '1-й Каменный переулок\\n',\n",
       " '1-й Каменогорский переулок\\n',\n",
       " '1-й Камешковский переулок    # Шуя, Ивановская обл.\\n',\n",
       " '1-й Камский переулок\\n',\n",
       " '1-й Камышенский переулок     # Новосибирск; см. также Камишинский\\n',\n",
       " '1-й Камышинский проезд\\n',\n",
       " '1-й Камышинский тупик\\n',\n",
       " '1-й Камышовый переулок\\n',\n",
       " '1-й Канатный переулок\\n',\n",
       " '1-й Капотнинский проезд\\n',\n",
       " '1-й Карачаровский проезд\\n',\n",
       " '1-й Кардолентный проезд      # Ногинск\\n',\n",
       " '1-й Каретный переулок\\n',\n",
       " '1-й Карпатский переулок\\n',\n",
       " '1-й Карповский переулок\\n',\n",
       " '1-й Карьерный переулок\\n',\n",
       " '1-й Карьерный проезд\\n',\n",
       " '1-й Катерный переулок\\n',\n",
       " '1-й Каховский переулок\\n',\n",
       " '1-й Каштановый переулок\\n',\n",
       " '1-й Каштановый проезд\\n',\n",
       " '1-й Квартальный проезд\\n',\n",
       " '1-й Кемеровский переулок\\n',\n",
       " '1-й Керамзитный переулок\\n',\n",
       " '1-й Киевский переулок\\n',\n",
       " '1-й Кимрский проезд          # Талдом, Московская обл.\\n',\n",
       " '1-й Кирилловский переулок\\n',\n",
       " '1-й Кировский переулок       # Бугуруслан, Оренбургская обл.\\n',\n",
       " '1-й Кировский проезд\\n',\n",
       " '1-й Кирпичный переулок\\n',\n",
       " '1-й Кирпичный проезд\\n',\n",
       " '1-й Кислинский проезд        # Курск\\n',\n",
       " '1-й Кладовый переулок\\n',\n",
       " '1-й Кленовый переулок\\n',\n",
       " '1-й Клинский переулок\\n',\n",
       " '1-й Клочков переулок\\n',\n",
       " '1-й Клубный переулок\\n',\n",
       " '1-й Клубный проезд\\n',\n",
       " '1-й Ключевой переулок\\n',\n",
       " '1-й Ключевой проезд\\n',\n",
       " '1-й Кожевенный переулок\\n',\n",
       " '1-й Кожевнический переулок\\n',\n",
       " '1-й Кожуховский проезд\\n',\n",
       " '1-й Коллективный переулок\\n',\n",
       " '1-й Коллективный проезд\\n',\n",
       " '1-й Колобовский переулок\\n',\n",
       " '1-й Колокольный переулок\\n',\n",
       " '1-й Коломенский переулок\\n',\n",
       " '1-й Коломенский проезд\\n',\n",
       " '1-й Колхозный переулок\\n',\n",
       " '1-й Колхозный проезд\\n',\n",
       " '1-й Кольский переулок\\n',\n",
       " '1-й Кольцевой проезд\\n',\n",
       " '1-й Колюбакинский проезд\\n',\n",
       " '1-й Коммунальный переулок\\n',\n",
       " '1-й Коммунальный проезд\\n',\n",
       " '1-й Коммунальный тупик\\n',\n",
       " '1-й Коммунарный переулок     # Балаково\\n',\n",
       " '1-й Коммунистический переулок\\n',\n",
       " '1-й Комсомольский переулок\\n',\n",
       " '1-й Комсомольский проезд\\n',\n",
       " '1-й Коноховский переулок     # Иваново, http://wiki.ivanovoweb.ru/index.php/Коноховский_1-й_переулок\\n',\n",
       " '1-й Кооперативный переулок\\n',\n",
       " '1-й Кооперативный проезд\\n',\n",
       " '1-й Коптельский переулок\\n',\n",
       " '1-й Корабельный переулок\\n',\n",
       " '1-й Кореновский проезд\\n',\n",
       " '1-й Коренёвский тупик\\n',\n",
       " '1-й Короткий переулок\\n',\n",
       " '1-й Корсаковский переулок\\n',\n",
       " '1-й Котельницкий переулок\\n',\n",
       " '1-й Котельнический переулок\\n',\n",
       " '1-й Котлозаводской переулок\\n',\n",
       " '1-й Котляковский переулок\\n',\n",
       " '1-й Крайний проезд\\n',\n",
       " '1-й Красивый переулок\\n',\n",
       " '1-й Красковский проезд\\n',\n",
       " '1-й Краснинский переулок     # Смоленск\\n',\n",
       " '1-й Красноармейский переулок\\n',\n",
       " '1-й Красноармейский проезд\\n',\n",
       " '1-й Красногвардейский переулок\\n',\n",
       " '1-й Красногвардейский проезд\\n',\n",
       " '1-й Красногородский переулок\\n',\n",
       " '1-й Красногорский переулок\\n',\n",
       " '1-й Красногорский проезд\\n',\n",
       " '1-й Краснодонский переулок\\n',\n",
       " '1-й Краснознамённый проезд\\n',\n",
       " '1-й Краснокурсантский проезд\\n',\n",
       " '1-й Краснополянский переулок\\n',\n",
       " '1-й Красносельский переулок\\n',\n",
       " '1-й Красносельский проезд\\n',\n",
       " '1-й Краснофлотский переулок\\n',\n",
       " '1-й Краснохолмский переулок  # Ярославль\\n',\n",
       " '1-й Красноярский переулок    # Ульяновск\\n',\n",
       " '1-й Красный переулок\\n',\n",
       " '1-й Красочный тупик\\n',\n",
       " '1-й Крекингский проезд\\n',\n",
       " '1-й Крекингский тупик\\n',\n",
       " '1-й Кремовый тупик\\n',\n",
       " '1-й Крепостной переулок\\n',\n",
       " '1-й Крестьянский проезд\\n',\n",
       " '1-й Кривичский переулок\\n',\n",
       " '1-й Круговой переулок\\n',\n",
       " '1-й Крутицкий переулок\\n',\n",
       " '1-й Крымский переулок\\n',\n",
       " '1-й Крымский проезд\\n',\n",
       " '1-й Кубанский переулок\\n',\n",
       " '1-й Кубанский проезд\\n',\n",
       " '1-й Кузнечный проезд\\n',\n",
       " '1-й Кузьминский переулок\\n',\n",
       " '1-й Кузьмихинский переулок   # Иркутск\\n',\n",
       " '1-й Кулинарный переулок\\n',\n",
       " '1-й Кумысный проезд          # Саратов\\n',\n",
       " '1-й Купальный переулок       # [СПБ4]\\n',\n",
       " '1-й Курортный переулок       # [СПБ4]\\n',\n",
       " '1-й Курьяновский переулок\\n',\n",
       " '1-й Курьяновский проезд\\n',\n",
       " '1-й Кустанайский проезд      # Пенза\\n',\n",
       " '1-й Кустарный переулок\\n',\n",
       " '1-й Кутузовский переулок\\n',\n",
       " '1-й Кутузовский проезд\\n',\n",
       " '1-й Лабинский проезд\\n',\n",
       " '1-й Лавандовый проезд\\n',\n",
       " '1-й Лавандовый тупик\\n',\n",
       " '1-й Лавский переулок\\n',\n",
       " '1-й Лагерный переулок\\n',\n",
       " '1-й Лагерный проезд\\n',\n",
       " '1-й Лазоревый переулок\\n',\n",
       " '1-й Лазурный переулок\\n',\n",
       " '1-й Ландшафтный переулок\\n',\n",
       " '1-й Ласковый тупик\\n',\n",
       " '1-й Леденцовский переулок\\n',\n",
       " '1-й Лежневский переулок      # Иваново, http://ru.wikipedia.org/wiki/Лежневская_улица_%28Иваново%29\\n',\n",
       " '1-й Ленинградский переулок\\n',\n",
       " '1-й Ленинградский проезд\\n',\n",
       " '1-й Ленинский переулок\\n',\n",
       " '1-й Ленинский проезд\\n',\n",
       " '1-й Лермонтовский переулок\\n',\n",
       " '1-й Лермонтовский проезд\\n',\n",
       " '1-й Лесной переулок          # [СПБ4]\\n',\n",
       " '1-й Лесной проезд\\n',\n",
       " '1-й Лесной просек\\n',\n",
       " '1-й Лесной тупик\\n',\n",
       " '1-й Лесозащитный переулок\\n',\n",
       " '1-й Лесозащитный проезд\\n',\n",
       " '1-й Лесопильный тупик\\n',\n",
       " '1-й Лестровский переулок     # Смоленск\\n',\n",
       " '1-й Летний переулок\\n',\n",
       " '1-й Ливенский переулок       # Старый Оскол, Белгородская обл.\\n',\n",
       " '1-й Линейный переулок\\n',\n",
       " '1-й Линейный проезд\\n',\n",
       " '1-й Линецкий переулок        # Курск\\n',\n",
       " '1-й Липовый переулок\\n',\n",
       " '1-й Лирический переулок\\n',\n",
       " '1-й Лиственный переулок\\n',\n",
       " '1-й Листопадный переулок\\n',\n",
       " '1-й Листопадный проезд\\n',\n",
       " '1-й Литературный проезд\\n',\n",
       " '1-й Литовский проезд\\n',\n",
       " '1-й Лихачёвский переулок\\n',\n",
       " '1-й Лобинский переулок\\n',\n",
       " '1-й Лозовой переулок\\n',\n",
       " '1-й Локаторный переулок\\n',\n",
       " '1-й Локомотивный переулок\\n',\n",
       " '1-й Ломоносовский проезд\\n',\n",
       " '1-й Лопатинский проезд\\n',\n",
       " '1-й Луговой переулок\\n',\n",
       " '1-й Луговой проезд\\n',\n",
       " '1-й Лучевой переулок\\n',\n",
       " '1-й Лучевой проезд\\n',\n",
       " '1-й Лучевой просек\\n',\n",
       " '1-й Лучевой тупик\\n',\n",
       " '1-й Лучистый проезд\\n',\n",
       " '1-й Лыковский проезд\\n',\n",
       " '1-й Льнозаводской переулок\\n',\n",
       " '1-й Льняной переулок\\n',\n",
       " '1-й Любажский переулок\\n',\n",
       " '1-й Люберецкий проезд\\n',\n",
       " '1-й Люсиновский переулок\\n',\n",
       " '1-й Лётный переулок\\n',\n",
       " '1-й Магистральный переулок\\n',\n",
       " '1-й Магистральный проезд\\n',\n",
       " '1-й Магистральный тупик\\n',\n",
       " '1-й Магнитный проезд\\n',\n",
       " '1-й Майский переулок\\n',\n",
       " '1-й Майский проезд           # Тимашёвск, Краснодарский край\\n',\n",
       " '1-й Майский тупик\\n',\n",
       " '1-й Малаховский проезд\\n',\n",
       " '1-й Малиновый переулок\\n',\n",
       " '1-й Малиновый проезд\\n',\n",
       " '1-й Малополивановский проезд # Саратов\\n',\n",
       " '1-й Малополивановский тупик\\n',\n",
       " '1-й Малопрудный проезд\\n',\n",
       " '1-й Малый Мичуринский проезд # Саратов\\n',\n",
       " '1-й Малый Приморский проезд\\n',\n",
       " '1-й Малый Просветительский проезд # Саратов\\n',\n",
       " '1-й Малый Северный проезд\\n',\n",
       " '1-й Малый Черешневый проезд  # Саратов\\n',\n",
       " '1-й Малый переулок\\n',\n",
       " '1-й Малый проезд\\n',\n",
       " '1-й Манежный переулок\\n',\n",
       " '1-й Маратовский проезд\\n',\n",
       " '1-й Мариупольский переулок\\n',\n",
       " '1-й Марочный переулок\\n',\n",
       " '1-й Мартовский переулок\\n',\n",
       " '1-й Марусинский переулок\\n',\n",
       " '1-й Маршанский переулок      # Челябинск\\n',\n",
       " '1-й Материальный переулок\\n',\n",
       " '1-й Матросовский переулок\\n',\n",
       " '1-й Машиностроительный переулок\\n',\n",
       " '1-й Машиностроительный проезд # Саратов\\n',\n",
       " '1-й Мебельный переулок\\n',\n",
       " '1-й Мебельный проезд\\n',\n",
       " '1-й Медицинский переулок\\n',\n",
       " '1-й Международный проезд\\n',\n",
       " '1-й Межевой переулок         # [СПБ4]\\n',\n",
       " '1-й Межовражный проезд\\n',\n",
       " '1-й Мелекесский переулок     # Ульяновск\\n',\n",
       " '1-й Мелиоративный переулок\\n',\n",
       " '1-й Мелиховский переулок\\n',\n",
       " '1-й Меловой проезд\\n',\n",
       " '1-й Мельничный переулок\\n',\n",
       " '1-й Мельничный проезд\\n',\n",
       " '1-й Менделеевский переулок\\n',\n",
       " '1-й Мервинский проезд\\n',\n",
       " '1-й Меховский переулок       # Пушкинские Горы, Псковская обл.\\n',\n",
       " '1-й Мигаловский проезд\\n',\n",
       " '1-й Милиционный переулок\\n',\n",
       " '1-й Минский переулок\\n',\n",
       " '1-й Минский проезд\\n',\n",
       " '1-й Минский тупик            # Смоленск\\n',\n",
       " '1-й Миргородский переулок\\n',\n",
       " '1-й Мирный переулок\\n',\n",
       " '1-й Мирный проезд\\n',\n",
       " '1-й Митинский переулок\\n',\n",
       " '1-й Михайловский проезд\\n',\n",
       " '1-й Михельсоновский проезд\\n',\n",
       " '1-й Мичуринский переулок\\n',\n",
       " '1-й Мичуринский проезд\\n',\n",
       " '1-й Мичуринский тупик\\n',\n",
       " '1-й Можайский тупик\\n',\n",
       " '1-й Мозырьский переулок      # Пермь: XXX: Мозырский?\\n',\n",
       " '1-й Моковский переулок\\n',\n",
       " '1-й Моковский проезд\\n',\n",
       " '1-й Молодогвардейский переулок\\n',\n",
       " '1-й Молодёжный переулок\\n',\n",
       " '1-й Молодёжный проезд\\n',\n",
       " '1-й Монастырский переулок\\n',\n",
       " '1-й Монетный переулок\\n',\n",
       " '1-й Монетчиковский переулок\\n',\n",
       " '1-й Монтажный переулок\\n',\n",
       " '1-й Монтажный проезд\\n',\n",
       " '1-й Мопровский тупик         # Рязань\\n',\n",
       " '1-й Москворецкий переулок\\n',\n",
       " '1-й Московский переулок\\n',\n",
       " '1-й Московский проезд\\n',\n",
       " '1-й Московский тупик         # Саратов\\n',\n",
       " '1-й Мостовой переулок\\n',\n",
       " '1-й Мостовой проезд          # Саратов\\n',\n",
       " '1-й Моторный проезд\\n',\n",
       " '1-й Мочиновский проезд       # Саратов\\n',\n",
       " '1-й Мстихинский переулок     # д. Мстихино, Калужская обл.\\n',\n",
       " '1-й Муринский проспект       # [СПБ3]\\n',\n",
       " '1-й Мурманский проезд\\n',\n",
       " '1-й Муромский переулок\\n',\n",
       " '1-й Мытищинский переулок\\n',\n",
       " '1-й Мытный переулок\\n',\n",
       " '1-й Мясницкий проезд\\n',\n",
       " '1-й Набережный переулок\\n',\n",
       " '1-й Набережный проезд\\n',\n",
       " '1-й Набережный тупик\\n',\n",
       " '1-й Нагатинский проезд\\n',\n",
       " '1-й Нагорный переулок\\n',\n",
       " '1-й Нагорный проезд\\n',\n",
       " '1-й Наклонный переулок\\n',\n",
       " '1-й Нарвский переулок\\n',\n",
       " '1-й Народный переулок\\n',\n",
       " '1-й Насосный переулок\\n',\n",
       " '1-й Насыпной переулок\\n',\n",
       " '1-й Национальный переулок\\n',\n",
       " '1-й Невьянский переулок\\n',\n",
       " '1-й Некрасовский переулок\\n',\n",
       " '1-й Некрасовский проезд\\n',\n",
       " '1-й Неопалимовский переулок\\n',\n",
       " '1-й Непроезжий переулок\\n',\n",
       " '1-й Нефтезаводской проезд\\n',\n",
       " '1-й Нефтяной переулок\\n',\n",
       " '1-й Нижнелихоборский проезд\\n',\n",
       " '1-й Нижний Луговой переулок\\n',\n",
       " '1-й Нижний Михайловский проезд\\n',\n",
       " '1-й Нижний Первоцветный проезд # Саратов\\n',\n",
       " '1-й Нижний Просветительский проезд # Саратов\\n',\n",
       " '1-й Нижний переулок\\n',\n",
       " '1-й Нижний проезд\\n',\n",
       " '1-й Низинский переулок       # Рославль\\n',\n",
       " '1-й Николощеповский переулок\\n',\n",
       " '1-й Новаторский переулок\\n',\n",
       " '1-й Новгородский переулок\\n',\n",
       " '1-й Новоавтобусный тупик\\n',\n",
       " '1-й Новоездоцкий переулок\\n',\n",
       " '1-й Новоказацкий переулок    # Курск; в КЛАДР, \"Ново-Казацкий\", но это сворее всего неверно\\n',\n",
       " '1-й Новокузнецкий переулок\\n',\n",
       " '1-й Новомихалковский проезд\\n',\n",
       " '1-й Новопавловский проезд\\n',\n",
       " '1-й Новоподмосковный переулок\\n',\n",
       " '1-й Новостроевский переулок\\n',\n",
       " '1-й Новосёловский переулок\\n',\n",
       " '1-й Новотихвинский переулок\\n',\n",
       " '1-й Новоторжский переулок    # Торжок\\n',\n",
       " '1-й Новоузенский проезд\\n',\n",
       " '1-й Новый переулок\\n',\n",
       " '1-й Новый проезд\\n',\n",
       " '1-й Ногинский проезд\\n',\n",
       " '1-й Ноксинский переулок      # Казань\\n',\n",
       " '1-й Норильский переулок\\n',\n",
       " '1-й Ноябрьский переулок\\n',\n",
       " '1-й Нюйский переулок         # Ленск\\n',\n",
       " '1-й Облепиховый тупик\\n',\n",
       " '1-й Оборонный переулок\\n',\n",
       " '1-й Образный переулок\\n',\n",
       " '1-й Образцовый переулок\\n',\n",
       " '1-й Обуховский переулок\\n',\n",
       " '1-й Обыденский переулок\\n',\n",
       " '1-й Овражный переулок\\n',\n",
       " '1-й Овражный проезд\\n',\n",
       " '1-й Огородный переулок\\n',\n",
       " '1-й Огородный проезд\\n',\n",
       " '1-й Огородный тупик\\n',\n",
       " '1-й Одесский переулок\\n',\n",
       " '1-й Одесский проезд\\n',\n",
       " '1-й Озерковский переулок     # [СПБ3]\\n',\n",
       " '1-й Озимый переулок\\n',\n",
       " '1-й Озёрный переулок\\n',\n",
       " '1-й Окольный проезд\\n',\n",
       " '1-й Окружной переулок\\n',\n",
       " '1-й Окружной проезд\\n',\n",
       " '1-й Октябрьский переулок\\n',\n",
       " '1-й Октябрьский проезд\\n',\n",
       " '1-й Ольховский переулок\\n',\n",
       " '1-й Ольховский тупик\\n',\n",
       " '1-й Омский переулок\\n',\n",
       " '1-й Онежский проезд\\n',\n",
       " '1-й Опытный переулок\\n',\n",
       " '1-й Оранжерейный проезд\\n',\n",
       " '1-й Оренбургский переулок\\n',\n",
       " '1-й Орловский переулок\\n',\n",
       " '1-й Осенний переулок\\n',\n",
       " '1-й Осенний проезд\\n',\n",
       " '1-й Осиновский переулок\\n',\n",
       " '1-й Осташковский переулок\\n',\n",
       " '1-й Островной проезд\\n',\n",
       " '1-й Островский переулок\\n',\n",
       " '1-й Островский проезд\\n',\n",
       " '1-й Отрадный тупик\\n',\n",
       " '1-й Офицерский переулок      # Монино, Московская обл.\\n',\n",
       " '1-й Офицерский проезд\\n',\n",
       " '1-й Охотничий проезд\\n',\n",
       " '1-й Охотский переулок\\n',\n",
       " '1-й Очаковский переулок\\n',\n",
       " '1-й Очеретоватый переулок    # Тимашевск\\n',\n",
       " '1-й Павелецкий проезд\\n',\n",
       " '1-й Павловский переулок\\n',\n",
       " '1-й Павловский проезд\\n',\n",
       " '1-й Павловский тупик\\n',\n",
       " '1-й Падунский переулок\\n',\n",
       " '1-й Панковский проезд\\n',\n",
       " '1-й Панкратьевский проезд\\n',\n",
       " '1-й Параллельный проезд\\n',\n",
       " '1-й Паркетный переулок\\n',\n",
       " '1-й Парковский переулок\\n',\n",
       " '1-й Парковый переулок\\n',\n",
       " '1-й Парковый проезд\\n',\n",
       " '1-й Парковый тупик\\n',\n",
       " '1-й Парный переулок\\n',\n",
       " '1-й Паровозный переулок\\n',\n",
       " '1-й Паромный переулок\\n',\n",
       " '1-й Партизанский переулок\\n',\n",
       " '1-й Пейзажный переулок\\n',\n",
       " '1-й Пенягинский проезд\\n',\n",
       " '1-й Первомайский переулок\\n',\n",
       " '1-й Первомайский проезд\\n',\n",
       " '1-й Первомайский тупик\\n',\n",
       " '1-й Перенский переулок       # Рославль\\n',\n",
       " '1-й Переходный переулок\\n',\n",
       " '1-й Пермский переулок\\n',\n",
       " '1-й Перовский переулок\\n',\n",
       " '1-й Перспективный проезд\\n',\n",
       " '1-й Песоченский проезд\\n',\n",
       " '1-й Песочный переулок\\n',\n",
       " '1-й Песочный проезд\\n',\n",
       " '1-й Песочный тупик           # Саратов\\n',\n",
       " '1-й Песчаный переулок\\n',\n",
       " '1-й Петровский проезд\\n',\n",
       " '1-й Петропавловский переулок\\n',\n",
       " '1-й Пехотный переулок\\n',\n",
       " '1-й Пикетный переулок\\n',\n",
       " '1-й Пилотный переулок\\n',\n",
       " '1-й Пионерский переулок\\n',\n",
       " '1-й Пионерский проезд\\n',\n",
       " '1-й Пироговский переулок     # Сергиев Посад, Московская обл.\\n',\n",
       " '1-й Пироговский проезд\\n',\n",
       " '1-й Писцовский переулок\\n',\n",
       " '1-й Пихтовый переулок\\n',\n",
       " '1-й Пищевой переулок\\n',\n",
       " '1-й Планерный переулок\\n',\n",
       " '1-й Пластунский проезд\\n',\n",
       " '1-й Плотничный переулок\\n',\n",
       " '1-й Погожий переулок\\n',\n",
       " '1-й Пограничный переулок\\n',\n",
       " '1-й Подгорный переулок\\n',\n",
       " '1-й Подгорный проезд\\n',\n",
       " '1-й Подлужный переулок       # Бор Нижегородской обл.\\n',\n",
       " '1-й Подольский переулок\\n',\n",
       " '1-й Подшипниковый проезд\\n',\n",
       " '1-й Подъельновский переулок  # Иваново\\n',\n",
       " '1-й Подъёмный переулок\\n',\n",
       " '1-й Пожарный переулок\\n',\n",
       " '1-й Пожарный проезд\\n',\n",
       " '1-й Поимский проезд          # Пенза\\n',\n",
       " '1-й Поклонный переулок\\n',\n",
       " '1-й Покровский переулок\\n',\n",
       " '1-й Покровский проезд\\n',\n",
       " '1-й Полевой переулок\\n',\n",
       " '1-й Полевой проезд\\n',\n",
       " '1-й Полиграфический переулок\\n',\n",
       " '1-й Полоцкий переулок        # Смоленск\\n',\n",
       " '1-й Полтавский переулок\\n',\n",
       " '1-й Полтавский проезд        # Пенза\\n',\n",
       " '1-й Полярный переулок\\n',\n",
       " '1-й Полярный проезд\\n',\n",
       " '1-й Понизовский переулок     # Курск\\n',\n",
       " '1-й Понятовский переулок     # Ершичи, Смоленская обл.\\n',\n",
       " '1-й Поперечный переулок\\n',\n",
       " '1-й Поперечный проезд\\n',\n",
       " '1-й Порт-Артурский переулок\\n',\n",
       " '1-й Портовый переулок\\n',\n",
       " '1-й Порубежный переулок      # Белгород\\n',\n",
       " '1-й Порядковый переулок\\n',\n",
       " '1-й Порядковый тупик\\n',\n",
       " '1-й Посадский проезд\\n',\n",
       " '1-й Поселковый переулок\\n',\n",
       " '1-й Поселковый проезд\\n',\n",
       " '1-й Почтовый переулок\\n',\n",
       " '1-й Почтовый проезд\\n',\n",
       " '1-й Поэтический переулок\\n',\n",
       " '1-й Предпортовый проезд      # [СПБ3]\\n',\n",
       " '1-й Преображенский переулок\\n',\n",
       " '1-й Прессовый проезд\\n',\n",
       " '1-й Престольный проезд\\n',\n",
       " '1-й Прибрежный переулок\\n',\n",
       " '1-й Приветливый переулок\\n',\n",
       " '1-й Привокзальный переулок\\n',\n",
       " '1-й Привокзальный проезд\\n',\n",
       " '1-й Пригородный переулок\\n',\n",
       " '1-й Пригородный проезд\\n',\n",
       " '1-й Придонский переулок\\n',\n",
       " '1-й Придорожный переулок     # Белгород\\n',\n",
       " '1-й Придорожный проезд\\n',\n",
       " '1-й Приморский переулок\\n',\n",
       " '1-й Приморский проезд\\n',\n",
       " '1-й Приречный переулок\\n',\n",
       " '1-й Пристанской проезд\\n',\n",
       " '1-й Прогонный переулок\\n',\n",
       " '1-й Продольный переулок\\n',\n",
       " '1-й Продольный проезд        # Краснодар\\n',\n",
       " '1-й Проездной переулок\\n',\n",
       " '1-й Проезжий переулок\\n',\n",
       " '1-й Производственный проезд\\n',\n",
       " '1-й Прокатный переулок\\n',\n",
       " '1-й Пролетарский переулок\\n',\n",
       " '1-й Пролетарский тупик\\n',\n",
       " '1-й Промышленный переулок\\n',\n",
       " '1-й Промышленный проезд\\n',\n",
       " '1-й Просторный переулок\\n',\n",
       " '1-й Просяной проезд\\n',\n",
       " '1-й Профессиональный переулок\\n',\n",
       " '1-й Профсоюзный переулок\\n',\n",
       " '1-й Прудный проезд\\n',\n",
       " '1-й Пугачёвский проезд\\n',\n",
       " '1-й Путеводный переулок\\n',\n",
       " '1-й Путейский переулок       # [СПБ4]\\n',\n",
       " '1-й Путепроводный переулок\\n',\n",
       " '1-й Пушкарный переулок\\n',\n",
       " '1-й Пушкарский переулок\\n',\n",
       " '1-й Пушкинский переулок\\n',\n",
       " '1-й Пятницкий переулок\\n',\n",
       " '1-й Пятовский переулок       # Ярославль\\n',\n",
       " '1-й Рабочий переулок\\n',\n",
       " '1-й Рабфаковский переулок    # [СПБ3]\\n',\n",
       " '1-й Радиаторный переулок\\n',\n",
       " '1-й Радищевский проезд\\n',\n",
       " '1-й Радужный проезд\\n',\n",
       " '1-й Раевский переулок        # Стерлитамак\\n',\n",
       " '1-й Раздельный переулок\\n',\n",
       " '1-й Раздельный проезд\\n',\n",
       " '1-й Раздольный переулок\\n',\n",
       " '1-й Раскатный переулок\\n',\n",
       " '1-й Рассветный переулок\\n',\n",
       " '1-й Раушский переулок\\n',\n",
       " '1-й Революционный переулок\\n',\n",
       " '1-й Резервный проезд\\n',\n",
       " '1-й Рекордный переулок\\n',\n",
       " '1-й Ремонтный проезд\\n',\n",
       " '1-й Республиканский переулок\\n',\n",
       " '1-й Речной переулок\\n',\n",
       " '1-й Речной проезд\\n',\n",
       " '1-й Ржевский переулок\\n',\n",
       " '1-й Рижский переулок\\n',\n",
       " '1-й Рижский тупик\\n',\n",
       " '1-й Ровенский переулок       # Стерлитамак\\n',\n",
       " '1-й Ровенский проезд         # Саратов\\n',\n",
       " '1-й Ровный переулок\\n',\n",
       " '1-й Родниковый переулок\\n',\n",
       " '1-й Рожденственский тупик\\n',\n",
       " '1-й Рождественский переулок\\n',\n",
       " '1-й Ромашковый переулок\\n',\n",
       " '1-й Ромашковый тупик\\n',\n",
       " '1-й Российский переулок\\n',\n",
       " '1-й Ростовский переулок\\n',\n",
       " '1-й Рощинский проезд\\n',\n",
       " '1-й Рудневский проезд        # Заокский, Тульская обл.; XXX: е/ё\\n',\n",
       " '1-й Рупасовский переулок\\n',\n",
       " '1-й Русанцевский переулок\\n',\n",
       " '1-й Ручейный тупик\\n',\n",
       " '1-й Рыбинский проезд\\n',\n",
       " '1-й Рядовой переулок\\n',\n",
       " '1-й Рязанский проезд\\n',\n",
       " '1-й Сабанеевский переулок\\n',\n",
       " '1-й Савельевский проезд      # Саратов\\n',\n",
       " '1-й Савельевский тупик       # Саратов\\n',\n",
       " '1-й Садовый переулок\\n',\n",
       " '1-й Садовый проезд\\n',\n",
       " '1-й Сайнаволокский переулок  # Петрозаводск\\n',\n",
       " '1-й Сайсарский переулок      # Якутск\\n',\n",
       " '1-й Салтыковский проезд\\n',\n",
       " '1-й Салычевский переулок     # Качка, Пермский край; XXX: е/ё\\n',\n",
       " '1-й Самарский переулок\\n',\n",
       " '1-й Самобытный переулок\\n',\n",
       " '1-й Самотёчный переулок      # Москва, http://ru.wikipedia.org/wiki/1-й_Самотёчный_переулок\\n',\n",
       " '1-й Санаторный проезд\\n',\n",
       " '1-й Санинструкторский переулок # Ростов-на-Дону\\n',\n",
       " '1-й Санитарный проезд        # Пенза\\n',\n",
       " '1-й Санниковский переулок    # Киров\\n',\n",
       " '1-й Сапёрный проезд\\n',\n",
       " '1-й Сарапульский переулок\\n',\n",
       " '1-й Саратовский переулок\\n',\n",
       " '1-й Саратовский проезд\\n',\n",
       " '1-й Свердловский переулок\\n',\n",
       " '1-й Светлановский проезд\\n',\n",
       " '1-й Светланский проезд\\n',\n",
       " '1-й Светлый проезд\\n',\n",
       " '1-й Свинцовый переулок\\n',\n",
       " '1-й Свинцовый проезд\\n',\n",
       " '1-й Свирский переулок\\n',\n",
       " '1-й Свирский проезд\\n',\n",
       " '1-й Свободный переулок\\n',\n",
       " '1-й Связной переулок\\n',\n",
       " '1-й Севастопольский переулок\\n',\n",
       " '1-й Севастопольский проезд\\n',\n",
       " '1-й Северный переулок\\n',\n",
       " '1-й Северный проезд\\n',\n",
       " '1-й Северный тупик\\n',\n",
       " '1-й Северо-Каштачный переулок # Томск\\n',\n",
       " '1-й Северо-Крымский переулок # Челябинск\\n',\n",
       " '1-й Северополянский проезд   # Пенза\\n',\n",
       " '1-й Северский переулок\\n',\n",
       " '1-й Севский переулок         # Артём, Приморский край\\n',\n",
       " '1-й Секиотовский проезд      # Калуга\\n',\n",
       " '1-й Селецкий проезд\\n',\n",
       " '1-й Селищенский проезд\\n',\n",
       " '1-й Сельдинский переулок     # Ульяновск\\n',\n",
       " '1-й Сельский переулок        # Ульяновск\\n',\n",
       " '1-й Сельскохозяйственный проезд\\n',\n",
       " '1-й Семейный переулок\\n',\n",
       " '1-й Семиреченский переулок\\n',\n",
       " '1-й Сенной переулок\\n',\n",
       " '1-й Сенной проезд\\n',\n",
       " '1-й Сентябрьский проезд\\n',\n",
       " '1-й Серединский переулок\\n',\n",
       " '1-й Серноводский тупик\\n',\n",
       " '1-й Сетуньский проезд\\n',\n",
       " '1-й Сибирский переулок\\n',\n",
       " '1-й Сивашский переулок\\n',\n",
       " '1-й Силикатный переулок\\n',\n",
       " '1-й Силикатный проезд\\n',\n",
       " '1-й Симанский переулок       # Остров, Псковская обл.\\n',\n",
       " '1-й Симбирский проезд\\n',\n",
       " '1-й Симферопольский переулок\\n',\n",
       " '1-й Синеглазовский переулок  # Челябинск\\n',\n",
       " '1-й Сиреневый переулок\\n',\n",
       " '1-й Сиреневый проезд\\n',\n",
       " ...]"
      ]
     },
     "execution_count": 718,
     "metadata": {},
     "output_type": "execute_result"
    }
   ],
   "source": [
    "streets"
   ]
  },
  {
   "cell_type": "markdown",
   "metadata": {},
   "source": [
    "Пробуем сократить наш большой список, отсеив не московские улицы по комментарию #:"
   ]
  },
  {
   "cell_type": "code",
   "execution_count": 791,
   "metadata": {},
   "outputs": [],
   "source": [
    "for st in streets:\n",
    "    if re.search(r'#.+', st) is not None and re.search(r'Москва', st) is None:\n",
    "           streets.remove(st)"
   ]
  },
  {
   "cell_type": "code",
   "execution_count": 755,
   "metadata": {},
   "outputs": [
    {
     "data": {
      "text/plain": [
       "33326"
      ]
     },
     "execution_count": 755,
     "metadata": {},
     "output_type": "execute_result"
    }
   ],
   "source": [
    "len(streets)"
   ]
  },
  {
   "cell_type": "code",
   "execution_count": 687,
   "metadata": {},
   "outputs": [
    {
     "data": {
      "text/plain": [
       "['# Основной список (потенциально всех) русских названий улиц\\n',\n",
       " '# Для удобства:\\n',\n",
       " '# - Поддерживайте сортировку списка (см. скрипт sort.sh)\\n',\n",
       " '#   Усачёва улица) и проблемам с е/ё; в комментарии указывайте регион,\\n',\n",
       " '#   почему название именно такое\\n',\n",
       " '# - Возможные ошибки, которые надо расследовать и исправить, отмечаются\\n',\n",
       " '# - Для названий, проверенных по внешним источникам, добавляйте тэги\\n',\n",
       " '#   На данный момент:\\n',\n",
       " '#     Реестр названий объектов городской среды Правительства Санкт-Петербурга\\n',\n",
       " '#     [СПБ4]  - таблица 4 (названия проездов)\\n',\n",
       " '# Общие непонятки:\\n',\n",
       " '# - Все Ново-Какойтовские улицы вероятно должны быть Новокакойтовскими\\n',\n",
       " '0-я линия\\n',\n",
       " '0-я улица\\n',\n",
       " '1-е Корытовское шоссе\\n',\n",
       " '1-е Успенское шоссе\\n',\n",
       " '1-й Авдотьинский переулок\\n',\n",
       " '1-й Авиационный проезд\\n',\n",
       " '1-й Автодромный переулок\\n',\n",
       " '1-й Автозаводский проезд\\n',\n",
       " '1-й Автомобильный проезд\\n',\n",
       " '1-й Автосборочный переулок\\n',\n",
       " '1-й Аграрный переулок\\n',\n",
       " '1-й Агрегатный переулок\\n',\n",
       " '1-й Агрономический переулок\\n',\n",
       " '1-й Адыгейский переулок\\n',\n",
       " '1-й Азовский проезд\\n',\n",
       " '1-й Академический переулок\\n',\n",
       " '1-й Академический проезд\\n',\n",
       " '1-й Акмолинский проезд\\n',\n",
       " '1-й Акуловский проезд\\n',\n",
       " '1-й Александровский проезд\\n',\n",
       " '1-й Алеутский переулок\\n',\n",
       " '1-й Аллейный проезд\\n',\n",
       " '1-й Алмазный переулок\\n',\n",
       " '1-й Алтайский переулок\\n',\n",
       " '1-й Алтуховский переулок\\n',\n",
       " '1-й Амбулаторный проезд\\n',\n",
       " '1-й Амурский переулок\\n',\n",
       " '1-й Амурский проезд\\n',\n",
       " '1-й Амурский тупик\\n',\n",
       " '1-й Ангарский проезд\\n',\n",
       " '1-й Андреевский переулок\\n',\n",
       " '1-й Андреевский проезд\\n',\n",
       " '1-й Аникинский переулок\\n',\n",
       " '1-й Апельсиновый тупик\\n',\n",
       " '1-й Аптечный проезд\\n',\n",
       " '1-й Артезианский проезд\\n',\n",
       " '1-й Артельный переулок\\n',\n",
       " '1-й Артельный проезд\\n',\n",
       " '1-й Артиллерийский переулок\\n',\n",
       " '1-й Архангельский переулок\\n',\n",
       " '1-й Архангельский проезд\\n',\n",
       " '1-й Архивный переулок\\n',\n",
       " '1-й Асеевский переулок\\n',\n",
       " '1-й Астровый тупик\\n',\n",
       " '1-й Аткарский проезд\\n',\n",
       " '1-й Атмосферный переулок\\n',\n",
       " '1-й Аэродромный переулок\\n',\n",
       " '1-й Аэрофлотский переулок\\n',\n",
       " '1-й Бабьегородский переулок\\n',\n",
       " '1-й Базарный проезд\\n',\n",
       " '1-й Базовый проезд\\n',\n",
       " '1-й Байкальский переулок\\n',\n",
       " '1-й Бакунинский переулок\\n',\n",
       " '1-й Балашовский переулок\\n',\n",
       " '1-й Балинский переулок\\n',\n",
       " '1-й Балинский проезд\\n',\n",
       " '1-й Балластный переулок\\n',\n",
       " '1-й Балтийский переулок\\n',\n",
       " '1-й Банный переулок\\n',\n",
       " '1-й Барьерный переулок\\n',\n",
       " '1-й Басманный переулок\\n',\n",
       " '1-й Бауманский переулок\\n',\n",
       " '1-й Бахмачеевский проезд\\n',\n",
       " '1-й Башенный переулок\\n',\n",
       " '1-й Беговой переулок\\n',\n",
       " '1-й Безымянный переулок\\n',\n",
       " '1-й Белогорский переулок\\n',\n",
       " '1-й Белозёрский проезд       # см. также Белозерский\\n',\n",
       " '1-й Белокаменный проезд\\n',\n",
       " '1-й Беломорский переулок\\n',\n",
       " '1-й Белорецкий переулок\\n',\n",
       " '1-й Белоусовский переулок\\n',\n",
       " '1-й Белоярский переулок\\n',\n",
       " '1-й Бельский проезд\\n',\n",
       " '1-й Беляницкий переулок\\n',\n",
       " '1-й Береговой переулок\\n',\n",
       " '1-й Береговой проезд\\n',\n",
       " '1-й Березинский переулок\\n',\n",
       " '1-й Березовский переулок\\n',\n",
       " '1-й Берендяковский переулок\\n',\n",
       " '1-й Берёзовый переулок\\n',\n",
       " '1-й Берёзовый проезд\\n',\n",
       " '1-й Берёзовый просек\\n',\n",
       " '1-й Бийский переулок\\n',\n",
       " '1-й Биржевой проезд\\n',\n",
       " '1-й Бирюзовый переулок\\n',\n",
       " '1-й Благоварский переулок\\n',\n",
       " '1-й Благодатный переулок\\n',\n",
       " '1-й Благодатный проезд\\n',\n",
       " '1-й Блочный переулок\\n',\n",
       " '1-й Богородский проезд\\n',\n",
       " '1-й Богучарский переулок\\n',\n",
       " '1-й Бойный переулок\\n',\n",
       " '1-й Болотный переулок\\n',\n",
       " '1-й Больничный переулок\\n',\n",
       " '1-й Больничный проезд\\n',\n",
       " '1-й Большой Московский проезд\\n',\n",
       " '1-й Большой Поливановский проезд\\n',\n",
       " '1-й Большой переулок\\n',\n",
       " '1-й Боровой переулок\\n',\n",
       " '1-й Ботанический переулок\\n',\n",
       " '1-й Ботанический проезд\\n',\n",
       " '1-й Боткинский проезд\\n',\n",
       " '1-й Боцманский переулок\\n',\n",
       " '1-й Брагинский переулок\\n',\n",
       " '1-й Брагинский проезд\\n',\n",
       " '1-й Братский переулок\\n',\n",
       " '1-й Брестский переулок\\n',\n",
       " '1-й Бронницкий переулок\\n',\n",
       " '1-й Бронный переулок\\n',\n",
       " '1-й Брусничный переулок\\n',\n",
       " '1-й Брянский переулок\\n',\n",
       " '1-й Брянский тупик\\n',\n",
       " '1-й Буковый переулок\\n',\n",
       " '1-й Булатовский переулок\\n',\n",
       " '1-й Бульварный переулок\\n',\n",
       " '1-й Буньковский переулок\\n',\n",
       " '1-й Бурцевский переулок\\n',\n",
       " '1-й Бутырский переулок\\n',\n",
       " '1-й Былинный переулок\\n',\n",
       " '1-й Бытовой переулок\\n',\n",
       " '1-й Бытовой проезд\\n',\n",
       " '1-й Вагонный переулок\\n',\n",
       " '1-й Вагонный проезд\\n',\n",
       " '1-й Вакуровский проезд\\n',\n",
       " '1-й Варшавский проезд\\n',\n",
       " '1-й Варяжский переулок\\n',\n",
       " '1-й Ведомственный проезд\\n',\n",
       " '1-й Веерный переулок\\n',\n",
       " '1-й Везельский переулок\\n',\n",
       " '1-й Вертковский переулок\\n',\n",
       " '1-й Верхне-Профинтерновский переулок\\n',\n",
       " '1-й Верхний Михайловский проезд\\n',\n",
       " '1-й Верхний Просветительский проезд # Саратов\\n',\n",
       " '1-й Верхний переулок         # [СПБ3]\\n',\n",
       " '1-й Верхний проезд\\n',\n",
       " '1-й Верхоянский переулок\\n',\n",
       " '1-й Весенний переулок\\n',\n",
       " '1-й Весенний проезд\\n',\n",
       " '1-й Веськовский проезд\\n',\n",
       " '1-й Ветеринарный переулок\\n',\n",
       " '1-й Вешний тупик\\n',\n",
       " '1-й Вешняковский проезд\\n',\n",
       " '1-й Вилюйский проезд\\n',\n",
       " '1-й Владимирский переулок\\n',\n",
       " '1-й Владимирский проезд\\n',\n",
       " '1-й Внутренний тупик\\n',\n",
       " '1-й Водяной переулок\\n',\n",
       " '1-й Воздвиженский переулок\\n',\n",
       " '1-й Войковский проезд\\n',\n",
       " '1-й Вокзальный переулок\\n',\n",
       " '1-й Вокзальный проезд\\n',\n",
       " '1-й Вокзальный тупик\\n',\n",
       " '1-й Волгоградский переулок\\n',\n",
       " '1-й Волгоградский проезд\\n',\n",
       " '1-й Волжский переулок\\n',\n",
       " '1-й Волжский проезд\\n',\n",
       " '1-й Волконский переулок\\n',\n",
       " '1-й Вологодский проезд\\n',\n",
       " '1-й Володарский переулок\\n',\n",
       " '1-й Володин переулок\\n',\n",
       " '1-й Волоколамский проезд\\n',\n",
       " '1-й Волочаевский переулок\\n',\n",
       " '1-й Вольный переулок\\n',\n",
       " '1-й Вольский проезд\\n',\n",
       " '1-й Воркутинский переулок\\n',\n",
       " '1-й Воронежский проезд\\n',\n",
       " '1-й Ворошиловский переулок\\n',\n",
       " '1-й Восточный переулок\\n',\n",
       " '1-й Восточный проезд\\n',\n",
       " '1-й Восточный спуск\\n',\n",
       " '1-й Вражский переулок\\n',\n",
       " '1-й Высокий проезд\\n',\n",
       " '1-й Высоковольтный переулок\\n',\n",
       " '1-й Высотный проезд\\n',\n",
       " '1-й Вышеславцев переулок     # Москва, http://ru.wikipedia.org/wiki/Первый_Вышеславцев_переулок\\n',\n",
       " '1-й Вяземский переулок\\n',\n",
       " '1-й Вязовский проезд\\n',\n",
       " '1-й Газетный переулок\\n',\n",
       " '1-й Газовый переулок\\n',\n",
       " '1-й Газовый проезд\\n',\n",
       " '1-й Газонный переулок\\n',\n",
       " '1-й Галев проезд\\n',\n",
       " '1-й Гаражный проезд\\n',\n",
       " '1-й Гвардейский переулок\\n',\n",
       " '1-й Гвоздильный проезд\\n',\n",
       " '1-й Геологический проезд\\n',\n",
       " '1-й Георгиевский переулок\\n',\n",
       " '1-й Георгиевский проезд\\n',\n",
       " '1-й Глазурный переулок\\n',\n",
       " '1-й Глинковский переулок\\n',\n",
       " '1-й Гоголевский переулок\\n',\n",
       " '1-й Голутвинский переулок\\n',\n",
       " '1-й Гольшанский переулок\\n',\n",
       " '1-й Гончарный переулок\\n',\n",
       " '1-й Гончаровский переулок\\n',\n",
       " '1-й Горноспасательный переулок\\n',\n",
       " '1-й Горный переулок\\n',\n",
       " '1-й Горный проезд\\n',\n",
       " '1-й Горный тупик\\n',\n",
       " '1-й Горняцкий переулок\\n',\n",
       " '1-й Городищенский проезд\\n',\n",
       " '1-й Городской проезд\\n',\n",
       " '1-й Гороховский переулок\\n',\n",
       " '1-й Горский переулок\\n',\n",
       " '1-й Госпитальный переулок\\n',\n",
       " '1-й Гравийный проезд\\n',\n",
       " '1-й Гражданский переулок\\n',\n",
       " '1-й Гражданский проезд\\n',\n",
       " '1-й Грайвороновский проезд\\n',\n",
       " '1-й Граничный переулок\\n',\n",
       " '1-й Граничный проезд\\n',\n",
       " '1-й Гремячий переулок\\n',\n",
       " '1-й Греческий переулок\\n',\n",
       " '1-й Грибной переулок\\n',\n",
       " '1-й Гривенский переулок\\n',\n",
       " '1-й Губернский проезд\\n',\n",
       " '1-й Гусинский переулок\\n',\n",
       " '1-й Гэсстроевский переулок\\n',\n",
       " '1-й Дальний переулок\\n',\n",
       " '1-й Дамасский переулок\\n',\n",
       " '1-й Дачный переулок          # [СПБ4]\\n',\n",
       " '1-й Дачный проезд\\n',\n",
       " '1-й Двинский переулок\\n',\n",
       " '1-й Декабрьский переулок\\n',\n",
       " '1-й Делегатский переулок\\n',\n",
       " '1-й Деловой проезд\\n',\n",
       " '1-й Деповский переулок\\n',\n",
       " '1-й Депутатский переулок\\n',\n",
       " '1-й Дербеневский переулок\\n',\n",
       " '1-й Детский переулок\\n',\n",
       " '1-й Детский проезд\\n',\n",
       " '1-й Дзержинский переулок\\n',\n",
       " '1-й Дивизионный переулок\\n',\n",
       " '1-й Динамовский проезд\\n',\n",
       " '1-й Дмитровский проезд\\n',\n",
       " '1-й Днепровский проезд\\n',\n",
       " '1-й Днепропетровский переулок\\n',\n",
       " '1-й Добролюбовский проезд\\n',\n",
       " '1-й Добрынинский переулок\\n',\n",
       " '1-й Донбасский переулок\\n',\n",
       " '1-й Донецкий переулок\\n',\n",
       " '1-й Донской проезд\\n',\n",
       " '1-й Дорожный переулок\\n',\n",
       " '1-й Дорожный проезд\\n',\n",
       " '1-й Доронинский переулок\\n',\n",
       " '1-й Досуговский проезд       # Смоленск\\n',\n",
       " '1-й Дружный переулок\\n',\n",
       " '1-й Дубковский переулок\\n',\n",
       " '1-й Дубровский переулок\\n',\n",
       " '1-й Дубровский проезд\\n',\n",
       " '1-й Дуванский переулок\\n',\n",
       " '1-й Дунайский переулок\\n',\n",
       " '1-й Духовщинский проезд\\n',\n",
       " '1-й Дюнный переулок\\n',\n",
       " '1-й Дягилевский проезд\\n',\n",
       " '1-й Евдокимовский переулок\\n',\n",
       " '1-й Еланский переулок\\n',\n",
       " '1-й Еловский переулок\\n',\n",
       " '1-й Еловый переулок\\n',\n",
       " '1-й Елшанский тупик\\n',\n",
       " '1-й Ельнинский переулок\\n',\n",
       " '1-й Енисейский переулок\\n',\n",
       " '1-й Есаульский переулок\\n',\n",
       " '1-й Ждановский переулок\\n',\n",
       " '1-й Желанный переулок\\n',\n",
       " '1-й Железнодорожный переулок\\n',\n",
       " '1-й Железнодорожный тупик\\n',\n",
       " '1-й Журавлиный переулок\\n',\n",
       " '1-й Жёлтиковский проезд\\n',\n",
       " '1-й Забавный тупик\\n',\n",
       " '1-й Заветный переулок\\n',\n",
       " '1-й Заводской переулок\\n',\n",
       " '1-й Заводской проезд\\n',\n",
       " '1-й Завокзальный переулок\\n',\n",
       " '1-й Заволжский переулок\\n',\n",
       " '1-й Загородный проезд\\n',\n",
       " '1-й Загорский переулок\\n',\n",
       " '1-й Загорский проезд\\n',\n",
       " '1-й Заезжий проезд\\n',\n",
       " '1-й Заозёрный переулок\\n',\n",
       " '1-й Западный переулок\\n',\n",
       " '1-й Западный проезд\\n',\n",
       " '1-й Заповедный тупик\\n',\n",
       " '1-й Запорожский переулок\\n',\n",
       " '1-й Запрудный переулок\\n',\n",
       " '1-й Заречный переулок\\n',\n",
       " '1-й Заречный проезд\\n',\n",
       " '1-й Заречный тупик\\n',\n",
       " '1-й Затонский переулок\\n',\n",
       " '1-й Зачатьевский переулок\\n',\n",
       " '1-й Зборовский переулок\\n',\n",
       " '1-й Звонкий переулок\\n',\n",
       " '1-й Звёздный переулок\\n',\n",
       " '1-й Звёздный проезд\\n',\n",
       " '1-й Зеленодольский тупик     # Саратов\\n',\n",
       " '1-й Зеленхозовский переулок\\n',\n",
       " '1-й Зелёный переулок\\n',\n",
       " '1-й Зелёный проезд\\n',\n",
       " '1-й Земельный переулок\\n',\n",
       " '1-й Земледельческий переулок\\n',\n",
       " '1-й Земляничный проезд\\n',\n",
       " '1-й Зерновой проезд\\n',\n",
       " '1-й Зимний переулок\\n',\n",
       " '1-й Знаменский переулок\\n',\n",
       " '1-й Знаменский проезд\\n',\n",
       " '1-й Зональный проезд\\n',\n",
       " '1-й Зубцовский переулок\\n',\n",
       " '1-й Иваньковский переулок\\n',\n",
       " '1-й Ижевский переулок\\n',\n",
       " '1-й Извозный переулок\\n',\n",
       " '1-й Измайловский переулок\\n',\n",
       " '1-й Изумрудный проезд\\n',\n",
       " '1-й Ильинский переулок\\n',\n",
       " '1-й Индивидуальный переулок\\n',\n",
       " '1-й Индустриальный переулок\\n',\n",
       " '1-й Индустриальный проезд\\n',\n",
       " '1-й Инженерный проезд\\n',\n",
       " '1-й Институтский переулок\\n',\n",
       " '1-й Институтский проезд\\n',\n",
       " '1-й Инструментальный переулок\\n',\n",
       " '1-й Интернациональный переулок\\n',\n",
       " '1-й Инфекционный переулок\\n',\n",
       " '1-й Ипподромный проезд\\n',\n",
       " '1-й Ирининский переулок\\n',\n",
       " '1-й Иртышский проезд\\n',\n",
       " '1-й Июльский переулок\\n',\n",
       " '1-й Кабельный проезд\\n',\n",
       " '1-й Кавказский переулок\\n',\n",
       " '1-й Кавказский тупик\\n',\n",
       " '1-й Кадашёвский переулок     # Москва, http://ru.wikipedia.org/wiki/Первый_Кадашёвский_переулок\\n',\n",
       " '1-й Кадетский переулок\\n',\n",
       " '1-й Казанский переулок\\n',\n",
       " '1-й Казанский проезд\\n',\n",
       " '1-й Казанский просек\\n',\n",
       " '1-й Казачий переулок\\n',\n",
       " '1-й Календарный переулок\\n',\n",
       " '1-й Калининский переулок\\n',\n",
       " '1-й Калиновский проезд\\n',\n",
       " '1-й Калужский переулок\\n',\n",
       " '1-й Калужский проезд\\n',\n",
       " '1-й Каменный переулок\\n',\n",
       " '1-й Каменогорский переулок\\n',\n",
       " '1-й Камский переулок\\n',\n",
       " '1-й Камышинский проезд\\n',\n",
       " '1-й Камышинский тупик\\n',\n",
       " '1-й Камышовый переулок\\n',\n",
       " '1-й Канатный переулок\\n',\n",
       " '1-й Капотнинский проезд\\n',\n",
       " '1-й Карачаровский проезд\\n',\n",
       " '1-й Каретный переулок\\n',\n",
       " '1-й Карпатский переулок\\n',\n",
       " '1-й Карповский переулок\\n',\n",
       " '1-й Карьерный переулок\\n',\n",
       " '1-й Карьерный проезд\\n',\n",
       " '1-й Катерный переулок\\n',\n",
       " '1-й Каховский переулок\\n',\n",
       " '1-й Каштановый переулок\\n',\n",
       " '1-й Каштановый проезд\\n',\n",
       " '1-й Квартальный проезд\\n',\n",
       " '1-й Кемеровский переулок\\n',\n",
       " '1-й Керамзитный переулок\\n',\n",
       " '1-й Киевский переулок\\n',\n",
       " '1-й Кирилловский переулок\\n',\n",
       " '1-й Кировский проезд\\n',\n",
       " '1-й Кирпичный переулок\\n',\n",
       " '1-й Кирпичный проезд\\n',\n",
       " '1-й Кладовый переулок\\n',\n",
       " '1-й Кленовый переулок\\n',\n",
       " '1-й Клинский переулок\\n',\n",
       " '1-й Клочков переулок\\n',\n",
       " '1-й Клубный переулок\\n',\n",
       " '1-й Клубный проезд\\n',\n",
       " '1-й Ключевой переулок\\n',\n",
       " '1-й Ключевой проезд\\n',\n",
       " '1-й Кожевенный переулок\\n',\n",
       " '1-й Кожевнический переулок\\n',\n",
       " '1-й Кожуховский проезд\\n',\n",
       " '1-й Коллективный переулок\\n',\n",
       " '1-й Коллективный проезд\\n',\n",
       " '1-й Колобовский переулок\\n',\n",
       " '1-й Колокольный переулок\\n',\n",
       " '1-й Коломенский переулок\\n',\n",
       " '1-й Коломенский проезд\\n',\n",
       " '1-й Колхозный переулок\\n',\n",
       " '1-й Колхозный проезд\\n',\n",
       " '1-й Кольский переулок\\n',\n",
       " '1-й Кольцевой проезд\\n',\n",
       " '1-й Колюбакинский проезд\\n',\n",
       " '1-й Коммунальный переулок\\n',\n",
       " '1-й Коммунальный проезд\\n',\n",
       " '1-й Коммунальный тупик\\n',\n",
       " '1-й Коммунистический переулок\\n',\n",
       " '1-й Комсомольский переулок\\n',\n",
       " '1-й Комсомольский проезд\\n',\n",
       " '1-й Кооперативный переулок\\n',\n",
       " '1-й Кооперативный проезд\\n',\n",
       " '1-й Коптельский переулок\\n',\n",
       " '1-й Корабельный переулок\\n',\n",
       " '1-й Кореновский проезд\\n',\n",
       " '1-й Коренёвский тупик\\n',\n",
       " '1-й Короткий переулок\\n',\n",
       " '1-й Корсаковский переулок\\n',\n",
       " '1-й Котельницкий переулок\\n',\n",
       " '1-й Котельнический переулок\\n',\n",
       " '1-й Котлозаводской переулок\\n',\n",
       " '1-й Котляковский переулок\\n',\n",
       " '1-й Крайний проезд\\n',\n",
       " '1-й Красивый переулок\\n',\n",
       " '1-й Красковский проезд\\n',\n",
       " '1-й Красноармейский переулок\\n',\n",
       " '1-й Красноармейский проезд\\n',\n",
       " '1-й Красногвардейский переулок\\n',\n",
       " '1-й Красногвардейский проезд\\n',\n",
       " '1-й Красногородский переулок\\n',\n",
       " '1-й Красногорский переулок\\n',\n",
       " '1-й Красногорский проезд\\n',\n",
       " '1-й Краснодонский переулок\\n',\n",
       " '1-й Краснознамённый проезд\\n',\n",
       " '1-й Краснокурсантский проезд\\n',\n",
       " '1-й Краснополянский переулок\\n',\n",
       " '1-й Красносельский переулок\\n',\n",
       " '1-й Красносельский проезд\\n',\n",
       " '1-й Краснофлотский переулок\\n',\n",
       " '1-й Красноярский переулок    # Ульяновск\\n',\n",
       " '1-й Красный переулок\\n',\n",
       " '1-й Красочный тупик\\n',\n",
       " '1-й Крекингский проезд\\n',\n",
       " '1-й Крекингский тупик\\n',\n",
       " '1-й Кремовый тупик\\n',\n",
       " '1-й Крепостной переулок\\n',\n",
       " '1-й Крестьянский проезд\\n',\n",
       " '1-й Кривичский переулок\\n',\n",
       " '1-й Круговой переулок\\n',\n",
       " '1-й Крутицкий переулок\\n',\n",
       " '1-й Крымский переулок\\n',\n",
       " '1-й Крымский проезд\\n',\n",
       " '1-й Кубанский переулок\\n',\n",
       " '1-й Кубанский проезд\\n',\n",
       " '1-й Кузнечный проезд\\n',\n",
       " '1-й Кузьминский переулок\\n',\n",
       " '1-й Кулинарный переулок\\n',\n",
       " '1-й Купальный переулок       # [СПБ4]\\n',\n",
       " '1-й Курьяновский переулок\\n',\n",
       " '1-й Курьяновский проезд\\n',\n",
       " '1-й Кустарный переулок\\n',\n",
       " '1-й Кутузовский переулок\\n',\n",
       " '1-й Кутузовский проезд\\n',\n",
       " '1-й Лабинский проезд\\n',\n",
       " '1-й Лавандовый проезд\\n',\n",
       " '1-й Лавандовый тупик\\n',\n",
       " '1-й Лавский переулок\\n',\n",
       " '1-й Лагерный переулок\\n',\n",
       " '1-й Лагерный проезд\\n',\n",
       " '1-й Лазоревый переулок\\n',\n",
       " '1-й Лазурный переулок\\n',\n",
       " '1-й Ландшафтный переулок\\n',\n",
       " '1-й Ласковый тупик\\n',\n",
       " '1-й Леденцовский переулок\\n',\n",
       " '1-й Ленинградский переулок\\n',\n",
       " '1-й Ленинградский проезд\\n',\n",
       " '1-й Ленинский переулок\\n',\n",
       " '1-й Ленинский проезд\\n',\n",
       " '1-й Лермонтовский переулок\\n',\n",
       " '1-й Лермонтовский проезд\\n',\n",
       " '1-й Лесной проезд\\n',\n",
       " '1-й Лесной просек\\n',\n",
       " '1-й Лесной тупик\\n',\n",
       " '1-й Лесозащитный переулок\\n',\n",
       " '1-й Лесозащитный проезд\\n',\n",
       " '1-й Лесопильный тупик\\n',\n",
       " '1-й Летний переулок\\n',\n",
       " '1-й Линейный переулок\\n',\n",
       " '1-й Линейный проезд\\n',\n",
       " '1-й Липовый переулок\\n',\n",
       " '1-й Лирический переулок\\n',\n",
       " '1-й Лиственный переулок\\n',\n",
       " '1-й Листопадный переулок\\n',\n",
       " '1-й Листопадный проезд\\n',\n",
       " '1-й Литературный проезд\\n',\n",
       " '1-й Литовский проезд\\n',\n",
       " '1-й Лихачёвский переулок\\n',\n",
       " '1-й Лобинский переулок\\n',\n",
       " '1-й Лозовой переулок\\n',\n",
       " '1-й Локаторный переулок\\n',\n",
       " '1-й Локомотивный переулок\\n',\n",
       " '1-й Ломоносовский проезд\\n',\n",
       " '1-й Лопатинский проезд\\n',\n",
       " '1-й Луговой переулок\\n',\n",
       " '1-й Луговой проезд\\n',\n",
       " '1-й Лучевой переулок\\n',\n",
       " '1-й Лучевой проезд\\n',\n",
       " '1-й Лучевой просек\\n',\n",
       " '1-й Лучевой тупик\\n',\n",
       " '1-й Лучистый проезд\\n',\n",
       " '1-й Лыковский проезд\\n',\n",
       " '1-й Льнозаводской переулок\\n',\n",
       " '1-й Льняной переулок\\n',\n",
       " '1-й Любажский переулок\\n',\n",
       " '1-й Люберецкий проезд\\n',\n",
       " '1-й Люсиновский переулок\\n',\n",
       " '1-й Лётный переулок\\n',\n",
       " '1-й Магистральный переулок\\n',\n",
       " '1-й Магистральный проезд\\n',\n",
       " '1-й Магистральный тупик\\n',\n",
       " '1-й Магнитный проезд\\n',\n",
       " '1-й Майский переулок\\n',\n",
       " '1-й Майский тупик\\n',\n",
       " '1-й Малаховский проезд\\n',\n",
       " '1-й Малиновый переулок\\n',\n",
       " '1-й Малиновый проезд\\n',\n",
       " '1-й Малополивановский тупик\\n',\n",
       " '1-й Малопрудный проезд\\n',\n",
       " '1-й Малый Приморский проезд\\n',\n",
       " '1-й Малый Северный проезд\\n',\n",
       " '1-й Малый переулок\\n',\n",
       " '1-й Малый проезд\\n',\n",
       " '1-й Манежный переулок\\n',\n",
       " '1-й Маратовский проезд\\n',\n",
       " '1-й Мариупольский переулок\\n',\n",
       " '1-й Марочный переулок\\n',\n",
       " '1-й Мартовский переулок\\n',\n",
       " '1-й Марусинский переулок\\n',\n",
       " '1-й Материальный переулок\\n',\n",
       " '1-й Матросовский переулок\\n',\n",
       " '1-й Машиностроительный переулок\\n',\n",
       " '1-й Мебельный переулок\\n',\n",
       " '1-й Мебельный проезд\\n',\n",
       " '1-й Медицинский переулок\\n',\n",
       " '1-й Международный проезд\\n',\n",
       " '1-й Межовражный проезд\\n',\n",
       " '1-й Мелиоративный переулок\\n',\n",
       " '1-й Мелиховский переулок\\n',\n",
       " '1-й Меловой проезд\\n',\n",
       " '1-й Мельничный переулок\\n',\n",
       " '1-й Мельничный проезд\\n',\n",
       " '1-й Менделеевский переулок\\n',\n",
       " '1-й Мервинский проезд\\n',\n",
       " '1-й Мигаловский проезд\\n',\n",
       " '1-й Милиционный переулок\\n',\n",
       " '1-й Минский переулок\\n',\n",
       " '1-й Минский проезд\\n',\n",
       " '1-й Миргородский переулок\\n',\n",
       " '1-й Мирный переулок\\n',\n",
       " '1-й Мирный проезд\\n',\n",
       " '1-й Митинский переулок\\n',\n",
       " '1-й Михайловский проезд\\n',\n",
       " '1-й Михельсоновский проезд\\n',\n",
       " '1-й Мичуринский переулок\\n',\n",
       " '1-й Мичуринский проезд\\n',\n",
       " '1-й Мичуринский тупик\\n',\n",
       " '1-й Можайский тупик\\n',\n",
       " '1-й Моковский переулок\\n',\n",
       " '1-й Моковский проезд\\n',\n",
       " '1-й Молодогвардейский переулок\\n',\n",
       " '1-й Молодёжный переулок\\n',\n",
       " '1-й Молодёжный проезд\\n',\n",
       " '1-й Монастырский переулок\\n',\n",
       " '1-й Монетный переулок\\n',\n",
       " '1-й Монетчиковский переулок\\n',\n",
       " '1-й Монтажный переулок\\n',\n",
       " '1-й Монтажный проезд\\n',\n",
       " '1-й Москворецкий переулок\\n',\n",
       " '1-й Московский переулок\\n',\n",
       " '1-й Московский проезд\\n',\n",
       " '1-й Мостовой переулок\\n',\n",
       " '1-й Моторный проезд\\n',\n",
       " '1-й Мстихинский переулок     # д. Мстихино, Калужская обл.\\n',\n",
       " '1-й Мурманский проезд\\n',\n",
       " '1-й Муромский переулок\\n',\n",
       " '1-й Мытищинский переулок\\n',\n",
       " '1-й Мытный переулок\\n',\n",
       " '1-й Мясницкий проезд\\n',\n",
       " '1-й Набережный переулок\\n',\n",
       " '1-й Набережный проезд\\n',\n",
       " '1-й Набережный тупик\\n',\n",
       " '1-й Нагатинский проезд\\n',\n",
       " '1-й Нагорный переулок\\n',\n",
       " '1-й Нагорный проезд\\n',\n",
       " '1-й Наклонный переулок\\n',\n",
       " '1-й Нарвский переулок\\n',\n",
       " '1-й Народный переулок\\n',\n",
       " '1-й Насосный переулок\\n',\n",
       " '1-й Насыпной переулок\\n',\n",
       " '1-й Национальный переулок\\n',\n",
       " '1-й Невьянский переулок\\n',\n",
       " '1-й Некрасовский переулок\\n',\n",
       " '1-й Некрасовский проезд\\n',\n",
       " '1-й Неопалимовский переулок\\n',\n",
       " '1-й Непроезжий переулок\\n',\n",
       " '1-й Нефтезаводской проезд\\n',\n",
       " '1-й Нефтяной переулок\\n',\n",
       " '1-й Нижнелихоборский проезд\\n',\n",
       " '1-й Нижний Луговой переулок\\n',\n",
       " '1-й Нижний Михайловский проезд\\n',\n",
       " '1-й Нижний Просветительский проезд # Саратов\\n',\n",
       " '1-й Нижний переулок\\n',\n",
       " '1-й Нижний проезд\\n',\n",
       " '1-й Николощеповский переулок\\n',\n",
       " '1-й Новаторский переулок\\n',\n",
       " '1-й Новгородский переулок\\n',\n",
       " '1-й Новоавтобусный тупик\\n',\n",
       " '1-й Новоездоцкий переулок\\n',\n",
       " '1-й Новокузнецкий переулок\\n',\n",
       " '1-й Новомихалковский проезд\\n',\n",
       " '1-й Новопавловский проезд\\n',\n",
       " '1-й Новоподмосковный переулок\\n',\n",
       " '1-й Новостроевский переулок\\n',\n",
       " '1-й Новосёловский переулок\\n',\n",
       " '1-й Новотихвинский переулок\\n',\n",
       " '1-й Новоузенский проезд\\n',\n",
       " '1-й Новый переулок\\n',\n",
       " '1-й Новый проезд\\n',\n",
       " '1-й Ногинский проезд\\n',\n",
       " '1-й Норильский переулок\\n',\n",
       " '1-й Ноябрьский переулок\\n',\n",
       " '1-й Облепиховый тупик\\n',\n",
       " '1-й Оборонный переулок\\n',\n",
       " '1-й Образный переулок\\n',\n",
       " '1-й Образцовый переулок\\n',\n",
       " '1-й Обуховский переулок\\n',\n",
       " '1-й Обыденский переулок\\n',\n",
       " '1-й Овражный переулок\\n',\n",
       " '1-й Овражный проезд\\n',\n",
       " '1-й Огородный переулок\\n',\n",
       " '1-й Огородный проезд\\n',\n",
       " '1-й Огородный тупик\\n',\n",
       " '1-й Одесский переулок\\n',\n",
       " '1-й Одесский проезд\\n',\n",
       " '1-й Озимый переулок\\n',\n",
       " '1-й Озёрный переулок\\n',\n",
       " '1-й Окольный проезд\\n',\n",
       " '1-й Окружной переулок\\n',\n",
       " '1-й Окружной проезд\\n',\n",
       " '1-й Октябрьский переулок\\n',\n",
       " '1-й Октябрьский проезд\\n',\n",
       " '1-й Ольховский переулок\\n',\n",
       " '1-й Ольховский тупик\\n',\n",
       " '1-й Омский переулок\\n',\n",
       " '1-й Онежский проезд\\n',\n",
       " '1-й Опытный переулок\\n',\n",
       " '1-й Оранжерейный проезд\\n',\n",
       " '1-й Оренбургский переулок\\n',\n",
       " '1-й Орловский переулок\\n',\n",
       " '1-й Осенний переулок\\n',\n",
       " '1-й Осенний проезд\\n',\n",
       " '1-й Осиновский переулок\\n',\n",
       " '1-й Осташковский переулок\\n',\n",
       " '1-й Островной проезд\\n',\n",
       " '1-й Островский переулок\\n',\n",
       " '1-й Островский проезд\\n',\n",
       " '1-й Отрадный тупик\\n',\n",
       " '1-й Офицерский проезд\\n',\n",
       " '1-й Охотничий проезд\\n',\n",
       " '1-й Охотский переулок\\n',\n",
       " '1-й Очаковский переулок\\n',\n",
       " '1-й Павелецкий проезд\\n',\n",
       " '1-й Павловский переулок\\n',\n",
       " '1-й Павловский проезд\\n',\n",
       " '1-й Павловский тупик\\n',\n",
       " '1-й Падунский переулок\\n',\n",
       " '1-й Панковский проезд\\n',\n",
       " '1-й Панкратьевский проезд\\n',\n",
       " '1-й Параллельный проезд\\n',\n",
       " '1-й Паркетный переулок\\n',\n",
       " '1-й Парковский переулок\\n',\n",
       " '1-й Парковый переулок\\n',\n",
       " '1-й Парковый проезд\\n',\n",
       " '1-й Парковый тупик\\n',\n",
       " '1-й Парный переулок\\n',\n",
       " '1-й Паровозный переулок\\n',\n",
       " '1-й Паромный переулок\\n',\n",
       " '1-й Партизанский переулок\\n',\n",
       " '1-й Пейзажный переулок\\n',\n",
       " '1-й Пенягинский проезд\\n',\n",
       " '1-й Первомайский переулок\\n',\n",
       " '1-й Первомайский проезд\\n',\n",
       " '1-й Первомайский тупик\\n',\n",
       " '1-й Переходный переулок\\n',\n",
       " '1-й Пермский переулок\\n',\n",
       " '1-й Перовский переулок\\n',\n",
       " '1-й Перспективный проезд\\n',\n",
       " '1-й Песоченский проезд\\n',\n",
       " '1-й Песочный переулок\\n',\n",
       " '1-й Песочный проезд\\n',\n",
       " '1-й Песчаный переулок\\n',\n",
       " '1-й Петровский проезд\\n',\n",
       " '1-й Петропавловский переулок\\n',\n",
       " '1-й Пехотный переулок\\n',\n",
       " '1-й Пикетный переулок\\n',\n",
       " '1-й Пилотный переулок\\n',\n",
       " '1-й Пионерский переулок\\n',\n",
       " '1-й Пионерский проезд\\n',\n",
       " '1-й Пироговский проезд\\n',\n",
       " '1-й Писцовский переулок\\n',\n",
       " '1-й Пихтовый переулок\\n',\n",
       " '1-й Пищевой переулок\\n',\n",
       " '1-й Планерный переулок\\n',\n",
       " '1-й Пластунский проезд\\n',\n",
       " '1-й Плотничный переулок\\n',\n",
       " '1-й Погожий переулок\\n',\n",
       " '1-й Пограничный переулок\\n',\n",
       " '1-й Подгорный переулок\\n',\n",
       " '1-й Подгорный проезд\\n',\n",
       " '1-й Подольский переулок\\n',\n",
       " '1-й Подшипниковый проезд\\n',\n",
       " '1-й Подъёмный переулок\\n',\n",
       " '1-й Пожарный переулок\\n',\n",
       " '1-й Пожарный проезд\\n',\n",
       " '1-й Поклонный переулок\\n',\n",
       " '1-й Покровский переулок\\n',\n",
       " '1-й Покровский проезд\\n',\n",
       " '1-й Полевой переулок\\n',\n",
       " '1-й Полевой проезд\\n',\n",
       " '1-й Полиграфический переулок\\n',\n",
       " '1-й Полтавский переулок\\n',\n",
       " '1-й Полярный переулок\\n',\n",
       " '1-й Полярный проезд\\n',\n",
       " '1-й Понятовский переулок     # Ершичи, Смоленская обл.\\n',\n",
       " '1-й Поперечный переулок\\n',\n",
       " '1-й Поперечный проезд\\n',\n",
       " '1-й Порт-Артурский переулок\\n',\n",
       " '1-й Портовый переулок\\n',\n",
       " '1-й Порядковый переулок\\n',\n",
       " '1-й Порядковый тупик\\n',\n",
       " '1-й Посадский проезд\\n',\n",
       " '1-й Поселковый переулок\\n',\n",
       " '1-й Поселковый проезд\\n',\n",
       " '1-й Почтовый переулок\\n',\n",
       " '1-й Почтовый проезд\\n',\n",
       " '1-й Поэтический переулок\\n',\n",
       " '1-й Преображенский переулок\\n',\n",
       " '1-й Прессовый проезд\\n',\n",
       " '1-й Престольный проезд\\n',\n",
       " '1-й Прибрежный переулок\\n',\n",
       " '1-й Приветливый переулок\\n',\n",
       " '1-й Привокзальный переулок\\n',\n",
       " '1-й Привокзальный проезд\\n',\n",
       " '1-й Пригородный переулок\\n',\n",
       " '1-й Пригородный проезд\\n',\n",
       " '1-й Придонский переулок\\n',\n",
       " '1-й Придорожный проезд\\n',\n",
       " '1-й Приморский переулок\\n',\n",
       " '1-й Приморский проезд\\n',\n",
       " '1-й Приречный переулок\\n',\n",
       " '1-й Пристанской проезд\\n',\n",
       " '1-й Прогонный переулок\\n',\n",
       " '1-й Продольный переулок\\n',\n",
       " '1-й Проездной переулок\\n',\n",
       " '1-й Проезжий переулок\\n',\n",
       " '1-й Производственный проезд\\n',\n",
       " '1-й Прокатный переулок\\n',\n",
       " '1-й Пролетарский переулок\\n',\n",
       " '1-й Пролетарский тупик\\n',\n",
       " '1-й Промышленный переулок\\n',\n",
       " '1-й Промышленный проезд\\n',\n",
       " '1-й Просторный переулок\\n',\n",
       " '1-й Просяной проезд\\n',\n",
       " '1-й Профессиональный переулок\\n',\n",
       " '1-й Профсоюзный переулок\\n',\n",
       " '1-й Прудный проезд\\n',\n",
       " '1-й Пугачёвский проезд\\n',\n",
       " '1-й Путеводный переулок\\n',\n",
       " '1-й Путепроводный переулок\\n',\n",
       " '1-й Пушкарный переулок\\n',\n",
       " '1-й Пушкарский переулок\\n',\n",
       " '1-й Пушкинский переулок\\n',\n",
       " '1-й Пятницкий переулок\\n',\n",
       " '1-й Рабочий переулок\\n',\n",
       " '1-й Радиаторный переулок\\n',\n",
       " '1-й Радищевский проезд\\n',\n",
       " '1-й Радужный проезд\\n',\n",
       " '1-й Раздельный переулок\\n',\n",
       " '1-й Раздельный проезд\\n',\n",
       " '1-й Раздольный переулок\\n',\n",
       " '1-й Раскатный переулок\\n',\n",
       " '1-й Рассветный переулок\\n',\n",
       " '1-й Раушский переулок\\n',\n",
       " '1-й Революционный переулок\\n',\n",
       " '1-й Резервный проезд\\n',\n",
       " '1-й Рекордный переулок\\n',\n",
       " '1-й Ремонтный проезд\\n',\n",
       " '1-й Республиканский переулок\\n',\n",
       " '1-й Речной переулок\\n',\n",
       " '1-й Речной проезд\\n',\n",
       " '1-й Ржевский переулок\\n',\n",
       " '1-й Рижский переулок\\n',\n",
       " '1-й Рижский тупик\\n',\n",
       " '1-й Ровенский проезд         # Саратов\\n',\n",
       " '1-й Ровный переулок\\n',\n",
       " '1-й Родниковый переулок\\n',\n",
       " '1-й Рожденственский тупик\\n',\n",
       " '1-й Рождественский переулок\\n',\n",
       " '1-й Ромашковый переулок\\n',\n",
       " '1-й Ромашковый тупик\\n',\n",
       " '1-й Российский переулок\\n',\n",
       " '1-й Ростовский переулок\\n',\n",
       " '1-й Рощинский проезд\\n',\n",
       " '1-й Рупасовский переулок\\n',\n",
       " '1-й Русанцевский переулок\\n',\n",
       " '1-й Ручейный тупик\\n',\n",
       " '1-й Рыбинский проезд\\n',\n",
       " '1-й Рядовой переулок\\n',\n",
       " '1-й Рязанский проезд\\n',\n",
       " '1-й Сабанеевский переулок\\n',\n",
       " '1-й Савельевский тупик       # Саратов\\n',\n",
       " '1-й Садовый переулок\\n',\n",
       " '1-й Садовый проезд\\n',\n",
       " '1-й Сайсарский переулок      # Якутск\\n',\n",
       " '1-й Салтыковский проезд\\n',\n",
       " '1-й Самарский переулок\\n',\n",
       " '1-й Самобытный переулок\\n',\n",
       " '1-й Самотёчный переулок      # Москва, http://ru.wikipedia.org/wiki/1-й_Самотёчный_переулок\\n',\n",
       " '1-й Санаторный проезд\\n',\n",
       " '1-й Санитарный проезд        # Пенза\\n',\n",
       " '1-й Сапёрный проезд\\n',\n",
       " '1-й Сарапульский переулок\\n',\n",
       " '1-й Саратовский переулок\\n',\n",
       " '1-й Саратовский проезд\\n',\n",
       " '1-й Свердловский переулок\\n',\n",
       " '1-й Светлановский проезд\\n',\n",
       " '1-й Светланский проезд\\n',\n",
       " '1-й Светлый проезд\\n',\n",
       " '1-й Свинцовый переулок\\n',\n",
       " '1-й Свинцовый проезд\\n',\n",
       " '1-й Свирский переулок\\n',\n",
       " '1-й Свирский проезд\\n',\n",
       " '1-й Свободный переулок\\n',\n",
       " '1-й Связной переулок\\n',\n",
       " '1-й Севастопольский переулок\\n',\n",
       " '1-й Севастопольский проезд\\n',\n",
       " '1-й Северный переулок\\n',\n",
       " '1-й Северный проезд\\n',\n",
       " '1-й Северный тупик\\n',\n",
       " '1-й Северо-Крымский переулок # Челябинск\\n',\n",
       " '1-й Северский переулок\\n',\n",
       " '1-й Секиотовский проезд      # Калуга\\n',\n",
       " '1-й Селецкий проезд\\n',\n",
       " '1-й Селищенский проезд\\n',\n",
       " '1-й Сельский переулок        # Ульяновск\\n',\n",
       " '1-й Сельскохозяйственный проезд\\n',\n",
       " '1-й Семейный переулок\\n',\n",
       " '1-й Семиреченский переулок\\n',\n",
       " '1-й Сенной переулок\\n',\n",
       " '1-й Сенной проезд\\n',\n",
       " '1-й Сентябрьский проезд\\n',\n",
       " '1-й Серединский переулок\\n',\n",
       " '1-й Серноводский тупик\\n',\n",
       " '1-й Сетуньский проезд\\n',\n",
       " '1-й Сибирский переулок\\n',\n",
       " '1-й Сивашский переулок\\n',\n",
       " '1-й Силикатный переулок\\n',\n",
       " '1-й Силикатный проезд\\n',\n",
       " '1-й Симбирский проезд\\n',\n",
       " '1-й Симферопольский переулок\\n',\n",
       " '1-й Сиреневый переулок\\n',\n",
       " '1-й Сиреневый проезд\\n',\n",
       " '1-й Сказочный проезд\\n',\n",
       " '1-й Скачковский переулок\\n',\n",
       " '1-й Сквозной переулок\\n',\n",
       " '1-й Складской проезд         # Пенза\\n',\n",
       " '1-й Славянский переулок\\n',\n",
       " '1-й Славянский проезд\\n',\n",
       " '1-й Слободской переулок\\n',\n",
       " '1-й Слободской проезд\\n',\n",
       " '1-й Смежный переулок\\n',\n",
       " '1-й Смоленский переулок\\n',\n",
       " '1-й Смоленский проезд\\n',\n",
       " '1-й Сморговский переулок\\n',\n",
       " '1-й Снайперский переулок\\n',\n",
       " '1-й Снежный переулок\\n',\n",
       " '1-й Советский переулок\\n',\n",
       " '1-й Советский проезд\\n',\n",
       " '1-й Советский проспект\\n',\n",
       " '1-й Современный проезд\\n',\n",
       " '1-й Совхозный переулок\\n',\n",
       " '1-й Совхозный проезд\\n',\n",
       " '1-й Соколовогорский проезд\\n',\n",
       " '1-й Солдатский переулок\\n',\n",
       " '1-й Солдатский проезд\\n',\n",
       " '1-й Соликамский проезд\\n',\n",
       " '1-й Солнечный переулок\\n',\n",
       " '1-й Соловьиный переулок\\n',\n",
       " '1-й Сормовский переулок\\n',\n",
       " '1-й Сорокинский переулок\\n',\n",
       " '1-й Сортировочный проезд\\n',\n",
       " '1-й Сосенский проезд\\n',\n",
       " '1-й Сосновый проезд\\n',\n",
       " '1-й Софийский переулок\\n',\n",
       " '1-й Социалистический переулок\\n',\n",
       " '1-й Спасоналивковский переулок\\n',\n",
       " '1-й Спортивный переулок\\n',\n",
       " '1-й Спортивный проезд\\n',\n",
       " '1-й Спутниковый переулок\\n',\n",
       " '1-й Средний переулок\\n',\n",
       " '1-й Средний проезд\\n',\n",
       " '1-й Ставропольский переулок\\n',\n",
       " '1-й Стадионный переулок\\n',\n",
       " '1-й Станкостроительный проезд\\n',\n",
       " '1-й Становой проезд\\n',\n",
       " '1-й Станочный переулок\\n',\n",
       " '1-й Станционный проезд\\n',\n",
       " '1-й Старогородский переулок\\n',\n",
       " '1-й Старосадский проезд\\n',\n",
       " '1-й Стеклозаводской переулок\\n',\n",
       " '1-й Стекольный переулок\\n',\n",
       " '1-й Степной переулок\\n',\n",
       " '1-й Степной проезд\\n',\n",
       " '1-й Стимульный переулок\\n',\n",
       " '1-й Сторожевой проезд\\n',\n",
       " '1-й Стрелецкий переулок\\n',\n",
       " '1-й Стрелецкий проезд\\n',\n",
       " '1-й Стремительный переулок\\n',\n",
       " '1-й Строительный переулок\\n',\n",
       " '1-й Строительный проезд\\n',\n",
       " '1-й Студенческий проезд\\n',\n",
       " '1-й Студёный проезд\\n',\n",
       " '1-й Суворовский переулок\\n',\n",
       " '1-й Судостроительный путепровод\\n',\n",
       " '1-й Суздальский переулок\\n',\n",
       " '1-й Сургутский переулок      # Белгород\\n',\n",
       " '1-й Суриковский переулок\\n',\n",
       " '1-й Сухой переулок\\n',\n",
       " '1-й Сухоложский проезд\\n',\n",
       " '1-й Сухумский переулок\\n',\n",
       " '1-й Сыромятнический переулок\\n',\n",
       " '1-й Сысоевский проезд\\n',\n",
       " '1-й Таврический проезд\\n',\n",
       " '1-й Таганрогский переулок\\n',\n",
       " '1-й Тайнинский переулок\\n',\n",
       " '1-й Таманский переулок\\n',\n",
       " '1-й Ташкалинский переулок    # Грозный\\n',\n",
       " '1-й Тверской-Ямской переулок\\n',\n",
       " '1-й Твёрдый переулок\\n',\n",
       " '1-й Театральный переулок\\n',\n",
       " '1-й Театральный проезд\\n',\n",
       " '1-й Текстильный переулок\\n',\n",
       " '1-й Текстильный проезд\\n',\n",
       " '1-й Телевизионный переулок\\n',\n",
       " '1-й Телевизионный проезд\\n',\n",
       " '1-й Телевизорный переулок\\n',\n",
       " '1-й Телеграфный проезд\\n',\n",
       " '1-й Тенистый переулок\\n',\n",
       " '1-й Тепличный проезд\\n',\n",
       " '1-й Тепловозный переулок\\n',\n",
       " '1-й Терновый переулок\\n',\n",
       " '1-й Технотканский проезд\\n',\n",
       " '1-й Тиражный переулок\\n',\n",
       " '1-й Тихвинский переулок\\n',\n",
       " '1-й Тихвинский тупик\\n',\n",
       " '1-й Тихий переулок\\n',\n",
       " '1-й Тихий тупик\\n',\n",
       " '1-й Тихорецкий переулок\\n',\n",
       " '1-й Тихорецкий проезд\\n',\n",
       " '1-й Ткацкий переулок\\n',\n",
       " '1-й Ткацкий проезд\\n',\n",
       " '1-й Товарный переулок\\n',\n",
       " '1-й Токмаковский тупик\\n',\n",
       " '1-й Толстовский переулок\\n',\n",
       " '1-й Томский переулок\\n',\n",
       " '1-й Топографический переулок\\n',\n",
       " '1-й Тополиный переулок\\n',\n",
       " '1-й Торговый переулок\\n',\n",
       " '1-й Тормозной переулок\\n',\n",
       " '1-й Торопецкий переулок\\n',\n",
       " '1-й Тосненский переулок      # Гатчина\\n',\n",
       " '1-й Травяной переулок\\n',\n",
       " '1-й Тракторный переулок\\n',\n",
       " '1-й Тракторный проезд\\n',\n",
       " '1-й Транспортный проезд\\n',\n",
       " '1-й Трикотажный переулок\\n',\n",
       " '1-й Троицкий переулок\\n',\n",
       " '1-й Трубный переулок\\n',\n",
       " '1-й Трудовой переулок\\n',\n",
       " '1-й Тульский переулок\\n',\n",
       " '1-й Тульский проезд\\n',\n",
       " '1-й Тупиковый переулок\\n',\n",
       " '1-й Тупиковый проезд\\n',\n",
       " '1-й Турбазовский переулок\\n',\n",
       " '1-й Тургеневский переулок\\n',\n",
       " '1-й Турундаевский переулок\\n',\n",
       " '1-й Туруханский переулок\\n',\n",
       " '1-й Тушинский проезд\\n',\n",
       " '1-й Тюкалинский проезд\\n',\n",
       " '1-й Тёплый проезд\\n',\n",
       " '1-й Увекский проезд\\n',\n",
       " '1-й Угрешский проезд\\n',\n",
       " '1-й Ударный переулок\\n',\n",
       " ...]"
      ]
     },
     "execution_count": 687,
     "metadata": {},
     "output_type": "execute_result"
    }
   ],
   "source": [
    "streets"
   ]
  },
  {
   "cell_type": "code",
   "execution_count": 792,
   "metadata": {},
   "outputs": [],
   "source": [
    "#Удаляем ВСЕ комментарии из списка\n",
    "my_streets = [(re.sub(r'#.+', '',street)) for street in streets]\n",
    "#Удаляем пустые строки и лишние пробелы и новые строки по краям: \n",
    "my_streets = [st.strip() for st in my_streets if st != '\\n'] "
   ]
  },
  {
   "cell_type": "code",
   "execution_count": 757,
   "metadata": {},
   "outputs": [
    {
     "data": {
      "text/plain": [
       "['0-я линия',\n",
       " '0-я улица',\n",
       " '1-е Корытовское шоссе',\n",
       " '1-е Успенское шоссе',\n",
       " '1-й Авдотьинский переулок',\n",
       " '1-й Авиационный проезд',\n",
       " '1-й Автодромный переулок',\n",
       " '1-й Автозаводский проезд',\n",
       " '1-й Автомобильный проезд',\n",
       " '1-й Автосборочный переулок',\n",
       " '1-й Аграрный переулок',\n",
       " '1-й Агрегатный переулок',\n",
       " '1-й Агрономический переулок',\n",
       " '1-й Адыгейский переулок',\n",
       " '1-й Азовский проезд',\n",
       " '1-й Академический переулок',\n",
       " '1-й Академический проезд',\n",
       " '1-й Акмолинский проезд',\n",
       " '1-й Акуловский проезд',\n",
       " '1-й Александровский проезд',\n",
       " '1-й Алеутский переулок',\n",
       " '1-й Аллейный проезд',\n",
       " '1-й Алмазный переулок',\n",
       " '1-й Алтайский переулок',\n",
       " '1-й Алтуховский переулок',\n",
       " '1-й Амбулаторный проезд',\n",
       " '1-й Амурский переулок',\n",
       " '1-й Амурский проезд',\n",
       " '1-й Амурский тупик',\n",
       " '1-й Ангарский проезд',\n",
       " '1-й Андреевский переулок',\n",
       " '1-й Андреевский проезд',\n",
       " '1-й Аникинский переулок',\n",
       " '1-й Апельсиновый тупик',\n",
       " '1-й Аптечный проезд',\n",
       " '1-й Артезианский проезд',\n",
       " '1-й Артельный переулок',\n",
       " '1-й Артельный проезд',\n",
       " '1-й Артиллерийский переулок',\n",
       " '1-й Архангельский переулок',\n",
       " '1-й Архангельский проезд',\n",
       " '1-й Архивный переулок',\n",
       " '1-й Асеевский переулок',\n",
       " '1-й Астровый тупик',\n",
       " '1-й Аткарский проезд',\n",
       " '1-й Атмосферный переулок',\n",
       " '1-й Аэродромный переулок',\n",
       " '1-й Аэрофлотский переулок',\n",
       " '1-й Бабьегородский переулок',\n",
       " '1-й Базарный проезд',\n",
       " '1-й Базовый проезд',\n",
       " '1-й Байкальский переулок',\n",
       " '1-й Бакунинский переулок',\n",
       " '1-й Балашовский переулок',\n",
       " '1-й Балинский переулок',\n",
       " '1-й Балинский проезд',\n",
       " '1-й Балластный переулок',\n",
       " '1-й Балтийский переулок',\n",
       " '1-й Банный переулок',\n",
       " '1-й Барьерный переулок',\n",
       " '1-й Басманный переулок',\n",
       " '1-й Бауманский переулок',\n",
       " '1-й Бахмачеевский проезд',\n",
       " '1-й Башенный переулок',\n",
       " '1-й Беговой переулок',\n",
       " '1-й Безымянный переулок',\n",
       " '1-й Белогорский переулок',\n",
       " '1-й Белозёрский проезд',\n",
       " '1-й Белокаменный проезд',\n",
       " '1-й Беломорский переулок',\n",
       " '1-й Белорецкий переулок',\n",
       " '1-й Белоусовский переулок',\n",
       " '1-й Белоярский переулок',\n",
       " '1-й Бельский проезд',\n",
       " '1-й Беляницкий переулок',\n",
       " '1-й Береговой переулок',\n",
       " '1-й Береговой проезд',\n",
       " '1-й Березинский переулок',\n",
       " '1-й Березовский переулок',\n",
       " '1-й Берендяковский переулок',\n",
       " '1-й Берёзовый переулок',\n",
       " '1-й Берёзовый проезд',\n",
       " '1-й Берёзовый просек',\n",
       " '1-й Бийский переулок',\n",
       " '1-й Биржевой проезд',\n",
       " '1-й Бирюзовый переулок',\n",
       " '1-й Благоварский переулок',\n",
       " '1-й Благодатный переулок',\n",
       " '1-й Благодатный проезд',\n",
       " '1-й Блочный переулок',\n",
       " '1-й Богородский проезд',\n",
       " '1-й Богучарский переулок',\n",
       " '1-й Бойный переулок',\n",
       " '1-й Болотный переулок',\n",
       " '1-й Больничный переулок',\n",
       " '1-й Больничный проезд',\n",
       " '1-й Большой Московский проезд',\n",
       " '1-й Большой Поливановский проезд',\n",
       " '1-й Большой переулок',\n",
       " '1-й Боровой переулок',\n",
       " '1-й Ботанический переулок',\n",
       " '1-й Ботанический проезд',\n",
       " '1-й Боткинский проезд',\n",
       " '1-й Боцманский переулок',\n",
       " '1-й Брагинский переулок',\n",
       " '1-й Брагинский проезд',\n",
       " '1-й Братский переулок',\n",
       " '1-й Брестский переулок',\n",
       " '1-й Бронницкий переулок',\n",
       " '1-й Бронный переулок',\n",
       " '1-й Брусничный переулок',\n",
       " '1-й Брянский переулок',\n",
       " '1-й Брянский тупик',\n",
       " '1-й Буковый переулок',\n",
       " '1-й Булатовский переулок',\n",
       " '1-й Бульварный переулок',\n",
       " '1-й Буньковский переулок',\n",
       " '1-й Бурцевский переулок',\n",
       " '1-й Бутырский переулок',\n",
       " '1-й Былинный переулок',\n",
       " '1-й Бытовой переулок',\n",
       " '1-й Бытовой проезд',\n",
       " '1-й Вагонный переулок',\n",
       " '1-й Вагонный проезд',\n",
       " '1-й Вакуровский проезд',\n",
       " '1-й Варшавский проезд',\n",
       " '1-й Варяжский переулок',\n",
       " '1-й Ведомственный проезд',\n",
       " '1-й Веерный переулок',\n",
       " '1-й Везельский переулок',\n",
       " '1-й Вертковский переулок',\n",
       " '1-й Верхне-Профинтерновский переулок',\n",
       " '1-й Верхний Михайловский проезд',\n",
       " '1-й Верхний Просветительский проезд',\n",
       " '1-й Верхний переулок',\n",
       " '1-й Верхний проезд',\n",
       " '1-й Верхоянский переулок',\n",
       " '1-й Весенний переулок',\n",
       " '1-й Весенний проезд',\n",
       " '1-й Веськовский проезд',\n",
       " '1-й Ветеринарный переулок',\n",
       " '1-й Вешний тупик',\n",
       " '1-й Вешняковский проезд',\n",
       " '1-й Вилюйский проезд',\n",
       " '1-й Владимирский переулок',\n",
       " '1-й Владимирский проезд',\n",
       " '1-й Внутренний тупик',\n",
       " '1-й Водяной переулок',\n",
       " '1-й Воздвиженский переулок',\n",
       " '1-й Войковский проезд',\n",
       " '1-й Вокзальный переулок',\n",
       " '1-й Вокзальный проезд',\n",
       " '1-й Вокзальный тупик',\n",
       " '1-й Волгоградский переулок',\n",
       " '1-й Волгоградский проезд',\n",
       " '1-й Волжский переулок',\n",
       " '1-й Волжский проезд',\n",
       " '1-й Волконский переулок',\n",
       " '1-й Вологодский проезд',\n",
       " '1-й Володарский переулок',\n",
       " '1-й Володин переулок',\n",
       " '1-й Волоколамский проезд',\n",
       " '1-й Волочаевский переулок',\n",
       " '1-й Вольный переулок',\n",
       " '1-й Вольский проезд',\n",
       " '1-й Воркутинский переулок',\n",
       " '1-й Воронежский проезд',\n",
       " '1-й Ворошиловский переулок',\n",
       " '1-й Восточный переулок',\n",
       " '1-й Восточный проезд',\n",
       " '1-й Восточный спуск',\n",
       " '1-й Вражский переулок',\n",
       " '1-й Высокий проезд',\n",
       " '1-й Высоковольтный переулок',\n",
       " '1-й Высотный проезд',\n",
       " '1-й Вышеславцев переулок',\n",
       " '1-й Вяземский переулок',\n",
       " '1-й Вязовский проезд',\n",
       " '1-й Газетный переулок',\n",
       " '1-й Газовый переулок',\n",
       " '1-й Газовый проезд',\n",
       " '1-й Газонный переулок',\n",
       " '1-й Галев проезд',\n",
       " '1-й Гаражный проезд',\n",
       " '1-й Гвардейский переулок',\n",
       " '1-й Гвоздильный проезд',\n",
       " '1-й Геологический проезд',\n",
       " '1-й Георгиевский переулок',\n",
       " '1-й Георгиевский проезд',\n",
       " '1-й Глазурный переулок',\n",
       " '1-й Глинковский переулок',\n",
       " '1-й Гоголевский переулок',\n",
       " '1-й Голутвинский переулок',\n",
       " '1-й Гольшанский переулок',\n",
       " '1-й Гончарный переулок',\n",
       " '1-й Гончаровский переулок',\n",
       " '1-й Горноспасательный переулок',\n",
       " '1-й Горный переулок',\n",
       " '1-й Горный проезд',\n",
       " '1-й Горный тупик',\n",
       " '1-й Горняцкий переулок',\n",
       " '1-й Городищенский проезд',\n",
       " '1-й Городской проезд',\n",
       " '1-й Гороховский переулок',\n",
       " '1-й Горский переулок',\n",
       " '1-й Госпитальный переулок',\n",
       " '1-й Гравийный проезд',\n",
       " '1-й Гражданский переулок',\n",
       " '1-й Гражданский проезд',\n",
       " '1-й Грайвороновский проезд',\n",
       " '1-й Граничный переулок',\n",
       " '1-й Граничный проезд',\n",
       " '1-й Гремячий переулок',\n",
       " '1-й Греческий переулок',\n",
       " '1-й Грибной переулок',\n",
       " '1-й Гривенский переулок',\n",
       " '1-й Губернский проезд',\n",
       " '1-й Гусинский переулок',\n",
       " '1-й Гэсстроевский переулок',\n",
       " '1-й Дальний переулок',\n",
       " '1-й Дамасский переулок',\n",
       " '1-й Дачный переулок',\n",
       " '1-й Дачный проезд',\n",
       " '1-й Двинский переулок',\n",
       " '1-й Декабрьский переулок',\n",
       " '1-й Делегатский переулок',\n",
       " '1-й Деловой проезд',\n",
       " '1-й Деповский переулок',\n",
       " '1-й Депутатский переулок',\n",
       " '1-й Дербеневский переулок',\n",
       " '1-й Детский переулок',\n",
       " '1-й Детский проезд',\n",
       " '1-й Дзержинский переулок',\n",
       " '1-й Дивизионный переулок',\n",
       " '1-й Динамовский проезд',\n",
       " '1-й Дмитровский проезд',\n",
       " '1-й Днепровский проезд',\n",
       " '1-й Днепропетровский переулок',\n",
       " '1-й Добролюбовский проезд',\n",
       " '1-й Добрынинский переулок',\n",
       " '1-й Донбасский переулок',\n",
       " '1-й Донецкий переулок',\n",
       " '1-й Донской проезд',\n",
       " '1-й Дорожный переулок',\n",
       " '1-й Дорожный проезд',\n",
       " '1-й Доронинский переулок',\n",
       " '1-й Досуговский проезд',\n",
       " '1-й Дружный переулок',\n",
       " '1-й Дубковский переулок',\n",
       " '1-й Дубровский переулок',\n",
       " '1-й Дубровский проезд',\n",
       " '1-й Дуванский переулок',\n",
       " '1-й Дунайский переулок',\n",
       " '1-й Духовщинский проезд',\n",
       " '1-й Дюнный переулок',\n",
       " '1-й Дягилевский проезд',\n",
       " '1-й Евдокимовский переулок',\n",
       " '1-й Еланский переулок',\n",
       " '1-й Еловский переулок',\n",
       " '1-й Еловый переулок',\n",
       " '1-й Елшанский тупик',\n",
       " '1-й Ельнинский переулок',\n",
       " '1-й Енисейский переулок',\n",
       " '1-й Есаульский переулок',\n",
       " '1-й Ждановский переулок',\n",
       " '1-й Желанный переулок',\n",
       " '1-й Железнодорожный переулок',\n",
       " '1-й Железнодорожный тупик',\n",
       " '1-й Журавлиный переулок',\n",
       " '1-й Жёлтиковский проезд',\n",
       " '1-й Забавный тупик',\n",
       " '1-й Заветный переулок',\n",
       " '1-й Заводской переулок',\n",
       " '1-й Заводской проезд',\n",
       " '1-й Завокзальный переулок',\n",
       " '1-й Заволжский переулок',\n",
       " '1-й Загородный проезд',\n",
       " '1-й Загорский переулок',\n",
       " '1-й Загорский проезд',\n",
       " '1-й Заезжий проезд',\n",
       " '1-й Заозёрный переулок',\n",
       " '1-й Западный переулок',\n",
       " '1-й Западный проезд',\n",
       " '1-й Заповедный тупик',\n",
       " '1-й Запорожский переулок',\n",
       " '1-й Запрудный переулок',\n",
       " '1-й Заречный переулок',\n",
       " '1-й Заречный проезд',\n",
       " '1-й Заречный тупик',\n",
       " '1-й Затонский переулок',\n",
       " '1-й Зачатьевский переулок',\n",
       " '1-й Зборовский переулок',\n",
       " '1-й Звонкий переулок',\n",
       " '1-й Звёздный переулок',\n",
       " '1-й Звёздный проезд',\n",
       " '1-й Зеленодольский тупик',\n",
       " '1-й Зеленхозовский переулок',\n",
       " '1-й Зелёный переулок',\n",
       " '1-й Зелёный проезд',\n",
       " '1-й Земельный переулок',\n",
       " '1-й Земледельческий переулок',\n",
       " '1-й Земляничный проезд',\n",
       " '1-й Зерновой проезд',\n",
       " '1-й Зимний переулок',\n",
       " '1-й Знаменский переулок',\n",
       " '1-й Знаменский проезд',\n",
       " '1-й Зональный проезд',\n",
       " '1-й Зубцовский переулок',\n",
       " '1-й Иваньковский переулок',\n",
       " '1-й Ижевский переулок',\n",
       " '1-й Извозный переулок',\n",
       " '1-й Измайловский переулок',\n",
       " '1-й Изумрудный проезд',\n",
       " '1-й Ильинский переулок',\n",
       " '1-й Индивидуальный переулок',\n",
       " '1-й Индустриальный переулок',\n",
       " '1-й Индустриальный проезд',\n",
       " '1-й Инженерный проезд',\n",
       " '1-й Институтский переулок',\n",
       " '1-й Институтский проезд',\n",
       " '1-й Инструментальный переулок',\n",
       " '1-й Интернациональный переулок',\n",
       " '1-й Инфекционный переулок',\n",
       " '1-й Ипподромный проезд',\n",
       " '1-й Ирининский переулок',\n",
       " '1-й Иртышский проезд',\n",
       " '1-й Июльский переулок',\n",
       " '1-й Кабельный проезд',\n",
       " '1-й Кавказский переулок',\n",
       " '1-й Кавказский тупик',\n",
       " '1-й Кадашёвский переулок',\n",
       " '1-й Кадетский переулок',\n",
       " '1-й Казанский переулок',\n",
       " '1-й Казанский проезд',\n",
       " '1-й Казанский просек',\n",
       " '1-й Казачий переулок',\n",
       " '1-й Календарный переулок',\n",
       " '1-й Калининский переулок',\n",
       " '1-й Калиновский проезд',\n",
       " '1-й Калужский переулок',\n",
       " '1-й Калужский проезд',\n",
       " '1-й Каменный переулок',\n",
       " '1-й Каменогорский переулок',\n",
       " '1-й Камский переулок',\n",
       " '1-й Камышинский проезд',\n",
       " '1-й Камышинский тупик',\n",
       " '1-й Камышовый переулок',\n",
       " '1-й Канатный переулок',\n",
       " '1-й Капотнинский проезд',\n",
       " '1-й Карачаровский проезд',\n",
       " '1-й Каретный переулок',\n",
       " '1-й Карпатский переулок',\n",
       " '1-й Карповский переулок',\n",
       " '1-й Карьерный переулок',\n",
       " '1-й Карьерный проезд',\n",
       " '1-й Катерный переулок',\n",
       " '1-й Каховский переулок',\n",
       " '1-й Каштановый переулок',\n",
       " '1-й Каштановый проезд',\n",
       " '1-й Квартальный проезд',\n",
       " '1-й Кемеровский переулок',\n",
       " '1-й Керамзитный переулок',\n",
       " '1-й Киевский переулок',\n",
       " '1-й Кирилловский переулок',\n",
       " '1-й Кировский проезд',\n",
       " '1-й Кирпичный переулок',\n",
       " '1-й Кирпичный проезд',\n",
       " '1-й Кладовый переулок',\n",
       " '1-й Кленовый переулок',\n",
       " '1-й Клинский переулок',\n",
       " '1-й Клочков переулок',\n",
       " '1-й Клубный переулок',\n",
       " '1-й Клубный проезд',\n",
       " '1-й Ключевой переулок',\n",
       " '1-й Ключевой проезд',\n",
       " '1-й Кожевенный переулок',\n",
       " '1-й Кожевнический переулок',\n",
       " '1-й Кожуховский проезд',\n",
       " '1-й Коллективный переулок',\n",
       " '1-й Коллективный проезд',\n",
       " '1-й Колобовский переулок',\n",
       " '1-й Колокольный переулок',\n",
       " '1-й Коломенский переулок',\n",
       " '1-й Коломенский проезд',\n",
       " '1-й Колхозный переулок',\n",
       " '1-й Колхозный проезд',\n",
       " '1-й Кольский переулок',\n",
       " '1-й Кольцевой проезд',\n",
       " '1-й Колюбакинский проезд',\n",
       " '1-й Коммунальный переулок',\n",
       " '1-й Коммунальный проезд',\n",
       " '1-й Коммунальный тупик',\n",
       " '1-й Коммунистический переулок',\n",
       " '1-й Комсомольский переулок',\n",
       " '1-й Комсомольский проезд',\n",
       " '1-й Кооперативный переулок',\n",
       " '1-й Кооперативный проезд',\n",
       " '1-й Коптельский переулок',\n",
       " '1-й Корабельный переулок',\n",
       " '1-й Кореновский проезд',\n",
       " '1-й Коренёвский тупик',\n",
       " '1-й Короткий переулок',\n",
       " '1-й Корсаковский переулок',\n",
       " '1-й Котельницкий переулок',\n",
       " '1-й Котельнический переулок',\n",
       " '1-й Котлозаводской переулок',\n",
       " '1-й Котляковский переулок',\n",
       " '1-й Крайний проезд',\n",
       " '1-й Красивый переулок',\n",
       " '1-й Красковский проезд',\n",
       " '1-й Красноармейский переулок',\n",
       " '1-й Красноармейский проезд',\n",
       " '1-й Красногвардейский переулок',\n",
       " '1-й Красногвардейский проезд',\n",
       " '1-й Красногородский переулок',\n",
       " '1-й Красногорский переулок',\n",
       " '1-й Красногорский проезд',\n",
       " '1-й Краснодонский переулок',\n",
       " '1-й Краснознамённый проезд',\n",
       " '1-й Краснокурсантский проезд',\n",
       " '1-й Краснополянский переулок',\n",
       " '1-й Красносельский переулок',\n",
       " '1-й Красносельский проезд',\n",
       " '1-й Краснофлотский переулок',\n",
       " '1-й Красноярский переулок',\n",
       " '1-й Красный переулок',\n",
       " '1-й Красочный тупик',\n",
       " '1-й Крекингский проезд',\n",
       " '1-й Крекингский тупик',\n",
       " '1-й Кремовый тупик',\n",
       " '1-й Крепостной переулок',\n",
       " '1-й Крестьянский проезд',\n",
       " '1-й Кривичский переулок',\n",
       " '1-й Круговой переулок',\n",
       " '1-й Крутицкий переулок',\n",
       " '1-й Крымский переулок',\n",
       " '1-й Крымский проезд',\n",
       " '1-й Кубанский переулок',\n",
       " '1-й Кубанский проезд',\n",
       " '1-й Кузнечный проезд',\n",
       " '1-й Кузьминский переулок',\n",
       " '1-й Кулинарный переулок',\n",
       " '1-й Купальный переулок',\n",
       " '1-й Курьяновский переулок',\n",
       " '1-й Курьяновский проезд',\n",
       " '1-й Кустарный переулок',\n",
       " '1-й Кутузовский переулок',\n",
       " '1-й Кутузовский проезд',\n",
       " '1-й Лабинский проезд',\n",
       " '1-й Лавандовый проезд',\n",
       " '1-й Лавандовый тупик',\n",
       " '1-й Лавский переулок',\n",
       " '1-й Лагерный переулок',\n",
       " '1-й Лагерный проезд',\n",
       " '1-й Лазоревый переулок',\n",
       " '1-й Лазурный переулок',\n",
       " '1-й Ландшафтный переулок',\n",
       " '1-й Ласковый тупик',\n",
       " '1-й Леденцовский переулок',\n",
       " '1-й Ленинградский переулок',\n",
       " '1-й Ленинградский проезд',\n",
       " '1-й Ленинский переулок',\n",
       " '1-й Ленинский проезд',\n",
       " '1-й Лермонтовский переулок',\n",
       " '1-й Лермонтовский проезд',\n",
       " '1-й Лесной проезд',\n",
       " '1-й Лесной просек',\n",
       " '1-й Лесной тупик',\n",
       " '1-й Лесозащитный переулок',\n",
       " '1-й Лесозащитный проезд',\n",
       " '1-й Лесопильный тупик',\n",
       " '1-й Летний переулок',\n",
       " '1-й Линейный переулок',\n",
       " '1-й Линейный проезд',\n",
       " '1-й Липовый переулок',\n",
       " '1-й Лирический переулок',\n",
       " '1-й Лиственный переулок',\n",
       " '1-й Листопадный переулок',\n",
       " '1-й Листопадный проезд',\n",
       " '1-й Литературный проезд',\n",
       " '1-й Литовский проезд',\n",
       " '1-й Лихачёвский переулок',\n",
       " '1-й Лобинский переулок',\n",
       " '1-й Лозовой переулок',\n",
       " '1-й Локаторный переулок',\n",
       " '1-й Локомотивный переулок',\n",
       " '1-й Ломоносовский проезд',\n",
       " '1-й Лопатинский проезд',\n",
       " '1-й Луговой переулок',\n",
       " '1-й Луговой проезд',\n",
       " '1-й Лучевой переулок',\n",
       " '1-й Лучевой проезд',\n",
       " '1-й Лучевой просек',\n",
       " '1-й Лучевой тупик',\n",
       " '1-й Лучистый проезд',\n",
       " '1-й Лыковский проезд',\n",
       " '1-й Льнозаводской переулок',\n",
       " '1-й Льняной переулок',\n",
       " '1-й Любажский переулок',\n",
       " '1-й Люберецкий проезд',\n",
       " '1-й Люсиновский переулок',\n",
       " '1-й Лётный переулок',\n",
       " '1-й Магистральный переулок',\n",
       " '1-й Магистральный проезд',\n",
       " '1-й Магистральный тупик',\n",
       " '1-й Магнитный проезд',\n",
       " '1-й Майский переулок',\n",
       " '1-й Майский тупик',\n",
       " '1-й Малаховский проезд',\n",
       " '1-й Малиновый переулок',\n",
       " '1-й Малиновый проезд',\n",
       " '1-й Малополивановский тупик',\n",
       " '1-й Малопрудный проезд',\n",
       " '1-й Малый Приморский проезд',\n",
       " '1-й Малый Северный проезд',\n",
       " '1-й Малый переулок',\n",
       " '1-й Малый проезд',\n",
       " '1-й Манежный переулок',\n",
       " '1-й Маратовский проезд',\n",
       " '1-й Мариупольский переулок',\n",
       " '1-й Марочный переулок',\n",
       " '1-й Мартовский переулок',\n",
       " '1-й Марусинский переулок',\n",
       " '1-й Материальный переулок',\n",
       " '1-й Матросовский переулок',\n",
       " '1-й Машиностроительный переулок',\n",
       " '1-й Мебельный переулок',\n",
       " '1-й Мебельный проезд',\n",
       " '1-й Медицинский переулок',\n",
       " '1-й Международный проезд',\n",
       " '1-й Межовражный проезд',\n",
       " '1-й Мелиоративный переулок',\n",
       " '1-й Мелиховский переулок',\n",
       " '1-й Меловой проезд',\n",
       " '1-й Мельничный переулок',\n",
       " '1-й Мельничный проезд',\n",
       " '1-й Менделеевский переулок',\n",
       " '1-й Мервинский проезд',\n",
       " '1-й Мигаловский проезд',\n",
       " '1-й Милиционный переулок',\n",
       " '1-й Минский переулок',\n",
       " '1-й Минский проезд',\n",
       " '1-й Миргородский переулок',\n",
       " '1-й Мирный переулок',\n",
       " '1-й Мирный проезд',\n",
       " '1-й Митинский переулок',\n",
       " '1-й Михайловский проезд',\n",
       " '1-й Михельсоновский проезд',\n",
       " '1-й Мичуринский переулок',\n",
       " '1-й Мичуринский проезд',\n",
       " '1-й Мичуринский тупик',\n",
       " '1-й Можайский тупик',\n",
       " '1-й Моковский переулок',\n",
       " '1-й Моковский проезд',\n",
       " '1-й Молодогвардейский переулок',\n",
       " '1-й Молодёжный переулок',\n",
       " '1-й Молодёжный проезд',\n",
       " '1-й Монастырский переулок',\n",
       " '1-й Монетный переулок',\n",
       " '1-й Монетчиковский переулок',\n",
       " '1-й Монтажный переулок',\n",
       " '1-й Монтажный проезд',\n",
       " '1-й Москворецкий переулок',\n",
       " '1-й Московский переулок',\n",
       " '1-й Московский проезд',\n",
       " '1-й Мостовой переулок',\n",
       " '1-й Моторный проезд',\n",
       " '1-й Мстихинский переулок',\n",
       " '1-й Мурманский проезд',\n",
       " '1-й Муромский переулок',\n",
       " '1-й Мытищинский переулок',\n",
       " '1-й Мытный переулок',\n",
       " '1-й Мясницкий проезд',\n",
       " '1-й Набережный переулок',\n",
       " '1-й Набережный проезд',\n",
       " '1-й Набережный тупик',\n",
       " '1-й Нагатинский проезд',\n",
       " '1-й Нагорный переулок',\n",
       " '1-й Нагорный проезд',\n",
       " '1-й Наклонный переулок',\n",
       " '1-й Нарвский переулок',\n",
       " '1-й Народный переулок',\n",
       " '1-й Насосный переулок',\n",
       " '1-й Насыпной переулок',\n",
       " '1-й Национальный переулок',\n",
       " '1-й Невьянский переулок',\n",
       " '1-й Некрасовский переулок',\n",
       " '1-й Некрасовский проезд',\n",
       " '1-й Неопалимовский переулок',\n",
       " '1-й Непроезжий переулок',\n",
       " '1-й Нефтезаводской проезд',\n",
       " '1-й Нефтяной переулок',\n",
       " '1-й Нижнелихоборский проезд',\n",
       " '1-й Нижний Луговой переулок',\n",
       " '1-й Нижний Михайловский проезд',\n",
       " '1-й Нижний Просветительский проезд',\n",
       " '1-й Нижний переулок',\n",
       " '1-й Нижний проезд',\n",
       " '1-й Николощеповский переулок',\n",
       " '1-й Новаторский переулок',\n",
       " '1-й Новгородский переулок',\n",
       " '1-й Новоавтобусный тупик',\n",
       " '1-й Новоездоцкий переулок',\n",
       " '1-й Новокузнецкий переулок',\n",
       " '1-й Новомихалковский проезд',\n",
       " '1-й Новопавловский проезд',\n",
       " '1-й Новоподмосковный переулок',\n",
       " '1-й Новостроевский переулок',\n",
       " '1-й Новосёловский переулок',\n",
       " '1-й Новотихвинский переулок',\n",
       " '1-й Новоузенский проезд',\n",
       " '1-й Новый переулок',\n",
       " '1-й Новый проезд',\n",
       " '1-й Ногинский проезд',\n",
       " '1-й Норильский переулок',\n",
       " '1-й Ноябрьский переулок',\n",
       " '1-й Облепиховый тупик',\n",
       " '1-й Оборонный переулок',\n",
       " '1-й Образный переулок',\n",
       " '1-й Образцовый переулок',\n",
       " '1-й Обуховский переулок',\n",
       " '1-й Обыденский переулок',\n",
       " '1-й Овражный переулок',\n",
       " '1-й Овражный проезд',\n",
       " '1-й Огородный переулок',\n",
       " '1-й Огородный проезд',\n",
       " '1-й Огородный тупик',\n",
       " '1-й Одесский переулок',\n",
       " '1-й Одесский проезд',\n",
       " '1-й Озимый переулок',\n",
       " '1-й Озёрный переулок',\n",
       " '1-й Окольный проезд',\n",
       " '1-й Окружной переулок',\n",
       " '1-й Окружной проезд',\n",
       " '1-й Октябрьский переулок',\n",
       " '1-й Октябрьский проезд',\n",
       " '1-й Ольховский переулок',\n",
       " '1-й Ольховский тупик',\n",
       " '1-й Омский переулок',\n",
       " '1-й Онежский проезд',\n",
       " '1-й Опытный переулок',\n",
       " '1-й Оранжерейный проезд',\n",
       " '1-й Оренбургский переулок',\n",
       " '1-й Орловский переулок',\n",
       " '1-й Осенний переулок',\n",
       " '1-й Осенний проезд',\n",
       " '1-й Осиновский переулок',\n",
       " '1-й Осташковский переулок',\n",
       " '1-й Островной проезд',\n",
       " '1-й Островский переулок',\n",
       " '1-й Островский проезд',\n",
       " '1-й Отрадный тупик',\n",
       " '1-й Офицерский проезд',\n",
       " '1-й Охотничий проезд',\n",
       " '1-й Охотский переулок',\n",
       " '1-й Очаковский переулок',\n",
       " '1-й Павелецкий проезд',\n",
       " '1-й Павловский переулок',\n",
       " '1-й Павловский проезд',\n",
       " '1-й Павловский тупик',\n",
       " '1-й Падунский переулок',\n",
       " '1-й Панковский проезд',\n",
       " '1-й Панкратьевский проезд',\n",
       " '1-й Параллельный проезд',\n",
       " '1-й Паркетный переулок',\n",
       " '1-й Парковский переулок',\n",
       " '1-й Парковый переулок',\n",
       " '1-й Парковый проезд',\n",
       " '1-й Парковый тупик',\n",
       " '1-й Парный переулок',\n",
       " '1-й Паровозный переулок',\n",
       " '1-й Паромный переулок',\n",
       " '1-й Партизанский переулок',\n",
       " '1-й Пейзажный переулок',\n",
       " '1-й Пенягинский проезд',\n",
       " '1-й Первомайский переулок',\n",
       " '1-й Первомайский проезд',\n",
       " '1-й Первомайский тупик',\n",
       " '1-й Переходный переулок',\n",
       " '1-й Пермский переулок',\n",
       " '1-й Перовский переулок',\n",
       " '1-й Перспективный проезд',\n",
       " '1-й Песоченский проезд',\n",
       " '1-й Песочный переулок',\n",
       " '1-й Песочный проезд',\n",
       " '1-й Песчаный переулок',\n",
       " '1-й Петровский проезд',\n",
       " '1-й Петропавловский переулок',\n",
       " '1-й Пехотный переулок',\n",
       " '1-й Пикетный переулок',\n",
       " '1-й Пилотный переулок',\n",
       " '1-й Пионерский переулок',\n",
       " '1-й Пионерский проезд',\n",
       " '1-й Пироговский проезд',\n",
       " '1-й Писцовский переулок',\n",
       " '1-й Пихтовый переулок',\n",
       " '1-й Пищевой переулок',\n",
       " '1-й Планерный переулок',\n",
       " '1-й Пластунский проезд',\n",
       " '1-й Плотничный переулок',\n",
       " '1-й Погожий переулок',\n",
       " '1-й Пограничный переулок',\n",
       " '1-й Подгорный переулок',\n",
       " '1-й Подгорный проезд',\n",
       " '1-й Подольский переулок',\n",
       " '1-й Подшипниковый проезд',\n",
       " '1-й Подъёмный переулок',\n",
       " '1-й Пожарный переулок',\n",
       " '1-й Пожарный проезд',\n",
       " '1-й Поклонный переулок',\n",
       " '1-й Покровский переулок',\n",
       " '1-й Покровский проезд',\n",
       " '1-й Полевой переулок',\n",
       " '1-й Полевой проезд',\n",
       " '1-й Полиграфический переулок',\n",
       " '1-й Полтавский переулок',\n",
       " '1-й Полярный переулок',\n",
       " '1-й Полярный проезд',\n",
       " '1-й Понятовский переулок',\n",
       " '1-й Поперечный переулок',\n",
       " '1-й Поперечный проезд',\n",
       " '1-й Порт-Артурский переулок',\n",
       " '1-й Портовый переулок',\n",
       " '1-й Порядковый переулок',\n",
       " '1-й Порядковый тупик',\n",
       " '1-й Посадский проезд',\n",
       " '1-й Поселковый переулок',\n",
       " '1-й Поселковый проезд',\n",
       " '1-й Почтовый переулок',\n",
       " '1-й Почтовый проезд',\n",
       " '1-й Поэтический переулок',\n",
       " '1-й Преображенский переулок',\n",
       " '1-й Прессовый проезд',\n",
       " '1-й Престольный проезд',\n",
       " '1-й Прибрежный переулок',\n",
       " '1-й Приветливый переулок',\n",
       " '1-й Привокзальный переулок',\n",
       " '1-й Привокзальный проезд',\n",
       " '1-й Пригородный переулок',\n",
       " '1-й Пригородный проезд',\n",
       " '1-й Придонский переулок',\n",
       " '1-й Придорожный проезд',\n",
       " '1-й Приморский переулок',\n",
       " '1-й Приморский проезд',\n",
       " '1-й Приречный переулок',\n",
       " '1-й Пристанской проезд',\n",
       " '1-й Прогонный переулок',\n",
       " '1-й Продольный переулок',\n",
       " '1-й Проездной переулок',\n",
       " '1-й Проезжий переулок',\n",
       " '1-й Производственный проезд',\n",
       " '1-й Прокатный переулок',\n",
       " '1-й Пролетарский переулок',\n",
       " '1-й Пролетарский тупик',\n",
       " '1-й Промышленный переулок',\n",
       " '1-й Промышленный проезд',\n",
       " '1-й Просторный переулок',\n",
       " '1-й Просяной проезд',\n",
       " '1-й Профессиональный переулок',\n",
       " '1-й Профсоюзный переулок',\n",
       " '1-й Прудный проезд',\n",
       " '1-й Пугачёвский проезд',\n",
       " '1-й Путеводный переулок',\n",
       " '1-й Путепроводный переулок',\n",
       " '1-й Пушкарный переулок',\n",
       " '1-й Пушкарский переулок',\n",
       " '1-й Пушкинский переулок',\n",
       " '1-й Пятницкий переулок',\n",
       " '1-й Рабочий переулок',\n",
       " '1-й Радиаторный переулок',\n",
       " '1-й Радищевский проезд',\n",
       " '1-й Радужный проезд',\n",
       " '1-й Раздельный переулок',\n",
       " '1-й Раздельный проезд',\n",
       " '1-й Раздольный переулок',\n",
       " '1-й Раскатный переулок',\n",
       " '1-й Рассветный переулок',\n",
       " '1-й Раушский переулок',\n",
       " '1-й Революционный переулок',\n",
       " '1-й Резервный проезд',\n",
       " '1-й Рекордный переулок',\n",
       " '1-й Ремонтный проезд',\n",
       " '1-й Республиканский переулок',\n",
       " '1-й Речной переулок',\n",
       " '1-й Речной проезд',\n",
       " '1-й Ржевский переулок',\n",
       " '1-й Рижский переулок',\n",
       " '1-й Рижский тупик',\n",
       " '1-й Ровенский проезд',\n",
       " '1-й Ровный переулок',\n",
       " '1-й Родниковый переулок',\n",
       " '1-й Рожденственский тупик',\n",
       " '1-й Рождественский переулок',\n",
       " '1-й Ромашковый переулок',\n",
       " '1-й Ромашковый тупик',\n",
       " '1-й Российский переулок',\n",
       " '1-й Ростовский переулок',\n",
       " '1-й Рощинский проезд',\n",
       " '1-й Рупасовский переулок',\n",
       " '1-й Русанцевский переулок',\n",
       " '1-й Ручейный тупик',\n",
       " '1-й Рыбинский проезд',\n",
       " '1-й Рядовой переулок',\n",
       " '1-й Рязанский проезд',\n",
       " '1-й Сабанеевский переулок',\n",
       " '1-й Савельевский тупик',\n",
       " '1-й Садовый переулок',\n",
       " '1-й Садовый проезд',\n",
       " '1-й Сайсарский переулок',\n",
       " '1-й Салтыковский проезд',\n",
       " '1-й Самарский переулок',\n",
       " '1-й Самобытный переулок',\n",
       " '1-й Самотёчный переулок',\n",
       " '1-й Санаторный проезд',\n",
       " '1-й Санитарный проезд',\n",
       " '1-й Сапёрный проезд',\n",
       " '1-й Сарапульский переулок',\n",
       " '1-й Саратовский переулок',\n",
       " '1-й Саратовский проезд',\n",
       " '1-й Свердловский переулок',\n",
       " '1-й Светлановский проезд',\n",
       " '1-й Светланский проезд',\n",
       " '1-й Светлый проезд',\n",
       " '1-й Свинцовый переулок',\n",
       " '1-й Свинцовый проезд',\n",
       " '1-й Свирский переулок',\n",
       " '1-й Свирский проезд',\n",
       " '1-й Свободный переулок',\n",
       " '1-й Связной переулок',\n",
       " '1-й Севастопольский переулок',\n",
       " '1-й Севастопольский проезд',\n",
       " '1-й Северный переулок',\n",
       " '1-й Северный проезд',\n",
       " '1-й Северный тупик',\n",
       " '1-й Северо-Крымский переулок',\n",
       " '1-й Северский переулок',\n",
       " '1-й Секиотовский проезд',\n",
       " '1-й Селецкий проезд',\n",
       " '1-й Селищенский проезд',\n",
       " '1-й Сельский переулок',\n",
       " '1-й Сельскохозяйственный проезд',\n",
       " '1-й Семейный переулок',\n",
       " '1-й Семиреченский переулок',\n",
       " '1-й Сенной переулок',\n",
       " '1-й Сенной проезд',\n",
       " '1-й Сентябрьский проезд',\n",
       " '1-й Серединский переулок',\n",
       " '1-й Серноводский тупик',\n",
       " '1-й Сетуньский проезд',\n",
       " '1-й Сибирский переулок',\n",
       " '1-й Сивашский переулок',\n",
       " '1-й Силикатный переулок',\n",
       " '1-й Силикатный проезд',\n",
       " '1-й Симбирский проезд',\n",
       " '1-й Симферопольский переулок',\n",
       " '1-й Сиреневый переулок',\n",
       " '1-й Сиреневый проезд',\n",
       " '1-й Сказочный проезд',\n",
       " '1-й Скачковский переулок',\n",
       " '1-й Сквозной переулок',\n",
       " '1-й Складской проезд',\n",
       " '1-й Славянский переулок',\n",
       " '1-й Славянский проезд',\n",
       " '1-й Слободской переулок',\n",
       " '1-й Слободской проезд',\n",
       " '1-й Смежный переулок',\n",
       " '1-й Смоленский переулок',\n",
       " '1-й Смоленский проезд',\n",
       " '1-й Сморговский переулок',\n",
       " '1-й Снайперский переулок',\n",
       " '1-й Снежный переулок',\n",
       " '1-й Советский переулок',\n",
       " '1-й Советский проезд',\n",
       " '1-й Советский проспект',\n",
       " '1-й Современный проезд',\n",
       " '1-й Совхозный переулок',\n",
       " '1-й Совхозный проезд',\n",
       " '1-й Соколовогорский проезд',\n",
       " '1-й Солдатский переулок',\n",
       " '1-й Солдатский проезд',\n",
       " '1-й Соликамский проезд',\n",
       " '1-й Солнечный переулок',\n",
       " '1-й Соловьиный переулок',\n",
       " '1-й Сормовский переулок',\n",
       " '1-й Сорокинский переулок',\n",
       " '1-й Сортировочный проезд',\n",
       " '1-й Сосенский проезд',\n",
       " '1-й Сосновый проезд',\n",
       " '1-й Софийский переулок',\n",
       " '1-й Социалистический переулок',\n",
       " '1-й Спасоналивковский переулок',\n",
       " '1-й Спортивный переулок',\n",
       " '1-й Спортивный проезд',\n",
       " '1-й Спутниковый переулок',\n",
       " '1-й Средний переулок',\n",
       " '1-й Средний проезд',\n",
       " '1-й Ставропольский переулок',\n",
       " '1-й Стадионный переулок',\n",
       " '1-й Станкостроительный проезд',\n",
       " '1-й Становой проезд',\n",
       " '1-й Станочный переулок',\n",
       " '1-й Станционный проезд',\n",
       " '1-й Старогородский переулок',\n",
       " '1-й Старосадский проезд',\n",
       " '1-й Стеклозаводской переулок',\n",
       " '1-й Стекольный переулок',\n",
       " '1-й Степной переулок',\n",
       " '1-й Степной проезд',\n",
       " '1-й Стимульный переулок',\n",
       " '1-й Сторожевой проезд',\n",
       " '1-й Стрелецкий переулок',\n",
       " '1-й Стрелецкий проезд',\n",
       " '1-й Стремительный переулок',\n",
       " '1-й Строительный переулок',\n",
       " '1-й Строительный проезд',\n",
       " '1-й Студенческий проезд',\n",
       " '1-й Студёный проезд',\n",
       " '1-й Суворовский переулок',\n",
       " '1-й Судостроительный путепровод',\n",
       " '1-й Суздальский переулок',\n",
       " '1-й Сургутский переулок',\n",
       " '1-й Суриковский переулок',\n",
       " '1-й Сухой переулок',\n",
       " '1-й Сухоложский проезд',\n",
       " '1-й Сухумский переулок',\n",
       " '1-й Сыромятнический переулок',\n",
       " '1-й Сысоевский проезд',\n",
       " '1-й Таврический проезд',\n",
       " '1-й Таганрогский переулок',\n",
       " '1-й Тайнинский переулок',\n",
       " '1-й Таманский переулок',\n",
       " '1-й Ташкалинский переулок',\n",
       " '1-й Тверской-Ямской переулок',\n",
       " '1-й Твёрдый переулок',\n",
       " '1-й Театральный переулок',\n",
       " '1-й Театральный проезд',\n",
       " '1-й Текстильный переулок',\n",
       " '1-й Текстильный проезд',\n",
       " '1-й Телевизионный переулок',\n",
       " '1-й Телевизионный проезд',\n",
       " '1-й Телевизорный переулок',\n",
       " '1-й Телеграфный проезд',\n",
       " '1-й Тенистый переулок',\n",
       " '1-й Тепличный проезд',\n",
       " '1-й Тепловозный переулок',\n",
       " '1-й Терновый переулок',\n",
       " '1-й Технотканский проезд',\n",
       " '1-й Тиражный переулок',\n",
       " '1-й Тихвинский переулок',\n",
       " '1-й Тихвинский тупик',\n",
       " '1-й Тихий переулок',\n",
       " '1-й Тихий тупик',\n",
       " '1-й Тихорецкий переулок',\n",
       " '1-й Тихорецкий проезд',\n",
       " '1-й Ткацкий переулок',\n",
       " '1-й Ткацкий проезд',\n",
       " '1-й Товарный переулок',\n",
       " '1-й Токмаковский тупик',\n",
       " '1-й Толстовский переулок',\n",
       " '1-й Томский переулок',\n",
       " '1-й Топографический переулок',\n",
       " '1-й Тополиный переулок',\n",
       " '1-й Торговый переулок',\n",
       " '1-й Тормозной переулок',\n",
       " '1-й Торопецкий переулок',\n",
       " '1-й Тосненский переулок',\n",
       " '1-й Травяной переулок',\n",
       " '1-й Тракторный переулок',\n",
       " '1-й Тракторный проезд',\n",
       " '1-й Транспортный проезд',\n",
       " '1-й Трикотажный переулок',\n",
       " '1-й Троицкий переулок',\n",
       " '1-й Трубный переулок',\n",
       " '1-й Трудовой переулок',\n",
       " '1-й Тульский переулок',\n",
       " '1-й Тульский проезд',\n",
       " '1-й Тупиковый переулок',\n",
       " '1-й Тупиковый проезд',\n",
       " '1-й Турбазовский переулок',\n",
       " '1-й Тургеневский переулок',\n",
       " '1-й Турундаевский переулок',\n",
       " '1-й Туруханский переулок',\n",
       " '1-й Тушинский проезд',\n",
       " '1-й Тюкалинский проезд',\n",
       " '1-й Тёплый проезд',\n",
       " '1-й Увекский проезд',\n",
       " '1-й Угрешский проезд',\n",
       " '1-й Ударный переулок',\n",
       " '1-й Узкий переулок',\n",
       " '1-й Узорный проезд',\n",
       " '1-й Украинский переулок',\n",
       " '1-й Украинский проезд',\n",
       " '1-й Ульяновский переулок',\n",
       " '1-й Университетский проезд',\n",
       " '1-й Усадебный переулок',\n",
       " '1-й Усадебный проезд',\n",
       " '1-й Утренний переулок',\n",
       " '1-й Фабрично-Заводской переулок',\n",
       " '1-й Фабричный переулок',\n",
       " '1-й Фабричный проезд',\n",
       " ...]"
      ]
     },
     "execution_count": 757,
     "metadata": {},
     "output_type": "execute_result"
    }
   ],
   "source": [
    "my_streets"
   ]
  },
  {
   "cell_type": "code",
   "execution_count": 759,
   "metadata": {},
   "outputs": [
    {
     "data": {
      "text/plain": [
       "33314"
      ]
     },
     "execution_count": 759,
     "metadata": {},
     "output_type": "execute_result"
    }
   ],
   "source": [
    "len(my_streets)"
   ]
  },
  {
   "cell_type": "code",
   "execution_count": 793,
   "metadata": {},
   "outputs": [
    {
     "data": {
      "text/plain": [
       "False"
      ]
     },
     "execution_count": 793,
     "metadata": {},
     "output_type": "execute_result"
    }
   ],
   "source": [
    "\"М.\" in my_streets"
   ]
  },
  {
   "cell_type": "markdown",
   "metadata": {},
   "source": [
    "Добавим в наши список дополнительно улицы с сокращенными прилагательными типа Большая, Малая, Нижняя, чтобы мэтчить случаи типа: Б. Грузинская"
   ]
  },
  {
   "cell_type": "code",
   "execution_count": 794,
   "metadata": {},
   "outputs": [],
   "source": [
    "# Большая Грузинская -> Б. Грузинская\n",
    "#НО не трогаем случаи типа: Большая улица, иначе получим улицу с названием М. \n",
    "\n",
    "for street in my_streets:\n",
    "    if re.search(r'^Больш(?:ой|ая)(?!\\n| улица| переулок| проезд| шоссе| тупик| проспект| набережная| аллея)', street) is not None: #Проверяем, что у нас при этом не начало и не конец строки, то есть Большая - это не название улицы\n",
    "        new_street = re.sub(r'Больш(?:ой|ая)', 'Б.', street)\n",
    "        my_streets.append(new_street)\n",
    "    if re.search (r'^Мал(?:ый|ая)(?!\\n| улица| переулок| проезд| шоссе| тупик| проспект| набережная| аллея)', street) is not None:\n",
    "        new_street = re.sub(r'Мал(?:ый|ая)', 'М.', street)\n",
    "        my_streets.append(new_street)\n",
    "    if re.search (r'^Нижн(?:яя|ий)(?!\\n| улица| переулок| проезд| шоссе| тупик| проспект| набережная| аллея)', street) is not None:\n",
    "        new_street = re.sub(r'Нижн(?:яя|ий)', 'Н.', street)\n",
    "        my_streets.append(new_street)"
   ]
  },
  {
   "cell_type": "code",
   "execution_count": 795,
   "metadata": {},
   "outputs": [
    {
     "name": "stdout",
     "output_type": "stream",
     "text": [
      "Б. Азовская улица\n",
      "Б. Академическая улица\n",
      "Б. Алтайская улица\n",
      "Б. Андроньевская улица\n",
      "Б. Арбековская улица\n",
      "Б. Армавирская улица\n",
      "Б. Базарная улица\n",
      "Б. Боргустанская улица\n",
      "Б. Боровая улица\n",
      "Б. Бронная улица\n",
      "Б. Бульварная улица\n",
      "Б. Бутовская улица\n",
      "Б. Витаминная улица\n",
      "Б. Власьевская улица\n",
      "Б. Внуковская улица\n",
      "Б. Вольская улица\n",
      "Б. Воробьёвская улица\n",
      "Б. Восточная улица\n",
      "Б. Гвардейская улица\n",
      "Б. Горная улица\n",
      "Б. Гражданская улица\n",
      "Б. Грузинская улица\n",
      "Б. Дачная улица\n",
      "Б. Декабрьская улица\n",
      "Б. Демидовская улица\n",
      "Б. Донецкая улица\n",
      "Б. Дорогомиловская улица\n",
      "Б. Екатерининская улица\n",
      "Б. Заводская улица\n",
      "Б. Закаменская улица\n",
      "Б. Заливная улица\n",
      "Б. Заозёрная улица\n",
      "Б. Запрудная улица\n",
      "Б. Заречная улица\n",
      "Б. Затонская улица\n",
      "Б. Зеленовская улица\n",
      "Б. Зеленогорская улица\n",
      "Б. Зелёная улица\n",
      "Б. Зуевская улица\n",
      "Б. Ивановская улица\n",
      "Б. Инженерная улица\n",
      "Б. Казанская улица\n",
      "Б. Казачья улица\n",
      "Б. Калитниковская улица\n",
      "Б. Калужская улица\n",
      "Б. Каменная улица\n",
      "Б. Караванная улица\n",
      "Б. Клинцевская улица\n",
      "Б. Кожевенная улица\n",
      "Б. Колхозная улица\n",
      "Б. Кольцевая улица\n",
      "Б. Комитетская улица\n",
      "Б. Комсомольская улица\n",
      "Б. Кооперативная улица\n",
      "Б. Косинская улица\n",
      "Б. Красная улица\n",
      "Б. Красноармейская улица\n",
      "Б. Краснофлотская улица\n",
      "Б. Кузнецкая улица\n",
      "Б. Кузнечная улица\n",
      "Б. Кустарная улица\n",
      "Б. Лесная улица\n",
      "Б. Лиманная улица\n",
      "Б. Линейная улица\n",
      "Б. Липовая аллея\n",
      "Б. Логовая улица\n",
      "Б. Луговая улица\n",
      "Б. Любимская улица\n",
      "Б. Манежная улица\n",
      "Б. Марфинская улица\n",
      "Б. Марьинская улица\n",
      "Б. Мгинская улица\n",
      "Б. Монетная улица\n",
      "Б. Московская улица\n",
      "Б. Мушкетовская улица\n",
      "Б. Нагорная улица\n",
      "Б. Нижегородская улица\n",
      "Б. Никитская улица\n",
      "Б. Новая улица\n",
      "Б. Новодмитровская улица\n",
      "Б. Огарёвская улица\n",
      "Б. Окружная улица\n",
      "Б. Октябрьская улица\n",
      "Б. Оленья улица\n",
      "Б. Олонская улица\n",
      "Б. Осенняя улица\n",
      "Б. Остроумовская улица\n",
      "Б. Очаковская улица\n",
      "Б. Павловская улица\n",
      "Б. Перекрёстная улица\n",
      "Б. Переяславская улица\n",
      "Б. Песочная улица\n",
      "Б. Пионерская улица\n",
      "Б. Пироговская улица\n",
      "Б. Подгорная улица\n",
      "Б. Покровская улица\n",
      "Б. Полевая улица\n",
      "Б. Посадская улица\n",
      "Б. Починковская улица\n",
      "Б. Почтовая улица\n",
      "Б. Пролетарская улица\n",
      "Б. Прорубная улица\n",
      "Б. Протечная улица\n",
      "Б. Профсоюзная улица\n",
      "Б. Прудовая улица\n",
      "Б. Радищевская улица\n",
      "Б. Раздольная улица\n",
      "Б. Речная улица\n",
      "Б. Рупасовская улица\n",
      "Б. Ручьевая улица\n",
      "Б. Рыбаковская улица\n",
      "Б. Садовая улица\n",
      "Б. Санкт-Петербургская улица\n",
      "Б. Свердловская улица\n",
      "Б. Северная улица\n",
      "Б. Северовская улица\n",
      "Б. Семёновская улица\n",
      "Б. Серпуховская улица\n",
      "Б. Сибирская улица\n",
      "Б. Синявинская улица\n",
      "Б. Смоленская улица\n",
      "Б. Советская улица\n",
      "Б. Сосновая улица\n",
      "Б. Спасская улица\n",
      "Б. Стрелецкая улица\n",
      "Б. Сухаревская площадь\n",
      "Б. Съезжая улица\n",
      "Б. Тагильская улица\n",
      "Б. Тарасовская улица\n",
      "Б. Татарская улица\n",
      "Б. Тверская улица\n",
      "Б. Техническая улица\n",
      "Б. Тихоновская улица\n",
      "Б. Тоговщинская улица\n",
      "Б. Троицкая улица\n",
      "Б. Тульская улица\n",
      "Б. Узловая улица\n",
      "Б. Улитинская улица\n",
      "Б. Урицкая улица\n",
      "Б. Учительская улица\n",
      "Б. Филёвская улица\n",
      "Б. Фурмановская улица\n",
      "Б. Фёдоровская улица\n",
      "Б. Химическая улица\n",
      "Б. Черкизовская улица\n",
      "Б. Чернозёмная улица\n",
      "Б. Черёмушкинская улица\n",
      "Б. Шелководная улица\n",
      "Б. Шерстомойная улица\n",
      "Б. Ширяевская улица\n",
      "Б. Школьная улица\n",
      "Б. Шоссейная улица\n",
      "Б. Штабская улица\n",
      "Б. Шуйская улица\n",
      "Б. Юртовская улица\n",
      "Б. Юшуньская улица\n",
      "Б. линия\n",
      "Б. площадь\n",
      "Б. Афанасьевский переулок\n",
      "Б. Балканский переулок\n",
      "Б. Ватин переулок\n",
      "Б. Власьевский переулок\n",
      "Б. Волоколамский проезд\n",
      "Б. Высоцкий переулок\n",
      "Б. Гнездниковский переулок\n",
      "Б. Головин переулок\n",
      "Б. Девятинский переулок\n",
      "Б. Демидовский переулок\n",
      "Б. Динамовский проезд\n",
      "Б. Дровяной переулок\n",
      "Б. Железнодорожный проезд\n",
      "Б. Заводской проезд\n",
      "Б. Затонский съезд\n",
      "Б. Златоустинский переулок\n",
      "Б. Знаменский переулок\n",
      "Б. Казённый переулок\n",
      "Б. Калитниковский проезд\n",
      "Б. Каретный переулок\n",
      "Б. Кировский съезд\n",
      "Б. Кисельный переулок\n",
      "Б. Кисловский переулок\n",
      "Б. Кленовый переулок\n",
      "Б. Козихинский переулок\n",
      "Б. Козловский переулок\n",
      "Б. Кондратьевский переулок\n",
      "Б. Конюшковский переулок\n",
      "Б. Коптевский проезд\n",
      "Б. Краснопрудный тупик\n",
      "Б. Купавенский проезд\n",
      "Б. Лесной переулок\n",
      "Б. Литейный переулок\n",
      "Б. Литейный проспект\n",
      "Б. Лёвшинский переулок\n",
      "Б. Матросский переулок\n",
      "Б. Могильцевский переулок\n",
      "Б. Николоворобинский переулок\n",
      "Б. Николопесковский переулок\n",
      "Б. Овчинниковский переулок\n",
      "Б. Ордынский переулок\n",
      "Б. Палашёвский переулок\n",
      "Б. Патриарший переулок\n",
      "Б. Поливановский проезд\n",
      "Б. Полуярославский переулок\n",
      "Б. Посадский переулок\n",
      "Б. Предтеченский переулок\n",
      "Б. Прибрежный переулок\n",
      "Б. Пролетарский переулок\n",
      "Б. Путинковский переулок\n",
      "Б. Ржевский переулок\n",
      "Б. Рогожский переулок\n",
      "Б. Саввинский переулок\n",
      "Б. Садовый переулок\n",
      "Б. Сергиевский переулок\n",
      "Б. Симоновский переулок\n",
      "Б. Советский переулок\n",
      "Б. Спасоглинищевский переулок\n",
      "Б. Староданиловский переулок\n",
      "Б. Строченовский переулок\n",
      "Б. Сухаревский переулок\n",
      "Б. Татарский переулок\n",
      "Б. Тишинский переулок\n",
      "Б. Толмачёвский переулок\n",
      "Б. Транспортный переулок\n",
      "Б. Трёхгорный переулок\n",
      "Б. Трёхсвятительский переулок\n",
      "Б. Ударный переулок\n",
      "Б. Факельный переулок\n",
      "Б. Харитоньевский переулок\n",
      "Б. Черкасский переулок\n",
      "Б. Чудов переулок\n",
      "Б. бульвар\n"
     ]
    }
   ],
   "source": [
    "#Проверка, что код выше сработал: \n",
    "for st in my_streets:\n",
    "    if re.match(r'Б\\.', st) is not None:\n",
    "           print(st)"
   ]
  },
  {
   "cell_type": "code",
   "execution_count": 796,
   "metadata": {},
   "outputs": [
    {
     "data": {
      "text/plain": [
       "False"
      ]
     },
     "execution_count": 796,
     "metadata": {},
     "output_type": "execute_result"
    }
   ],
   "source": [
    "\"М.\" in my_streets"
   ]
  },
  {
   "cell_type": "markdown",
   "metadata": {},
   "source": [
    "Удаляем слова \"улица\", \"переулок\" и т.д. из названий в списке: грубо считаем, что в объявлениях их нет как части названия улицы: ул. 1905 года (?ул. Улица 1905 года)"
   ]
  },
  {
   "cell_type": "code",
   "execution_count": 797,
   "metadata": {},
   "outputs": [],
   "source": [
    "#Проверяем, что 'улица' и подобные  или в начале или в конце, чтобы не трогать случаи типа 1-я улица 8 Марта:\n",
    "my_streets = [(re.sub(r'^(?:улица|переулок|проезд|шоссе|тупик|проспект|набережная|аллея) | (?:улица|переулок|проезд|шоссе|тупик|проспект|набережная|аллея)$', '', street)).strip() for street in my_streets]"
   ]
  },
  {
   "cell_type": "code",
   "execution_count": 798,
   "metadata": {},
   "outputs": [
    {
     "data": {
      "text/plain": [
       "['0-я линия',\n",
       " '0-я',\n",
       " '1-е Корытовское',\n",
       " '1-е Успенское',\n",
       " '1-й Авдотьинский',\n",
       " '1-й Авиационный',\n",
       " '1-й Автодромный',\n",
       " '1-й Автозаводский',\n",
       " '1-й Автомобильный',\n",
       " '1-й Автосборочный',\n",
       " '1-й Аграрный',\n",
       " '1-й Агрегатный',\n",
       " '1-й Агрономический',\n",
       " '1-й Адыгейский',\n",
       " '1-й Азовский',\n",
       " '1-й Академический',\n",
       " '1-й Академический',\n",
       " '1-й Акмолинский',\n",
       " '1-й Акуловский',\n",
       " '1-й Александровский',\n",
       " '1-й Алеутский',\n",
       " '1-й Аллейный',\n",
       " '1-й Алмазный',\n",
       " '1-й Алтайский',\n",
       " '1-й Алтуховский',\n",
       " '1-й Амбулаторный',\n",
       " '1-й Амурский',\n",
       " '1-й Амурский',\n",
       " '1-й Амурский',\n",
       " '1-й Ангарский',\n",
       " '1-й Андреевский',\n",
       " '1-й Андреевский',\n",
       " '1-й Аникинский',\n",
       " '1-й Апельсиновый',\n",
       " '1-й Аптечный',\n",
       " '1-й Артезианский',\n",
       " '1-й Артельный',\n",
       " '1-й Артельный',\n",
       " '1-й Артиллерийский',\n",
       " '1-й Архангельский',\n",
       " '1-й Архангельский',\n",
       " '1-й Архивный',\n",
       " '1-й Асеевский',\n",
       " '1-й Астровый',\n",
       " '1-й Аткарский',\n",
       " '1-й Атмосферный',\n",
       " '1-й Аэродромный',\n",
       " '1-й Аэрофлотский',\n",
       " '1-й Бабьегородский',\n",
       " '1-й Базарный',\n",
       " '1-й Базовый',\n",
       " '1-й Байкальский',\n",
       " '1-й Бакунинский',\n",
       " '1-й Балашовский',\n",
       " '1-й Балинский',\n",
       " '1-й Балинский',\n",
       " '1-й Балластный',\n",
       " '1-й Балтийский',\n",
       " '1-й Банный',\n",
       " '1-й Барьерный',\n",
       " '1-й Басманный',\n",
       " '1-й Бауманский',\n",
       " '1-й Бахмачеевский',\n",
       " '1-й Башенный',\n",
       " '1-й Беговой',\n",
       " '1-й Безымянный',\n",
       " '1-й Белогорский',\n",
       " '1-й Белозёрский',\n",
       " '1-й Белокаменный',\n",
       " '1-й Беломорский',\n",
       " '1-й Белорецкий',\n",
       " '1-й Белоусовский',\n",
       " '1-й Белоярский',\n",
       " '1-й Бельский',\n",
       " '1-й Беляницкий',\n",
       " '1-й Береговой',\n",
       " '1-й Береговой',\n",
       " '1-й Березинский',\n",
       " '1-й Березовский',\n",
       " '1-й Берендяковский',\n",
       " '1-й Берёзовый',\n",
       " '1-й Берёзовый',\n",
       " '1-й Берёзовый просек',\n",
       " '1-й Бийский',\n",
       " '1-й Биржевой',\n",
       " '1-й Бирюзовый',\n",
       " '1-й Благоварский',\n",
       " '1-й Благодатный',\n",
       " '1-й Благодатный',\n",
       " '1-й Блочный',\n",
       " '1-й Богородский',\n",
       " '1-й Богучарский',\n",
       " '1-й Бойный',\n",
       " '1-й Болотный',\n",
       " '1-й Больничный',\n",
       " '1-й Больничный',\n",
       " '1-й Большой Московский',\n",
       " '1-й Большой Поливановский',\n",
       " '1-й Большой',\n",
       " '1-й Боровой',\n",
       " '1-й Ботанический',\n",
       " '1-й Ботанический',\n",
       " '1-й Боткинский',\n",
       " '1-й Боцманский',\n",
       " '1-й Брагинский',\n",
       " '1-й Брагинский',\n",
       " '1-й Братский',\n",
       " '1-й Брестский',\n",
       " '1-й Бронницкий',\n",
       " '1-й Бронный',\n",
       " '1-й Брусничный',\n",
       " '1-й Брянский',\n",
       " '1-й Брянский',\n",
       " '1-й Буковый',\n",
       " '1-й Булатовский',\n",
       " '1-й Бульварный',\n",
       " '1-й Буньковский',\n",
       " '1-й Бурцевский',\n",
       " '1-й Бутырский',\n",
       " '1-й Былинный',\n",
       " '1-й Бытовой',\n",
       " '1-й Бытовой',\n",
       " '1-й Вагонный',\n",
       " '1-й Вагонный',\n",
       " '1-й Вакуровский',\n",
       " '1-й Варшавский',\n",
       " '1-й Варяжский',\n",
       " '1-й Ведомственный',\n",
       " '1-й Веерный',\n",
       " '1-й Везельский',\n",
       " '1-й Вертковский',\n",
       " '1-й Верхне-Профинтерновский',\n",
       " '1-й Верхний Михайловский',\n",
       " '1-й Верхний Просветительский',\n",
       " '1-й Верхний',\n",
       " '1-й Верхний',\n",
       " '1-й Верхоянский',\n",
       " '1-й Весенний',\n",
       " '1-й Весенний',\n",
       " '1-й Веськовский',\n",
       " '1-й Ветеринарный',\n",
       " '1-й Вешний',\n",
       " '1-й Вешняковский',\n",
       " '1-й Вилюйский',\n",
       " '1-й Владимирский',\n",
       " '1-й Владимирский',\n",
       " '1-й Внутренний',\n",
       " '1-й Водяной',\n",
       " '1-й Воздвиженский',\n",
       " '1-й Войковский',\n",
       " '1-й Вокзальный',\n",
       " '1-й Вокзальный',\n",
       " '1-й Вокзальный',\n",
       " '1-й Волгоградский',\n",
       " '1-й Волгоградский',\n",
       " '1-й Волжский',\n",
       " '1-й Волжский',\n",
       " '1-й Волконский',\n",
       " '1-й Вологодский',\n",
       " '1-й Володарский',\n",
       " '1-й Володин',\n",
       " '1-й Волоколамский',\n",
       " '1-й Волочаевский',\n",
       " '1-й Вольный',\n",
       " '1-й Вольский',\n",
       " '1-й Воркутинский',\n",
       " '1-й Воронежский',\n",
       " '1-й Ворошиловский',\n",
       " '1-й Восточный',\n",
       " '1-й Восточный',\n",
       " '1-й Восточный спуск',\n",
       " '1-й Вражский',\n",
       " '1-й Высокий',\n",
       " '1-й Высоковольтный',\n",
       " '1-й Высотный',\n",
       " '1-й Вышеславцев',\n",
       " '1-й Вяземский',\n",
       " '1-й Вязовский',\n",
       " '1-й Газетный',\n",
       " '1-й Газовый',\n",
       " '1-й Газовый',\n",
       " '1-й Газонный',\n",
       " '1-й Галев',\n",
       " '1-й Гаражный',\n",
       " '1-й Гвардейский',\n",
       " '1-й Гвоздильный',\n",
       " '1-й Геологический',\n",
       " '1-й Георгиевский',\n",
       " '1-й Георгиевский',\n",
       " '1-й Глазурный',\n",
       " '1-й Глинковский',\n",
       " '1-й Гоголевский',\n",
       " '1-й Голутвинский',\n",
       " '1-й Гольшанский',\n",
       " '1-й Гончарный',\n",
       " '1-й Гончаровский',\n",
       " '1-й Горноспасательный',\n",
       " '1-й Горный',\n",
       " '1-й Горный',\n",
       " '1-й Горный',\n",
       " '1-й Горняцкий',\n",
       " '1-й Городищенский',\n",
       " '1-й Городской',\n",
       " '1-й Гороховский',\n",
       " '1-й Горский',\n",
       " '1-й Госпитальный',\n",
       " '1-й Гравийный',\n",
       " '1-й Гражданский',\n",
       " '1-й Гражданский',\n",
       " '1-й Грайвороновский',\n",
       " '1-й Граничный',\n",
       " '1-й Граничный',\n",
       " '1-й Гремячий',\n",
       " '1-й Греческий',\n",
       " '1-й Грибной',\n",
       " '1-й Гривенский',\n",
       " '1-й Губернский',\n",
       " '1-й Гусинский',\n",
       " '1-й Гэсстроевский',\n",
       " '1-й Дальний',\n",
       " '1-й Дамасский',\n",
       " '1-й Дачный',\n",
       " '1-й Дачный',\n",
       " '1-й Двинский',\n",
       " '1-й Декабрьский',\n",
       " '1-й Делегатский',\n",
       " '1-й Деловой',\n",
       " '1-й Деповский',\n",
       " '1-й Депутатский',\n",
       " '1-й Дербеневский',\n",
       " '1-й Детский',\n",
       " '1-й Детский',\n",
       " '1-й Дзержинский',\n",
       " '1-й Дивизионный',\n",
       " '1-й Динамовский',\n",
       " '1-й Дмитровский',\n",
       " '1-й Днепровский',\n",
       " '1-й Днепропетровский',\n",
       " '1-й Добролюбовский',\n",
       " '1-й Добрынинский',\n",
       " '1-й Донбасский',\n",
       " '1-й Донецкий',\n",
       " '1-й Донской',\n",
       " '1-й Дорожный',\n",
       " '1-й Дорожный',\n",
       " '1-й Доронинский',\n",
       " '1-й Досуговский',\n",
       " '1-й Дружный',\n",
       " '1-й Дубковский',\n",
       " '1-й Дубровский',\n",
       " '1-й Дубровский',\n",
       " '1-й Дуванский',\n",
       " '1-й Дунайский',\n",
       " '1-й Духовщинский',\n",
       " '1-й Дюнный',\n",
       " '1-й Дягилевский',\n",
       " '1-й Евдокимовский',\n",
       " '1-й Еланский',\n",
       " '1-й Еловский',\n",
       " '1-й Еловый',\n",
       " '1-й Елшанский',\n",
       " '1-й Ельнинский',\n",
       " '1-й Енисейский',\n",
       " '1-й Есаульский',\n",
       " '1-й Ждановский',\n",
       " '1-й Желанный',\n",
       " '1-й Железнодорожный',\n",
       " '1-й Железнодорожный',\n",
       " '1-й Журавлиный',\n",
       " '1-й Жёлтиковский',\n",
       " '1-й Забавный',\n",
       " '1-й Заветный',\n",
       " '1-й Заводской',\n",
       " '1-й Заводской',\n",
       " '1-й Завокзальный',\n",
       " '1-й Заволжский',\n",
       " '1-й Загородный',\n",
       " '1-й Загорский',\n",
       " '1-й Загорский',\n",
       " '1-й Заезжий',\n",
       " '1-й Заозёрный',\n",
       " '1-й Западный',\n",
       " '1-й Западный',\n",
       " '1-й Заповедный',\n",
       " '1-й Запорожский',\n",
       " '1-й Запрудный',\n",
       " '1-й Заречный',\n",
       " '1-й Заречный',\n",
       " '1-й Заречный',\n",
       " '1-й Затонский',\n",
       " '1-й Зачатьевский',\n",
       " '1-й Зборовский',\n",
       " '1-й Звонкий',\n",
       " '1-й Звёздный',\n",
       " '1-й Звёздный',\n",
       " '1-й Зеленодольский',\n",
       " '1-й Зеленхозовский',\n",
       " '1-й Зелёный',\n",
       " '1-й Зелёный',\n",
       " '1-й Земельный',\n",
       " '1-й Земледельческий',\n",
       " '1-й Земляничный',\n",
       " '1-й Зерновой',\n",
       " '1-й Зимний',\n",
       " '1-й Знаменский',\n",
       " '1-й Знаменский',\n",
       " '1-й Зональный',\n",
       " '1-й Зубцовский',\n",
       " '1-й Иваньковский',\n",
       " '1-й Ижевский',\n",
       " '1-й Извозный',\n",
       " '1-й Измайловский',\n",
       " '1-й Изумрудный',\n",
       " '1-й Ильинский',\n",
       " '1-й Индивидуальный',\n",
       " '1-й Индустриальный',\n",
       " '1-й Индустриальный',\n",
       " '1-й Инженерный',\n",
       " '1-й Институтский',\n",
       " '1-й Институтский',\n",
       " '1-й Инструментальный',\n",
       " '1-й Интернациональный',\n",
       " '1-й Инфекционный',\n",
       " '1-й Ипподромный',\n",
       " '1-й Ирининский',\n",
       " '1-й Иртышский',\n",
       " '1-й Июльский',\n",
       " '1-й Кабельный',\n",
       " '1-й Кавказский',\n",
       " '1-й Кавказский',\n",
       " '1-й Кадашёвский',\n",
       " '1-й Кадетский',\n",
       " '1-й Казанский',\n",
       " '1-й Казанский',\n",
       " '1-й Казанский просек',\n",
       " '1-й Казачий',\n",
       " '1-й Календарный',\n",
       " '1-й Калининский',\n",
       " '1-й Калиновский',\n",
       " '1-й Калужский',\n",
       " '1-й Калужский',\n",
       " '1-й Каменный',\n",
       " '1-й Каменогорский',\n",
       " '1-й Камский',\n",
       " '1-й Камышинский',\n",
       " '1-й Камышинский',\n",
       " '1-й Камышовый',\n",
       " '1-й Канатный',\n",
       " '1-й Капотнинский',\n",
       " '1-й Карачаровский',\n",
       " '1-й Каретный',\n",
       " '1-й Карпатский',\n",
       " '1-й Карповский',\n",
       " '1-й Карьерный',\n",
       " '1-й Карьерный',\n",
       " '1-й Катерный',\n",
       " '1-й Каховский',\n",
       " '1-й Каштановый',\n",
       " '1-й Каштановый',\n",
       " '1-й Квартальный',\n",
       " '1-й Кемеровский',\n",
       " '1-й Керамзитный',\n",
       " '1-й Киевский',\n",
       " '1-й Кирилловский',\n",
       " '1-й Кировский',\n",
       " '1-й Кирпичный',\n",
       " '1-й Кирпичный',\n",
       " '1-й Кладовый',\n",
       " '1-й Кленовый',\n",
       " '1-й Клинский',\n",
       " '1-й Клочков',\n",
       " '1-й Клубный',\n",
       " '1-й Клубный',\n",
       " '1-й Ключевой',\n",
       " '1-й Ключевой',\n",
       " '1-й Кожевенный',\n",
       " '1-й Кожевнический',\n",
       " '1-й Кожуховский',\n",
       " '1-й Коллективный',\n",
       " '1-й Коллективный',\n",
       " '1-й Колобовский',\n",
       " '1-й Колокольный',\n",
       " '1-й Коломенский',\n",
       " '1-й Коломенский',\n",
       " '1-й Колхозный',\n",
       " '1-й Колхозный',\n",
       " '1-й Кольский',\n",
       " '1-й Кольцевой',\n",
       " '1-й Колюбакинский',\n",
       " '1-й Коммунальный',\n",
       " '1-й Коммунальный',\n",
       " '1-й Коммунальный',\n",
       " '1-й Коммунистический',\n",
       " '1-й Комсомольский',\n",
       " '1-й Комсомольский',\n",
       " '1-й Кооперативный',\n",
       " '1-й Кооперативный',\n",
       " '1-й Коптельский',\n",
       " '1-й Корабельный',\n",
       " '1-й Кореновский',\n",
       " '1-й Коренёвский',\n",
       " '1-й Короткий',\n",
       " '1-й Корсаковский',\n",
       " '1-й Котельницкий',\n",
       " '1-й Котельнический',\n",
       " '1-й Котлозаводской',\n",
       " '1-й Котляковский',\n",
       " '1-й Крайний',\n",
       " '1-й Красивый',\n",
       " '1-й Красковский',\n",
       " '1-й Красноармейский',\n",
       " '1-й Красноармейский',\n",
       " '1-й Красногвардейский',\n",
       " '1-й Красногвардейский',\n",
       " '1-й Красногородский',\n",
       " '1-й Красногорский',\n",
       " '1-й Красногорский',\n",
       " '1-й Краснодонский',\n",
       " '1-й Краснознамённый',\n",
       " '1-й Краснокурсантский',\n",
       " '1-й Краснополянский',\n",
       " '1-й Красносельский',\n",
       " '1-й Красносельский',\n",
       " '1-й Краснофлотский',\n",
       " '1-й Красноярский',\n",
       " '1-й Красный',\n",
       " '1-й Красочный',\n",
       " '1-й Крекингский',\n",
       " '1-й Крекингский',\n",
       " '1-й Кремовый',\n",
       " '1-й Крепостной',\n",
       " '1-й Крестьянский',\n",
       " '1-й Кривичский',\n",
       " '1-й Круговой',\n",
       " '1-й Крутицкий',\n",
       " '1-й Крымский',\n",
       " '1-й Крымский',\n",
       " '1-й Кубанский',\n",
       " '1-й Кубанский',\n",
       " '1-й Кузнечный',\n",
       " '1-й Кузьминский',\n",
       " '1-й Кулинарный',\n",
       " '1-й Купальный',\n",
       " '1-й Курьяновский',\n",
       " '1-й Курьяновский',\n",
       " '1-й Кустарный',\n",
       " '1-й Кутузовский',\n",
       " '1-й Кутузовский',\n",
       " '1-й Лабинский',\n",
       " '1-й Лавандовый',\n",
       " '1-й Лавандовый',\n",
       " '1-й Лавский',\n",
       " '1-й Лагерный',\n",
       " '1-й Лагерный',\n",
       " '1-й Лазоревый',\n",
       " '1-й Лазурный',\n",
       " '1-й Ландшафтный',\n",
       " '1-й Ласковый',\n",
       " '1-й Леденцовский',\n",
       " '1-й Ленинградский',\n",
       " '1-й Ленинградский',\n",
       " '1-й Ленинский',\n",
       " '1-й Ленинский',\n",
       " '1-й Лермонтовский',\n",
       " '1-й Лермонтовский',\n",
       " '1-й Лесной',\n",
       " '1-й Лесной просек',\n",
       " '1-й Лесной',\n",
       " '1-й Лесозащитный',\n",
       " '1-й Лесозащитный',\n",
       " '1-й Лесопильный',\n",
       " '1-й Летний',\n",
       " '1-й Линейный',\n",
       " '1-й Линейный',\n",
       " '1-й Липовый',\n",
       " '1-й Лирический',\n",
       " '1-й Лиственный',\n",
       " '1-й Листопадный',\n",
       " '1-й Листопадный',\n",
       " '1-й Литературный',\n",
       " '1-й Литовский',\n",
       " '1-й Лихачёвский',\n",
       " '1-й Лобинский',\n",
       " '1-й Лозовой',\n",
       " '1-й Локаторный',\n",
       " '1-й Локомотивный',\n",
       " '1-й Ломоносовский',\n",
       " '1-й Лопатинский',\n",
       " '1-й Луговой',\n",
       " '1-й Луговой',\n",
       " '1-й Лучевой',\n",
       " '1-й Лучевой',\n",
       " '1-й Лучевой просек',\n",
       " '1-й Лучевой',\n",
       " '1-й Лучистый',\n",
       " '1-й Лыковский',\n",
       " '1-й Льнозаводской',\n",
       " '1-й Льняной',\n",
       " '1-й Любажский',\n",
       " '1-й Люберецкий',\n",
       " '1-й Люсиновский',\n",
       " '1-й Лётный',\n",
       " '1-й Магистральный',\n",
       " '1-й Магистральный',\n",
       " '1-й Магистральный',\n",
       " '1-й Магнитный',\n",
       " '1-й Майский',\n",
       " '1-й Майский',\n",
       " '1-й Малаховский',\n",
       " '1-й Малиновый',\n",
       " '1-й Малиновый',\n",
       " '1-й Малополивановский',\n",
       " '1-й Малопрудный',\n",
       " '1-й Малый Приморский',\n",
       " '1-й Малый Северный',\n",
       " '1-й Малый',\n",
       " '1-й Малый',\n",
       " '1-й Манежный',\n",
       " '1-й Маратовский',\n",
       " '1-й Мариупольский',\n",
       " '1-й Марочный',\n",
       " '1-й Мартовский',\n",
       " '1-й Марусинский',\n",
       " '1-й Материальный',\n",
       " '1-й Матросовский',\n",
       " '1-й Машиностроительный',\n",
       " '1-й Мебельный',\n",
       " '1-й Мебельный',\n",
       " '1-й Медицинский',\n",
       " '1-й Международный',\n",
       " '1-й Межовражный',\n",
       " '1-й Мелиоративный',\n",
       " '1-й Мелиховский',\n",
       " '1-й Меловой',\n",
       " '1-й Мельничный',\n",
       " '1-й Мельничный',\n",
       " '1-й Менделеевский',\n",
       " '1-й Мервинский',\n",
       " '1-й Мигаловский',\n",
       " '1-й Милиционный',\n",
       " '1-й Минский',\n",
       " '1-й Минский',\n",
       " '1-й Миргородский',\n",
       " '1-й Мирный',\n",
       " '1-й Мирный',\n",
       " '1-й Митинский',\n",
       " '1-й Михайловский',\n",
       " '1-й Михельсоновский',\n",
       " '1-й Мичуринский',\n",
       " '1-й Мичуринский',\n",
       " '1-й Мичуринский',\n",
       " '1-й Можайский',\n",
       " '1-й Моковский',\n",
       " '1-й Моковский',\n",
       " '1-й Молодогвардейский',\n",
       " '1-й Молодёжный',\n",
       " '1-й Молодёжный',\n",
       " '1-й Монастырский',\n",
       " '1-й Монетный',\n",
       " '1-й Монетчиковский',\n",
       " '1-й Монтажный',\n",
       " '1-й Монтажный',\n",
       " '1-й Москворецкий',\n",
       " '1-й Московский',\n",
       " '1-й Московский',\n",
       " '1-й Мостовой',\n",
       " '1-й Моторный',\n",
       " '1-й Мстихинский',\n",
       " '1-й Мурманский',\n",
       " '1-й Муромский',\n",
       " '1-й Мытищинский',\n",
       " '1-й Мытный',\n",
       " '1-й Мясницкий',\n",
       " '1-й Набережный',\n",
       " '1-й Набережный',\n",
       " '1-й Набережный',\n",
       " '1-й Нагатинский',\n",
       " '1-й Нагорный',\n",
       " '1-й Нагорный',\n",
       " '1-й Наклонный',\n",
       " '1-й Нарвский',\n",
       " '1-й Народный',\n",
       " '1-й Насосный',\n",
       " '1-й Насыпной',\n",
       " '1-й Национальный',\n",
       " '1-й Невьянский',\n",
       " '1-й Некрасовский',\n",
       " '1-й Некрасовский',\n",
       " '1-й Неопалимовский',\n",
       " '1-й Непроезжий',\n",
       " '1-й Нефтезаводской',\n",
       " '1-й Нефтяной',\n",
       " '1-й Нижнелихоборский',\n",
       " '1-й Нижний Луговой',\n",
       " '1-й Нижний Михайловский',\n",
       " '1-й Нижний Просветительский',\n",
       " '1-й Нижний',\n",
       " '1-й Нижний',\n",
       " '1-й Николощеповский',\n",
       " '1-й Новаторский',\n",
       " '1-й Новгородский',\n",
       " '1-й Новоавтобусный',\n",
       " '1-й Новоездоцкий',\n",
       " '1-й Новокузнецкий',\n",
       " '1-й Новомихалковский',\n",
       " '1-й Новопавловский',\n",
       " '1-й Новоподмосковный',\n",
       " '1-й Новостроевский',\n",
       " '1-й Новосёловский',\n",
       " '1-й Новотихвинский',\n",
       " '1-й Новоузенский',\n",
       " '1-й Новый',\n",
       " '1-й Новый',\n",
       " '1-й Ногинский',\n",
       " '1-й Норильский',\n",
       " '1-й Ноябрьский',\n",
       " '1-й Облепиховый',\n",
       " '1-й Оборонный',\n",
       " '1-й Образный',\n",
       " '1-й Образцовый',\n",
       " '1-й Обуховский',\n",
       " '1-й Обыденский',\n",
       " '1-й Овражный',\n",
       " '1-й Овражный',\n",
       " '1-й Огородный',\n",
       " '1-й Огородный',\n",
       " '1-й Огородный',\n",
       " '1-й Одесский',\n",
       " '1-й Одесский',\n",
       " '1-й Озимый',\n",
       " '1-й Озёрный',\n",
       " '1-й Окольный',\n",
       " '1-й Окружной',\n",
       " '1-й Окружной',\n",
       " '1-й Октябрьский',\n",
       " '1-й Октябрьский',\n",
       " '1-й Ольховский',\n",
       " '1-й Ольховский',\n",
       " '1-й Омский',\n",
       " '1-й Онежский',\n",
       " '1-й Опытный',\n",
       " '1-й Оранжерейный',\n",
       " '1-й Оренбургский',\n",
       " '1-й Орловский',\n",
       " '1-й Осенний',\n",
       " '1-й Осенний',\n",
       " '1-й Осиновский',\n",
       " '1-й Осташковский',\n",
       " '1-й Островной',\n",
       " '1-й Островский',\n",
       " '1-й Островский',\n",
       " '1-й Отрадный',\n",
       " '1-й Офицерский',\n",
       " '1-й Охотничий',\n",
       " '1-й Охотский',\n",
       " '1-й Очаковский',\n",
       " '1-й Павелецкий',\n",
       " '1-й Павловский',\n",
       " '1-й Павловский',\n",
       " '1-й Павловский',\n",
       " '1-й Падунский',\n",
       " '1-й Панковский',\n",
       " '1-й Панкратьевский',\n",
       " '1-й Параллельный',\n",
       " '1-й Паркетный',\n",
       " '1-й Парковский',\n",
       " '1-й Парковый',\n",
       " '1-й Парковый',\n",
       " '1-й Парковый',\n",
       " '1-й Парный',\n",
       " '1-й Паровозный',\n",
       " '1-й Паромный',\n",
       " '1-й Партизанский',\n",
       " '1-й Пейзажный',\n",
       " '1-й Пенягинский',\n",
       " '1-й Первомайский',\n",
       " '1-й Первомайский',\n",
       " '1-й Первомайский',\n",
       " '1-й Переходный',\n",
       " '1-й Пермский',\n",
       " '1-й Перовский',\n",
       " '1-й Перспективный',\n",
       " '1-й Песоченский',\n",
       " '1-й Песочный',\n",
       " '1-й Песочный',\n",
       " '1-й Песчаный',\n",
       " '1-й Петровский',\n",
       " '1-й Петропавловский',\n",
       " '1-й Пехотный',\n",
       " '1-й Пикетный',\n",
       " '1-й Пилотный',\n",
       " '1-й Пионерский',\n",
       " '1-й Пионерский',\n",
       " '1-й Пироговский',\n",
       " '1-й Писцовский',\n",
       " '1-й Пихтовый',\n",
       " '1-й Пищевой',\n",
       " '1-й Планерный',\n",
       " '1-й Пластунский',\n",
       " '1-й Плотничный',\n",
       " '1-й Погожий',\n",
       " '1-й Пограничный',\n",
       " '1-й Подгорный',\n",
       " '1-й Подгорный',\n",
       " '1-й Подольский',\n",
       " '1-й Подшипниковый',\n",
       " '1-й Подъёмный',\n",
       " '1-й Пожарный',\n",
       " '1-й Пожарный',\n",
       " '1-й Поклонный',\n",
       " '1-й Покровский',\n",
       " '1-й Покровский',\n",
       " '1-й Полевой',\n",
       " '1-й Полевой',\n",
       " '1-й Полиграфический',\n",
       " '1-й Полтавский',\n",
       " '1-й Полярный',\n",
       " '1-й Полярный',\n",
       " '1-й Понятовский',\n",
       " '1-й Поперечный',\n",
       " '1-й Поперечный',\n",
       " '1-й Порт-Артурский',\n",
       " '1-й Портовый',\n",
       " '1-й Порядковый',\n",
       " '1-й Порядковый',\n",
       " '1-й Посадский',\n",
       " '1-й Поселковый',\n",
       " '1-й Поселковый',\n",
       " '1-й Почтовый',\n",
       " '1-й Почтовый',\n",
       " '1-й Поэтический',\n",
       " '1-й Преображенский',\n",
       " '1-й Прессовый',\n",
       " '1-й Престольный',\n",
       " '1-й Прибрежный',\n",
       " '1-й Приветливый',\n",
       " '1-й Привокзальный',\n",
       " '1-й Привокзальный',\n",
       " '1-й Пригородный',\n",
       " '1-й Пригородный',\n",
       " '1-й Придонский',\n",
       " '1-й Придорожный',\n",
       " '1-й Приморский',\n",
       " '1-й Приморский',\n",
       " '1-й Приречный',\n",
       " '1-й Пристанской',\n",
       " '1-й Прогонный',\n",
       " '1-й Продольный',\n",
       " '1-й Проездной',\n",
       " '1-й Проезжий',\n",
       " '1-й Производственный',\n",
       " '1-й Прокатный',\n",
       " '1-й Пролетарский',\n",
       " '1-й Пролетарский',\n",
       " '1-й Промышленный',\n",
       " '1-й Промышленный',\n",
       " '1-й Просторный',\n",
       " '1-й Просяной',\n",
       " '1-й Профессиональный',\n",
       " '1-й Профсоюзный',\n",
       " '1-й Прудный',\n",
       " '1-й Пугачёвский',\n",
       " '1-й Путеводный',\n",
       " '1-й Путепроводный',\n",
       " '1-й Пушкарный',\n",
       " '1-й Пушкарский',\n",
       " '1-й Пушкинский',\n",
       " '1-й Пятницкий',\n",
       " '1-й Рабочий',\n",
       " '1-й Радиаторный',\n",
       " '1-й Радищевский',\n",
       " '1-й Радужный',\n",
       " '1-й Раздельный',\n",
       " '1-й Раздельный',\n",
       " '1-й Раздольный',\n",
       " '1-й Раскатный',\n",
       " '1-й Рассветный',\n",
       " '1-й Раушский',\n",
       " '1-й Революционный',\n",
       " '1-й Резервный',\n",
       " '1-й Рекордный',\n",
       " '1-й Ремонтный',\n",
       " '1-й Республиканский',\n",
       " '1-й Речной',\n",
       " '1-й Речной',\n",
       " '1-й Ржевский',\n",
       " '1-й Рижский',\n",
       " '1-й Рижский',\n",
       " '1-й Ровенский',\n",
       " '1-й Ровный',\n",
       " '1-й Родниковый',\n",
       " '1-й Рожденственский',\n",
       " '1-й Рождественский',\n",
       " '1-й Ромашковый',\n",
       " '1-й Ромашковый',\n",
       " '1-й Российский',\n",
       " '1-й Ростовский',\n",
       " '1-й Рощинский',\n",
       " '1-й Рупасовский',\n",
       " '1-й Русанцевский',\n",
       " '1-й Ручейный',\n",
       " '1-й Рыбинский',\n",
       " '1-й Рядовой',\n",
       " '1-й Рязанский',\n",
       " '1-й Сабанеевский',\n",
       " '1-й Савельевский',\n",
       " '1-й Садовый',\n",
       " '1-й Садовый',\n",
       " '1-й Сайсарский',\n",
       " '1-й Салтыковский',\n",
       " '1-й Самарский',\n",
       " '1-й Самобытный',\n",
       " '1-й Самотёчный',\n",
       " '1-й Санаторный',\n",
       " '1-й Санитарный',\n",
       " '1-й Сапёрный',\n",
       " '1-й Сарапульский',\n",
       " '1-й Саратовский',\n",
       " '1-й Саратовский',\n",
       " '1-й Свердловский',\n",
       " '1-й Светлановский',\n",
       " '1-й Светланский',\n",
       " '1-й Светлый',\n",
       " '1-й Свинцовый',\n",
       " '1-й Свинцовый',\n",
       " '1-й Свирский',\n",
       " '1-й Свирский',\n",
       " '1-й Свободный',\n",
       " '1-й Связной',\n",
       " '1-й Севастопольский',\n",
       " '1-й Севастопольский',\n",
       " '1-й Северный',\n",
       " '1-й Северный',\n",
       " '1-й Северный',\n",
       " '1-й Северо-Крымский',\n",
       " '1-й Северский',\n",
       " '1-й Секиотовский',\n",
       " '1-й Селецкий',\n",
       " '1-й Селищенский',\n",
       " '1-й Сельский',\n",
       " '1-й Сельскохозяйственный',\n",
       " '1-й Семейный',\n",
       " '1-й Семиреченский',\n",
       " '1-й Сенной',\n",
       " '1-й Сенной',\n",
       " '1-й Сентябрьский',\n",
       " '1-й Серединский',\n",
       " '1-й Серноводский',\n",
       " '1-й Сетуньский',\n",
       " '1-й Сибирский',\n",
       " '1-й Сивашский',\n",
       " '1-й Силикатный',\n",
       " '1-й Силикатный',\n",
       " '1-й Симбирский',\n",
       " '1-й Симферопольский',\n",
       " '1-й Сиреневый',\n",
       " '1-й Сиреневый',\n",
       " '1-й Сказочный',\n",
       " '1-й Скачковский',\n",
       " '1-й Сквозной',\n",
       " '1-й Складской',\n",
       " '1-й Славянский',\n",
       " '1-й Славянский',\n",
       " '1-й Слободской',\n",
       " '1-й Слободской',\n",
       " '1-й Смежный',\n",
       " '1-й Смоленский',\n",
       " '1-й Смоленский',\n",
       " '1-й Сморговский',\n",
       " '1-й Снайперский',\n",
       " '1-й Снежный',\n",
       " '1-й Советский',\n",
       " '1-й Советский',\n",
       " '1-й Советский',\n",
       " '1-й Современный',\n",
       " '1-й Совхозный',\n",
       " '1-й Совхозный',\n",
       " '1-й Соколовогорский',\n",
       " '1-й Солдатский',\n",
       " '1-й Солдатский',\n",
       " '1-й Соликамский',\n",
       " '1-й Солнечный',\n",
       " '1-й Соловьиный',\n",
       " '1-й Сормовский',\n",
       " '1-й Сорокинский',\n",
       " '1-й Сортировочный',\n",
       " '1-й Сосенский',\n",
       " '1-й Сосновый',\n",
       " '1-й Софийский',\n",
       " '1-й Социалистический',\n",
       " '1-й Спасоналивковский',\n",
       " '1-й Спортивный',\n",
       " '1-й Спортивный',\n",
       " '1-й Спутниковый',\n",
       " '1-й Средний',\n",
       " '1-й Средний',\n",
       " '1-й Ставропольский',\n",
       " '1-й Стадионный',\n",
       " '1-й Станкостроительный',\n",
       " '1-й Становой',\n",
       " '1-й Станочный',\n",
       " '1-й Станционный',\n",
       " '1-й Старогородский',\n",
       " '1-й Старосадский',\n",
       " '1-й Стеклозаводской',\n",
       " '1-й Стекольный',\n",
       " '1-й Степной',\n",
       " '1-й Степной',\n",
       " '1-й Стимульный',\n",
       " '1-й Сторожевой',\n",
       " '1-й Стрелецкий',\n",
       " '1-й Стрелецкий',\n",
       " '1-й Стремительный',\n",
       " '1-й Строительный',\n",
       " '1-й Строительный',\n",
       " '1-й Студенческий',\n",
       " '1-й Студёный',\n",
       " '1-й Суворовский',\n",
       " '1-й Судостроительный путепровод',\n",
       " '1-й Суздальский',\n",
       " '1-й Сургутский',\n",
       " '1-й Суриковский',\n",
       " '1-й Сухой',\n",
       " '1-й Сухоложский',\n",
       " '1-й Сухумский',\n",
       " '1-й Сыромятнический',\n",
       " '1-й Сысоевский',\n",
       " '1-й Таврический',\n",
       " '1-й Таганрогский',\n",
       " '1-й Тайнинский',\n",
       " '1-й Таманский',\n",
       " '1-й Ташкалинский',\n",
       " '1-й Тверской-Ямской',\n",
       " '1-й Твёрдый',\n",
       " '1-й Театральный',\n",
       " '1-й Театральный',\n",
       " '1-й Текстильный',\n",
       " '1-й Текстильный',\n",
       " '1-й Телевизионный',\n",
       " '1-й Телевизионный',\n",
       " '1-й Телевизорный',\n",
       " '1-й Телеграфный',\n",
       " '1-й Тенистый',\n",
       " '1-й Тепличный',\n",
       " '1-й Тепловозный',\n",
       " '1-й Терновый',\n",
       " '1-й Технотканский',\n",
       " '1-й Тиражный',\n",
       " '1-й Тихвинский',\n",
       " '1-й Тихвинский',\n",
       " '1-й Тихий',\n",
       " '1-й Тихий',\n",
       " '1-й Тихорецкий',\n",
       " '1-й Тихорецкий',\n",
       " '1-й Ткацкий',\n",
       " '1-й Ткацкий',\n",
       " '1-й Товарный',\n",
       " '1-й Токмаковский',\n",
       " '1-й Толстовский',\n",
       " '1-й Томский',\n",
       " '1-й Топографический',\n",
       " '1-й Тополиный',\n",
       " '1-й Торговый',\n",
       " '1-й Тормозной',\n",
       " '1-й Торопецкий',\n",
       " '1-й Тосненский',\n",
       " '1-й Травяной',\n",
       " '1-й Тракторный',\n",
       " '1-й Тракторный',\n",
       " '1-й Транспортный',\n",
       " '1-й Трикотажный',\n",
       " '1-й Троицкий',\n",
       " '1-й Трубный',\n",
       " '1-й Трудовой',\n",
       " '1-й Тульский',\n",
       " '1-й Тульский',\n",
       " '1-й Тупиковый',\n",
       " '1-й Тупиковый',\n",
       " '1-й Турбазовский',\n",
       " '1-й Тургеневский',\n",
       " '1-й Турундаевский',\n",
       " '1-й Туруханский',\n",
       " '1-й Тушинский',\n",
       " '1-й Тюкалинский',\n",
       " '1-й Тёплый',\n",
       " '1-й Увекский',\n",
       " '1-й Угрешский',\n",
       " '1-й Ударный',\n",
       " '1-й Узкий',\n",
       " '1-й Узорный',\n",
       " '1-й Украинский',\n",
       " '1-й Украинский',\n",
       " '1-й Ульяновский',\n",
       " '1-й Университетский',\n",
       " '1-й Усадебный',\n",
       " '1-й Усадебный',\n",
       " '1-й Утренний',\n",
       " '1-й Фабрично-Заводской',\n",
       " '1-й Фабричный',\n",
       " '1-й Фабричный',\n",
       " ...]"
      ]
     },
     "execution_count": 798,
     "metadata": {},
     "output_type": "execute_result"
    }
   ],
   "source": [
    "my_streets"
   ]
  },
  {
   "cell_type": "code",
   "execution_count": 799,
   "metadata": {},
   "outputs": [
    {
     "data": {
      "text/plain": [
       "False"
      ]
     },
     "execution_count": 799,
     "metadata": {},
     "output_type": "execute_result"
    }
   ],
   "source": [
    "\"М.\" in my_streets"
   ]
  },
  {
   "cell_type": "markdown",
   "metadata": {},
   "source": [
    "Проверяем, есть ли конкретная улица в списке:"
   ]
  },
  {
   "cell_type": "code",
   "execution_count": 709,
   "metadata": {},
   "outputs": [
    {
     "data": {
      "text/plain": [
       "True"
      ]
     },
     "execution_count": 709,
     "metadata": {},
     "output_type": "execute_result"
    }
   ],
   "source": [
    "\"Староконюшенный\" in my_streets"
   ]
  },
  {
   "cell_type": "code",
   "execution_count": 800,
   "metadata": {},
   "outputs": [
    {
     "data": {
      "text/plain": [
       "False"
      ]
     },
     "execution_count": 800,
     "metadata": {},
     "output_type": "execute_result"
    }
   ],
   "source": [
    "\"М.\" in my_streets"
   ]
  },
  {
   "cell_type": "markdown",
   "metadata": {},
   "source": [
    "В ходе тестирования выяснилось, что в списке нет улиц Нижняя, Верхняя, Бутырский вал - пока просто добавлю"
   ]
  },
  {
   "cell_type": "code",
   "execution_count": 590,
   "metadata": {},
   "outputs": [],
   "source": [
    "my_streets.append('Нижняя')"
   ]
  },
  {
   "cell_type": "code",
   "execution_count": 805,
   "metadata": {},
   "outputs": [
    {
     "data": {
      "text/plain": [
       "True"
      ]
     },
     "execution_count": 805,
     "metadata": {},
     "output_type": "execute_result"
    }
   ],
   "source": [
    "\"Нижняя\" in my_streets"
   ]
  },
  {
   "cell_type": "code",
   "execution_count": 593,
   "metadata": {},
   "outputs": [],
   "source": [
    "my_streets.append('Верхняя')"
   ]
  },
  {
   "cell_type": "code",
   "execution_count": 594,
   "metadata": {},
   "outputs": [
    {
     "data": {
      "text/plain": [
       "True"
      ]
     },
     "execution_count": 594,
     "metadata": {},
     "output_type": "execute_result"
    }
   ],
   "source": [
    "\"Верхняя\" in fine_streets"
   ]
  },
  {
   "cell_type": "code",
   "execution_count": 600,
   "metadata": {},
   "outputs": [],
   "source": [
    "my_streets.append('Волховский')"
   ]
  },
  {
   "cell_type": "code",
   "execution_count": 803,
   "metadata": {},
   "outputs": [
    {
     "data": {
      "text/plain": [
       "False"
      ]
     },
     "execution_count": 803,
     "metadata": {},
     "output_type": "execute_result"
    }
   ],
   "source": [
    "\"Бутырский вал\" in my_streets"
   ]
  },
  {
   "cell_type": "code",
   "execution_count": 804,
   "metadata": {},
   "outputs": [],
   "source": [
    "my_streets.append('Бутырский вал')"
   ]
  },
  {
   "cell_type": "code",
   "execution_count": 808,
   "metadata": {},
   "outputs": [
    {
     "data": {
      "text/plain": [
       "True"
      ]
     },
     "execution_count": 808,
     "metadata": {},
     "output_type": "execute_result"
    }
   ],
   "source": [
    "\"Бутырский вал\" in my_streets"
   ]
  },
  {
   "cell_type": "code",
   "execution_count": 802,
   "metadata": {},
   "outputs": [
    {
     "data": {
      "text/plain": [
       "True"
      ]
     },
     "execution_count": 802,
     "metadata": {},
     "output_type": "execute_result"
    }
   ],
   "source": [
    "'1-я Малая' in my_streets"
   ]
  },
  {
   "cell_type": "code",
   "execution_count": 809,
   "metadata": {},
   "outputs": [
    {
     "data": {
      "text/plain": [
       "True"
      ]
     },
     "execution_count": 809,
     "metadata": {},
     "output_type": "execute_result"
    }
   ],
   "source": [
    "'Кропоткинская'in my_streets"
   ]
  },
  {
   "cell_type": "code",
   "execution_count": 810,
   "metadata": {},
   "outputs": [],
   "source": [
    "\"\"\"\n",
    "Костыль! Так делать нельзя! В Мск нет такой улицы, зато есть метро с омонимичным названием. \n",
    "Нужно уметь в правиле прописать, что до токена с названием улицы не может идти токен, маркирующий \"метро\".\n",
    "\"\"\"\n",
    "my_streets.remove(\"Кропоткинская\")"
   ]
  },
  {
   "cell_type": "markdown",
   "metadata": {},
   "source": [
    "### Напишем правило для извлечения адресов"
   ]
  },
  {
   "cell_type": "code",
   "execution_count": 811,
   "metadata": {},
   "outputs": [],
   "source": [
    "Address = fact(\n",
    "    'Address',\n",
    "    ['Street', 'Type_of_Street',\n",
    "    'Building_Number', 'Type_of_Building', 'Building',\n",
    "    'Apartment_Number'] \n",
    "            )\n",
    "\n",
    "#Функция для нормализации \"дома\" в поле Type_of_Bulding:\n",
    "def normalize_type_of_build(text):\n",
    "    text = re.sub(r'д.?$', 'дом', text)\n",
    "    return text\n",
    "    \n",
    "#Функция для нормализации \"улицы\" в поле Type_of_Street:\n",
    "def normalize_street(text):\n",
    "    text = re.sub(r'ул.?$', 'улица', text)\n",
    "    text = re.sub(r'пер.?$', 'переулок', text)\n",
    "    text = re.sub(r'ш.?$', 'шоссе', text)\n",
    "    text = re.sub(r'пр.?$', 'проезд/проспект', text) #неприятная омонимия: проспект или проезд могут сокращаться как \"пр.\"\n",
    "    text = re.sub(r'наб.?$', 'набережная', text)\n",
    "    text = re.sub(r'ал.?$', 'аллея', text)\n",
    "    return text\n",
    "\n",
    "#Для обработки названий улиц:\n",
    "STREET_NAME = pipeline(my_streets)\n",
    "\n",
    "TYPE_OF_STREET = morph_pipeline(['ул',\n",
    "                'ул.',\n",
    "                'улица',\n",
    "                'пер',\n",
    "                'пер.',\n",
    "                'переулок',\n",
    "                'ш',\n",
    "                'ш.',\n",
    "                'шоссе',\n",
    "                'пр',\n",
    "                'пр.',\n",
    "                'проезд',\n",
    "                'тупик',\n",
    "                'проспект',\n",
    "                'наб.',\n",
    "                'наб',\n",
    "                'набережная',\n",
    "                'ал.',\n",
    "                'ал',\n",
    "                'аллея'               \n",
    "                ]).interpretation(Address.Type_of_Street.custom(normalize_street))\n",
    "\n",
    "#Для обработки \"дома\"\n",
    "TYPE_OF_BUILDING = morph_pipeline(['д.',\n",
    "                    'д',\n",
    "                    'дом']).interpretation(Address.Type_of_Building.custom(normalize_type_of_build))\n",
    "\n",
    "BUILDING = morph_pipeline(['корп',\n",
    "                           'корп.',\n",
    "                           'корпус'])\n",
    "        \n",
    "#Правило, извлекающее адреса: #(ул).Арбат(,) (дом) 15(/43); Староконюшенный пер., д.30\n",
    "ADDRESS = or_(\n",
    "        rule( \n",
    "            TYPE_OF_STREET.optional(),\n",
    "            STREET_NAME.interpretation(Address.Street),\n",
    "            TYPE_OF_STREET.optional(),\n",
    "            COMMA.optional(),\n",
    "            TYPE_OF_BUILDING.optional(),\n",
    "            INT.interpretation(Address.Building_Number.custom(int)), \n",
    "            eq('/').optional(),\n",
    "            INT.optional().interpretation(Address.Apartment_Number.custom(int))\n",
    "            ),\n",
    "\n",
    "        #Вариант для случая с \"корпусом\": ул.Волочаевская, д.2, корп.1, Волочаевская ул. дом 2 корп 1\n",
    "        rule (\n",
    "            TYPE_OF_STREET.optional(),\n",
    "            STREET_NAME.interpretation(Address.Street),\n",
    "            TYPE_OF_STREET.optional(),\n",
    "            COMMA.optional(),\n",
    "            TYPE_OF_BUILDING.optional(),\n",
    "            INT.interpretation(Address.Building_Number.custom(int)), \n",
    "            in_('/,').optional(),\n",
    "            INT.optional().interpretation(Address.Apartment_Number.custom(int)),\n",
    "            COMMA.optional(),\n",
    "            BUILDING,\n",
    "            INT.interpretation(Address.Building.custom(int))  \n",
    "            )\n",
    "        ).interpretation(Address)"
   ]
  },
  {
   "cell_type": "code",
   "execution_count": 825,
   "metadata": {},
   "outputs": [
    {
     "data": {
      "text/html": [
       "<div class=\"tex2jax_ignore\" style=\"white-space: pre-wrap\">text1. ann1. Арбатская м. 1-комн. кв-ру, или м.Кропоткинская 7 мин/п, <span style=\"padding: 2px; border-radius: 4px; border: 1px solid #bbdefb; background: #e3f2fd\">Староконюшенный пер., д.30</span>. 35/21 кв.м, кухня 10, 10/12 эт, блоч. дома, балкон, тел., хор. сост., с/у совм., окна в тихий сквер, освобождение сразу, продаю, 45 тыс.$. Торг Т 557-00-73 </div>"
      ],
      "text/plain": [
       "BoxMarkup('text1. ann1. Арбатская м. 1-комн. кв-ру, или м.Кропоткинская 7 мин/п, Староконюшенный пер., д.30. 35/21 кв.м, кухня 10, 10/12 эт, блоч. дома, балкон, тел., хор. сост., с/у совм., окна в тихий сквер, освобождение сразу, продаю, 45 тыс.$. Торг Т 557-00-73 ',\n",
       "          [Span(70, 96, None)])"
      ]
     },
     "metadata": {},
     "output_type": "display_data"
    },
    {
     "data": {
      "text/plain": [
       "Address(Street='Староконюшенный',\n",
       "        Type_of_Street='переулок',\n",
       "        Building_Number=30,\n",
       "        Type_of_Building='дом',\n",
       "        Building=None,\n",
       "        Apartment_Number=None)"
      ]
     },
     "metadata": {},
     "output_type": "display_data"
    },
    {
     "data": {
      "text/html": [
       "<div class=\"tex2jax_ignore\" style=\"white-space: pre-wrap\">text2. ann2. Арбатская м. 1-комн. кв ру, 5 м/пеш., <span style=\"padding: 2px; border-radius: 4px; border: 1px solid #bbdefb; background: #e3f2fd\">ул.Арбат дом 15/43</span>; 53/20/13 кв.м, еврорем., 4/6-эт. кирп. дома, д/фон, евростиль, тел , кондиц., стоянка, с мебелью, охрана, свободна, хозяин, 130 тыс.$. Торг. Т.762-55-67, Сергей</div>"
      ],
      "text/plain": [
       "BoxMarkup('text2. ann2. Арбатская м. 1-комн. кв ру, 5 м/пеш., ул.Арбат дом 15/43; 53/20/13 кв.м, еврорем., 4/6-эт. кирп. дома, д/фон, евростиль, тел , кондиц., стоянка, с мебелью, охрана, свободна, хозяин, 130 тыс.$. Торг. Т.762-55-67, Сергей',\n",
       "          [Span(51, 69, None)])"
      ]
     },
     "metadata": {},
     "output_type": "display_data"
    },
    {
     "data": {
      "text/plain": [
       "Address(Street='Арбат',\n",
       "        Type_of_Street='улица',\n",
       "        Building_Number=15,\n",
       "        Type_of_Building='дом',\n",
       "        Building=None,\n",
       "        Apartment_Number=43)"
      ]
     },
     "metadata": {},
     "output_type": "display_data"
    },
    {
     "data": {
      "text/html": [
       "<div class=\"tex2jax_ignore\" style=\"white-space: pre-wrap\">text3. ann3. Баррикадная м. 1-комн. кв-ру, <span style=\"padding: 2px; border-radius: 4px; border: 1px solid #bbdefb; background: #e3f2fd\">ул.Б.Грузинская, д.14</span>, 36/20.2 кв.м, кухня 8.3, 2/14-эт. кирп. дома, балкон, тел., консьержка, свободна, Т.962-30-63 </div>"
      ],
      "text/plain": [
       "BoxMarkup('text3. ann3. Баррикадная м. 1-комн. кв-ру, ул.Б.Грузинская, д.14, 36/20.2 кв.м, кухня 8.3, 2/14-эт. кирп. дома, балкон, тел., консьержка, свободна, Т.962-30-63 ',\n",
       "          [Span(43, 64, None)])"
      ]
     },
     "metadata": {},
     "output_type": "display_data"
    },
    {
     "data": {
      "text/plain": [
       "Address(Street='Б.Грузинская',\n",
       "        Type_of_Street='улица',\n",
       "        Building_Number=14,\n",
       "        Type_of_Building='дом',\n",
       "        Building=None,\n",
       "        Apartment_Number=None)"
      ]
     },
     "metadata": {},
     "output_type": "display_data"
    },
    {
     "data": {
      "text/html": [
       "<div class=\"tex2jax_ignore\" style=\"white-space: pre-wrap\">text4. ann4. Бауманская м. 1-комн. кв-ру, 5 мин/п., <span style=\"padding: 2px; border-radius: 4px; border: 1px solid #bbdefb; background: #e3f2fd\">Аптекарский пер., д.3/22</span>, 30/16.2 кв.м, кухня 8, вые. бельэтаж/8-эт, кирп. дома, тел., с/у совм. больш., хор. сост., хор. двор, тихо, свободную, 27 тыс.$. Т.737-76-67, раб., Т.265-23-31, дом., Аня </div>"
      ],
      "text/plain": [
       "BoxMarkup('text4. ann4. Бауманская м. 1-комн. кв-ру, 5 мин/п., Аптекарский пер., д.3/22, 30/16.2 кв.м, кухня 8, вые. бельэтаж/8-эт, кирп. дома, тел., с/у совм. больш., хор. сост., хор. двор, тихо, свободную, 27 тыс.$. Т.737-76-67, раб., Т.265-23-31, дом., Аня ',\n",
       "          [Span(52, 76, None)])"
      ]
     },
     "metadata": {},
     "output_type": "display_data"
    },
    {
     "data": {
      "text/plain": [
       "Address(Street='Аптекарский',\n",
       "        Type_of_Street='переулок',\n",
       "        Building_Number=3,\n",
       "        Type_of_Building='дом',\n",
       "        Building=None,\n",
       "        Apartment_Number=22)"
      ]
     },
     "metadata": {},
     "output_type": "display_data"
    },
    {
     "data": {
      "text/html": [
       "<div class=\"tex2jax_ignore\" style=\"white-space: pre-wrap\">text5. ann5. Бауманская м. 1-комн. кв-ру, метро пешком, 45/22 кв.м, кухня 10, лоджия 3, 8/8-эт. кирп. элит. дома новостройка, без отделки, без сантехники, с/у разд., Т.279-52-79, вечером, Татьяна </div>"
      ],
      "text/plain": [
       "BoxMarkup('text5. ann5. Бауманская м. 1-комн. кв-ру, метро пешком, 45/22 кв.м, кухня 10, лоджия 3, 8/8-эт. кирп. элит. дома новостройка, без отделки, без сантехники, с/у разд., Т.279-52-79, вечером, Татьяна ',\n",
       "          [])"
      ]
     },
     "metadata": {},
     "output_type": "display_data"
    },
    {
     "data": {
      "text/html": [
       "<div class=\"tex2jax_ignore\" style=\"white-space: pre-wrap\">text6. ann6. Бауманская м. 1-комн. кв-ру, 5 мин/п., <span style=\"padding: 2px; border-radius: 4px; border: 1px solid #bbdefb; background: #e3f2fd\">Аптекарский, д.15</span>, 33/22 кв.м, кухня 6, 3/9-эт. пан. дома, балкон, тел., с/у совм., окна в тихое место, код. замок, свободна, Т.405-50-68</div>"
      ],
      "text/plain": [
       "BoxMarkup('text6. ann6. Бауманская м. 1-комн. кв-ру, 5 мин/п., Аптекарский, д.15, 33/22 кв.м, кухня 6, 3/9-эт. пан. дома, балкон, тел., с/у совм., окна в тихое место, код. замок, свободна, Т.405-50-68',\n",
       "          [Span(52, 69, None)])"
      ]
     },
     "metadata": {},
     "output_type": "display_data"
    },
    {
     "data": {
      "text/plain": [
       "Address(Street='Аптекарский',\n",
       "        Type_of_Street=None,\n",
       "        Building_Number=15,\n",
       "        Type_of_Building='дом',\n",
       "        Building=None,\n",
       "        Apartment_Number=None)"
      ]
     },
     "metadata": {},
     "output_type": "display_data"
    },
    {
     "data": {
      "text/html": [
       "<div class=\"tex2jax_ignore\" style=\"white-space: pre-wrap\">text7. ann7. Бауманская м. 1-комн. кв-ру, 2 мин/п., <span style=\"padding: 2px; border-radius: 4px; border: 1px solid #bbdefb; background: #e3f2fd\">ул.Спартаковская, д. 18</span>; 36/20,5/10,5 кв.м, 9/12 пан., с/у совм., балкон застекл., тел., домофон, жел. дверь, паркет, доска, альтернатива подобрана, Т. 125-68-31</div>"
      ],
      "text/plain": [
       "BoxMarkup('text7. ann7. Бауманская м. 1-комн. кв-ру, 2 мин/п., ул.Спартаковская, д. 18; 36/20,5/10,5 кв.м, 9/12 пан., с/у совм., балкон застекл., тел., домофон, жел. дверь, паркет, доска, альтернатива подобрана, Т. 125-68-31',\n",
       "          [Span(52, 75, None)])"
      ]
     },
     "metadata": {},
     "output_type": "display_data"
    },
    {
     "data": {
      "text/plain": [
       "Address(Street='Спартаковская',\n",
       "        Type_of_Street='улица',\n",
       "        Building_Number=18,\n",
       "        Type_of_Building='дом',\n",
       "        Building=None,\n",
       "        Apartment_Number=None)"
      ]
     },
     "metadata": {},
     "output_type": "display_data"
    },
    {
     "data": {
      "text/html": [
       "<div class=\"tex2jax_ignore\" style=\"white-space: pre-wrap\">text8. ann8. Бауманская м. 1-комн кв-ру, <span style=\"padding: 2px; border-radius: 4px; border: 1px solid #bbdefb; background: #e3f2fd\">Госпитальный пер. д.8</span>; 10 мин/п., 36/19.8 кв.м, кухня 9.8, 11/12-эт. блочн. дома, паркет, балкон, тел., с/у совм., свободна, 23 тыс.$. Т. 133-61-00 </div>"
      ],
      "text/plain": [
       "BoxMarkup('text8. ann8. Бауманская м. 1-комн кв-ру, Госпитальный пер. д.8; 10 мин/п., 36/19.8 кв.м, кухня 9.8, 11/12-эт. блочн. дома, паркет, балкон, тел., с/у совм., свободна, 23 тыс.$. Т. 133-61-00 ',\n",
       "          [Span(41, 62, None)])"
      ]
     },
     "metadata": {},
     "output_type": "display_data"
    },
    {
     "data": {
      "text/plain": [
       "Address(Street='Госпитальный',\n",
       "        Type_of_Street='переулок',\n",
       "        Building_Number=8,\n",
       "        Type_of_Building='дом',\n",
       "        Building=None,\n",
       "        Apartment_Number=None)"
      ]
     },
     "metadata": {},
     "output_type": "display_data"
    },
    {
     "data": {
      "text/html": [
       "<div class=\"tex2jax_ignore\" style=\"white-space: pre-wrap\">text9. ann9. Бауманская м. 1-комн. кв-ру, 5 м.п., <span style=\"padding: 2px; border-radius: 4px; border: 1px solid #bbdefb; background: #e3f2fd\">ул.М.Почтовая, 10</span>; 44/21 кв.м, кухня 13.5, 2/8-эт. элитн. кирп. дома, встр. оборуд., евростанд., с/у совм., имп. сантехника, застекл. лоджия, стеклопакеты, консьержка, 60 тыс.$. Т.189-65-88, Ирина</div>"
      ],
      "text/plain": [
       "BoxMarkup('text9. ann9. Бауманская м. 1-комн. кв-ру, 5 м.п., ул.М.Почтовая, 10; 44/21 кв.м, кухня 13.5, 2/8-эт. элитн. кирп. дома, встр. оборуд., евростанд., с/у совм., имп. сантехника, застекл. лоджия, стеклопакеты, консьержка, 60 тыс.$. Т.189-65-88, Ирина',\n",
       "          [Span(50, 67, None)])"
      ]
     },
     "metadata": {},
     "output_type": "display_data"
    },
    {
     "data": {
      "text/plain": [
       "Address(Street='М.Почтовая',\n",
       "        Type_of_Street='улица',\n",
       "        Building_Number=10,\n",
       "        Type_of_Building=None,\n",
       "        Building=None,\n",
       "        Apartment_Number=None)"
      ]
     },
     "metadata": {},
     "output_type": "display_data"
    },
    {
     "data": {
      "text/html": [
       "<div class=\"tex2jax_ignore\" style=\"white-space: pre-wrap\">text10. ann10. Бауманская м. 1-комн. кв-ру, 5 мин/п., <span style=\"padding: 2px; border-radius: 4px; border: 1px solid #bbdefb; background: #e3f2fd\">Токмаков пер., 28/16</span> кв.м, кух. 5.5, 6/7 кирп. дома, балкон, без тел., с/у совм., лифт, тихо, свободна, 17тыс.$. Т.978-92-94, Тамара Григорьевна, до 23.00 </div>"
      ],
      "text/plain": [
       "BoxMarkup('text10. ann10. Бауманская м. 1-комн. кв-ру, 5 мин/п., Токмаков пер., 28/16 кв.м, кух. 5.5, 6/7 кирп. дома, балкон, без тел., с/у совм., лифт, тихо, свободна, 17тыс.$. Т.978-92-94, Тамара Григорьевна, до 23.00 ',\n",
       "          [Span(54, 74, None)])"
      ]
     },
     "metadata": {},
     "output_type": "display_data"
    },
    {
     "data": {
      "text/plain": [
       "Address(Street='Токмаков',\n",
       "        Type_of_Street='переулок',\n",
       "        Building_Number=28,\n",
       "        Type_of_Building=None,\n",
       "        Building=None,\n",
       "        Apartment_Number=16)"
      ]
     },
     "metadata": {},
     "output_type": "display_data"
    },
    {
     "data": {
      "text/html": [
       "<div class=\"tex2jax_ignore\" style=\"white-space: pre-wrap\">text11. ann11. Бауманская м. 1-комн. кв-ру, 7 мин. пеш., <span style=\"padding: 2px; border-radius: 4px; border: 1px solid #bbdefb; background: #e3f2fd\">ул. Б. Почтовая, д. 18/20, корп. 16</span>, 34/15 кв.м. кухня 7,5/5-эт. кирп. дома, с/у разд., большой кор., тел., без балкона, хор. сост., свободна, 23.5 тыс.$. Т.218-59-90</div>"
      ],
      "text/plain": [
       "BoxMarkup('text11. ann11. Бауманская м. 1-комн. кв-ру, 7 мин. пеш., ул. Б. Почтовая, д. 18/20, корп. 16, 34/15 кв.м. кухня 7,5/5-эт. кирп. дома, с/у разд., большой кор., тел., без балкона, хор. сост., свободна, 23.5 тыс.$. Т.218-59-90',\n",
       "          [Span(57, 92, None)])"
      ]
     },
     "metadata": {},
     "output_type": "display_data"
    },
    {
     "data": {
      "text/plain": [
       "Address(Street='Б. Почтовая',\n",
       "        Type_of_Street='улица',\n",
       "        Building_Number=18,\n",
       "        Type_of_Building='дом',\n",
       "        Building=16,\n",
       "        Apartment_Number=20)"
      ]
     },
     "metadata": {},
     "output_type": "display_data"
    },
    {
     "data": {
      "text/html": [
       "<div class=\"tex2jax_ignore\" style=\"white-space: pre-wrap\">text12. ann12. Бауманская м. 1-комн. кв-ру, 5 м.п., <span style=\"padding: 2px; border-radius: 4px; border: 1px solid #bbdefb; background: #e3f2fd\">Плетешковский пер., 18/20</span>; 35/20 кв.м, кухня 10,3/12 эт. пан. дома, лифт, паркет, с/у совм., тел., во двор, подъезд норм., заст. балкон, 28 тыс. у.е., торг. Т.322-70-36</div>"
      ],
      "text/plain": [
       "BoxMarkup('text12. ann12. Бауманская м. 1-комн. кв-ру, 5 м.п., Плетешковский пер., 18/20; 35/20 кв.м, кухня 10,3/12 эт. пан. дома, лифт, паркет, с/у совм., тел., во двор, подъезд норм., заст. балкон, 28 тыс. у.е., торг. Т.322-70-36',\n",
       "          [Span(52, 77, None)])"
      ]
     },
     "metadata": {},
     "output_type": "display_data"
    },
    {
     "data": {
      "text/plain": [
       "Address(Street='Плетешковский',\n",
       "        Type_of_Street='переулок',\n",
       "        Building_Number=18,\n",
       "        Type_of_Building=None,\n",
       "        Building=None,\n",
       "        Apartment_Number=20)"
      ]
     },
     "metadata": {},
     "output_type": "display_data"
    },
    {
     "data": {
      "text/html": [
       "<div class=\"tex2jax_ignore\" style=\"white-space: pre-wrap\">text13. ann13. Бауманская м. 1-комн. кв-ру, 10 мин.п-.<span style=\"padding: 2px; border-radius: 4px; border: 1px solid #bbdefb; background: #e3f2fd\">ул.Волочаевская, д.2, корп.1</span>; 31/15 кв.м, кухня 8, 11/12 эт.пан.дома 90 г.постр., домофон, консьерж, рядом парк, тел., м/провод, в хор.сост , 23 тыс.$. Т.361-47-62</div>"
      ],
      "text/plain": [
       "BoxMarkup('text13. ann13. Бауманская м. 1-комн. кв-ру, 10 мин.п-.ул.Волочаевская, д.2, корп.1; 31/15 кв.м, кухня 8, 11/12 эт.пан.дома 90 г.постр., домофон, консьерж, рядом парк, тел., м/провод, в хор.сост , 23 тыс.$. Т.361-47-62',\n",
       "          [Span(54, 82, None)])"
      ]
     },
     "metadata": {},
     "output_type": "display_data"
    },
    {
     "data": {
      "text/plain": [
       "Address(Street='Волочаевская',\n",
       "        Type_of_Street='улица',\n",
       "        Building_Number=2,\n",
       "        Type_of_Building='дом',\n",
       "        Building=1,\n",
       "        Apartment_Number=None)"
      ]
     },
     "metadata": {},
     "output_type": "display_data"
    },
    {
     "data": {
      "text/html": [
       "<div class=\"tex2jax_ignore\" style=\"white-space: pre-wrap\">text14. ann14. Бауманская м. 1-комн. кв-ру, 10 мин.пеш., <span style=\"padding: 2px; border-radius: 4px; border: 1px solid #bbdefb; background: #e3f2fd\">Денисовский пер., д.7</span>; 33.6/18.6 кв.м, кухня 6, 5/5-эт. кирп. дома, с/у совм., балкон, код, тел., 21 тыс.$, Т.966-54-29, Ирина Викторовна</div>"
      ],
      "text/plain": [
       "BoxMarkup('text14. ann14. Бауманская м. 1-комн. кв-ру, 10 мин.пеш., Денисовский пер., д.7; 33.6/18.6 кв.м, кухня 6, 5/5-эт. кирп. дома, с/у совм., балкон, код, тел., 21 тыс.$, Т.966-54-29, Ирина Викторовна',\n",
       "          [Span(57, 78, None)])"
      ]
     },
     "metadata": {},
     "output_type": "display_data"
    },
    {
     "data": {
      "text/plain": [
       "Address(Street='Денисовский',\n",
       "        Type_of_Street='переулок',\n",
       "        Building_Number=7,\n",
       "        Type_of_Building='дом',\n",
       "        Building=None,\n",
       "        Apartment_Number=None)"
      ]
     },
     "metadata": {},
     "output_type": "display_data"
    },
    {
     "data": {
      "text/html": [
       "<div class=\"tex2jax_ignore\" style=\"white-space: pre-wrap\">text15. ann15. •БАУМАНСКАЯ м. 1-комн. кв-ру, 3 м.п., <span style=\"padding: 2px; border-radius: 4px; border: 1px solid #bbdefb; background: #e3f2fd\">Волховский пер., д.2</span>, 9-126., 34.4/19.3/10, без балк., без тел., парк. доска, окна-двор, чистый подъезд, код.зам., приват., альт-ва. 24.000$. Лиц-N 000676/РП(006). Т.203-12-31, Т.737-00-93 с 9 до 20</div>"
      ],
      "text/plain": [
       "BoxMarkup('text15. ann15. •БАУМАНСКАЯ м. 1-комн. кв-ру, 3 м.п., Волховский пер., д.2, 9-126., 34.4/19.3/10, без балк., без тел., парк. доска, окна-двор, чистый подъезд, код.зам., приват., альт-ва. 24.000$. Лиц-N 000676/РП(006). Т.203-12-31, Т.737-00-93 с 9 до 20',\n",
       "          [Span(53, 73, None)])"
      ]
     },
     "metadata": {},
     "output_type": "display_data"
    },
    {
     "data": {
      "text/plain": [
       "Address(Street='Волховский',\n",
       "        Type_of_Street='переулок',\n",
       "        Building_Number=2,\n",
       "        Type_of_Building='дом',\n",
       "        Building=None,\n",
       "        Apartment_Number=None)"
      ]
     },
     "metadata": {},
     "output_type": "display_data"
    },
    {
     "data": {
      "text/html": [
       "<div class=\"tex2jax_ignore\" style=\"white-space: pre-wrap\">text16. ann16. •БАУМАНСКАЯ М. 1-комн. кв-ра, <span style=\"padding: 2px; border-radius: 4px; border: 1px solid #bbdefb; background: #e3f2fd\">Волочаевская ул. дом 2 корп 1</span>, 34/14,4/кух. 8,5, 12/12 пан.+тех.этаж, 15 м.п., телефон, лоджия, окна - двор, сделан качественный ремонт, кондиционеры, жалюзи, домофон, консьержка, жел. дверь, чистая продажа, 27 500 дол. Т.924-59-92, Т.925-10-83 с 9 до 19</div>"
      ],
      "text/plain": [
       "BoxMarkup('text16. ann16. •БАУМАНСКАЯ М. 1-комн. кв-ра, Волочаевская ул. дом 2 корп 1, 34/14,4/кух. 8,5, 12/12 пан.+тех.этаж, 15 м.п., телефон, лоджия, окна - двор, сделан качественный ремонт, кондиционеры, жалюзи, домофон, консьержка, жел. дверь, чистая продажа, 27 500 дол. Т.924-59-92, Т.925-10-83 с 9 до 19',\n",
       "          [Span(45, 74, None)])"
      ]
     },
     "metadata": {},
     "output_type": "display_data"
    },
    {
     "data": {
      "text/plain": [
       "Address(Street='Волочаевская',\n",
       "        Type_of_Street='улица',\n",
       "        Building_Number=2,\n",
       "        Type_of_Building='дом',\n",
       "        Building=1,\n",
       "        Apartment_Number=None)"
      ]
     },
     "metadata": {},
     "output_type": "display_data"
    },
    {
     "data": {
      "text/html": [
       "<div class=\"tex2jax_ignore\" style=\"white-space: pre-wrap\">text17. ann17. Белорусская м. 1-комн. кв-ру, 5 мин/п., <span style=\"padding: 2px; border-radius: 4px; border: 1px solid #bbdefb; background: #e3f2fd\">ул.Нижняя, д. 5</span>, 31,3/13,4 кв.м, кухня 9,2, 3/5-эт. кирп. дома, лифт, тел., с/у совм., пот. 3.5, газ. колонка, линолеум, окна на улицу, альтернатива, 25 тыс.$. Т.318-94-49 </div>"
      ],
      "text/plain": [
       "BoxMarkup('text17. ann17. Белорусская м. 1-комн. кв-ру, 5 мин/п., ул.Нижняя, д. 5, 31,3/13,4 кв.м, кухня 9,2, 3/5-эт. кирп. дома, лифт, тел., с/у совм., пот. 3.5, газ. колонка, линолеум, окна на улицу, альтернатива, 25 тыс.$. Т.318-94-49 ',\n",
       "          [Span(55, 70, None)])"
      ]
     },
     "metadata": {},
     "output_type": "display_data"
    },
    {
     "data": {
      "text/plain": [
       "Address(Street='Нижняя',\n",
       "        Type_of_Street='улица',\n",
       "        Building_Number=5,\n",
       "        Type_of_Building='дом',\n",
       "        Building=None,\n",
       "        Apartment_Number=None)"
      ]
     },
     "metadata": {},
     "output_type": "display_data"
    },
    {
     "data": {
      "text/html": [
       "<div class=\"tex2jax_ignore\" style=\"white-space: pre-wrap\">text18. ann18. Белорусская м. 1-комн. кв-ру, <span style=\"padding: 2px; border-radius: 4px; border: 1px solid #bbdefb; background: #e3f2fd\">ул.Верхняя, д.6</span>;43/20 кв.м, кухня 13,2/14-эт.кирп. дома ЖСК, тел., лоджия 6 заст., с/у совм., паркет, темная комната 2.7, домоф., мет .дверь, консьерж., окна во двор, 41.5 тыс.$, торг. Т.405-85-64 </div>"
      ],
      "text/plain": [
       "BoxMarkup('text18. ann18. Белорусская м. 1-комн. кв-ру, ул.Верхняя, д.6;43/20 кв.м, кухня 13,2/14-эт.кирп. дома ЖСК, тел., лоджия 6 заст., с/у совм., паркет, темная комната 2.7, домоф., мет .дверь, консьерж., окна во двор, 41.5 тыс.$, торг. Т.405-85-64 ',\n",
       "          [Span(45, 60, None)])"
      ]
     },
     "metadata": {},
     "output_type": "display_data"
    },
    {
     "data": {
      "text/plain": [
       "Address(Street='Верхняя',\n",
       "        Type_of_Street='улица',\n",
       "        Building_Number=6,\n",
       "        Type_of_Building='дом',\n",
       "        Building=None,\n",
       "        Apartment_Number=None)"
      ]
     },
     "metadata": {},
     "output_type": "display_data"
    },
    {
     "data": {
      "text/html": [
       "<div class=\"tex2jax_ignore\" style=\"white-space: pre-wrap\">text19. ann19. Белорусская м. 1-комн. кв-ру, <span style=\"padding: 2px; border-radius: 4px; border: 1px solid #bbdefb; background: #e3f2fd\">ул. Бутырский вал, д. 34</span>, 10 м/п; 36/20 кв.м, к. 10, 12/12-пан. дома, с/у совм., окна двор, тел., балкон, хор. сост., домофон, свободна, 28 тыс.$. Торг. Т.299-96-51</div>"
      ],
      "text/plain": [
       "BoxMarkup('text19. ann19. Белорусская м. 1-комн. кв-ру, ул. Бутырский вал, д. 34, 10 м/п; 36/20 кв.м, к. 10, 12/12-пан. дома, с/у совм., окна двор, тел., балкон, хор. сост., домофон, свободна, 28 тыс.$. Торг. Т.299-96-51',\n",
       "          [Span(45, 69, None)])"
      ]
     },
     "metadata": {},
     "output_type": "display_data"
    },
    {
     "data": {
      "text/plain": [
       "Address(Street='Бутырский вал',\n",
       "        Type_of_Street='улица',\n",
       "        Building_Number=34,\n",
       "        Type_of_Building='дом',\n",
       "        Building=None,\n",
       "        Apartment_Number=None)"
      ]
     },
     "metadata": {},
     "output_type": "display_data"
    },
    {
     "data": {
      "text/html": [
       "<div class=\"tex2jax_ignore\" style=\"white-space: pre-wrap\">text20. ann20. Белорусская м. 1-комн. кв-ру, 6 мин.п., <span style=\"padding: 2px; border-radius: 4px; border: 1px solid #bbdefb; background: #e3f2fd\">Б.Тишинский пер., 22/15</span> кв.м, 2/6 эт. кирп, дома, паркет, пот.3.15, домофон, тихо, 18 тыс.$, торг, без посредников. Альтернатива. Т.253-30-92, вечером</div>"
      ],
      "text/plain": [
       "BoxMarkup('text20. ann20. Белорусская м. 1-комн. кв-ру, 6 мин.п., Б.Тишинский пер., 22/15 кв.м, 2/6 эт. кирп, дома, паркет, пот.3.15, домофон, тихо, 18 тыс.$, торг, без посредников. Альтернатива. Т.253-30-92, вечером',\n",
       "          [Span(55, 78, None)])"
      ]
     },
     "metadata": {},
     "output_type": "display_data"
    },
    {
     "data": {
      "text/plain": [
       "Address(Street='Б.Тишинский',\n",
       "        Type_of_Street='переулок',\n",
       "        Building_Number=22,\n",
       "        Type_of_Building=None,\n",
       "        Building=None,\n",
       "        Apartment_Number=15)"
      ]
     },
     "metadata": {},
     "output_type": "display_data"
    }
   ],
   "source": [
    "show_matches(ADDRESS, *flats_list)"
   ]
  },
  {
   "cell_type": "markdown",
   "metadata": {},
   "source": [
    "### НЕРЕШЕННЫЕ ПРОБЛЕМЫ в извлечениях адресов:\n",
    "    \n",
    "1. Как исключить срабатывание в таком случае: **м.Кропоткинская 7 мин/п**? (У нас есть омонимичная станции метро улица - Кропоткинская.) \n",
    "Пока я просто удалилиа эту улицу из списка, потому что она в Мск более не существует (переименована в Пречистенку). Однако понятно, что это неверное решение (костыль) и будут другие случаи. Хорошо бы уметь прописать в правиле, \n",
    "что до TYPE_OF_STREET не может быть токена с ABBRV, то есть сделать такую проверку окружающего контекста, однако я не нашла технической возможности это решить.\n",
    "\n",
    "2. Список названий улиц не может покрыть все случаи, нужно иметь возможность предусмотреть анализ **\"неизвестных\" улиц**. \n",
    "Для этого можно создать правило, опираясь на большую букву у названия (есть предикат is_capitalized()), на длину названия, видимо, и на части речи, наверное, \n",
    "но хотелось бы чтобы такое правило срабатывало только при условии, что не сработали первые два, со списком улиц. Как технически такое реализовать? \n"
   ]
  },
  {
   "cell_type": "markdown",
   "metadata": {},
   "source": [
    "#### В финале сделаем один общий факт с извлечением всего, что мне удалось извлечь выше"
   ]
  },
  {
   "cell_type": "code",
   "execution_count": 891,
   "metadata": {},
   "outputs": [],
   "source": [
    "\"\"\"\n",
    "Новый корневой факт Advert c полями:\n",
    "тип (в нашем случае будет только \"квартира\")\n",
    "название станции метро\n",
    "количество комнат\n",
    "расстояние до ближайшей станции метро\n",
    "адрес\n",
    "\n",
    "\"\"\"\n",
    "Advert = fact(\n",
    "        'Advert',\n",
    "    ['type', 'metro_station', 'number_of_rooms', \n",
    "     'distance_from_metro', 'address'\n",
    "    ]\n",
    "            )\n",
    "\n",
    "#Беру уже созданные мною правила для извлечения:\n",
    "_METRO_STATION = METRO_STATION.interpretation(Advert.metro_station)\n",
    "_ROOMS_NUMBER = ROOMS_NUMBER.interpretation(Advert.number_of_rooms)\n",
    "_DISTANCE_FROM_METRO = DISTANCE_FROM_METRO.interpretation(Advert.distance_from_metro)\n",
    "_ADDRESS = ADDRESS.interpretation(Advert.address)\n",
    "\n",
    "#Функция для нормализации всех вариантов написания \"квартиры\":\n",
    "def normalize_apartment(text):\n",
    "    text = re.sub(r'кв[-\\s]р[уа]|квартир[ау]', 'квартира', text)\n",
    "    return text\n",
    "\n",
    "#Извлечем отдельно \"квартиру\" и поместим ее в поле type:\n",
    "APARTMENT = or_(rule \n",
    "                    (eq('кв'), \n",
    "                     DASH.optional(), \n",
    "                     in_('рура')), #кв-ру, кв-ра\n",
    "                rule(normalized('квартира'))\n",
    "            ).interpretation(Advert.type.custom(normalize_apartment))\n",
    "\n",
    "#Правило для извлечения всего вместе: Арбатская м. 1-комн. кв ру, 5 м/пеш., ул.Арбат дом 15/43\n",
    "\n",
    "ADVERT = or_(\n",
    "        rule(\n",
    "            _METRO_STATION,\n",
    "            _ROOMS_NUMBER,\n",
    "            APARTMENT,\n",
    "           COMMA.optional(),\n",
    "            eq('или').optional(), #Арбатская м. 1-комн. кв-ру, или м.Кропоткинская\n",
    "            _METRO_STATION.optional(),\n",
    "           _DISTANCE_FROM_METRO.optional(), #Белорусская м. 1-комн. кв-ру, ул.Верхняя, д.6\n",
    "           in_(',.'),\n",
    "            _ADDRESS\n",
    "            ),\n",
    "        \n",
    "        #Вариант, когда нет адреса: Бауманская м. 1-комн. кв-ру, метро пешком\n",
    "        #На самом деле очень странное объявление, однако чтобы правило не срабатывало там, где не нужно, т. е. где все же после идет адрес, нужно проверить, что дальше не идет адрес\n",
    "        #Поскольку я не знаю, такой тех возможности, как это проверить, я ставлю обязательным дальше INT... -\n",
    "        rule(\n",
    "            _METRO_STATION,\n",
    "            _ROOMS_NUMBER,\n",
    "            APARTMENT,\n",
    "           COMMA.optional(),\n",
    "            eq('или').optional(),\n",
    "            _METRO_STATION.optional(),\n",
    "           _DISTANCE_FROM_METRO, \n",
    "            COMMA, \n",
    "            INT #затычка\n",
    "        ),\n",
    "        \n",
    "        #Вариант, когда расстояние до метро - в самом конце: Бауманская м. 1-комн кв-ру, Госпитальный пер. д.8; 10 мин/п.\n",
    "        rule(\n",
    "            _METRO_STATION,\n",
    "            _ROOMS_NUMBER,\n",
    "            APARTMENT,\n",
    "           COMMA.optional(),\n",
    "            _ADDRESS,\n",
    "           in_(',;'),\n",
    "            _DISTANCE_FROM_METRO,\n",
    "            ) \n",
    "        ).interpretation(Advert)"
   ]
  },
  {
   "cell_type": "code",
   "execution_count": 887,
   "metadata": {},
   "outputs": [
    {
     "data": {
      "text/html": [
       "<div class=\"tex2jax_ignore\" style=\"white-space: pre-wrap\">text1. ann1. <span style=\"padding: 2px; border-radius: 4px; border: 1px solid #bbdefb; background: #e3f2fd\">Арбатская м. 1-комн. кв-ру, или м.Кропоткинская 7 мин/п, Староконюшенный пер., д.30</span>. 35/21 кв.м, кухня 10, 10/12 эт, блоч. дома, балкон, тел., хор. сост., с/у совм., окна в тихий сквер, освобождение сразу, продаю, 45 тыс.$. Торг Т 557-00-73 </div>"
      ],
      "text/plain": [
       "BoxMarkup('text1. ann1. Арбатская м. 1-комн. кв-ру, или м.Кропоткинская 7 мин/п, Староконюшенный пер., д.30. 35/21 кв.м, кухня 10, 10/12 эт, блоч. дома, балкон, тел., хор. сост., с/у совм., окна в тихий сквер, освобождение сразу, продаю, 45 тыс.$. Торг Т 557-00-73 ',\n",
       "          [Span(13, 96, None)])"
      ]
     },
     "metadata": {},
     "output_type": "display_data"
    },
    {
     "data": {
      "text/plain": [
       "Advert(type='квартира',\n",
       "       metro_station=Metro_Station(name='Кропоткинская'),\n",
       "       number_of_rooms=Rooms_Number(number=1),\n",
       "       distance_from_metro=Distance_from_metro(Walking_Distance='да',\n",
       "                                               Time=7,\n",
       "                                               Time_Unit='минута'),\n",
       "       address=Address(Street='Староконюшенный',\n",
       "                       Type_of_Street='переулок',\n",
       "                       Building_Number=30,\n",
       "                       Type_of_Building='дом',\n",
       "                       Building=None,\n",
       "                       Apartment_Number=None))"
      ]
     },
     "metadata": {},
     "output_type": "display_data"
    },
    {
     "data": {
      "text/html": [
       "<div class=\"tex2jax_ignore\" style=\"white-space: pre-wrap\">text2. ann2. <span style=\"padding: 2px; border-radius: 4px; border: 1px solid #bbdefb; background: #e3f2fd\">Арбатская м. 1-комн. кв ру, 5 м/пеш., ул.Арбат дом 15/43</span>; 53/20/13 кв.м, еврорем., 4/6-эт. кирп. дома, д/фон, евростиль, тел , кондиц., стоянка, с мебелью, охрана, свободна, хозяин, 130 тыс.$. Торг. Т.762-55-67, Сергей</div>"
      ],
      "text/plain": [
       "BoxMarkup('text2. ann2. Арбатская м. 1-комн. кв ру, 5 м/пеш., ул.Арбат дом 15/43; 53/20/13 кв.м, еврорем., 4/6-эт. кирп. дома, д/фон, евростиль, тел , кондиц., стоянка, с мебелью, охрана, свободна, хозяин, 130 тыс.$. Торг. Т.762-55-67, Сергей',\n",
       "          [Span(13, 69, None)])"
      ]
     },
     "metadata": {},
     "output_type": "display_data"
    },
    {
     "data": {
      "text/plain": [
       "Advert(type='квартира',\n",
       "       metro_station=Metro_Station(name='Арбатская'),\n",
       "       number_of_rooms=Rooms_Number(number=1),\n",
       "       distance_from_metro=Distance_from_metro(Walking_Distance='да',\n",
       "                                               Time=5,\n",
       "                                               Time_Unit='минута'),\n",
       "       address=Address(Street='Арбат',\n",
       "                       Type_of_Street='улица',\n",
       "                       Building_Number=15,\n",
       "                       Type_of_Building='дом',\n",
       "                       Building=None,\n",
       "                       Apartment_Number=43))"
      ]
     },
     "metadata": {},
     "output_type": "display_data"
    },
    {
     "data": {
      "text/html": [
       "<div class=\"tex2jax_ignore\" style=\"white-space: pre-wrap\">text3. ann3. <span style=\"padding: 2px; border-radius: 4px; border: 1px solid #bbdefb; background: #e3f2fd\">Баррикадная м. 1-комн. кв-ру, ул.Б.Грузинская, д.14</span>, 36/20.2 кв.м, кухня 8.3, 2/14-эт. кирп. дома, балкон, тел., консьержка, свободна, Т.962-30-63 </div>"
      ],
      "text/plain": [
       "BoxMarkup('text3. ann3. Баррикадная м. 1-комн. кв-ру, ул.Б.Грузинская, д.14, 36/20.2 кв.м, кухня 8.3, 2/14-эт. кирп. дома, балкон, тел., консьержка, свободна, Т.962-30-63 ',\n",
       "          [Span(13, 64, None)])"
      ]
     },
     "metadata": {},
     "output_type": "display_data"
    },
    {
     "data": {
      "text/plain": [
       "Advert(type='квартира',\n",
       "       metro_station=Metro_Station(name='Баррикадная'),\n",
       "       number_of_rooms=Rooms_Number(number=1),\n",
       "       distance_from_metro=None,\n",
       "       address=Address(Street='Б.Грузинская',\n",
       "                       Type_of_Street='улица',\n",
       "                       Building_Number=14,\n",
       "                       Type_of_Building='дом',\n",
       "                       Building=None,\n",
       "                       Apartment_Number=None))"
      ]
     },
     "metadata": {},
     "output_type": "display_data"
    },
    {
     "data": {
      "text/html": [
       "<div class=\"tex2jax_ignore\" style=\"white-space: pre-wrap\">text4. ann4. <span style=\"padding: 2px; border-radius: 4px; border: 1px solid #bbdefb; background: #e3f2fd\">Бауманская м. 1-комн. кв-ру, 5 мин/п., Аптекарский пер., д.3/22</span>, 30/16.2 кв.м, кухня 8, вые. бельэтаж/8-эт, кирп. дома, тел., с/у совм. больш., хор. сост., хор. двор, тихо, свободную, 27 тыс.$. Т.737-76-67, раб., Т.265-23-31, дом., Аня </div>"
      ],
      "text/plain": [
       "BoxMarkup('text4. ann4. Бауманская м. 1-комн. кв-ру, 5 мин/п., Аптекарский пер., д.3/22, 30/16.2 кв.м, кухня 8, вые. бельэтаж/8-эт, кирп. дома, тел., с/у совм. больш., хор. сост., хор. двор, тихо, свободную, 27 тыс.$. Т.737-76-67, раб., Т.265-23-31, дом., Аня ',\n",
       "          [Span(13, 76, None)])"
      ]
     },
     "metadata": {},
     "output_type": "display_data"
    },
    {
     "data": {
      "text/plain": [
       "Advert(type='квартира',\n",
       "       metro_station=Metro_Station(name='Бауманская'),\n",
       "       number_of_rooms=Rooms_Number(number=1),\n",
       "       distance_from_metro=Distance_from_metro(Walking_Distance='да',\n",
       "                                               Time=5,\n",
       "                                               Time_Unit='минута'),\n",
       "       address=Address(Street='Аптекарский',\n",
       "                       Type_of_Street='переулок',\n",
       "                       Building_Number=3,\n",
       "                       Type_of_Building='дом',\n",
       "                       Building=None,\n",
       "                       Apartment_Number=22))"
      ]
     },
     "metadata": {},
     "output_type": "display_data"
    },
    {
     "data": {
      "text/html": [
       "<div class=\"tex2jax_ignore\" style=\"white-space: pre-wrap\">text5. ann5. <span style=\"padding: 2px; border-radius: 4px; border: 1px solid #bbdefb; background: #e3f2fd\">Бауманская м. 1-комн. кв-ру, метро пешком, 45</span>/22 кв.м, кухня 10, лоджия 3, 8/8-эт. кирп. элит. дома новостройка, без отделки, без сантехники, с/у разд., Т.279-52-79, вечером, Татьяна </div>"
      ],
      "text/plain": [
       "BoxMarkup('text5. ann5. Бауманская м. 1-комн. кв-ру, метро пешком, 45/22 кв.м, кухня 10, лоджия 3, 8/8-эт. кирп. элит. дома новостройка, без отделки, без сантехники, с/у разд., Т.279-52-79, вечером, Татьяна ',\n",
       "          [Span(13, 58, None)])"
      ]
     },
     "metadata": {},
     "output_type": "display_data"
    },
    {
     "data": {
      "text/plain": [
       "Advert(type='квартира',\n",
       "       metro_station=Metro_Station(name='Бауманская'),\n",
       "       number_of_rooms=Rooms_Number(number=1),\n",
       "       distance_from_metro=Distance_from_metro(Walking_Distance='да',\n",
       "                                               Time=None,\n",
       "                                               Time_Unit=None),\n",
       "       address=None)"
      ]
     },
     "metadata": {},
     "output_type": "display_data"
    },
    {
     "data": {
      "text/html": [
       "<div class=\"tex2jax_ignore\" style=\"white-space: pre-wrap\">text6. ann6. <span style=\"padding: 2px; border-radius: 4px; border: 1px solid #bbdefb; background: #e3f2fd\">Бауманская м. 1-комн. кв-ру, 5 мин/п., Аптекарский, д.15</span>, 33/22 кв.м, кухня 6, 3/9-эт. пан. дома, балкон, тел., с/у совм., окна в тихое место, код. замок, свободна, Т.405-50-68</div>"
      ],
      "text/plain": [
       "BoxMarkup('text6. ann6. Бауманская м. 1-комн. кв-ру, 5 мин/п., Аптекарский, д.15, 33/22 кв.м, кухня 6, 3/9-эт. пан. дома, балкон, тел., с/у совм., окна в тихое место, код. замок, свободна, Т.405-50-68',\n",
       "          [Span(13, 69, None)])"
      ]
     },
     "metadata": {},
     "output_type": "display_data"
    },
    {
     "data": {
      "text/plain": [
       "Advert(type='квартира',\n",
       "       metro_station=Metro_Station(name='Бауманская'),\n",
       "       number_of_rooms=Rooms_Number(number=1),\n",
       "       distance_from_metro=Distance_from_metro(Walking_Distance='да',\n",
       "                                               Time=5,\n",
       "                                               Time_Unit='минута'),\n",
       "       address=Address(Street='Аптекарский',\n",
       "                       Type_of_Street=None,\n",
       "                       Building_Number=15,\n",
       "                       Type_of_Building='дом',\n",
       "                       Building=None,\n",
       "                       Apartment_Number=None))"
      ]
     },
     "metadata": {},
     "output_type": "display_data"
    },
    {
     "data": {
      "text/html": [
       "<div class=\"tex2jax_ignore\" style=\"white-space: pre-wrap\">text7. ann7. <span style=\"padding: 2px; border-radius: 4px; border: 1px solid #bbdefb; background: #e3f2fd\">Бауманская м. 1-комн. кв-ру, 2 мин/п., ул.Спартаковская, д. 18</span>; 36/20,5/10,5 кв.м, 9/12 пан., с/у совм., балкон застекл., тел., домофон, жел. дверь, паркет, доска, альтернатива подобрана, Т. 125-68-31</div>"
      ],
      "text/plain": [
       "BoxMarkup('text7. ann7. Бауманская м. 1-комн. кв-ру, 2 мин/п., ул.Спартаковская, д. 18; 36/20,5/10,5 кв.м, 9/12 пан., с/у совм., балкон застекл., тел., домофон, жел. дверь, паркет, доска, альтернатива подобрана, Т. 125-68-31',\n",
       "          [Span(13, 75, None)])"
      ]
     },
     "metadata": {},
     "output_type": "display_data"
    },
    {
     "data": {
      "text/plain": [
       "Advert(type='квартира',\n",
       "       metro_station=Metro_Station(name='Бауманская'),\n",
       "       number_of_rooms=Rooms_Number(number=1),\n",
       "       distance_from_metro=Distance_from_metro(Walking_Distance='да',\n",
       "                                               Time=2,\n",
       "                                               Time_Unit='минута'),\n",
       "       address=Address(Street='Спартаковская',\n",
       "                       Type_of_Street='улица',\n",
       "                       Building_Number=18,\n",
       "                       Type_of_Building='дом',\n",
       "                       Building=None,\n",
       "                       Apartment_Number=None))"
      ]
     },
     "metadata": {},
     "output_type": "display_data"
    },
    {
     "data": {
      "text/html": [
       "<div class=\"tex2jax_ignore\" style=\"white-space: pre-wrap\">text8. ann8. <span style=\"padding: 2px; border-radius: 4px; border: 1px solid #bbdefb; background: #e3f2fd\">Бауманская м. 1-комн кв-ру, Госпитальный пер. д.8; 10 мин/п.</span>, 36/19.8 кв.м, кухня 9.8, 11/12-эт. блочн. дома, паркет, балкон, тел., с/у совм., свободна, 23 тыс.$. Т. 133-61-00 </div>"
      ],
      "text/plain": [
       "BoxMarkup('text8. ann8. Бауманская м. 1-комн кв-ру, Госпитальный пер. д.8; 10 мин/п., 36/19.8 кв.м, кухня 9.8, 11/12-эт. блочн. дома, паркет, балкон, тел., с/у совм., свободна, 23 тыс.$. Т. 133-61-00 ',\n",
       "          [Span(13, 73, None)])"
      ]
     },
     "metadata": {},
     "output_type": "display_data"
    },
    {
     "data": {
      "text/plain": [
       "Advert(type='квартира',\n",
       "       metro_station=Metro_Station(name='Бауманская'),\n",
       "       number_of_rooms=Rooms_Number(number=1),\n",
       "       distance_from_metro=Distance_from_metro(Walking_Distance='да',\n",
       "                                               Time=10,\n",
       "                                               Time_Unit='минута'),\n",
       "       address=Address(Street='Госпитальный',\n",
       "                       Type_of_Street='переулок',\n",
       "                       Building_Number=8,\n",
       "                       Type_of_Building='дом',\n",
       "                       Building=None,\n",
       "                       Apartment_Number=None))"
      ]
     },
     "metadata": {},
     "output_type": "display_data"
    },
    {
     "data": {
      "text/html": [
       "<div class=\"tex2jax_ignore\" style=\"white-space: pre-wrap\">text9. ann9. <span style=\"padding: 2px; border-radius: 4px; border: 1px solid #bbdefb; background: #e3f2fd\">Бауманская м. 1-комн. кв-ру, 5 м.п., ул.М.Почтовая, 10</span>; 44/21 кв.м, кухня 13.5, 2/8-эт. элитн. кирп. дома, встр. оборуд., евростанд., с/у совм., имп. сантехника, застекл. лоджия, стеклопакеты, консьержка, 60 тыс.$. Т.189-65-88, Ирина</div>"
      ],
      "text/plain": [
       "BoxMarkup('text9. ann9. Бауманская м. 1-комн. кв-ру, 5 м.п., ул.М.Почтовая, 10; 44/21 кв.м, кухня 13.5, 2/8-эт. элитн. кирп. дома, встр. оборуд., евростанд., с/у совм., имп. сантехника, застекл. лоджия, стеклопакеты, консьержка, 60 тыс.$. Т.189-65-88, Ирина',\n",
       "          [Span(13, 67, None)])"
      ]
     },
     "metadata": {},
     "output_type": "display_data"
    },
    {
     "data": {
      "text/plain": [
       "Advert(type='квартира',\n",
       "       metro_station=Metro_Station(name='Бауманская'),\n",
       "       number_of_rooms=Rooms_Number(number=1),\n",
       "       distance_from_metro=Distance_from_metro(Walking_Distance='да',\n",
       "                                               Time=5,\n",
       "                                               Time_Unit='минута'),\n",
       "       address=Address(Street='М.Почтовая',\n",
       "                       Type_of_Street='улица',\n",
       "                       Building_Number=10,\n",
       "                       Type_of_Building=None,\n",
       "                       Building=None,\n",
       "                       Apartment_Number=None))"
      ]
     },
     "metadata": {},
     "output_type": "display_data"
    },
    {
     "data": {
      "text/html": [
       "<div class=\"tex2jax_ignore\" style=\"white-space: pre-wrap\">text10. ann10. <span style=\"padding: 2px; border-radius: 4px; border: 1px solid #bbdefb; background: #e3f2fd\">Бауманская м. 1-комн. кв-ру, 5 мин/п., Токмаков пер., 28/16</span> кв.м, кух. 5.5, 6/7 кирп. дома, балкон, без тел., с/у совм., лифт, тихо, свободна, 17тыс.$. Т.978-92-94, Тамара Григорьевна, до 23.00 </div>"
      ],
      "text/plain": [
       "BoxMarkup('text10. ann10. Бауманская м. 1-комн. кв-ру, 5 мин/п., Токмаков пер., 28/16 кв.м, кух. 5.5, 6/7 кирп. дома, балкон, без тел., с/у совм., лифт, тихо, свободна, 17тыс.$. Т.978-92-94, Тамара Григорьевна, до 23.00 ',\n",
       "          [Span(15, 74, None)])"
      ]
     },
     "metadata": {},
     "output_type": "display_data"
    },
    {
     "data": {
      "text/plain": [
       "Advert(type='квартира',\n",
       "       metro_station=Metro_Station(name='Бауманская'),\n",
       "       number_of_rooms=Rooms_Number(number=1),\n",
       "       distance_from_metro=Distance_from_metro(Walking_Distance='да',\n",
       "                                               Time=5,\n",
       "                                               Time_Unit='минута'),\n",
       "       address=Address(Street='Токмаков',\n",
       "                       Type_of_Street='переулок',\n",
       "                       Building_Number=28,\n",
       "                       Type_of_Building=None,\n",
       "                       Building=None,\n",
       "                       Apartment_Number=16))"
      ]
     },
     "metadata": {},
     "output_type": "display_data"
    },
    {
     "data": {
      "text/html": [
       "<div class=\"tex2jax_ignore\" style=\"white-space: pre-wrap\">text11. ann11. <span style=\"padding: 2px; border-radius: 4px; border: 1px solid #bbdefb; background: #e3f2fd\">Бауманская м. 1-комн. кв-ру, 7 мин. пеш., ул. Б. Почтовая, д. 18/20, корп. 16</span>, 34/15 кв.м. кухня 7,5/5-эт. кирп. дома, с/у разд., большой кор., тел., без балкона, хор. сост., свободна, 23.5 тыс.$. Т.218-59-90</div>"
      ],
      "text/plain": [
       "BoxMarkup('text11. ann11. Бауманская м. 1-комн. кв-ру, 7 мин. пеш., ул. Б. Почтовая, д. 18/20, корп. 16, 34/15 кв.м. кухня 7,5/5-эт. кирп. дома, с/у разд., большой кор., тел., без балкона, хор. сост., свободна, 23.5 тыс.$. Т.218-59-90',\n",
       "          [Span(15, 92, None)])"
      ]
     },
     "metadata": {},
     "output_type": "display_data"
    },
    {
     "data": {
      "text/plain": [
       "Advert(type='квартира',\n",
       "       metro_station=Metro_Station(name='Бауманская'),\n",
       "       number_of_rooms=Rooms_Number(number=1),\n",
       "       distance_from_metro=Distance_from_metro(Walking_Distance='да',\n",
       "                                               Time=7,\n",
       "                                               Time_Unit='минута'),\n",
       "       address=Address(Street='Б. Почтовая',\n",
       "                       Type_of_Street='улица',\n",
       "                       Building_Number=18,\n",
       "                       Type_of_Building='дом',\n",
       "                       Building=16,\n",
       "                       Apartment_Number=20))"
      ]
     },
     "metadata": {},
     "output_type": "display_data"
    },
    {
     "data": {
      "text/html": [
       "<div class=\"tex2jax_ignore\" style=\"white-space: pre-wrap\">text12. ann12. <span style=\"padding: 2px; border-radius: 4px; border: 1px solid #bbdefb; background: #e3f2fd\">Бауманская м. 1-комн. кв-ру, 5 м.п., Плетешковский пер., 18/20</span>; 35/20 кв.м, кухня 10,3/12 эт. пан. дома, лифт, паркет, с/у совм., тел., во двор, подъезд норм., заст. балкон, 28 тыс. у.е., торг. Т.322-70-36</div>"
      ],
      "text/plain": [
       "BoxMarkup('text12. ann12. Бауманская м. 1-комн. кв-ру, 5 м.п., Плетешковский пер., 18/20; 35/20 кв.м, кухня 10,3/12 эт. пан. дома, лифт, паркет, с/у совм., тел., во двор, подъезд норм., заст. балкон, 28 тыс. у.е., торг. Т.322-70-36',\n",
       "          [Span(15, 77, None)])"
      ]
     },
     "metadata": {},
     "output_type": "display_data"
    },
    {
     "data": {
      "text/plain": [
       "Advert(type='квартира',\n",
       "       metro_station=Metro_Station(name='Бауманская'),\n",
       "       number_of_rooms=Rooms_Number(number=1),\n",
       "       distance_from_metro=Distance_from_metro(Walking_Distance='да',\n",
       "                                               Time=5,\n",
       "                                               Time_Unit='минута'),\n",
       "       address=Address(Street='Плетешковский',\n",
       "                       Type_of_Street='переулок',\n",
       "                       Building_Number=18,\n",
       "                       Type_of_Building=None,\n",
       "                       Building=None,\n",
       "                       Apartment_Number=20))"
      ]
     },
     "metadata": {},
     "output_type": "display_data"
    },
    {
     "data": {
      "text/html": [
       "<div class=\"tex2jax_ignore\" style=\"white-space: pre-wrap\">text13. ann13. <span style=\"padding: 2px; border-radius: 4px; border: 1px solid #bbdefb; background: #e3f2fd\">Бауманская м. 1-комн. кв-ру, 10 мин.п-.ул.Волочаевская, д.2, корп.1</span>; 31/15 кв.м, кухня 8, 11/12 эт.пан.дома 90 г.постр., домофон, консьерж, рядом парк, тел., м/провод, в хор.сост , 23 тыс.$. Т.361-47-62</div>"
      ],
      "text/plain": [
       "BoxMarkup('text13. ann13. Бауманская м. 1-комн. кв-ру, 10 мин.п-.ул.Волочаевская, д.2, корп.1; 31/15 кв.м, кухня 8, 11/12 эт.пан.дома 90 г.постр., домофон, консьерж, рядом парк, тел., м/провод, в хор.сост , 23 тыс.$. Т.361-47-62',\n",
       "          [Span(15, 82, None)])"
      ]
     },
     "metadata": {},
     "output_type": "display_data"
    },
    {
     "data": {
      "text/plain": [
       "Advert(type='квартира',\n",
       "       metro_station=Metro_Station(name='Бауманская'),\n",
       "       number_of_rooms=Rooms_Number(number=1),\n",
       "       distance_from_metro=Distance_from_metro(Walking_Distance='да',\n",
       "                                               Time=10,\n",
       "                                               Time_Unit='минута'),\n",
       "       address=Address(Street='Волочаевская',\n",
       "                       Type_of_Street='улица',\n",
       "                       Building_Number=2,\n",
       "                       Type_of_Building='дом',\n",
       "                       Building=1,\n",
       "                       Apartment_Number=None))"
      ]
     },
     "metadata": {},
     "output_type": "display_data"
    },
    {
     "data": {
      "text/html": [
       "<div class=\"tex2jax_ignore\" style=\"white-space: pre-wrap\">text14. ann14. <span style=\"padding: 2px; border-radius: 4px; border: 1px solid #bbdefb; background: #e3f2fd\">Бауманская м. 1-комн. кв-ру, 10 мин.пеш., Денисовский пер., д.7</span>; 33.6/18.6 кв.м, кухня 6, 5/5-эт. кирп. дома, с/у совм., балкон, код, тел., 21 тыс.$, Т.966-54-29, Ирина Викторовна</div>"
      ],
      "text/plain": [
       "BoxMarkup('text14. ann14. Бауманская м. 1-комн. кв-ру, 10 мин.пеш., Денисовский пер., д.7; 33.6/18.6 кв.м, кухня 6, 5/5-эт. кирп. дома, с/у совм., балкон, код, тел., 21 тыс.$, Т.966-54-29, Ирина Викторовна',\n",
       "          [Span(15, 78, None)])"
      ]
     },
     "metadata": {},
     "output_type": "display_data"
    },
    {
     "data": {
      "text/plain": [
       "Advert(type='квартира',\n",
       "       metro_station=Metro_Station(name='Бауманская'),\n",
       "       number_of_rooms=Rooms_Number(number=1),\n",
       "       distance_from_metro=Distance_from_metro(Walking_Distance='да',\n",
       "                                               Time=10,\n",
       "                                               Time_Unit='минута'),\n",
       "       address=Address(Street='Денисовский',\n",
       "                       Type_of_Street='переулок',\n",
       "                       Building_Number=7,\n",
       "                       Type_of_Building='дом',\n",
       "                       Building=None,\n",
       "                       Apartment_Number=None))"
      ]
     },
     "metadata": {},
     "output_type": "display_data"
    },
    {
     "data": {
      "text/html": [
       "<div class=\"tex2jax_ignore\" style=\"white-space: pre-wrap\">text15. ann15. •<span style=\"padding: 2px; border-radius: 4px; border: 1px solid #bbdefb; background: #e3f2fd\">БАУМАНСКАЯ м. 1-комн. кв-ру, 3 м.п., Волховский пер., д.2</span>, 9-126., 34.4/19.3/10, без балк., без тел., парк. доска, окна-двор, чистый подъезд, код.зам., приват., альт-ва. 24.000$. Лиц-N 000676/РП(006). Т.203-12-31, Т.737-00-93 с 9 до 20</div>"
      ],
      "text/plain": [
       "BoxMarkup('text15. ann15. •БАУМАНСКАЯ м. 1-комн. кв-ру, 3 м.п., Волховский пер., д.2, 9-126., 34.4/19.3/10, без балк., без тел., парк. доска, окна-двор, чистый подъезд, код.зам., приват., альт-ва. 24.000$. Лиц-N 000676/РП(006). Т.203-12-31, Т.737-00-93 с 9 до 20',\n",
       "          [Span(16, 73, None)])"
      ]
     },
     "metadata": {},
     "output_type": "display_data"
    },
    {
     "data": {
      "text/plain": [
       "Advert(type='квартира',\n",
       "       metro_station=Metro_Station(name='БАУМАНСКАЯ'),\n",
       "       number_of_rooms=Rooms_Number(number=1),\n",
       "       distance_from_metro=Distance_from_metro(Walking_Distance='да',\n",
       "                                               Time=3,\n",
       "                                               Time_Unit='минута'),\n",
       "       address=Address(Street='Волховский',\n",
       "                       Type_of_Street='переулок',\n",
       "                       Building_Number=2,\n",
       "                       Type_of_Building='дом',\n",
       "                       Building=None,\n",
       "                       Apartment_Number=None))"
      ]
     },
     "metadata": {},
     "output_type": "display_data"
    },
    {
     "data": {
      "text/html": [
       "<div class=\"tex2jax_ignore\" style=\"white-space: pre-wrap\">text16. ann16. •<span style=\"padding: 2px; border-radius: 4px; border: 1px solid #bbdefb; background: #e3f2fd\">БАУМАНСКАЯ М. 1-комн. кв-ра, Волочаевская ул. дом 2 корп 1</span>, 34/14,4/кух. 8,5, 12/12 пан.+тех.этаж, 15 м.п., телефон, лоджия, окна - двор, сделан качественный ремонт, кондиционеры, жалюзи, домофон, консьержка, жел. дверь, чистая продажа, 27 500 дол. Т.924-59-92, Т.925-10-83 с 9 до 19</div>"
      ],
      "text/plain": [
       "BoxMarkup('text16. ann16. •БАУМАНСКАЯ М. 1-комн. кв-ра, Волочаевская ул. дом 2 корп 1, 34/14,4/кух. 8,5, 12/12 пан.+тех.этаж, 15 м.п., телефон, лоджия, окна - двор, сделан качественный ремонт, кондиционеры, жалюзи, домофон, консьержка, жел. дверь, чистая продажа, 27 500 дол. Т.924-59-92, Т.925-10-83 с 9 до 19',\n",
       "          [Span(16, 74, None)])"
      ]
     },
     "metadata": {},
     "output_type": "display_data"
    },
    {
     "data": {
      "text/plain": [
       "Advert(type='квартира',\n",
       "       metro_station=Metro_Station(name='БАУМАНСКАЯ'),\n",
       "       number_of_rooms=Rooms_Number(number=1),\n",
       "       distance_from_metro=None,\n",
       "       address=Address(Street='Волочаевская',\n",
       "                       Type_of_Street='улица',\n",
       "                       Building_Number=2,\n",
       "                       Type_of_Building='дом',\n",
       "                       Building=1,\n",
       "                       Apartment_Number=None))"
      ]
     },
     "metadata": {},
     "output_type": "display_data"
    },
    {
     "data": {
      "text/html": [
       "<div class=\"tex2jax_ignore\" style=\"white-space: pre-wrap\">text17. ann17. <span style=\"padding: 2px; border-radius: 4px; border: 1px solid #bbdefb; background: #e3f2fd\">Белорусская м. 1-комн. кв-ру, 5 мин/п., ул.Нижняя, д. 5</span>, 31,3/13,4 кв.м, кухня 9,2, 3/5-эт. кирп. дома, лифт, тел., с/у совм., пот. 3.5, газ. колонка, линолеум, окна на улицу, альтернатива, 25 тыс.$. Т.318-94-49 </div>"
      ],
      "text/plain": [
       "BoxMarkup('text17. ann17. Белорусская м. 1-комн. кв-ру, 5 мин/п., ул.Нижняя, д. 5, 31,3/13,4 кв.м, кухня 9,2, 3/5-эт. кирп. дома, лифт, тел., с/у совм., пот. 3.5, газ. колонка, линолеум, окна на улицу, альтернатива, 25 тыс.$. Т.318-94-49 ',\n",
       "          [Span(15, 70, None)])"
      ]
     },
     "metadata": {},
     "output_type": "display_data"
    },
    {
     "data": {
      "text/plain": [
       "Advert(type='квартира',\n",
       "       metro_station=Metro_Station(name='Белорусская'),\n",
       "       number_of_rooms=Rooms_Number(number=1),\n",
       "       distance_from_metro=Distance_from_metro(Walking_Distance='да',\n",
       "                                               Time=5,\n",
       "                                               Time_Unit='минута'),\n",
       "       address=Address(Street='Нижняя',\n",
       "                       Type_of_Street='улица',\n",
       "                       Building_Number=5,\n",
       "                       Type_of_Building='дом',\n",
       "                       Building=None,\n",
       "                       Apartment_Number=None))"
      ]
     },
     "metadata": {},
     "output_type": "display_data"
    },
    {
     "data": {
      "text/html": [
       "<div class=\"tex2jax_ignore\" style=\"white-space: pre-wrap\">text18. ann18. <span style=\"padding: 2px; border-radius: 4px; border: 1px solid #bbdefb; background: #e3f2fd\">Белорусская м. 1-комн. кв-ру, ул.Верхняя, д.6</span>;43/20 кв.м, кухня 13,2/14-эт.кирп. дома ЖСК, тел., лоджия 6 заст., с/у совм., паркет, темная комната 2.7, домоф., мет .дверь, консьерж., окна во двор, 41.5 тыс.$, торг. Т.405-85-64 </div>"
      ],
      "text/plain": [
       "BoxMarkup('text18. ann18. Белорусская м. 1-комн. кв-ру, ул.Верхняя, д.6;43/20 кв.м, кухня 13,2/14-эт.кирп. дома ЖСК, тел., лоджия 6 заст., с/у совм., паркет, темная комната 2.7, домоф., мет .дверь, консьерж., окна во двор, 41.5 тыс.$, торг. Т.405-85-64 ',\n",
       "          [Span(15, 60, None)])"
      ]
     },
     "metadata": {},
     "output_type": "display_data"
    },
    {
     "data": {
      "text/plain": [
       "Advert(type='квартира',\n",
       "       metro_station=Metro_Station(name='Белорусская'),\n",
       "       number_of_rooms=Rooms_Number(number=1),\n",
       "       distance_from_metro=None,\n",
       "       address=Address(Street='Верхняя',\n",
       "                       Type_of_Street='улица',\n",
       "                       Building_Number=6,\n",
       "                       Type_of_Building='дом',\n",
       "                       Building=None,\n",
       "                       Apartment_Number=None))"
      ]
     },
     "metadata": {},
     "output_type": "display_data"
    },
    {
     "data": {
      "text/html": [
       "<div class=\"tex2jax_ignore\" style=\"white-space: pre-wrap\">text19. ann19. <span style=\"padding: 2px; border-radius: 4px; border: 1px solid #bbdefb; background: #e3f2fd\">Белорусская м. 1-комн. кв-ру, ул. Бутырский вал, д. 34, 10 м/п</span>; 36/20 кв.м, к. 10, 12/12-пан. дома, с/у совм., окна двор, тел., балкон, хор. сост., домофон, свободна, 28 тыс.$. Торг. Т.299-96-51</div>"
      ],
      "text/plain": [
       "BoxMarkup('text19. ann19. Белорусская м. 1-комн. кв-ру, ул. Бутырский вал, д. 34, 10 м/п; 36/20 кв.м, к. 10, 12/12-пан. дома, с/у совм., окна двор, тел., балкон, хор. сост., домофон, свободна, 28 тыс.$. Торг. Т.299-96-51',\n",
       "          [Span(15, 77, None)])"
      ]
     },
     "metadata": {},
     "output_type": "display_data"
    },
    {
     "data": {
      "text/plain": [
       "Advert(type='квартира',\n",
       "       metro_station=Metro_Station(name='Белорусская'),\n",
       "       number_of_rooms=Rooms_Number(number=1),\n",
       "       distance_from_metro=Distance_from_metro(Walking_Distance='да',\n",
       "                                               Time=10,\n",
       "                                               Time_Unit='минута'),\n",
       "       address=Address(Street='Бутырский вал',\n",
       "                       Type_of_Street='улица',\n",
       "                       Building_Number=34,\n",
       "                       Type_of_Building='дом',\n",
       "                       Building=None,\n",
       "                       Apartment_Number=None))"
      ]
     },
     "metadata": {},
     "output_type": "display_data"
    },
    {
     "data": {
      "text/html": [
       "<div class=\"tex2jax_ignore\" style=\"white-space: pre-wrap\">text20. ann20. <span style=\"padding: 2px; border-radius: 4px; border: 1px solid #bbdefb; background: #e3f2fd\">Белорусская м. 1-комн. кв-ру, 6 мин.п., Б.Тишинский пер., 22/15</span> кв.м, 2/6 эт. кирп, дома, паркет, пот.3.15, домофон, тихо, 18 тыс.$, торг, без посредников. Альтернатива. Т.253-30-92, вечером</div>"
      ],
      "text/plain": [
       "BoxMarkup('text20. ann20. Белорусская м. 1-комн. кв-ру, 6 мин.п., Б.Тишинский пер., 22/15 кв.м, 2/6 эт. кирп, дома, паркет, пот.3.15, домофон, тихо, 18 тыс.$, торг, без посредников. Альтернатива. Т.253-30-92, вечером',\n",
       "          [Span(15, 78, None)])"
      ]
     },
     "metadata": {},
     "output_type": "display_data"
    },
    {
     "data": {
      "text/plain": [
       "Advert(type='квартира',\n",
       "       metro_station=Metro_Station(name='Белорусская'),\n",
       "       number_of_rooms=Rooms_Number(number=1),\n",
       "       distance_from_metro=Distance_from_metro(Walking_Distance='да',\n",
       "                                               Time=6,\n",
       "                                               Time_Unit='минута'),\n",
       "       address=Address(Street='Б.Тишинский',\n",
       "                       Type_of_Street='переулок',\n",
       "                       Building_Number=22,\n",
       "                       Type_of_Building=None,\n",
       "                       Building=None,\n",
       "                       Apartment_Number=15))"
      ]
     },
     "metadata": {},
     "output_type": "display_data"
    }
   ],
   "source": [
    "show_matches(ADVERT, *flats_list)"
   ]
  },
  {
   "cell_type": "markdown",
   "metadata": {},
   "source": [
    "### НЕРЕШЕННЫЕ ПРОБЛЕМЫ:\n",
    "1. Как описать корневой факт, не создавая копий для вложенных правил, чтобы избежать в частности копирований атрибутов: metro_station=Metro_Station?\n",
    "2. Есть ли какая-то техническая возможность проверять, какой токен идет после определенного правила, при этом не включать его в объект? (Эта проблема у меня уже была при извлечении адресов.)\n",
    "3. В одном из примеров расстояние до метро уехало далеко по тексту - его я не смогла поймать. Нужно уметь как-то указывать какое-то количество токенов после и уметь ставить тех ограничения на контекст...Вот этот пример:  БАУМАНСКАЯ М. 1-комн. кв-ра, Волочаевская ул. дом 2 корп 1, 34/14,4/кух. 8,5, 12/12 пан.+тех.этаж, 15 м.п., телефон"
   ]
  }
 ],
 "metadata": {
  "kernelspec": {
   "display_name": "Python 3",
   "language": "python",
   "name": "python3"
  },
  "language_info": {
   "codemirror_mode": {
    "name": "ipython",
    "version": 3
   },
   "file_extension": ".py",
   "mimetype": "text/x-python",
   "name": "python",
   "nbconvert_exporter": "python",
   "pygments_lexer": "ipython3",
   "version": "3.7.3"
  }
 },
 "nbformat": 4,
 "nbformat_minor": 2
}

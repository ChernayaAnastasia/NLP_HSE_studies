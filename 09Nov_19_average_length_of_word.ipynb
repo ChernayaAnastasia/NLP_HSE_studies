{
 "cells": [
  {
   "cell_type": "code",
   "execution_count": 20,
   "metadata": {},
   "outputs": [
    {
     "name": "stdout",
     "output_type": "stream",
     "text": [
      "Средняя длина слова в данном тексте: 7.\n"
     ]
    }
   ],
   "source": [
    "#Данная программа определяет среднюю длину слова в тексте.\n",
    "#Алгоритм: \n",
    "#1. Сделать препроцессинг текста.\n",
    "#2. Выкинуть цифры. \n",
    "#3. Разбить текст на слова\n",
    "#4. Получить кол-во слов в тексте функцией len\n",
    "#5. Циклом пройтись по каждому слову и посчитать длину слова\n",
    "#6. Вычислить average\n",
    "\n",
    "import string\n",
    "with open('city_smells.txt','r+', encoding = 'utf-8') as file:\n",
    "    file = file.read() #читаем файл и записываем результат в переменную \n",
    "    nrmlzd_file = set(file.lower().translate(str.maketrans('','','0123456789«»—!\"$%&\\'()*+,-./:;<=>?@[\\\\]^_`{|}~')).split()) \n",
    "    #убираем пунктуацию и цифры, разбиваем на токены, выкидываем повторяющиеся слова с помощью создания сета\n",
    "    total = 0 #переменная для подсчета суммы символов всех слов\n",
    "    for word in nrmlzd_file: #Циклом проходим по каждому слову  \n",
    "            total = total +len(word) #вычисляем сумму символов всех слов в тексте\n",
    "    average = total//len(nrmlzd_file) #делим сумму всех символов на количество слов\n",
    "    print(\"Средняя длина слова в данном тексте: \", average,'.', sep='')\n",
    "    text_for_new_file = \"Средняя длина слова в данном тексте: \"+str(average)+'.'\n",
    "with open('average_length_of_word.txt', 'w') as f: #cоздаем новый файл и записываем в него результат\n",
    "    f.write(text_for_new_file)\n",
    "            \n"
   ]
  },
  {
   "cell_type": "code",
   "execution_count": null,
   "metadata": {},
   "outputs": [],
   "source": []
  }
 ],
 "metadata": {
  "kernelspec": {
   "display_name": "Python 3",
   "language": "python",
   "name": "python3"
  },
  "language_info": {
   "codemirror_mode": {
    "name": "ipython",
    "version": 3
   },
   "file_extension": ".py",
   "mimetype": "text/x-python",
   "name": "python",
   "nbconvert_exporter": "python",
   "pygments_lexer": "ipython3",
   "version": "3.7.3"
  }
 },
 "nbformat": 4,
 "nbformat_minor": 2
}

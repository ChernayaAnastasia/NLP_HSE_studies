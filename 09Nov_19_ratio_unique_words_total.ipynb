{
 "cells": [
  {
   "cell_type": "code",
   "execution_count": 2,
   "metadata": {},
   "outputs": [],
   "source": [
    "#Данная программа определяет количество уникальных слов в тексте \n",
    "#и выдает пророрцию общему количеству слов в тексте:\n",
    "#Алгоритм: \n",
    "#1. Сделать препроцессинг текста.\n",
    "#2. Выкинуть цифры. \n",
    "#2. Разбить текст на слова и посчитать общее  количество всех слов в тексте (= определить размер списка)\n",
    "#3. Составить сет из уникальных слов\n",
    "#4. Посчитать кол-во элементов-слов в этом сете\n",
    "#5. Составить пропорцию кол-во уникальных слов / общее кол-во слов\n",
    "\n",
    "\n",
    "import string\n",
    "with open('city_smells.txt','r+', encoding = 'utf-8') as file:\n",
    "    file = file.read() #читаем файл и записываем результат в переменную \n",
    "    nrmlzd_file = file.lower().translate(str.maketrans('','','«»—!\"$%&\\'()*+,-./:;<=>?@[\\\\]^_`{|}~')).split() #убирае\n",
    "    for word in nrmlzd_file: #Циклом проходим по каждому слову \n",
    "        if word.isalpha()is False: #если у нас цифры, мы их выкидываем из списка\n",
    "            nrmlzd_file.remove(word)\n",
    "total = len(nrmlzd_file) #присваием переменной total значение - общее кол-во слов\n",
    "unique = len(set(nrmlzd_file)) #присваиваем переменной unique - кол-во уникальных слов\n",
    "ratio = total/unique #вычисляем пропорцию и записываем результат в переменную ratio\n",
    "with open('ratio_of_unique_words_to_total.txt','w') as f: #записываем результат вычислений в новый файл\n",
    "    f.write(str(ratio))\n",
    "   \n",
    "\n"
   ]
  },
  {
   "cell_type": "code",
   "execution_count": null,
   "metadata": {},
   "outputs": [],
   "source": []
  }
 ],
 "metadata": {
  "kernelspec": {
   "display_name": "Python 3",
   "language": "python",
   "name": "python3"
  },
  "language_info": {
   "codemirror_mode": {
    "name": "ipython",
    "version": 3
   },
   "file_extension": ".py",
   "mimetype": "text/x-python",
   "name": "python",
   "nbconvert_exporter": "python",
   "pygments_lexer": "ipython3",
   "version": "3.7.3"
  }
 },
 "nbformat": 4,
 "nbformat_minor": 2
}

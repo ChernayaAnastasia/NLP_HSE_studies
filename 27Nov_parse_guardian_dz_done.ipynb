{
 "cells": [
  {
   "cell_type": "markdown",
   "metadata": {
    "colab_type": "text",
    "id": "view-in-github"
   },
   "source": [
    "<a href=\"https://colab.research.google.com/github/nstsj/python_for_CL/blob/master/parse_guardian_dz.ipynb\" target=\"_parent\"><img src=\"https://colab.research.google.com/assets/colab-badge.svg\" alt=\"Open In Colab\"/></a>"
   ]
  },
  {
   "cell_type": "markdown",
   "metadata": {
    "colab_type": "text",
    "ein.tags": "worksheet-0",
    "id": "cmjunHewA0wj"
   },
   "source": [
    "Exercise: find all news written today on  and parse the content of https://www.theguardian.com/international each of them into a .txt file"
   ]
  },
  {
   "cell_type": "markdown",
   "metadata": {
    "colab_type": "text",
    "id": "URe3NPE0WNar"
   },
   "source": [
    "стратегия работы:\n",
    "\n",
    "1. используйте код из тетрадки с пары или из этой (здесь то же самое, но в функциях), чтобы получить лист всех ссылок с главной страницы новостного сайта за определенный день (например, за сегодня)\n",
    "\n",
    "2. Из листа ссылок сделайте лист со ссылками только на новости (ссылки на катеогрии и другие разделы сайта не нужны)\n",
    "\n",
    "3. для каждой ссылки на новость в листе ссылок:\n",
    "    3.1. пройдите по ссылке\n",
    "    3.2. из этой веб-странички вытащите текст новости + ее заголовок\n",
    "    3.3. запишите в отдельный .txt файл\n",
    "\n",
    "4. сохраните файлы в папку"
   ]
  },
  {
   "cell_type": "code",
   "execution_count": 1,
   "metadata": {
    "autoscroll": false,
    "colab": {},
    "colab_type": "code",
    "ein.hycell": false,
    "ein.tags": "worksheet-0",
    "id": "wyX5gdEgA0wn"
   },
   "outputs": [],
   "source": [
    "import requests\n",
    "from bs4 import BeautifulSoup as bs\n",
    "import datetime as dt\n",
    "import re\n",
    "import os"
   ]
  },
  {
   "cell_type": "code",
   "execution_count": 2,
   "metadata": {
    "autoscroll": false,
    "colab": {},
    "colab_type": "code",
    "ein.hycell": false,
    "ein.tags": "worksheet-0",
    "id": "6bTjw95CA0wt"
   },
   "outputs": [],
   "source": [
    "def parsing_pipe(url):\n",
    "    req = requests.get(url) #сохраняем ответ сервера на наш реквест\n",
    "    content = req.content #получаем текст страницы со всеми html-тэгами\n",
    "    soup = bs(content, 'html.parser')#модуль для html-парсинга: он сделает текст веб-страницы, извлеченный с помощью Requests, более читаемым, потому что создает дерево синтаксического разбора из проанализированных HTML (или XML) документов\n",
    "    return soup\n",
    "\n",
    "def get_today_date():\n",
    "    today = dt.date.today() #фунция генерирует сегодняшнюю дату\n",
    "    return today.strftime(\"%Y/%b/%d\")\n",
    "    #https://docs.python.org/2/library/datetime.html#strftime-strptime-behavior for strftime format explanation\n",
    "    \n",
    "def parse_link(soup):\n",
    "    todaynews = []\n",
    "    listlinks = soup.find_all(\"a\", {\"href\": True}) #извлечем все ссылки, которые есть на сайте\n",
    "    for link in listlinks: #Ищем ссылки на сегодняшние новости\n",
    "        if re.search(get_today_date(),link[\"href\"],re.I) != None:\n",
    "            todaynews.append(link[\"href\"])\n",
    "    return set(todaynews)\n",
    "        "
   ]
  },
  {
   "cell_type": "code",
   "execution_count": 4,
   "metadata": {
    "autoscroll": false,
    "colab": {},
    "colab_type": "code",
    "ein.hycell": false,
    "ein.tags": "worksheet-0",
    "id": "bL98ezEjA0ww"
   },
   "outputs": [
    {
     "data": {
      "text/plain": [
       "{'https://www.theguardian.com/artanddesign/2019/nov/29/austria-feminist-agitator-renaissance-bling-british-museum-the-week-in-art',\n",
       " 'https://www.theguardian.com/artanddesign/2019/nov/29/james-barnor-ghanaian-photographer-swinging-sixties-independence-black-90',\n",
       " 'https://www.theguardian.com/books/2019/nov/29/in-the-cut-susanna-moore',\n",
       " 'https://www.theguardian.com/cities/2019/nov/29/natural-genius-is-to-be-respected-inside-clevelands-space-for-teen-poets',\n",
       " 'https://www.theguardian.com/cities/2019/nov/29/rubbish-seaside-a-backhanded-love-letter-to-urban-britain',\n",
       " 'https://www.theguardian.com/commentisfree/2019/nov/29/benin-bronze-sculpture-home-jesus-college-cambridge-return',\n",
       " 'https://www.theguardian.com/commentisfree/2019/nov/29/black-friday-sale-fashion-clothes-shopping',\n",
       " 'https://www.theguardian.com/commentisfree/2019/nov/29/britain-history-racism-infects-politics-slavery-windrush',\n",
       " 'https://www.theguardian.com/commentisfree/2019/nov/29/mass-consumerism-black-friday-climate-catastrophe-consumption-shopping',\n",
       " 'https://www.theguardian.com/commentisfree/2019/nov/29/michael-gove-political-horror-show-chills-soul-stormzy',\n",
       " 'https://www.theguardian.com/commentisfree/2019/nov/29/prince-andrew-the-crown-money-television',\n",
       " 'https://www.theguardian.com/environment/2019/nov/29/how-perus-potato-museum-could-stave-off-world-food-crisis',\n",
       " 'https://www.theguardian.com/environment/2019/nov/29/hundreds-of-thousands-of-students-join-global-climate-strikes',\n",
       " 'https://www.theguardian.com/environment/2019/nov/29/its-like-the-third-world-tribe-feels-forgotten-as-flooding-brings-misery-to-a-struggling-community',\n",
       " 'https://www.theguardian.com/environment/2019/nov/29/this-dark-material-the-black-alchemy-that-can-arrest-carbon-emissions',\n",
       " 'https://www.theguardian.com/environment/gallery/2019/nov/29/the-week-in-wildlife-in-pictures',\n",
       " 'https://www.theguardian.com/environment/video/2019/nov/29/what-is-the-green-new-deal',\n",
       " 'https://www.theguardian.com/film/2019/nov/29/natalie-portmans-20-best-film-performances-ranked',\n",
       " 'https://www.theguardian.com/film/2019/nov/29/the-nightingale-review-jennifer-kent-aisling-franciosi-sam-claflin',\n",
       " 'https://www.theguardian.com/food/2019/nov/29/cocktail-of-the-week-rockwell-monkey-shell-infused-gin-recipe',\n",
       " 'https://www.theguardian.com/football/2019/nov/29/ambitious-freddie-ljungberg-arsenal-family',\n",
       " 'https://www.theguardian.com/football/2019/nov/29/arsenal-freddie-ljungberg-six-things-he-must-do',\n",
       " 'https://www.theguardian.com/football/2019/nov/29/arsenal-sack-unai-emery-freddie-ljungberg',\n",
       " 'https://www.theguardian.com/football/2019/nov/29/david-pemsel-stands-down-as-chief-executive-of-premier-league',\n",
       " 'https://www.theguardian.com/football/2019/nov/29/euro-2020-draw-team-by-team-guide-to-the-20-qualified-nations',\n",
       " 'https://www.theguardian.com/football/2019/nov/29/euro-2020-draw-teams-venues-and-everything-else-you-need-to-know',\n",
       " 'https://www.theguardian.com/football/2019/nov/29/oliver-burke-i-feel-like-a-proper-footballer-again-really-good-in-myself',\n",
       " 'https://www.theguardian.com/football/blog/2019/nov/29/premier-league-10-things-to-look-out-for-this-weekend',\n",
       " 'https://www.theguardian.com/football/live/2019/nov/29/arsenal-manager-unai-emery-freddie-ljungberg-live-weekend-football-countdown',\n",
       " 'https://www.theguardian.com/games/2019/nov/29/gamers-back-under-dungeons-and-dragons-spell',\n",
       " 'https://www.theguardian.com/global-development/2019/nov/29/central-african-republic-seeks-a-salve-for-the-scars-of-war-new-court-bangui',\n",
       " 'https://www.theguardian.com/lifeandstyle/2019/nov/29/allocate-chill-out-zone-how-to-keep-family-peace-christmas',\n",
       " 'https://www.theguardian.com/lifeandstyle/2019/nov/29/birth-mother-doesnt-want-to-know-me',\n",
       " 'https://www.theguardian.com/lifeandstyle/2019/nov/29/dopamine-fasting-tech-fad-might-work',\n",
       " 'https://www.theguardian.com/lifeandstyle/2019/nov/29/experience-i-survived-a-boating-accident-that-killed-my-family',\n",
       " 'https://www.theguardian.com/lifeandstyle/2019/nov/29/used-to-want-anonymity-celebrity-being-a-regular',\n",
       " 'https://www.theguardian.com/media/2019/nov/29/daily-mail-owner-buys-the-i-newspaper',\n",
       " 'https://www.theguardian.com/music/2019/nov/29/drake-and-swift-decade-in-pop-dominance-decade-in-music',\n",
       " 'https://www.theguardian.com/music/2019/nov/29/i-made-excuses-music-industry-frets-over-becoming-carbon-neutral',\n",
       " 'https://www.theguardian.com/music/2019/nov/29/k-pop-stars-jailed-for-quasi-rape-of-woman-jung-joon-young-choi-jong-hoon',\n",
       " 'https://www.theguardian.com/music/2019/nov/29/placido-domingo-sexual-harassment-interview-gallant-gestures',\n",
       " 'https://www.theguardian.com/music/2019/nov/29/run-for-the-balls-west-ham-team-up-with-iron-maiden-for-new-kit',\n",
       " 'https://www.theguardian.com/music/2019/nov/29/why-fans-want-constant-content-from-their-musical-heroes-even-in-the-afterlife',\n",
       " 'https://www.theguardian.com/news/2019/nov/29/johnson-did-not-keep-word-to-free-nazanin-zaghari-ratcliffe-says-husband',\n",
       " 'https://www.theguardian.com/news/audio/2019/nov/29/the-alarming-rise-of-the-rough-sex-defence',\n",
       " 'https://www.theguardian.com/news/gallery/2019/nov/29/student-sit-ins-and-black-friday-crowds-fridays-best-photos',\n",
       " 'https://www.theguardian.com/politics/2019/nov/29/ex-labour-mp-gisela-stuart-urges-voters-to-back-boris-johnson',\n",
       " 'https://www.theguardian.com/politics/2019/nov/29/on-road-with-jeremy-corbyn-a-photo-essay',\n",
       " 'https://www.theguardian.com/politics/2019/nov/29/rightwing-thinktank-conservative-boris-johnson-brexit-atlas-network',\n",
       " 'https://www.theguardian.com/society/2019/nov/29/mother-blames-glasgow-hospital-bosses-for-girls-death-after-infection',\n",
       " 'https://www.theguardian.com/sport/2019/nov/29/england-fear-losing-ben-stokes-bowling-attack-south-africa-cricket-tour',\n",
       " 'https://www.theguardian.com/sport/2019/nov/29/lewis-hamilton-champion-formula-one-mercedes',\n",
       " 'https://www.theguardian.com/sport/2019/nov/29/marnus-labuschagne-david-warner-centuries-australia-pakistan-second-test',\n",
       " 'https://www.theguardian.com/sport/2019/nov/29/mo-farah-back-on-the-track-ten-thousand-metres-tokyo-olympics-athletics',\n",
       " 'https://www.theguardian.com/sport/blog/2019/nov/29/joe-root-england-test-captain-cricket-barney-ronay',\n",
       " 'https://www.theguardian.com/technology/2019/nov/29/twitter-jack-dorsey-africa-move',\n",
       " 'https://www.theguardian.com/uk-news/2019/nov/29/london-bridge-police-shoot-stabbing-suspect-after-five-injured',\n",
       " 'https://www.theguardian.com/uk-news/live/2019/nov/29/london-bridge-incident-police-city',\n",
       " 'https://www.theguardian.com/world/2019/nov/29/afghanistans-road-to-peace-still-full-of-obstacles',\n",
       " 'https://www.theguardian.com/world/2019/nov/29/brazils-president-claims-dicaprio-paid-for-amazon-fires',\n",
       " 'https://www.theguardian.com/world/2019/nov/29/buy-nothing-or-give-something-for-a-good-black-friday',\n",
       " 'https://www.theguardian.com/world/2019/nov/29/first-eu-wide-climate-law-to-set-net-zero-carbon-target-by-2050',\n",
       " 'https://www.theguardian.com/world/2019/nov/29/how-customs-haul-triggered-series-of-arrests-over-maltese-journalists',\n",
       " 'https://www.theguardian.com/world/2019/nov/29/im-not-maori-air-new-zealand-teases-customer-with-te-reo-answers',\n",
       " 'https://www.theguardian.com/world/2019/nov/29/iraq-pm-resign-protests-abdul-mahdi-al-sistani',\n",
       " 'https://www.theguardian.com/world/2019/nov/29/italian-mp-flavio-di-muro-proposes-girlfriend-parliament',\n",
       " 'https://www.theguardian.com/world/2019/nov/29/macrons-criticism-of-syria-invasion-sick-and-shallow-says-erdogan',\n",
       " 'https://www.theguardian.com/world/2019/nov/29/malta-pm-crisis-journalist-murder-joseph-muscat-daphne-caruana-galizia',\n",
       " 'https://www.theguardian.com/world/2019/nov/29/several-people-wounded-in-stabbing-incident-in-the-hague',\n",
       " 'https://www.theguardian.com/world/2019/nov/29/sudan-dissolves-ex-ruling-party-and-repeals-morality-law',\n",
       " 'https://www.theguardian.com/world/2019/nov/29/thousands-in-hong-kong-praise-trump-with-thanksgiving-rally-as-more-protests-loom',\n",
       " 'https://www.theguardian.com/world/2019/nov/29/womens-rugby-in-morocco-a-photo-essay'}"
      ]
     },
     "execution_count": 4,
     "metadata": {},
     "output_type": "execute_result"
    }
   ],
   "source": [
    "url = \"https://www.theguardian.com/international\"\n",
    "pagecontent = parsing_pipe(url)\n",
    "pagelist = parse_link(pagecontent)\n",
    "pagelist"
   ]
  },
  {
   "cell_type": "code",
   "execution_count": 8,
   "metadata": {
    "autoscroll": false,
    "colab": {},
    "colab_type": "code",
    "ein.hycell": false,
    "ein.tags": "worksheet-0",
    "id": "BKPz2d-oA0w1"
   },
   "outputs": [],
   "source": [
    "def parse_and_write_article(url, path):\n",
    "    pagesoup = parsing_pipe(url)\n",
    "    title = pagesoup.find(\"h1\").get_text() #вытаскиваем именно текст, без тэгов \n",
    "    text = \" \".join([i.get_text() for i in pagesoup.find_all(\"p\")])\n",
    "    \n",
    "    with open(path + os.sep + url.rsplit(\"/\", 1)[1] + \".txt\", \"w+\", encoding = \"utf-8\") as f:\n",
    "        f.write(title + \"\\n\" + text)        "
   ]
  },
  {
   "cell_type": "code",
   "execution_count": 9,
   "metadata": {
    "autoscroll": false,
    "colab": {},
    "colab_type": "code",
    "ein.hycell": false,
    "ein.tags": "worksheet-0",
    "id": "00v8cqYKA0w5"
   },
   "outputs": [],
   "source": [
    "path = \".\" + os.sep + dt.date.today().strftime(\"%Y%m%d\")\n",
    "try:\n",
    "    os.mkdir(path)\n",
    "except:\n",
    "    pass\n",
    "for link in pagelist:\n",
    "    pagesoup = parse_and_write_article(link, path)"
   ]
  },
  {
   "cell_type": "code",
   "execution_count": null,
   "metadata": {
    "autoscroll": false,
    "colab": {},
    "colab_type": "code",
    "ein.hycell": false,
    "ein.tags": "worksheet-0",
    "id": "BpMopXg6A0w9"
   },
   "outputs": [],
   "source": []
  }
 ],
 "metadata": {
  "colab": {
   "collapsed_sections": [],
   "include_colab_link": true,
   "name": "parse_guardian_dz.ipynb",
   "provenance": []
  },
  "kernelspec": {
   "display_name": "Python 3",
   "language": "python",
   "name": "python3"
  },
  "language_info": {
   "codemirror_mode": {
    "name": "ipython",
    "version": 3
   },
   "file_extension": ".py",
   "mimetype": "text/x-python",
   "name": "python",
   "nbconvert_exporter": "python",
   "pygments_lexer": "ipython3",
   "version": "3.7.3"
  },
  "name": "Untitled.ipynb"
 },
 "nbformat": 4,
 "nbformat_minor": 2
}

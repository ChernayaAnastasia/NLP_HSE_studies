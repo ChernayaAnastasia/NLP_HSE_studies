{
 "cells": [
  {
   "cell_type": "markdown",
   "metadata": {
    "colab_type": "text",
    "id": "1LEG84j7Irhq"
   },
   "source": [
    "Сначала мы говорили о том, что питон можно использовать как калькулятор:"
   ]
  },
  {
   "cell_type": "code",
   "execution_count": null,
   "metadata": {
    "colab": {
     "base_uri": "https://localhost:8080/",
     "height": 34
    },
    "colab_type": "code",
    "id": "REcpQZl4IrHg",
    "outputId": "5c568215-a7c4-4e09-fed1-12c9270716cc"
   },
   "outputs": [
    {
     "data": {
      "text/plain": [
       "5"
      ]
     },
     "execution_count": 1,
     "metadata": {
      "tags": []
     },
     "output_type": "execute_result"
    }
   ],
   "source": [
    "2+3 # запустите эту ячейку"
   ]
  },
  {
   "cell_type": "markdown",
   "metadata": {
    "colab_type": "text",
    "id": "HhAroFDdJZQM"
   },
   "source": [
    "## основные операции с числами \n",
    "*(попробуйте сделать в ячейке с кодом, подставляя вместо x и y какие-нибудь числа. Порядок операций можно задавать скобочками)*\n",
    "\n",
    "x + y\tСложение\n",
    "\n",
    "x - y\tВычитание\n",
    "\n",
    "x * y\tУмножение\n",
    "\n",
    "x / y\tДеление\n",
    "\n",
    "x // y\tПолучение целой части от деления\n",
    "\n",
    "x % y\tОстаток от деления\n",
    "\n",
    "-x\tСмена знака числа\n",
    "\n",
    "abs(x)\tМодуль числа\n",
    "\n",
    "x ** y\tВозведение в степень"
   ]
  },
  {
   "cell_type": "code",
   "execution_count": 20,
   "metadata": {},
   "outputs": [
    {
     "name": "stdout",
     "output_type": "stream",
     "text": [
      "7\n",
      "1\n",
      "12\n",
      "1.3333333333333333\n",
      "2\n",
      "1\n",
      "4\n",
      "8\n",
      "0\n"
     ]
    }
   ],
   "source": [
    "print(4+3)\n",
    "print(4-3)\n",
    "print(4*3)\n",
    "print(4/3)\n",
    "print(4//2)\n",
    "print(-4+5)\n",
    "print(abs(-4))\n",
    "print(2**3)\n",
    "print(6%1)"
   ]
  },
  {
   "cell_type": "markdown",
   "metadata": {},
   "source": [
    "Настя Черная: \n",
    "\n",
    "Изначально я написала в одной ячейке в столбик разные операции с числами - Python выводил только результат последней операции. Вопрос: почему? Не очень понимаю, как это работает. А предыдущие операции при этом выполнялись? Чтобы заставить его выводить мне результаты по каждой операции, при этом сохранив все операции в одной ячейке, я воспользовалась функцией print, положив в ее аргумент операцию с числами. (Я знаю, что могла бы писать каждую операцию в отдельной ячейке или запускать после каждой операции код, чтобы увидеть результат выполнения кода по каждой операции.) "
   ]
  },
  {
   "cell_type": "code",
   "execution_count": 9,
   "metadata": {
    "colab": {
     "base_uri": "https://localhost:8080/",
     "height": 34
    },
    "colab_type": "code",
    "id": "ciLObZSYKPxP",
    "outputId": "bc4299d2-8a3a-4260-f7bb-0c464a7c43a8"
   },
   "outputs": [
    {
     "data": {
      "text/plain": [
       "9.666666666666666"
      ]
     },
     "execution_count": 9,
     "metadata": {},
     "output_type": "execute_result"
    }
   ],
   "source": [
    "# пример\n",
    "(22+10)/3-15%2\n",
    "# в каком порядке выполняются операции?"
   ]
  },
  {
   "cell_type": "markdown",
   "metadata": {},
   "source": [
    "Настя Черная: \n",
    "1. Сложение в скобках\n",
    "\n",
    "2. Деление слева (в случае операций с одинаковым приоритетом первая будет выполняться та, что левее)\n",
    "\n",
    "3. Остаток от деления\n",
    "\n",
    "4. Вычитание "
   ]
  },
  {
   "cell_type": "code",
   "execution_count": 15,
   "metadata": {
    "colab": {},
    "colab_type": "code",
    "id": "8gQ-_M-V5rue"
   },
   "outputs": [
    {
     "data": {
      "text/plain": [
       "4"
      ]
     },
     "execution_count": 15,
     "metadata": {},
     "output_type": "execute_result"
    }
   ],
   "source": [
    "# придумайте ваш пример в этой ячейке и запустите ее\n",
    "(5+3)*2//4 #НастяЧерная: мой пример\n"
   ]
  },
  {
   "cell_type": "markdown",
   "metadata": {
    "colab_type": "text",
    "id": "-bebyG-eMdbU"
   },
   "source": [
    "Порой для вычислений нам нужно сохранить результат. Для этого есть **переменные**. Переменные хранят ваши данные, мы *присваиваем им значение* через знак = "
   ]
  },
  {
   "cell_type": "code",
   "execution_count": null,
   "metadata": {
    "colab": {},
    "colab_type": "code",
    "id": "DmQ4xiw_M-6o"
   },
   "outputs": [],
   "source": [
    "a = 5 \n",
    "# мы создали переменную а и присвоили ей значение 5"
   ]
  },
  {
   "cell_type": "markdown",
   "metadata": {
    "colab_type": "text",
    "id": "bxWvxaPkNiyK"
   },
   "source": [
    "Переменные бывают разных типов, мы сегодня поговорим о числах и строках.\n",
    "\n",
    "* Переменные с типом \"строка\" обозначаются как str(сокращение от string)\n",
    "\n",
    "* Числовые переменные делятся на два подтипа:\n",
    "** int для целых чисел (45)\n",
    "** float для дробных (45.821)\n",
    "\n",
    "Проверить тип переменной можно с помощью функции ```type()```\n",
    "где в скобках будет ваша переменная"
   ]
  },
  {
   "cell_type": "code",
   "execution_count": 16,
   "metadata": {
    "colab": {
     "base_uri": "https://localhost:8080/",
     "height": 34
    },
    "colab_type": "code",
    "id": "IW5RJqr5NJZH",
    "outputId": "19170015-5d1c-4cab-8d59-bc06096fc259"
   },
   "outputs": [
    {
     "data": {
      "text/plain": [
       "int"
      ]
     },
     "execution_count": 16,
     "metadata": {},
     "output_type": "execute_result"
    }
   ],
   "source": [
    "# создаем переменную, присваиваем значение\n",
    "var = 23\n",
    "type(var) #проверяем ее тип"
   ]
  },
  {
   "cell_type": "code",
   "execution_count": 17,
   "metadata": {
    "colab": {
     "base_uri": "https://localhost:8080/",
     "height": 34
    },
    "colab_type": "code",
    "id": "4-NMOS-qP6qj",
    "outputId": "dbc2990c-366d-4bc9-ecb6-fa48579c8bdd"
   },
   "outputs": [
    {
     "data": {
      "text/plain": [
       "float"
      ]
     },
     "execution_count": 17,
     "metadata": {},
     "output_type": "execute_result"
    }
   ],
   "source": [
    "# создадим другую переменную, с другим типом\n",
    "var2 = 34.09\n",
    "type(var2) # проверяем тип"
   ]
  },
  {
   "cell_type": "code",
   "execution_count": 18,
   "metadata": {
    "colab": {
     "base_uri": "https://localhost:8080/",
     "height": 34
    },
    "colab_type": "code",
    "id": "SmfB-RrmQRmA",
    "outputId": "8545a6e8-0105-41ee-a36d-0a1bef4e72ba"
   },
   "outputs": [
    {
     "data": {
      "text/plain": [
       "str"
      ]
     },
     "execution_count": 18,
     "metadata": {},
     "output_type": "execute_result"
    }
   ],
   "source": [
    "# создадим третью, с другим типом\n",
    "var3 = \"meow\" # не забудьте, что строки пишутся в кавычках, двойных или одинарных\n",
    "type(var3) # проверяем тип"
   ]
  },
  {
   "cell_type": "markdown",
   "metadata": {
    "colab_type": "text",
    "id": "42TDggDRQ-17"
   },
   "source": [
    "## операции с переменными"
   ]
  },
  {
   "cell_type": "markdown",
   "metadata": {
    "colab_type": "text",
    "id": "2l7GbBdrRCpQ"
   },
   "source": [
    "с числовыми переменными можно делать все то, что мы делали с числами в первых ячейках (складывать, умножать, возводить в степень и тд)"
   ]
  },
  {
   "cell_type": "code",
   "execution_count": 21,
   "metadata": {
    "colab": {
     "base_uri": "https://localhost:8080/",
     "height": 34
    },
    "colab_type": "code",
    "id": "ifWeiU9qQrGv",
    "outputId": "ce1847c7-18a2-4397-d97d-591b01c120d1"
   },
   "outputs": [
    {
     "data": {
      "text/plain": [
       "57.09"
      ]
     },
     "execution_count": 21,
     "metadata": {},
     "output_type": "execute_result"
    }
   ],
   "source": [
    "var+var2 #сложили первую и вторую переменную, т.к. они оба числовые\n"
   ]
  },
  {
   "cell_type": "code",
   "execution_count": 24,
   "metadata": {
    "colab": {
     "base_uri": "https://localhost:8080/",
     "height": 199
    },
    "colab_type": "code",
    "id": "uUKbO1o9RO7W",
    "outputId": "919986bb-e5ad-4fe5-e390-1399e59cf675"
   },
   "outputs": [
    {
     "ename": "TypeError",
     "evalue": "unsupported operand type(s) for +: 'float' and 'str'",
     "output_type": "error",
     "traceback": [
      "\u001b[0;31m---------------------------------------------------------------------------\u001b[0m",
      "\u001b[0;31mTypeError\u001b[0m                                 Traceback (most recent call last)",
      "\u001b[0;32m<ipython-input-24-c5f3c77784af>\u001b[0m in \u001b[0;36m<module>\u001b[0;34m\u001b[0m\n\u001b[0;32m----> 1\u001b[0;31m \u001b[0mvar2\u001b[0m\u001b[0;34m+\u001b[0m\u001b[0mvar3\u001b[0m\u001b[0;34m\u001b[0m\u001b[0;34m\u001b[0m\u001b[0m\n\u001b[0m\u001b[1;32m      2\u001b[0m \u001b[0;31m# а здесь появляется ошибка, т.к. мы не можем складывать и вычитать и делить переменные разных типов (строку и число)\u001b[0m\u001b[0;34m\u001b[0m\u001b[0;34m\u001b[0m\u001b[0;34m\u001b[0m\u001b[0m\n",
      "\u001b[0;31mTypeError\u001b[0m: unsupported operand type(s) for +: 'float' and 'str'"
     ]
    }
   ],
   "source": [
    "var2+var3 \n",
    "# а здесь появляется ошибка, т.к. мы не можем складывать и вычитать и делить переменные разных типов (строку и число)"
   ]
  },
  {
   "cell_type": "code",
   "execution_count": 25,
   "metadata": {
    "colab": {
     "base_uri": "https://localhost:8080/",
     "height": 34
    },
    "colab_type": "code",
    "id": "tnnAVXp7RZdU",
    "outputId": "5fc949b9-63bb-4fe7-949c-d3eaeb9e829f"
   },
   "outputs": [
    {
     "data": {
      "text/plain": [
       "'meowmeowmeowmeowmeowmeowmeowmeowmeowmeowmeowmeowmeowmeowmeowmeowmeowmeowmeowmeow'"
      ]
     },
     "execution_count": 25,
     "metadata": {},
     "output_type": "execute_result"
    }
   ],
   "source": [
    "var*var3 #однако мы можем умножать строку на число (или на переменную, в которую сохранили число)\n"
   ]
  },
  {
   "cell_type": "markdown",
   "metadata": {
    "colab_type": "text",
    "id": "Oq-CCBxXSQRq"
   },
   "source": [
    "Также мы можем пересохранять значения переменных"
   ]
  },
  {
   "cell_type": "code",
   "execution_count": 22,
   "metadata": {
    "colab": {
     "base_uri": "https://localhost:8080/",
     "height": 67
    },
    "colab_type": "code",
    "id": "gIowVTmkRvNN",
    "outputId": "431d9566-ad08-44d0-ff80-c1ba06e97946"
   },
   "outputs": [
    {
     "name": "stdout",
     "output_type": "stream",
     "text": [
      "23\n",
      "2\n",
      "20\n"
     ]
    }
   ],
   "source": [
    "print(var) #функция print выводит на печать то, что мы запишем в ее скобках\n",
    "var = 2 # сохранили новое значение в уже существующую переменную var\n",
    "print(var)\n",
    "var = var * 10 # пересохраняем новое значение, которое равно старому, умноженному на 10\n",
    "print(var) "
   ]
  },
  {
   "cell_type": "markdown",
   "metadata": {
    "colab_type": "text",
    "id": "0g9Cl4u9TKSy"
   },
   "source": [
    "пересохранения переменных - это удобно, но будьте осторожны, когда мы придем к теме циклов, там этим лучше не злоупотреблять"
   ]
  },
  {
   "cell_type": "markdown",
   "metadata": {
    "colab_type": "text",
    "id": "fw01ApX0TW1I"
   },
   "source": [
    "### операции со строками"
   ]
  },
  {
   "cell_type": "markdown",
   "metadata": {
    "colab_type": "text",
    "id": "EqntstwwTdJY"
   },
   "source": [
    "строка  - это *итерируемый* объект (мы можем пройтись по каждому из его элементов). Мы можем работать с элементами строки. Для этого нам понадобятся **индексы**, номер элемента. Индекс записывается в квадратных скобках []"
   ]
  },
  {
   "cell_type": "code",
   "execution_count": 26,
   "metadata": {
    "colab": {
     "base_uri": "https://localhost:8080/",
     "height": 50
    },
    "colab_type": "code",
    "id": "0OJxvs76ShbX",
    "outputId": "f05657b2-fb02-451a-b896-08375d123321"
   },
   "outputs": [
    {
     "name": "stdout",
     "output_type": "stream",
     "text": [
      "l\n",
      "t\n"
     ]
    }
   ],
   "source": [
    "new = \"line with some text\"\n",
    "print(new[0]) # хотим напечатать первый элемент в сторке\n",
    "print(new[-1])# хотим последний элемент, он же первый с конца\n",
    "\n",
    "# обратите внимание, что нумерация элементов начинается с 0, т.е. первый элемент имеет индекс 0"
   ]
  },
  {
   "cell_type": "markdown",
   "metadata": {
    "colab_type": "text",
    "id": "8fTwOArLUf98"
   },
   "source": [
    "еще строки можно *конкатенировать*, присоединять друг к другу"
   ]
  },
  {
   "cell_type": "code",
   "execution_count": 27,
   "metadata": {
    "colab": {
     "base_uri": "https://localhost:8080/",
     "height": 34
    },
    "colab_type": "code",
    "id": "SdSIkKdkUJQv",
    "outputId": "28f96e54-a8d6-4385-84fb-efb98292b589"
   },
   "outputs": [
    {
     "name": "stdout",
     "output_type": "stream",
     "text": [
      "meowline with some text\n"
     ]
    }
   ],
   "source": [
    "print (var3+new)"
   ]
  },
  {
   "cell_type": "code",
   "execution_count": null,
   "metadata": {
    "colab": {},
    "colab_type": "code",
    "id": "SHgz476lUotP"
   },
   "outputs": [],
   "source": [
    "# to be continued.."
   ]
  },
  {
   "cell_type": "code",
   "execution_count": null,
   "metadata": {},
   "outputs": [],
   "source": []
  }
 ],
 "metadata": {
  "colab": {
   "collapsed_sections": [],
   "name": "python_intro.ipynb",
   "provenance": []
  },
  "kernelspec": {
   "display_name": "Python 3",
   "language": "python",
   "name": "python3"
  },
  "language_info": {
   "codemirror_mode": {
    "name": "ipython",
    "version": 3
   },
   "file_extension": ".py",
   "mimetype": "text/x-python",
   "name": "python",
   "nbconvert_exporter": "python",
   "pygments_lexer": "ipython3",
   "version": "3.7.3"
  }
 },
 "nbformat": 4,
 "nbformat_minor": 2
}

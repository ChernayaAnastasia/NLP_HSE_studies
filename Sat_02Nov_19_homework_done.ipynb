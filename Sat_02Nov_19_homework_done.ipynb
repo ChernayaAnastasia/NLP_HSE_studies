{
 "cells": [
  {
   "cell_type": "markdown",
   "metadata": {
    "colab_type": "text",
    "id": "view-in-github"
   },
   "source": [
    "<a href=\"https://colab.research.google.com/github/nstsj/python_for_CL/blob/master/Sat_02Nov_19.ipynb\" target=\"_parent\"><img src=\"https://colab.research.google.com/assets/colab-badge.svg\" alt=\"Open In Colab\"/></a>"
   ]
  },
  {
   "cell_type": "markdown",
   "metadata": {
    "colab_type": "text",
    "id": "KwV1Pc4a7nxB"
   },
   "source": [
    "##как удобнее работать со строками: модуль string"
   ]
  },
  {
   "cell_type": "code",
   "execution_count": 1,
   "metadata": {
    "colab": {
     "base_uri": "https://localhost:8080/",
     "height": 71
    },
    "colab_type": "code",
    "id": "jHNdzedVeJlG",
    "outputId": "0bca3c87-90a9-406a-9df1-ebe544fcaead"
   },
   "outputs": [
    {
     "name": "stdin",
     "output_type": "stream",
     "text": [
      "введите любую фразу, и побольше пунктуации!  нпу, урашгу: fieu!\n"
     ]
    },
    {
     "name": "stdout",
     "output_type": "stream",
     "text": [
      "нпу урашгу fieu\n"
     ]
    }
   ],
   "source": [
    "import string #метод , в котором есть translate, maketrans\n",
    "\n",
    "my_text = input(\"введите любую фразу, и побольше пунктуации! \")\n",
    "my_text = my_text.translate(str.maketrans('','',string.punctuation))#maketrans (что, во что, что игнорировать полностью)\n",
    "print(my_text)\n",
    "\n"
   ]
  },
  {
   "cell_type": "code",
   "execution_count": 3,
   "metadata": {},
   "outputs": [
    {
     "name": "stdin",
     "output_type": "stream",
     "text": [
      "введите любую фразу, и побольше пунктуации!  введите любую фразу\n"
     ]
    },
    {
     "name": "stdout",
     "output_type": "stream",
     "text": [
      "ббедите любую фразу\n"
     ]
    }
   ],
   "source": [
    "my_text = input(\"введите любую фразу, и побольше пунктуации! \")\n",
    "my_text = my_text.translate(str.maketrans('в','б'))\n",
    "print(my_text)"
   ]
  },
  {
   "cell_type": "markdown",
   "metadata": {},
   "source": [
    "maketrans - создает табличку, принимает в аргументы только строки"
   ]
  },
  {
   "cell_type": "code",
   "execution_count": 2,
   "metadata": {},
   "outputs": [
    {
     "data": {
      "text/plain": [
       "'!\"#$%&\\'()*+,-./:;<=>?@[\\\\]^_`{|}~'"
      ]
     },
     "execution_count": 2,
     "metadata": {},
     "output_type": "execute_result"
    }
   ],
   "source": [
    "string.punctuation #это такая удобная строка, которая хранит всю пунктуацию"
   ]
  },
  {
   "cell_type": "code",
   "execution_count": 8,
   "metadata": {},
   "outputs": [
    {
     "name": "stdin",
     "output_type": "stream",
     "text": [
      "введите любую фразу, и побольше пунктуации!  мама мыла# мыло!\n"
     ]
    },
    {
     "name": "stdout",
     "output_type": "stream",
     "text": [
      "мама мыла# мыло\n"
     ]
    }
   ],
   "source": [
    "import string #метод , в котором есть translate, maketrans\n",
    "\n",
    "my_text = input(\"введите любую фразу, и побольше пунктуации! \")\n",
    "my_text = my_text.translate(str.maketrans('','','0123456789!\"$%&\\'()*+,-./:;<=>?@[\\\\]^_`{|}~'))\n",
    "                                          #maketrans (что, во что, что игнорировать полностью)\n",
    "print(my_text)"
   ]
  },
  {
   "cell_type": "markdown",
   "metadata": {
    "colab_type": "text",
    "id": "Ij5Wc_UG7s7-"
   },
   "source": []
  },
  {
   "cell_type": "markdown",
   "metadata": {
    "colab_type": "text",
    "id": "Yhw8-87X8s-J"
   },
   "source": [
    "##ГЕНЕРАТОРЫ"
   ]
  },
  {
   "cell_type": "markdown",
   "metadata": {
    "colab_type": "text",
    "id": "LOYUfNvgLoWa"
   },
   "source": [
    "**вспомним из предыдущих занятий:** когда мы создаём список, мы можем брать его элементы один за другим — это называется *итерацией*:"
   ]
  },
  {
   "cell_type": "code",
   "execution_count": 259,
   "metadata": {
    "colab": {
     "base_uri": "https://localhost:8080/",
     "height": 68
    },
    "colab_type": "code",
    "id": "W2vnkjMhMAXy",
    "outputId": "d37031b0-0c17-4139-997c-29bacb8859bc"
   },
   "outputs": [
    {
     "name": "stdout",
     "output_type": "stream",
     "text": [
      "1\n",
      "2\n",
      "3\n"
     ]
    }
   ],
   "source": [
    "test1 = [1, 2, 3]\n",
    "for i in test1 :\n",
    "    print(i)\n"
   ]
  },
  {
   "cell_type": "markdown",
   "metadata": {
    "colab_type": "text",
    "id": "DULLPnQsOdzE"
   },
   "source": [
    "это же можно сделать, создав генератор функцией ```range()```: \n",
    "\n",
    "    у функции три аргумента: (начало,конец,шаг), конечный элемент не включается. \n",
    "    \n",
    "    Сейчас мы записали без шага, поэтому он по дефолту =1. \n",
    "    \n",
    "Генераторы не хранятся полностью (начало, предел, шаг). Их можно изменять. По нему можно пройтись только 1 раз. Занимает меньше памяти"
   ]
  },
  {
   "cell_type": "code",
   "execution_count": 260,
   "metadata": {
    "colab": {
     "base_uri": "https://localhost:8080/",
     "height": 85
    },
    "colab_type": "code",
    "id": "rZSDKVCcOiua",
    "outputId": "0a44a4fe-2cd4-4484-c02c-b94bb8cf04ee"
   },
   "outputs": [
    {
     "name": "stdout",
     "output_type": "stream",
     "text": [
      "1\n",
      "2\n",
      "3\n"
     ]
    },
    {
     "data": {
      "text/plain": [
       "range"
      ]
     },
     "execution_count": 260,
     "metadata": {
      "tags": []
     },
     "output_type": "execute_result"
    }
   ],
   "source": [
    "test2 = range(1,4) \n",
    "for i in test2 :\n",
    "    print(i)\n",
    "type(test2)\n"
   ]
  },
  {
   "cell_type": "code",
   "execution_count": 2,
   "metadata": {
    "colab": {
     "base_uri": "https://localhost:8080/",
     "height": 119
    },
    "colab_type": "code",
    "id": "5cDhW-64PyGw",
    "outputId": "b797b124-222c-4e76-8640-eaa14b363750"
   },
   "outputs": [
    {
     "name": "stdout",
     "output_type": "stream",
     "text": [
      "1\n",
      "3\n",
      "5\n",
      "7\n",
      "9\n"
     ]
    },
    {
     "data": {
      "text/plain": [
       "range"
      ]
     },
     "execution_count": 2,
     "metadata": {},
     "output_type": "execute_result"
    }
   ],
   "source": [
    "# давайте зададим шаг\n",
    "\n",
    "test3 = range (1,10,2) # от 1 до 10 с шагом в 2. Можно задавать шаг в обратном направлении: -2, к примеру\n",
    "for i in test3 :\n",
    "    print(i)\n",
    "type(test3)"
   ]
  },
  {
   "cell_type": "markdown",
   "metadata": {
    "colab_type": "text",
    "id": "g5WIfV1babNL"
   },
   "source": [
    "Заметим, что в предыдущих ячейках переменные test2  и test3 не были листами, в отличие от test1\n",
    "\n",
    "тип объектов test2 и test3 - это генератор.\n",
    "\n",
    "Но мы можем превратить генератор в нужный тип: лист, множество или (даже!) строку"
   ]
  },
  {
   "cell_type": "code",
   "execution_count": 38,
   "metadata": {
    "colab": {
     "base_uri": "https://localhost:8080/",
     "height": 153
    },
    "colab_type": "code",
    "id": "el_UbysU8vCb",
    "outputId": "69a33e80-fb16-4706-8cd4-0c379cde6fbb"
   },
   "outputs": [
    {
     "name": "stdout",
     "output_type": "stream",
     "text": [
      "0\n",
      "5\n",
      "10\n",
      "15\n",
      "20\n",
      "сначала new1 - это <class 'range'>\n",
      "теперь new1 - это <class 'list'> [0, 5, 10, 15, 20]\n",
      "затем new1 - это <class 'set'> {0, 5, 10, 15, 20}\n",
      "в итоге new1 - это <class 'str'> 0, 5, 10, 15, 20\n"
     ]
    }
   ],
   "source": [
    "new1 = range(0,21,5) # от нуля до 20 с шагом 5\n",
    "for i in new1:\n",
    "    print(i)\n",
    "\n",
    "print(\"сначала new1 - это\",type(new1)) # проверяем тип\n",
    "\n",
    "new1 = list(new1) # превращаем в лист\n",
    "print(\"теперь new1 - это\",type(new1), new1) # проверяем тип\n",
    "\n",
    "# еще в лист можно так:\n",
    "test1 = [new1] # можно раскомментить эту строку\n",
    "\n",
    "# превратим во множество\n",
    "new1 = set(new1)\n",
    "print(\"затем new1 - это\",type(new1), new1) # проверяем тип\n",
    "\n",
    "# превратим в строку\n",
    "new1 = str(new1).strip(\"}{\") \n",
    "print(\"в итоге new1 - это\",type(new1), new1) # проверяем тип\n",
    "# new1[0]"
   ]
  },
  {
   "cell_type": "markdown",
   "metadata": {
    "colab_type": "text",
    "id": "VZDhMUO87aGE"
   },
   "source": [
    "\n",
    "обратите внимание, что превратив множество в строку, мы также добавили в строку символы { и } в начале и в конце.\n",
    "Если хотите чистую строку из элементов-цифр, \n",
    "добавьте метод .strip() передав ему символы фигурных скобок в качестве аргумента в скобках\n",
    "(можно раскомментить мой кусочек кода в строке 22)"
   ]
  },
  {
   "cell_type": "code",
   "execution_count": 13,
   "metadata": {
    "colab": {
     "base_uri": "https://localhost:8080/",
     "height": 85
    },
    "colab_type": "code",
    "id": "sC20y9iaB11n",
    "outputId": "fa8f110a-28fe-4991-c8a4-569e2710ed5f"
   },
   "outputs": [
    {
     "name": "stdout",
     "output_type": "stream",
     "text": [
      "0 делится на 30 без остатка\n",
      "30 делится на 30 без остатка\n",
      "60 делится на 30 без остатка\n",
      "90 делится на 30 без остатка\n"
     ]
    }
   ],
   "source": [
    "# классический способ использовать генератор\n",
    "for i in range(100): #чтобы не писать 100 значений вручную\n",
    "    if i%30 == 0:\n",
    "        print (i, \"делится на 30 без остатка\")"
   ]
  },
  {
   "cell_type": "code",
   "execution_count": 14,
   "metadata": {
    "colab": {
     "base_uri": "https://localhost:8080/",
     "height": 34
    },
    "colab_type": "code",
    "id": "NgBAUfDRjlh8",
    "outputId": "ee80ad4b-394a-4155-b5bf-03fe091cf3f8"
   },
   "outputs": [
    {
     "name": "stdout",
     "output_type": "stream",
     "text": [
      "NOXwcB6oAuOK\n"
     ]
    }
   ],
   "source": [
    "# программа, генерирующая пароли\n",
    "\n",
    "import random\n",
    "passw = '' #пустая строка. Предварительно создаем переменную для пароля, с типом \"строка\"\n",
    "\n",
    "#пусть в ней будет 12 символов: цифры и латинские буквы двух регистров\n",
    "\n",
    "for x in range(12): \n",
    "    passw = passw + random.choice('123456789qwertyuiopasdfghjklzxcvbnmQWERTYUIOPASDFGHJKLZXCVBNM')\n",
    "    # на каждом из 12 шагов выбираем рандомный символ из списка с букво-цифрами и добавляем в строку\n",
    "print(passw)\n",
    "\n",
    "# запустите ячейку несклько раз: пароли меняются"
   ]
  },
  {
   "cell_type": "code",
   "execution_count": 15,
   "metadata": {},
   "outputs": [
    {
     "data": {
      "text/plain": [
       "str"
      ]
     },
     "execution_count": 15,
     "metadata": {},
     "output_type": "execute_result"
    }
   ],
   "source": [
    "type(random.choice('123456789qwertyuiopasdfghjklzxcvbnmQWERTYUIOPASDFGHJKLZXCVBNM'))"
   ]
  },
  {
   "cell_type": "markdown",
   "metadata": {
    "colab_type": "text",
    "id": "5C1viYNBKBxc"
   },
   "source": [
    "**подводя итог:**\n",
    "\n",
    "генераторы обычно используются, когда:\n",
    "* нужно создать объект из большого количества элементов (чтобы не задавать их вручную)\n",
    "* надо единожды пройтись по итерируемому объекту\n",
    "\n",
    "их особое свойство: они сохраняют свое состояние между итерациями, но по ним можно итерироваться всего один раз\n",
    "\n",
    "    хранят только предыдущий элемент, предел и формулу, по которой вычисляется следующий элемент\n",
    "\n",
    "(подробнее о генераторах можно почитать [здесь](https://realpython.com/introduction-to-python-generators/). [И здесь](https://www.geeksforgeeks.org/use-yield-keyword-instead-return-keyword-python/))\n"
   ]
  },
  {
   "cell_type": "markdown",
   "metadata": {
    "colab_type": "text",
    "id": "wbFFjClk8waN"
   },
   "source": [
    "##ФУНКЦИИ\n",
    "\n",
    "\n",
    "Мы с вами написали много небольших программ. А что если вам нужно будет использовать эти программы снова и снова? Например, вы написали код, который хорошо обрабатывает и токенизирует текст. И у вас 1000 текстов, которые нужно обработать. А через месяц приедет еще 1500.\n",
    "\n",
    "    Писать строки кода снова?\n",
    "\n",
    "\n",
    "<img data-image-id=\"1*ZUSN2Xhq7MsEMjCvNOy-Zw.jpeg\" data-width=\"640\" data-height=\"480\" src=\"https://hackernoon.com/hn-images/1*ZUSN2Xhq7MsEMjCvNOy-Zw.jpeg\">\n"
   ]
  },
  {
   "cell_type": "markdown",
   "metadata": {
    "colab_type": "text",
    "id": "6kMhXS8lKSam"
   },
   "source": [
    "нас спасут функции! \n",
    "\n",
    "Функция в python - это такой объект, который что-то принимает (иногда выполняет какое-то действие) и что-то возвращает.\n",
    "\n",
    "То, что принимает, называется *аргументом* и записывается в скобках. Аргументов может быть больше одного. А может аргумента и не быть. В аргументах может быть любой тип данных.  \n",
    "\n",
    "То, что функция возвращает, называется *значением*. \n",
    "\n",
    "\n",
    "Обычно функция определяется с помощью инструкции ```def```, еще нужны скобки и двоеточие\n",
    "\n",
    "Давайте создадим самую простую функцию:"
   ]
  },
  {
   "cell_type": "code",
   "execution_count": 1,
   "metadata": {
    "colab": {},
    "colab_type": "code",
    "id": "L2cPPSNm8xaw"
   },
   "outputs": [],
   "source": [
    "def hello():\n",
    "    print (\"hello =^_^=\")\n",
    "    #return None"
   ]
  },
  {
   "cell_type": "markdown",
   "metadata": {
    "colab_type": "text",
    "id": "Mmb32yasZdzX"
   },
   "source": [
    "Функция может и не заканчиваться инструкцией return, при этом функция вернет значение None:"
   ]
  },
  {
   "cell_type": "code",
   "execution_count": 2,
   "metadata": {
    "colab": {
     "base_uri": "https://localhost:8080/",
     "height": 34
    },
    "colab_type": "code",
    "id": "nOu2GAWXN9b1",
    "outputId": "9982f7b3-141d-47c7-93c2-c3b0c6e79e93"
   },
   "outputs": [
    {
     "name": "stdout",
     "output_type": "stream",
     "text": [
      "hello =^_^=\n"
     ]
    }
   ],
   "source": [
    "hello() # чтобы функция отработала, ее надо вызвать"
   ]
  },
  {
   "cell_type": "code",
   "execution_count": 11,
   "metadata": {
    "colab": {},
    "colab_type": "code",
    "id": "4bNVEzUnOFPZ"
   },
   "outputs": [],
   "source": [
    "#  усложним функцию\n",
    "\n",
    "import string \n",
    "def personal_hello():\n",
    "    name = input(\"Как Вас зовут?\")\n",
    "    name = name.capitalize().translate(str.maketrans('','',string.punctuation)) \n",
    "    print (\"Добрый день,\", name)\n"
   ]
  },
  {
   "cell_type": "code",
   "execution_count": 12,
   "metadata": {
    "colab": {
     "base_uri": "https://localhost:8080/",
     "height": 51
    },
    "colab_type": "code",
    "id": "hrzq20zGOxX9",
    "outputId": "e63cdbd7-ef8d-4f46-985e-4da9cdf06550"
   },
   "outputs": [
    {
     "name": "stdin",
     "output_type": "stream",
     "text": [
      "Как Вас зовут? настя,\n"
     ]
    },
    {
     "name": "stdout",
     "output_type": "stream",
     "text": [
      "Добрый день, Настя\n"
     ]
    }
   ],
   "source": [
    "personal_hello()"
   ]
  },
  {
   "cell_type": "code",
   "execution_count": 5,
   "metadata": {
    "colab": {},
    "colab_type": "code",
    "id": "3nt1yPVfOz6E"
   },
   "outputs": [],
   "source": [
    "# функция с возвратом значения\n",
    "\n",
    "def add(x,y):\n",
    "    return x+y"
   ]
  },
  {
   "cell_type": "code",
   "execution_count": 275,
   "metadata": {
    "colab": {
     "base_uri": "https://localhost:8080/",
     "height": 34
    },
    "colab_type": "code",
    "id": "Mi1_v9yKPNHu",
    "outputId": "8c4be812-afc5-47a5-8e16-da580cde1ae8"
   },
   "outputs": [
    {
     "data": {
      "text/plain": [
       "55"
      ]
     },
     "execution_count": 275,
     "metadata": {
      "tags": []
     },
     "output_type": "execute_result"
    }
   ],
   "source": [
    "add(50,5) # вызвали функцию, передав значения аргументов в скобках"
   ]
  },
  {
   "cell_type": "code",
   "execution_count": 6,
   "metadata": {
    "colab": {
     "base_uri": "https://localhost:8080/",
     "height": 34
    },
    "colab_type": "code",
    "id": "KMjHqxSePUnZ",
    "outputId": "908825d8-60ca-4bd0-a72b-3bd7bd00508e"
   },
   "outputs": [
    {
     "data": {
      "text/plain": [
       "'давайте попробуем строки тоже'"
      ]
     },
     "execution_count": 6,
     "metadata": {},
     "output_type": "execute_result"
    }
   ],
   "source": [
    "add (\"давайте попробуем\",\" строки тоже\")"
   ]
  },
  {
   "cell_type": "code",
   "execution_count": 7,
   "metadata": {
    "colab": {
     "base_uri": "https://localhost:8080/",
     "height": 249
    },
    "colab_type": "code",
    "id": "6q3wiVTAPgzW",
    "outputId": "279a7053-d187-4a72-af52-1f8adfb41cb3"
   },
   "outputs": [
    {
     "ename": "TypeError",
     "evalue": "unsupported operand type(s) for +: 'int' and 'str'",
     "output_type": "error",
     "traceback": [
      "\u001b[0;31m---------------------------------------------------------------------------\u001b[0m",
      "\u001b[0;31mTypeError\u001b[0m                                 Traceback (most recent call last)",
      "\u001b[0;32m<ipython-input-7-a0be4656a655>\u001b[0m in \u001b[0;36m<module>\u001b[0;34m\u001b[0m\n\u001b[0;32m----> 1\u001b[0;31m \u001b[0madd\u001b[0m \u001b[0;34m(\u001b[0m\u001b[0;36m5\u001b[0m\u001b[0;34m,\u001b[0m\u001b[0;34m\"а так\"\u001b[0m\u001b[0;34m)\u001b[0m\u001b[0;34m\u001b[0m\u001b[0;34m\u001b[0m\u001b[0m\n\u001b[0m",
      "\u001b[0;32m<ipython-input-5-3899bdceb5ad>\u001b[0m in \u001b[0;36madd\u001b[0;34m(x, y)\u001b[0m\n\u001b[1;32m      2\u001b[0m \u001b[0;34m\u001b[0m\u001b[0m\n\u001b[1;32m      3\u001b[0m \u001b[0;32mdef\u001b[0m \u001b[0madd\u001b[0m\u001b[0;34m(\u001b[0m\u001b[0mx\u001b[0m\u001b[0;34m,\u001b[0m\u001b[0my\u001b[0m\u001b[0;34m)\u001b[0m\u001b[0;34m:\u001b[0m\u001b[0;34m\u001b[0m\u001b[0;34m\u001b[0m\u001b[0m\n\u001b[0;32m----> 4\u001b[0;31m     \u001b[0;32mreturn\u001b[0m \u001b[0mx\u001b[0m\u001b[0;34m+\u001b[0m\u001b[0my\u001b[0m\u001b[0;34m\u001b[0m\u001b[0;34m\u001b[0m\u001b[0m\n\u001b[0m",
      "\u001b[0;31mTypeError\u001b[0m: unsupported operand type(s) for +: 'int' and 'str'"
     ]
    }
   ],
   "source": [
    "add (5,\"а так\")"
   ]
  },
  {
   "cell_type": "code",
   "execution_count": 9,
   "metadata": {
    "colab": {
     "base_uri": "https://localhost:8080/",
     "height": 34
    },
    "colab_type": "code",
    "id": "fSJDQqkYPkGe",
    "outputId": "105a429b-0b2c-494f-a1fb-fd4da216c4f6"
   },
   "outputs": [
    {
     "data": {
      "text/plain": [
       "[5, 7, 1, 1]"
      ]
     },
     "execution_count": 9,
     "metadata": {},
     "output_type": "execute_result"
    }
   ],
   "source": [
    "add([5,7],[1,1]) #  списки тоже можно складывать, все получится"
   ]
  },
  {
   "cell_type": "code",
   "execution_count": 10,
   "metadata": {
    "colab": {
     "base_uri": "https://localhost:8080/",
     "height": 34
    },
    "colab_type": "code",
    "id": "WyN9iWJ7P8QC",
    "outputId": "ed2a3bec-5753-4995-f86f-5a741c24dcf6"
   },
   "outputs": [
    {
     "data": {
      "text/plain": [
       "(1, 3, 5, 2, 4, 6)"
      ]
     },
     "execution_count": 10,
     "metadata": {},
     "output_type": "execute_result"
    }
   ],
   "source": [
    "add((1,3,5),(2,4,6)) # кортежи/таплы можно\n",
    "# type((1,3,5))"
   ]
  },
  {
   "cell_type": "code",
   "execution_count": 280,
   "metadata": {
    "colab": {
     "base_uri": "https://localhost:8080/",
     "height": 249
    },
    "colab_type": "code",
    "id": "5rgPun4dPsj-",
    "outputId": "acaa84da-cb32-45f5-fad6-bb7118dc63ef"
   },
   "outputs": [
    {
     "ename": "TypeError",
     "evalue": "ignored",
     "output_type": "error",
     "traceback": [
      "\u001b[0;31m---------------------------------------------------------------------------\u001b[0m",
      "\u001b[0;31mTypeError\u001b[0m                                 Traceback (most recent call last)",
      "\u001b[0;32m<ipython-input-280-96ae41cd8c39>\u001b[0m in \u001b[0;36m<module>\u001b[0;34m()\u001b[0m\n\u001b[0;32m----> 1\u001b[0;31m \u001b[0madd\u001b[0m\u001b[0;34m(\u001b[0m\u001b[0;34m{\u001b[0m\u001b[0;36m1\u001b[0m\u001b[0;34m,\u001b[0m\u001b[0;36m3\u001b[0m\u001b[0;34m,\u001b[0m\u001b[0;36m5\u001b[0m\u001b[0;34m}\u001b[0m\u001b[0;34m,\u001b[0m\u001b[0;34m{\u001b[0m\u001b[0;36m2\u001b[0m\u001b[0;34m,\u001b[0m\u001b[0;36m4\u001b[0m\u001b[0;34m,\u001b[0m\u001b[0;36m6\u001b[0m\u001b[0;34m}\u001b[0m\u001b[0;34m)\u001b[0m\u001b[0;34m\u001b[0m\u001b[0;34m\u001b[0m\u001b[0m\n\u001b[0m",
      "\u001b[0;32m<ipython-input-273-33730e4bab24>\u001b[0m in \u001b[0;36madd\u001b[0;34m(x, y)\u001b[0m\n\u001b[1;32m      1\u001b[0m \u001b[0;34m\u001b[0m\u001b[0m\n\u001b[1;32m      2\u001b[0m \u001b[0;32mdef\u001b[0m \u001b[0madd\u001b[0m\u001b[0;34m(\u001b[0m\u001b[0mx\u001b[0m\u001b[0;34m,\u001b[0m\u001b[0my\u001b[0m\u001b[0;34m)\u001b[0m\u001b[0;34m:\u001b[0m\u001b[0;34m\u001b[0m\u001b[0;34m\u001b[0m\u001b[0m\n\u001b[0;32m----> 3\u001b[0;31m     \u001b[0;32mreturn\u001b[0m \u001b[0mx\u001b[0m\u001b[0;34m+\u001b[0m\u001b[0my\u001b[0m\u001b[0;34m\u001b[0m\u001b[0;34m\u001b[0m\u001b[0m\n\u001b[0m",
      "\u001b[0;31mTypeError\u001b[0m: unsupported operand type(s) for +: 'set' and 'set'"
     ]
    }
   ],
   "source": [
    "add({1,3,5},{2,4,6}) # а множества нельзя складывать так, как это делает add\n",
    "\n",
    "# а какой метод сработал бы со множествами? - НастяЧ: Сработал бы union и update"
   ]
  },
  {
   "cell_type": "code",
   "execution_count": 286,
   "metadata": {
    "colab": {
     "base_uri": "https://localhost:8080/",
     "height": 249
    },
    "colab_type": "code",
    "id": "I8xmwYnjP1G5",
    "outputId": "9aba6005-7923-4475-d467-f741c661f3b9"
   },
   "outputs": [
    {
     "ename": "TypeError",
     "evalue": "ignored",
     "output_type": "error",
     "traceback": [
      "\u001b[0;31m---------------------------------------------------------------------------\u001b[0m",
      "\u001b[0;31mTypeError\u001b[0m                                 Traceback (most recent call last)",
      "\u001b[0;32m<ipython-input-286-94ea67566167>\u001b[0m in \u001b[0;36m<module>\u001b[0;34m()\u001b[0m\n\u001b[0;32m----> 1\u001b[0;31m \u001b[0madd\u001b[0m\u001b[0;34m(\u001b[0m\u001b[0;34m{\u001b[0m\u001b[0;34m\"Jane\"\u001b[0m\u001b[0;34m:\u001b[0m\u001b[0;36m27\u001b[0m\u001b[0;34m,\u001b[0m\u001b[0;34m\"Mary\"\u001b[0m\u001b[0;34m:\u001b[0m\u001b[0;36m35\u001b[0m\u001b[0;34m}\u001b[0m\u001b[0;34m,\u001b[0m\u001b[0;34m{\u001b[0m\u001b[0;34m\"Matthew\"\u001b[0m\u001b[0;34m:\u001b[0m\u001b[0;36m30\u001b[0m\u001b[0;34m,\u001b[0m\u001b[0;34m\"Dennis\"\u001b[0m\u001b[0;34m:\u001b[0m\u001b[0;36m20\u001b[0m\u001b[0;34m}\u001b[0m\u001b[0;34m)\u001b[0m \u001b[0;31m# и словари сложить не получится\u001b[0m\u001b[0;34m\u001b[0m\u001b[0;34m\u001b[0m\u001b[0m\n\u001b[0m",
      "\u001b[0;32m<ipython-input-273-33730e4bab24>\u001b[0m in \u001b[0;36madd\u001b[0;34m(x, y)\u001b[0m\n\u001b[1;32m      1\u001b[0m \u001b[0;34m\u001b[0m\u001b[0m\n\u001b[1;32m      2\u001b[0m \u001b[0;32mdef\u001b[0m \u001b[0madd\u001b[0m\u001b[0;34m(\u001b[0m\u001b[0mx\u001b[0m\u001b[0;34m,\u001b[0m\u001b[0my\u001b[0m\u001b[0;34m)\u001b[0m\u001b[0;34m:\u001b[0m\u001b[0;34m\u001b[0m\u001b[0;34m\u001b[0m\u001b[0m\n\u001b[0;32m----> 3\u001b[0;31m     \u001b[0;32mreturn\u001b[0m \u001b[0mx\u001b[0m\u001b[0;34m+\u001b[0m\u001b[0my\u001b[0m\u001b[0;34m\u001b[0m\u001b[0;34m\u001b[0m\u001b[0m\n\u001b[0m",
      "\u001b[0;31mTypeError\u001b[0m: unsupported operand type(s) for +: 'dict' and 'dict'"
     ]
    }
   ],
   "source": [
    "add({\"Jane\":27,\"Mary\":35},{\"Matthew\":30,\"Dennis\":20}) # и словари сложить не получится"
   ]
  },
  {
   "cell_type": "markdown",
   "metadata": {
    "colab_type": "text",
    "id": "WOBaP70BQ1iF"
   },
   "source": [
    "Функция может быть любой сложности и возвращать любые объекты: от строк и чисел до списков, кортежей, множеств, словарей и даже других функций!"
   ]
  },
  {
   "cell_type": "code",
   "execution_count": 13,
   "metadata": {
    "colab": {},
    "colab_type": "code",
    "id": "HbIrUegGQj5M"
   },
   "outputs": [],
   "source": [
    "def unique(x): # простая функция, выдающая уникальный набор элементов в объекте\n",
    "    x=set(x)\n",
    "    return x"
   ]
  },
  {
   "cell_type": "code",
   "execution_count": 14,
   "metadata": {
    "colab": {
     "base_uri": "https://localhost:8080/",
     "height": 34
    },
    "colab_type": "code",
    "id": "RO-7hY7dRlF3",
    "outputId": "f0cfd290-d844-489a-f8e1-2a3c536e6f27"
   },
   "outputs": [
    {
     "data": {
      "text/plain": [
       "{'a', 'always', 'and', 'is', 'rose', 'the', 'was'}"
      ]
     },
     "execution_count": 14,
     "metadata": {},
     "output_type": "execute_result"
    }
   ],
   "source": [
    "poem  = \"The rose is a rose and was always a rose.\"\n",
    "\n",
    "poem = poem.lower().translate(str.maketrans('','',string.punctuation)).split() #предобратобка\n",
    "\n",
    "unique(poem) # множество уникальных токенов "
   ]
  },
  {
   "cell_type": "code",
   "execution_count": 15,
   "metadata": {
    "colab": {},
    "colab_type": "code",
    "id": "rZML1f3_SVau"
   },
   "outputs": [],
   "source": [
    "def ne_tak_li(): # в теле функции можно задать любое действие (не одно), и даже новую функцию!\n",
    "    def your_phrase(): # создаем функцию, которая существует внутри большой функции\n",
    "        res = input(\"скажите что-нибудь:\")\n",
    "        return res # получили значение\n",
    "    final_res = your_phrase()+\", не так ли?\" #вызвали функцию в функции, получили ее значение, добавили к нему новую строку\n",
    "    return final_res # выдаем финальный результат"
   ]
  },
  {
   "cell_type": "code",
   "execution_count": 16,
   "metadata": {
    "colab": {
     "base_uri": "https://localhost:8080/",
     "height": 51
    },
    "colab_type": "code",
    "id": "Q5VXlraCU8V6",
    "outputId": "498500fa-7117-44a5-a13e-ce5b1728bae5"
   },
   "outputs": [
    {
     "name": "stdin",
     "output_type": "stream",
     "text": [
      "скажите что-нибудь: Привет\n"
     ]
    },
    {
     "data": {
      "text/plain": [
       "'Привет, не так ли?'"
      ]
     },
     "execution_count": 16,
     "metadata": {},
     "output_type": "execute_result"
    }
   ],
   "source": [
    "ne_tak_li()"
   ]
  },
  {
   "cell_type": "markdown",
   "metadata": {
    "colab_type": "text",
    "id": "7y1G_xkpZY5s"
   },
   "source": []
  },
  {
   "cell_type": "code",
   "execution_count": 19,
   "metadata": {
    "colab": {},
    "colab_type": "code",
    "id": "FUN_ywNqU-Cl"
   },
   "outputs": [],
   "source": [
    "# более полезная функция\n",
    "import string\n",
    "def normalize(text):\n",
    "    normalized = text.lower().translate(str.maketrans('','',string.punctuation)) .split()\n",
    "    return normalized"
   ]
  },
  {
   "cell_type": "code",
   "execution_count": 22,
   "metadata": {
    "colab": {
     "base_uri": "https://localhost:8080/",
     "height": 697
    },
    "colab_type": "code",
    "id": "TZ5Zkha9c0uk",
    "outputId": "db5692da-7a61-4048-cd0c-d274ee07e7c0"
   },
   "outputs": [
    {
     "name": "stdout",
     "output_type": "stream",
     "text": [
      "['i', 'had', 'heard', 'that', 'mcdonalds', 'never', 'decompose', 'so', 'i', 'just', 'wanted', 'to', 'see', 'if', 'it', 'was', 'trueor', 'not', 'hjortur', 'smarason', 'told', 'afp', 'this', 'week', 'its', '10', 'years', 'since', 'the', 'seeminglyindestructible', 'meal', 'was', 'purchased', 'and', 'it', 'barely', 'looks', 'a', 'day', 'older']\n"
     ]
    }
   ],
   "source": [
    "# попробуем на тексте: \n",
    "\n",
    "news = \"I had heard that McDonald\\'s never decompose so I just wanted to see if it was true\\\n",
    "or not,\\\" Hjortur Smarason told AFP. This week, it's 10 years since the seemingly\\\n",
    "indestructible meal was purchased, and it barely looks a day older.\"\n",
    "\n",
    "normalize(news) # вызвали функцию, передали переменную с текстом в виде аргумента\n",
    "normalized_text = normalize(news)\n",
    "print (normalized_text)\n"
   ]
  },
  {
   "cell_type": "markdown",
   "metadata": {
    "colab_type": "text",
    "id": "kt9JszRTgh4-"
   },
   "source": [
    "###Аргументы функции\n",
    "Функция может принимать произвольное количество аргументов (или не принимать вообще). \n",
    "\n",
    "Существуют функции с произвольным числом аргументов, функции с позиционными и именованными аргументами, обязательными и необязательными.\n",
    "\n",
    "давайте разбираться\n",
    "\n",
    "1. позиционные и именованные аргументы"
   ]
  },
  {
   "cell_type": "code",
   "execution_count": 23,
   "metadata": {
    "colab": {},
    "colab_type": "code",
    "id": "dVnd5e7Ge_M4"
   },
   "outputs": [],
   "source": [
    "def birthday1(name, age):\n",
    "    print( \"С днем рождения , \", name , \"!\", \" Вам сегодня исполняется\", age)"
   ]
  },
  {
   "cell_type": "markdown",
   "metadata": {
    "colab_type": "text",
    "id": "X9CQVWnpoGzF"
   },
   "source": [
    "**позиционные аргументы**\n",
    "\n",
    "важен порядок ввода"
   ]
  },
  {
   "cell_type": "code",
   "execution_count": 298,
   "metadata": {
    "colab": {
     "base_uri": "https://localhost:8080/",
     "height": 34
    },
    "colab_type": "code",
    "id": "kdwjGqLQmduF",
    "outputId": "c9abcb8e-afa2-4319-af28-b54f0609ef74"
   },
   "outputs": [
    {
     "name": "stdout",
     "output_type": "stream",
     "text": [
      "С днем рождения ,  дорогой друг !  Вам сегодня исполняется 1\n"
     ]
    }
   ],
   "source": [
    "\n",
    "\n",
    "birthday1(\"дорогой друг\" , 1)"
   ]
  },
  {
   "cell_type": "code",
   "execution_count": 299,
   "metadata": {
    "colab": {
     "base_uri": "https://localhost:8080/",
     "height": 34
    },
    "colab_type": "code",
    "id": "igl8L9MvnmLk",
    "outputId": "0b4c9313-9be7-43a7-bd9f-3e0816fb51d9"
   },
   "outputs": [
    {
     "name": "stdout",
     "output_type": "stream",
     "text": [
      "С днем рождения ,  1 !  Вам сегодня исполняется  дорогой друг\n"
     ]
    }
   ],
   "source": [
    "#    Проблема позиционных аргументов \n",
    "\n",
    "birthday1(1, \" дорогой друг\") # поменяли аргументы местами"
   ]
  },
  {
   "cell_type": "markdown",
   "metadata": {
    "colab_type": "text",
    "id": "o-xxHvGSn3a4"
   },
   "source": [
    "**именные**\n",
    "\n",
    "Вне зависимости от порядка, все хорошо."
   ]
  },
  {
   "cell_type": "code",
   "execution_count": 24,
   "metadata": {
    "colab": {
     "base_uri": "https://localhost:8080/",
     "height": 34
    },
    "colab_type": "code",
    "id": "atGOHsObmoGy",
    "outputId": "dee6d4c3-cd25-4d78-a352-c23811cc568c"
   },
   "outputs": [
    {
     "name": "stdout",
     "output_type": "stream",
     "text": [
      "С днем рождения ,  дорогой друг !  Вам сегодня исполняется 1\n"
     ]
    }
   ],
   "source": [
    "birthday1( name = \"дорогой друг\", age = 1) "
   ]
  },
  {
   "cell_type": "code",
   "execution_count": 25,
   "metadata": {
    "colab": {
     "base_uri": "https://localhost:8080/",
     "height": 34
    },
    "colab_type": "code",
    "id": "oHbEHLVKmxnw",
    "outputId": "a7642b6d-14ef-4920-c914-ae0e1720047d"
   },
   "outputs": [
    {
     "name": "stdout",
     "output_type": "stream",
     "text": [
      "С днем рождения ,  дорогой друг !  Вам сегодня исполняется 1\n"
     ]
    }
   ],
   "source": [
    "birthday1(age = 1, name = \"дорогой друг\")"
   ]
  },
  {
   "cell_type": "markdown",
   "metadata": {
    "colab_type": "text",
    "id": "35XQO46vo9XO"
   },
   "source": [
    "Функция может принимать переменное количество позиционных аргументов,\n",
    "\n",
    "тогда в скобках, в поле для аргумента ставится ```*args```. Если нам нужна такая функция, которая может принимать любое кол-во аргументов:\n",
    "\n",
    "Результат работы этой функции - кортеж. Звездочка - 0 или больше.\n"
   ]
  },
  {
   "cell_type": "code",
   "execution_count": 29,
   "metadata": {
    "colab": {},
    "colab_type": "code",
    "id": "h_6eRkMwoz2S"
   },
   "outputs": [],
   "source": [
    "def my_test_arg_func(*args):\n",
    "     return args\n",
    "     "
   ]
  },
  {
   "cell_type": "markdown",
   "metadata": {
    "colab_type": "text",
    "id": "2Cw-3d5Vp_IX"
   },
   "source": [
    "args - это кортеж из всех переданных аргументов функции"
   ]
  },
  {
   "cell_type": "code",
   "execution_count": 30,
   "metadata": {
    "colab": {
     "base_uri": "https://localhost:8080/",
     "height": 34
    },
    "colab_type": "code",
    "id": "WJQUliLVpawM",
    "outputId": "6d0bcca5-365c-45ad-f2cb-e53e5703bb20"
   },
   "outputs": [
    {
     "name": "stdout",
     "output_type": "stream",
     "text": [
      "(2.3, 'Jane', 'hello', 77, 23, {0, 8, 6})\n"
     ]
    }
   ],
   "source": [
    "x = my_test_arg_func(2.3,\"Jane\",\"hello\",77)\n",
    "y = my_test_arg_func(23,{0,6,8})\n",
    "\n",
    "#что может быть в аргументах? \n",
    "\n",
    "z = x+y\n",
    "print(z)"
   ]
  },
  {
   "cell_type": "markdown",
   "metadata": {
    "colab_type": "text",
    "id": "TGQYue3Hr_t1"
   },
   "source": [
    "Функция может принимать и произвольное число ИМЕНОВАННЫХ аргументов\n",
    "\n",
    "тогда перед именем ставится ```**kwargs```. Результат работы такой функции - словарь:"
   ]
  },
  {
   "cell_type": "code",
   "execution_count": 31,
   "metadata": {
    "colab": {},
    "colab_type": "code",
    "id": "Crz46XlTpkJO"
   },
   "outputs": [],
   "source": [
    " def kwargs_func(**kwargs):\n",
    "     return kwargs"
   ]
  },
  {
   "cell_type": "code",
   "execution_count": 32,
   "metadata": {
    "colab": {
     "base_uri": "https://localhost:8080/",
     "height": 34
    },
    "colab_type": "code",
    "id": "KcG0djEAsKg8",
    "outputId": "8071e02e-55d9-47b3-a2a6-e060be89c4df"
   },
   "outputs": [
    {
     "data": {
      "text/plain": [
       "{'a': 1, 'b': 2, 'c': 3}"
      ]
     },
     "execution_count": 32,
     "metadata": {},
     "output_type": "execute_result"
    }
   ],
   "source": [
    "kwargs_func(a=1, b=2, c=3)"
   ]
  },
  {
   "cell_type": "markdown",
   "metadata": {
    "colab_type": "text",
    "id": "r3xTtBdysbdl"
   },
   "source": [
    "переменная kwargs - это словарь!"
   ]
  },
  {
   "cell_type": "markdown",
   "metadata": {
    "colab_type": "text",
    "id": "Kjx2bycnsi9p"
   },
   "source": [
    "### бонус: lambda func"
   ]
  },
  {
   "cell_type": "markdown",
   "metadata": {
    "colab_type": "text",
    "id": "-AjT1BdWsvvx"
   },
   "source": [
    "Анонимные функции:\n",
    "* могут содержать лишь одно действие\n",
    "* выполняются быстрее\n",
    "* не обязательно присваивать переменной (не нужен def)\n",
    "* не требуется return\n",
    "\n",
    "\n",
    "обычно используются для одноразовых функций \n",
    "\n",
    "создаются с помощью ключевого слова ```lambda```"
   ]
  },
  {
   "cell_type": "code",
   "execution_count": null,
   "metadata": {
    "colab": {},
    "colab_type": "code",
    "id": "tQoxZXdPsWFc"
   },
   "outputs": [],
   "source": [
    "func = lambda x, y: x + y  # задали (до двоеточия аргументы, после - действие с ними)"
   ]
  },
  {
   "cell_type": "code",
   "execution_count": 307,
   "metadata": {
    "colab": {
     "base_uri": "https://localhost:8080/",
     "height": 34
    },
    "colab_type": "code",
    "id": "XKyQxTNVtTML",
    "outputId": "7796ece3-5ad5-48c3-cc34-bad7991aea0f"
   },
   "outputs": [
    {
     "data": {
      "text/plain": [
       "3"
      ]
     },
     "execution_count": 307,
     "metadata": {
      "tags": []
     },
     "output_type": "execute_result"
    }
   ],
   "source": [
    "func(1, 2) # вызываем, подав аргументы"
   ]
  },
  {
   "cell_type": "code",
   "execution_count": 308,
   "metadata": {
    "colab": {
     "base_uri": "https://localhost:8080/",
     "height": 34
    },
    "colab_type": "code",
    "id": "vOoz51D-tgTP",
    "outputId": "e1c067e5-90ea-4143-c293-9a58046ed895"
   },
   "outputs": [
    {
     "data": {
      "text/plain": [
       "'i write code in Python'"
      ]
     },
     "execution_count": 308,
     "metadata": {
      "tags": []
     },
     "output_type": "execute_result"
    }
   ],
   "source": [
    "func(\"i write\",\" code in Python\") # подаем строки как аргументы, их тоже можно конкатенировать"
   ]
  },
  {
   "cell_type": "code",
   "execution_count": null,
   "metadata": {
    "colab": {},
    "colab_type": "code",
    "id": "XgANxc7htyKZ"
   },
   "outputs": [],
   "source": [
    "func = lambda *args: [i*2 for i in list(args)] \n",
    "# можно подавать циклы в виде list comprehension"
   ]
  },
  {
   "cell_type": "code",
   "execution_count": 310,
   "metadata": {
    "colab": {
     "base_uri": "https://localhost:8080/",
     "height": 34
    },
    "colab_type": "code",
    "id": "zqEJLXxPuJ0d",
    "outputId": "596f878b-c375-480d-8fbb-285d4e9e8182"
   },
   "outputs": [
    {
     "data": {
      "text/plain": [
       "[2, 4, 6, 8]"
      ]
     },
     "execution_count": 310,
     "metadata": {
      "tags": []
     },
     "output_type": "execute_result"
    }
   ],
   "source": [
    "func(1, 2, 3, 4)"
   ]
  },
  {
   "cell_type": "markdown",
   "metadata": {
    "colab_type": "text",
    "id": "ylixGHVOvAqB"
   },
   "source": [
    "##Classwork"
   ]
  },
  {
   "cell_type": "markdown",
   "metadata": {
    "colab_type": "text",
    "id": "WbpgWXdHvgV8"
   },
   "source": [
    "1.  генератор названий компаний (почти как генератор паролей)"
   ]
  },
  {
   "cell_type": "code",
   "execution_count": 35,
   "metadata": {
    "colab": {
     "base_uri": "https://localhost:8080/",
     "height": 34
    },
    "colab_type": "code",
    "id": "lIwa6cOqvcTs",
    "outputId": "9ab23b6b-f4ce-4597-ec6c-88c3f1d29ff8"
   },
   "outputs": [
    {
     "name": "stdout",
     "output_type": "stream",
     "text": [
      "промалмазсофтсельхозагрокубань\n"
     ]
    }
   ],
   "source": [
    "# генератор названий компаний\n",
    "\n",
    "import random\n",
    "\n",
    "names = [\"пром\",\"агро\",\"торг\",\"урал\",\"север\",\"юг\",\"техно\",\n",
    "\"экспо\",\"метал\",\"нефть\",\"сельхоз\",\"фарм\",\"строй\",\n",
    "\"кредит\",\"алмаз\",\"-девелопмент\",\"развитие\",\"мос\",\n",
    "\"рос\",\"кубань\",\"сибирь\",\"восток\",\"нано\",\"софт\",\n",
    "\"микро\",\"онлайн\",\"инвест\",\"текстиль\",\"цемент\"]\n",
    "\n",
    "# Ваш код ниже\n",
    "\n",
    "company = '' \n",
    "\n",
    "for i in range(6):\n",
    "    company = company+random.choice(names)\n",
    "print(company) #пусть в ней будет 6 частей\n",
    "\n",
    "# запустите ячейку несклько раз"
   ]
  },
  {
   "cell_type": "markdown",
   "metadata": {
    "colab_type": "text",
    "id": "2yJufW6c1J2r"
   },
   "source": [
    "2. Транслитератор\n",
    "\n",
    "Напишите программу, которая будет транситерировать текст (собака >> sobaka)\n",
    "\n",
    "Вам нужно: \n",
    "1. написать побуквенный транслитератор с кириллицы на латиницу(здесь нужно ипользовать словарь)\n",
    "\n",
    "2. \"обернуть\" ваш код транслитератора в функцию\n",
    "\n",
    "3. применить функцию к тексту (возьмите любой, на ваш выбор, длиной от 2 до 7 предложений. Хорошая идея - искать в статьях на Википедии)\n",
    "    \n",
    "    3.1. чтобы работать с текстом, сохраните его в переменную\n",
    "\n"
   ]
  },
  {
   "cell_type": "code",
   "execution_count": 36,
   "metadata": {
    "colab": {},
    "colab_type": "code",
    "id": "OY3JW9ZpwAkS"
   },
   "outputs": [],
   "source": [
    "# Ваш код здесь:\n",
    "\n",
    "my_text = \"Мясо питонов съедобно и в некоторых странах употребляется в пищу местным населением. \\\n",
    "Кожа многих видов используется в галантерейной промышленности для производства различных изделий.\\\n",
    "Известны случаи нападения питонов на человека. Питоны часто содержатся в неволе: не только в зоопарках, но и в домашних условиях любителями рептилий.\\\n",
    "Отдельные виды этих змей являются очень популярными террариумными животными и хорошо размножаются. В неволе живут до 20–25 лет.\"\n",
    "\n",
    "dic = {'а':'a', 'А': 'A', 'б':'b', 'Б':'B', 'в':'v', 'В': ' V', 'г':'g', 'Г': 'G', 'д':'d', 'Д': 'D', 'е':'е', 'Е':'E' , 'ё':'yo', 'Ё':'Yo', 'ж':'zh', 'Ж':'Zh','з':'z', 'З':'Z', 'и': 'i','И':'I', 'й': 'i', 'Й': 'I','к':'k', 'K':'K', 'л':'l', 'Л': 'L','м':'m', 'М': 'M','н':'n', 'Н':'N', 'о': 'o', 'О':'O','п': 'p', 'П':'P', 'р': 'r', 'Р':'R', 'с': 's', 'С':'S', 'т': 't', 'Т':'T', 'у': 'u', 'У': 'U','ф': 'f', 'Ф':'F', 'х': 'kh', 'Х': 'Kh', 'ц': 'ts', 'Ц': 'Ts','ч': 'ch','Ч': 'Ch','ш': 'sh', 'Ш': 'Sh', 'щ':'shch', 'Щ': 'Schch', 'ы': 'y', 'ъ':'ie', 'ь': '', 'э': 'e', 'Э':'E', 'ю': 'iu', 'Ю':'Iu', 'я': 'ia', 'Я': 'Ia'}\n",
    "#Создаем словарь, в котором есть пары соответствий\n",
    "def transliterate (string):\n",
    "    lst = string.split() #разбиваем нашу строку на слова по пробелам\n",
    "    #print(lst)\n",
    "    for i in lst: # проходим циклом по каждому слову\n",
    "        for key in dic: #для каждого ключа в словаре\n",
    "            string = string.replace(key, dic[key]) #метод replace возвращает копию строки, где все вхождения подстроки key заменены на значение ключа с данным именем\n",
    "        return string \n",
    "\n",
    "       \n",
    "    \n",
    "\n"
   ]
  },
  {
   "cell_type": "code",
   "execution_count": 37,
   "metadata": {},
   "outputs": [
    {
     "data": {
      "text/plain": [
       "'Miaso pitonov sieеdobno i v nеkotorykh stranakh upotrеbliaеtsia v pishchu mеstnym nasеlеniеm. Кozha mnogikh vidov ispolzuеtsia v galantеrеinoi promyshlеnnosti dlia proizvodstva razlichnykh izdеlii.Izvеstny sluchai napadеniia pitonov na chеlovеka. Pitony chasto sodеrzhatsia v nеvolе: nе tolko v zooparkakh, no i v domashnikh usloviiakh liubitеliami rеptilii.Otdеlnyе vidy etikh zmеi iavliaiutsia ochеn populiarnymi tеrrariumnymi zhivotnymi i khorosho razmnozhaiutsia.  V nеvolе zhivut do 20–25 lеt.'"
      ]
     },
     "execution_count": 37,
     "metadata": {},
     "output_type": "execute_result"
    }
   ],
   "source": [
    "transliterate (my_text)"
   ]
  },
  {
   "cell_type": "code",
   "execution_count": null,
   "metadata": {},
   "outputs": [],
   "source": []
  }
 ],
 "metadata": {
  "colab": {
   "collapsed_sections": [],
   "include_colab_link": true,
   "name": "Sat_02Nov_19.ipynb",
   "provenance": []
  },
  "kernelspec": {
   "display_name": "Python 3",
   "language": "python",
   "name": "python3"
  },
  "language_info": {
   "codemirror_mode": {
    "name": "ipython",
    "version": 3
   },
   "file_extension": ".py",
   "mimetype": "text/x-python",
   "name": "python",
   "nbconvert_exporter": "python",
   "pygments_lexer": "ipython3",
   "version": "3.7.3"
  }
 },
 "nbformat": 4,
 "nbformat_minor": 2
}

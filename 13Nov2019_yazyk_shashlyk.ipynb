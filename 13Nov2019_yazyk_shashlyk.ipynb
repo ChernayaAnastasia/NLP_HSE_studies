{
 "cells": [
  {
   "cell_type": "code",
   "execution_count": 4,
   "metadata": {},
   "outputs": [],
   "source": [
    "#Данная программа заменяет в документе ея.txt все случаи употребления строки \"язык\" на \"шашлык\" и записывает результат в файл ея_substituted.txt :\n",
    "import re\n",
    "\n",
    "with open ('ея.txt', 'r') as file:\n",
    "    file = file.read()\n",
    "    #print(file)\n",
    "with open ('ея_substituted.txt', 'w') as new_file:\n",
    "    result = re.sub('(я|Я)з(ы|ы́)к', 'шашлык', file)\n",
    "    new_file.write(result)\n"
   ]
  }
 ],
 "metadata": {
  "kernelspec": {
   "display_name": "Python 3",
   "language": "python",
   "name": "python3"
  },
  "language_info": {
   "codemirror_mode": {
    "name": "ipython",
    "version": 3
   },
   "file_extension": ".py",
   "mimetype": "text/x-python",
   "name": "python",
   "nbconvert_exporter": "python",
   "pygments_lexer": "ipython3",
   "version": "3.7.3"
  }
 },
 "nbformat": 4,
 "nbformat_minor": 2
}

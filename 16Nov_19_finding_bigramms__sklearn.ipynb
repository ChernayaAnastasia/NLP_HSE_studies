{
 "cells": [
  {
   "cell_type": "code",
   "execution_count": 40,
   "metadata": {},
   "outputs": [],
   "source": [
    "from sklearn.feature_extraction.text import CountVectorizer #посчитает самые частотные нграммы \n",
    "import nltk\n",
    "from collections import Counter \n",
    "import re \n",
    "from nltk.corpus import stopwords #модуль со стоп-словами \n",
    "\n",
    "stop_words = set(stopwords.words('russian')) #записываю все уникальные стоп-слова\n",
    "\n",
    "with open(\"Автомат обработка текстов на ЕЯ и КЛ_Большакова.txt\", \"r+\", encoding=\"utf-8\") as file: # открыли файл, сохранили в переменную file\n",
    "    text = file.read() # прочитали, сохранили в переменную text, ее тип - str\n",
    "    text = text.strip().lower() #сводим все к нижнему регистру\n",
    "    text = re.sub(\"[0123456789!\\\"#$%&\\'()»«*+—,-./:;<=>?@[\\\\]^_`{|}~]?\",\"\",text)#убираем всю пунктуацию и цыфры \n",
    "    filtered_text_list = [] #пустой список, в котором будет текст без стоп-слов\n",
    "    for word in text.split(): #Выбрасываем из текста стоп-слова: \n",
    "        if word not in stop_words:\n",
    "             filtered_text_list.append(word)\n",
    "filtered_text = \" \".join(filtered_text_list) #нам нужно будет подать функции analyze - строку, поэтому превращаем наш список в строку\n",
    "#print(filtered_text)\n",
    "    \n",
    "    \n",
    "bigram_vectorizer = CountVectorizer(ngram_range=(2,2),\n",
    "                                    token_pattern=r'\\b[А-Яа-я]+\\b', min_df=1) #найдем самые разные биграммы и посчитаем, сколько раз они встречаются в тексте\n",
    "\n",
    "analyze = bigram_vectorizer.build_analyzer()\n",
    "z = analyze(filtered_text) #z - это список, его элементы - это биграммы.\n",
    "result = Counter(z).most_common() #найдем самые частотные биграммы \n",
    "result = str(result) #результат конвертируем в строку\n",
    "sorted(result) #отсортируем список от самых частотных биграмм до наименее \n",
    "\n",
    "#Запишем результат в отдельный файл:\n",
    "with open ('биграммы_Автомат обработка текстов на ЕЯ и КЛ_Большакова.txt', 'w', encoding=\"utf-8\") as f:\n",
    "    result = f.write(result)"
   ]
  },
  {
   "cell_type": "code",
   "execution_count": 9,
   "metadata": {},
   "outputs": [],
   "source": [
    "import os"
   ]
  },
  {
   "cell_type": "code",
   "execution_count": 10,
   "metadata": {},
   "outputs": [
    {
     "data": {
      "text/plain": [
       "'/Users/Anastasia/Documents/Учеба в Вышке_Computer linguistics/Python/09_11_работа_с_файлами'"
      ]
     },
     "execution_count": 10,
     "metadata": {},
     "output_type": "execute_result"
    }
   ],
   "source": [
    "os.getcwd() "
   ]
  }
 ],
 "metadata": {
  "kernelspec": {
   "display_name": "Python 3",
   "language": "python",
   "name": "python3"
  },
  "language_info": {
   "codemirror_mode": {
    "name": "ipython",
    "version": 3
   },
   "file_extension": ".py",
   "mimetype": "text/x-python",
   "name": "python",
   "nbconvert_exporter": "python",
   "pygments_lexer": "ipython3",
   "version": "3.7.3"
  }
 },
 "nbformat": 4,
 "nbformat_minor": 2
}

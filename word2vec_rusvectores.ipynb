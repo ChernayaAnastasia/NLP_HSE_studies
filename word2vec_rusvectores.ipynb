{
 "cells": [
  {
   "cell_type": "markdown",
   "id": "aa71d58d-331d-4143-a07e-e05174bb7c09",
   "metadata": {},
   "source": [
    "# Word2Vec"
   ]
  },
  {
   "cell_type": "code",
   "execution_count": 1,
   "id": "43b41d29-7f91-4f9e-acae-18a5c5c02a27",
   "metadata": {},
   "outputs": [],
   "source": [
    "import gensim\n",
    "import wget\n",
    "import urllib\n",
    "import re\n",
    "import pymorphy2\n",
    "morph = pymorphy2.MorphAnalyzer() #сразу же инициализируем морфанализатор\n",
    "from nltk.tokenize import word_tokenize\n",
    "from nltk.corpus import stopwords"
   ]
  },
  {
   "cell_type": "markdown",
   "id": "4f6ba4f8-485a-443e-9386-767d2eb80ae8",
   "metadata": {},
   "source": [
    "## Загрузка готовой векторной модели с сайта RusVectores"
   ]
  },
  {
   "cell_type": "markdown",
   "id": "ccfce018-7b07-4df5-97c8-0e06c1887111",
   "metadata": {},
   "source": [
    "Зазгрузим модель ruscorpora_upos_skipgram_600_10_2017, обученную на корпусе НКРЯ.\n",
    "\n",
    "Ссылка на модель находится [здесь]('https://rusvectores.org/static/models/ruscorpora_upos_skipgram_600_10_2017.bin.gz')\n",
    "\n",
    "Список всех моделей на сайте RusVectores [тут](https://rusvectores.org/ru/models/) \n",
    "\n",
    "**Характеристики модели, которую мы используем в этой тетрадке:**\n",
    "\n",
    "Дата создания  - октябрь 2017\n",
    "\n",
    "Размер обучающего корпуса - 250 миллионов слов \n",
    "\n",
    "Алгоритм обучения - Continuous Skipgram\n",
    "\n",
    "Размер окна - 10\n",
    "\n",
    "Размерность вектора - 600\n",
    "\n",
    "Набор частеречных тэгов - Universal tags"
   ]
  },
  {
   "cell_type": "code",
   "execution_count": 2,
   "id": "fd126cd7-597b-49d0-807c-26c702d2bd3b",
   "metadata": {},
   "outputs": [
    {
     "data": {
      "text/plain": [
       "('ruscorpora_upos_skipgram_600_10_2017.bin.gz',\n",
       " <http.client.HTTPMessage at 0x122ca4a90>)"
      ]
     },
     "execution_count": 2,
     "metadata": {},
     "output_type": "execute_result"
    }
   ],
   "source": [
    "urllib.request.urlretrieve(\"https://rusvectores.org/static/models/ruscorpora_upos_skipgram_600_10_2017.bin.gz\",\n",
    "\"ruscorpora_upos_skipgram_600_10_2017.bin.gz\")\n"
   ]
  },
  {
   "cell_type": "code",
   "execution_count": 3,
   "id": "abda2784-b598-452a-bd4a-f6f23ad3fefe",
   "metadata": {},
   "outputs": [],
   "source": [
    "# Загружаем модель\n",
    "model_path = 'ruscorpora_upos_skipgram_600_10_2017.bin.gz'\n",
    "model_ru = gensim.models.KeyedVectors.load_word2vec_format(model_path, binary=True)"
   ]
  },
  {
   "cell_type": "code",
   "execution_count": 4,
   "id": "70296ca4-f694-45d2-9088-0028d04ed399",
   "metadata": {},
   "outputs": [],
   "source": [
    "# Функция для предобработки и токенизации текста\n",
    "def preprocessing(text):\n",
    "    text = re.sub(r'[!\\\"#$%&\\'()*+,./:;<=>?@^_`{|}~]|( -)|(\\[)|(\\])', '', text) # удаляем пунктуацию\n",
    "    tokens =  word_tokenize(text)\n",
    "    return [token for token in tokens if token not in stopwords.words('russian')] #из всех слов убираем стоп-слова"
   ]
  },
  {
   "cell_type": "markdown",
   "id": "cb2e57d4-820b-4623-a36e-3613a2825f2c",
   "metadata": {},
   "source": [
    "## Создание словаря для конвертации частеречных тэгов Pymorphy2 в формат Unversal POS tags"
   ]
  },
  {
   "cell_type": "markdown",
   "id": "cb5f4675-b7ac-4399-a7dd-01d7b6a35f18",
   "metadata": {},
   "source": [
    "Частеречные тэги [Pymorphy2](http://opencorpora.org/dict.php?act=gram&order=priority) \n",
    "\n",
    "Частеречные тэги [Unversal POS](https://universaldependencies.org/u/pos/all.html)"
   ]
  },
  {
   "cell_type": "code",
   "execution_count": 5,
   "id": "837b5bfb-d079-4b70-9718-792ca18463a9",
   "metadata": {},
   "outputs": [],
   "source": [
    "mapping_Pymorphy_UPos = {\n",
    "'ADJF': 'ADJ',\n",
    "'ADJS': 'ADJ',\n",
    "'ADVB': 'ADV',\n",
    "'Apro': 'DET',\n",
    "'COMP': 'ADV',  # может быть и прилагательным, недостаточно информации о тэге в opencorpora\n",
    "'CONJ': 'CONJ',\n",
    "'GRND': 'VERB',\n",
    "'INFN': 'VERB',\n",
    "'INTJ': 'INTJ',\n",
    "'NOUN': 'NOUN',\n",
    "'NPRO': 'PRON',\n",
    "'NUMR': 'NUM',\n",
    "'NUMB': 'NUM',\n",
    "'PART': 'PRCL',\n",
    "'PNCT': 'PUNCT',\n",
    "'PRCL': 'PART',\n",
    "'PREP': 'ADP',\n",
    "'PRTF': 'VERB',\n",
    "'PRTS': 'VERB',\n",
    "'VERB': 'VERB'\n",
    "}"
   ]
  },
  {
   "cell_type": "markdown",
   "id": "36122607-8188-4d52-8f2d-92a076e1f4a2",
   "metadata": {},
   "source": [
    "## Создание функции для лемматизации, частеречной разметки"
   ]
  },
  {
   "cell_type": "markdown",
   "id": "09a4ec0e-04be-4b48-bfb9-be0a0a949e55",
   "metadata": {},
   "source": [
    "Частеречные тэги нужны, поскольку это специфика скачанной модели - она была натренирована на словах, аннотированных их частями речи (и лемматизированных). В названиях моделей на rusvectores указано, какой тегсет они используют (mystem, upos и т.д.)"
   ]
  },
  {
   "cell_type": "code",
   "execution_count": 6,
   "id": "51b643f9-9295-42ae-990b-48f404edb01f",
   "metadata": {},
   "outputs": [],
   "source": [
    "\"\"\"Функция лемматизирует текст и осуществляет частеречную разметку в виде Universal POS-tags. \n",
    "(Предобработка необходима для работы с предобученной моделью от RusVectores.)\n",
    "\n",
    "\n",
    "Аргументы:\n",
    "    tokens - список токенов текста \n",
    "    mapping - словарь-таблица для конвертации тэгов частей речи из одного формата в другой.  \n",
    "Вывод:\n",
    "    tagged_lemmas - список лемм с частеречным тэгом\n",
    "'''\n",
    "\"\"\"\n",
    "\n",
    "def get_lemmas_with_pos_tag(tokens, mapping):\n",
    "    tagged_lemmas = []\n",
    "    for token in tokens:\n",
    "        morph_analized = morph.parse(token) # морф анализ\n",
    "        lemma = morph_analized[0].normal_form #извлекаем лемму\n",
    "        #print('Лемма:', lemma)\n",
    "        pos = morph_analized[0].tag.POS #извлекаем частеречный тэг\n",
    "        #print('Тэг:', pos)\n",
    "        #Проверяем, есть ли частеречный тэг в нашем словаре:\n",
    "        if pos in mapping: \n",
    "            tagged_lemma = lemma + '_' + mapping[pos] #получаем лемму с частеречным тэгом: lemma_POS-tag\n",
    "            tagged_lemmas.append(tagged_lemma)\n",
    "        else:\n",
    "            tagged_lemma = lemma + '_X' # на случай, если попадется тэг, которого нет в словаре\n",
    "            tagged_lemmas.append(tagged_lemma)\n",
    "        \n",
    "    return tagged_lemmas"
   ]
  },
  {
   "cell_type": "code",
   "execution_count": 7,
   "id": "7fa22ddd-a4a5-4e0e-b8c0-cffee5458e75",
   "metadata": {},
   "outputs": [],
   "source": [
    "tokens = preprocessing('Папа и отец - слова синонимы и это всем известно, не так ли?')"
   ]
  },
  {
   "cell_type": "code",
   "execution_count": 8,
   "id": "0f4a56da-0785-4f16-89f3-71f21645997d",
   "metadata": {},
   "outputs": [
    {
     "data": {
      "text/plain": [
       "['Папа', 'отец', 'слова', 'синонимы', 'это', 'всем', 'известно']"
      ]
     },
     "execution_count": 8,
     "metadata": {},
     "output_type": "execute_result"
    }
   ],
   "source": [
    "tokens"
   ]
  },
  {
   "cell_type": "code",
   "execution_count": 10,
   "id": "e0a14280-e5ed-4407-a676-bb27f71eebb5",
   "metadata": {},
   "outputs": [
    {
     "data": {
      "text/plain": [
       "['папа_NOUN',\n",
       " 'отец_NOUN',\n",
       " 'слово_NOUN',\n",
       " 'синоним_NOUN',\n",
       " 'это_PART',\n",
       " 'весь_ADJ',\n",
       " 'известно_X']"
      ]
     },
     "execution_count": 10,
     "metadata": {},
     "output_type": "execute_result"
    }
   ],
   "source": [
    "lemmas = get_lemmas_with_pos_tag(tokens, mapping_Pymorphy_UPos)\n",
    "lemmas"
   ]
  },
  {
   "cell_type": "markdown",
   "id": "2c8af9e9-e344-4c0e-aec8-8ff8883772df",
   "metadata": {},
   "source": [
    "## Проведем тест модели"
   ]
  },
  {
   "cell_type": "markdown",
   "id": "1135e31a-dd0a-426c-9c97-7d04a6a6b7d6",
   "metadata": {},
   "source": [
    "Попросим у модели 10 ближайших соседей и коэффициент косинусной близости  для каждого слова:"
   ]
  },
  {
   "cell_type": "code",
   "execution_count": 11,
   "id": "82b676ab-ab59-4160-abaf-8b3f64edce3c",
   "metadata": {
    "tags": []
   },
   "outputs": [],
   "source": [
    "def test_word2vec(words):\n",
    "    for word in words:\n",
    "        # проверяем, есть ли слово в модели\n",
    "        if word in model_ru:\n",
    "            print(word)\n",
    "            print(model_ru[word][:10])\n",
    "            #выдаем 10 ближайших соседей слова:\n",
    "            for word, sim in model_ru.most_similar(positive=[word], topn=10):\n",
    "                #слово + коэффициент косинусной близости\n",
    "                print(word, ': ', sim)\n",
    "            print('\\n')\n",
    "        else:\n",
    "            print('Увы, слова {} нет в модели!'.format(word))"
   ]
  },
  {
   "cell_type": "code",
   "execution_count": 12,
   "id": "cedf27ea-447a-4a22-95c7-82e284f63a47",
   "metadata": {},
   "outputs": [
    {
     "name": "stdout",
     "output_type": "stream",
     "text": [
      "папа_NOUN\n",
      "[-0.01874044 -0.01209912  0.02758167  0.04107445 -0.02311327 -0.06165204\n",
      "  0.01347432 -0.00246528 -0.02627983 -0.01095002]\n",
      "мама_NOUN :  0.6132853031158447\n",
      "сангий_NOUN :  0.5607517957687378\n",
      "солнечкин_NOUN :  0.5561753511428833\n",
      "лоли_NOUN :  0.5431061387062073\n",
      "пидет_ADV :  0.5387659072875977\n",
      "отец_NOUN :  0.5260175466537476\n",
      "бонифаций_NOUN :  0.5180080533027649\n",
      "маин_NOUN :  0.517593264579773\n",
      "мамочка_NOUN :  0.5093820095062256\n",
      "баби_NOUN :  0.49594396352767944\n",
      "\n",
      "\n",
      "отец_NOUN\n",
      "[-0.01164836 -0.03375478  0.00456757  0.04077563  0.01659235 -0.04487033\n",
      "  0.03869454 -0.01065875 -0.03143692 -0.01896806]\n",
      "родитель_NOUN :  0.5874082446098328\n",
      "нухим_NOUN :  0.5746214985847473\n",
      "гарклавс_NOUN :  0.5510189533233643\n",
      "туберозов_NOUN :  0.5497263669967651\n",
      "иеронимо_NOUN :  0.5477081537246704\n",
      "мать_NOUN :  0.5472304224967957\n",
      "логиныч_NOUN :  0.54477858543396\n",
      "голиндуха_NOUN :  0.5423721075057983\n",
      "иху_NOUN :  0.5393348932266235\n",
      "дашенькин_NOUN :  0.5384094715118408\n",
      "\n",
      "\n",
      "слово_NOUN\n",
      "[ 0.02531466 -0.00931365 -0.01961394  0.04700492 -0.01042462  0.03526392\n",
      " -0.0383911  -0.01609667 -0.00722129 -0.02122659]\n",
      "фраза_NOUN :  0.5702674984931946\n",
      "полсловечко_NOUN :  0.5459375381469727\n",
      "порицательный_ADJ :  0.5272282958030701\n",
      "четырехсложный_ADJ :  0.5137923955917358\n",
      "словечко_NOUN :  0.5082544088363647\n",
      "по-церковнославянски_ADV :  0.49780455231666565\n",
      "афористически_ADV :  0.49742212891578674\n",
      "непроизнесенный_ADJ :  0.4855760931968689\n",
      "дословность_NOUN :  0.4854050576686859\n",
      "нитль_NOUN :  0.48005539178848267\n",
      "\n",
      "\n",
      "синоним_NOUN\n",
      "[ 0.00575356 -0.00748831 -0.02253642 -0.01216243  0.00707061 -0.06515467\n",
      "  0.05259196  0.02997052  0.05140211 -0.00381104]\n",
      "антоним_NOUN :  0.523516833782196\n",
      "равнозначащий_ADJ :  0.49060964584350586\n",
      "омоним_NOUN :  0.4805271327495575\n",
      "сибуй_NOUN :  0.46149975061416626\n",
      "однокоренной_ADJ :  0.45300114154815674\n",
      "педерастия_NOUN :  0.44588637351989746\n",
      "эпифеномен_NOUN :  0.444737046957016\n",
      "отпредикатный_ADJ :  0.4403710961341858\n",
      "адэкватный_ADJ :  0.42993712425231934\n",
      "посткоитальный_ADJ :  0.4280196726322174\n",
      "\n",
      "\n",
      "Увы, слова это_PART нет в модели!\n",
      "Увы, слова весь_ADJ нет в модели!\n",
      "Увы, слова известно_X нет в модели!\n"
     ]
    }
   ],
   "source": [
    "test_word2vec(lemmas)"
   ]
  },
  {
   "cell_type": "markdown",
   "id": "60d2bfce-ec00-437c-a094-8860c1e73cde",
   "metadata": {},
   "source": [
    "Находим косинусную близость пары слов:"
   ]
  },
  {
   "cell_type": "code",
   "execution_count": 13,
   "id": "644c117a-244a-4e71-a5e8-7c896af5e6a8",
   "metadata": {},
   "outputs": [
    {
     "name": "stdout",
     "output_type": "stream",
     "text": [
      "0.5260176\n"
     ]
    }
   ],
   "source": [
    "print(model_ru.similarity('отец_NOUN', 'папа_NOUN'))"
   ]
  }
 ],
 "metadata": {
  "kernelspec": {
   "display_name": "Python 3 (ipykernel)",
   "language": "python",
   "name": "python3"
  },
  "language_info": {
   "codemirror_mode": {
    "name": "ipython",
    "version": 3
   },
   "file_extension": ".py",
   "mimetype": "text/x-python",
   "name": "python",
   "nbconvert_exporter": "python",
   "pygments_lexer": "ipython3",
   "version": "3.9.7"
  }
 },
 "nbformat": 4,
 "nbformat_minor": 5
}

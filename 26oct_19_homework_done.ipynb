{
 "cells": [
  {
   "cell_type": "markdown",
   "metadata": {
    "colab_type": "text",
    "id": "view-in-github"
   },
   "source": [
    "<a href=\"https://colab.research.google.com/github/nstsj/python_for_CL/blob/master/26oct_19.ipynb\" target=\"_parent\"><img src=\"https://colab.research.google.com/assets/colab-badge.svg\" alt=\"Open In Colab\"/></a>"
   ]
  },
  {
   "cell_type": "markdown",
   "metadata": {
    "colab_type": "text",
    "id": "OtLfEjtTf88R"
   },
   "source": [
    "## операторы ввода и вывода"
   ]
  },
  {
   "cell_type": "markdown",
   "metadata": {
    "colab_type": "text",
    "id": "RVp8eISaqTLp"
   },
   "source": [
    "1. Вывод на экран нескольких значений\n",
    "\n",
    "    Одним вызовом функции ```print ( ) ```можно печатать на экране несколько значений. Для этого задайте аргументы списком, перечислив их через запятую:"
   ]
  },
  {
   "cell_type": "code",
   "execution_count": null,
   "metadata": {
    "colab": {
     "base_uri": "https://localhost:8080/",
     "height": 34
    },
    "colab_type": "code",
    "id": "E5uJKzVzeWxg",
    "outputId": "338c18eb-d891-4c06-e97c-48c168afaf2c"
   },
   "outputs": [
    {
     "name": "stdout",
     "output_type": "stream",
     "text": [
      "Три аргумента успешно напечатаны\n"
     ]
    }
   ],
   "source": [
    "print(\"Три\", \"аргумента\", \"успешно напечатаны\")"
   ]
  },
  {
   "cell_type": "markdown",
   "metadata": {
    "colab_type": "text",
    "id": "ux6R_K_8rR3Y"
   },
   "source": [
    "    Иногда аргументы функции (любой, и принта тоже) легче разбить на несколько строк кода, это делается для удобства чтения кода:"
   ]
  },
  {
   "cell_type": "code",
   "execution_count": null,
   "metadata": {
    "colab": {
     "base_uri": "https://localhost:8080/",
     "height": 34
    },
    "colab_type": "code",
    "id": "rXTXwIoos4_g",
    "outputId": "05d02649-97bd-4027-c277-514b9d26ead1"
   },
   "outputs": [
    {
     "name": "stdout",
     "output_type": "stream",
     "text": [
      "Три аргумента успешно напечатаны\n"
     ]
    }
   ],
   "source": [
    "print(\"Три\",\n",
    "      \"аргумента\",\n",
    "      \"успешно напечатаны\")"
   ]
  },
  {
   "cell_type": "markdown",
   "metadata": {
    "colab_type": "text",
    "id": "pRHZzBBQthM6"
   },
   "source": [
    "2. экранирование\n",
    "\n",
    "    esсаре-последователыюсти (экранированные последовательности) позволяют вставлять в строки специальные символы. Типичную\n",
    "    еsсаре-последовательность образуют два символа: обратный слеш (\\\\) и дополнительный символ.\n",
    "\n",
    "    Какими они бывают? \n",
    "    * \\\\\\ Обратный слеш. Выводит :\\\\\n",
    "    * \\\\' Апостроф, или одиночная кавычка. Выводит : '\n",
    "    * \\\\\" Кавычка. Выводит : \"\n",
    "    * \\n Новая строка . Перемещает курсор в начало следующей строки\n",
    "    * \\t Горизонтальный отступ - символ табуляции. Перемещает курсор вправо на один отступ\n",
    "\n",
    "Давайте попробуем напечатать строку с разными режимами экранирования\n",
    "\n",
    "NB! символы экранирования пишем внутри строки, в её кавычках\n",
    "\n",
    "\n",
    "\n",
    "\n",
    "\n",
    "\n"
   ]
  },
  {
   "cell_type": "code",
   "execution_count": null,
   "metadata": {
    "colab": {
     "base_uri": "https://localhost:8080/",
     "height": 151
    },
    "colab_type": "code",
    "id": "2EBSJ26ywq3w",
    "outputId": "2968087f-eadb-4e18-8936-59e39a3e8d1b"
   },
   "outputs": [
    {
     "name": "stdout",
     "output_type": "stream",
     "text": [
      "1: wow i can modify output now\n",
      "2: \\wow i can modify output now\n",
      "3: he said 'wow i can modify output now'\n",
      "4: wow i can \"modify\" output now\n",
      "5: wow \n",
      "i can modify \n",
      "output now\n",
      "6: \twow i can modify output now\n"
     ]
    }
   ],
   "source": [
    "print(\"1:\", \"wow i can modify output now\") # классика\n",
    "print(\"2:\",\"\\\\wow i can modify output now\") # добавили бэкслеш\n",
    "print(\"3:\",\"he said \\'wow i can modify output now'\") # добавили кавычки (кавычки в кавычках, we need to go deeper!)\n",
    "print(\"4:\",\"wow i can \\\"modify\\\" output now\") # еще один вариант с кавычками\n",
    "print(\"5:\",\"wow \\ni can modify \\noutput now\") # перенос строки\n",
    "print(\"6:\",\"\\twow i can modify output now\") # табуляция\n"
   ]
  },
  {
   "cell_type": "markdown",
   "metadata": {
    "colab_type": "text",
    "id": "JXDTrGHNz8I2"
   },
   "source": [
    "3. альтернатива для ```print()```\n",
    "\n",
    "    иногда Вас может ожидать ситуация, когда Вы хотите посмотреть на данные, но печатать их полностью очень долго, а частями - неинформативно. На помощь приходит функция ```display()```. Помогает в случаях работы с большими данными"
   ]
  },
  {
   "cell_type": "code",
   "execution_count": null,
   "metadata": {
    "cellView": "form",
    "colab": {
     "base_uri": "https://localhost:8080/",
     "height": 34
    },
    "colab_type": "code",
    "id": "y8QdaNWpz-So",
    "outputId": "3a2d5604-70c0-496a-8b2d-86f89af77d67"
   },
   "outputs": [
    {
     "data": {
      "text/plain": [
       "'i am text'"
      ]
     },
     "metadata": {
      "tags": []
     },
     "output_type": "display_data"
    }
   ],
   "source": [
    "#@title\n",
    "\n",
    "text = \"i am text\" #наши данные пока не очень большие, но все впереди\n",
    "display(text)"
   ]
  },
  {
   "cell_type": "markdown",
   "metadata": {
    "colab_type": "text",
    "id": "yaUt0Chfzk_Z"
   },
   "source": [
    "Хорошо, выводить текст (красиво) мы теперь умеем. А как вводить? Для этого есть функция ```input()```\n",
    "\n",
    "Функция принимает текст, который пользователь вводит с клавиатуры (в предлагаемый на экране строковый аргумент). После запуска ячейки *(или нажатия Run, если Вы в PyCharm, или нажатия Enter, если вы в интерактивном режиме питона из терминала)*\n",
    "функция ```input()``` возвратит на экран строку, которую мы ей подали."
   ]
  },
  {
   "cell_type": "code",
   "execution_count": null,
   "metadata": {
    "colab": {
     "base_uri": "https://localhost:8080/",
     "height": 34
    },
    "colab_type": "code",
    "id": "GcM3830AzkF2",
    "outputId": "299df476-9692-4f34-86e1-68e426127dba"
   },
   "outputs": [
    {
     "name": "stdout",
     "output_type": "stream",
     "text": [
      "напишите что угодно: ссс\n"
     ]
    }
   ],
   "source": [
    "name = input (\"напишите что угодно: \")\n"
   ]
  },
  {
   "cell_type": "markdown",
   "metadata": {
    "colab_type": "text",
    "id": "CX-aPirI4IGC"
   },
   "source": [
    "Давайте используем это, чтобы сделать персонализированное приветствие"
   ]
  },
  {
   "cell_type": "code",
   "execution_count": null,
   "metadata": {
    "colab": {
     "base_uri": "https://localhost:8080/",
     "height": 50
    },
    "colab_type": "code",
    "id": "rixeKn1o4XSr",
    "outputId": "8d2f4e1c-d7fe-41cf-b355-11d6ed3ff0b4"
   },
   "outputs": [
    {
     "name": "stdout",
     "output_type": "stream",
     "text": [
      "Здравствуйте! Как Вас зовут? ии\n",
      "Приятно познакомиться, ии\n"
     ]
    }
   ],
   "source": [
    "name = input(\"Здравствуйте! Как Вас зовут? \")\n",
    "print(\"Приятно познакомиться,\",name)"
   ]
  },
  {
   "cell_type": "markdown",
   "metadata": {
    "colab_type": "text",
    "id": "X89hZucz-Zcp"
   },
   "source": [
    "<img alt=\"Картинки по запросу &quot;personalized ai meme&quot;&quot;\" class=\"n3VNCb\" src=\"https://pics.me.me/we-used-machine-learning-algorithms-to-greet-the-user-with-56245903.png\" data-noaft=\"1\" jsname=\"HiaYvf\" jsaction=\"load:XAeZkd;\" style=\"width: 317.385px; height: 471px; margin: 0px;\">"
   ]
  },
  {
   "cell_type": "markdown",
   "metadata": {
    "colab_type": "text",
    "id": "kt2nYlkcgCnu"
   },
   "source": [
    "## списки\n",
    "\n",
    "изменяемые итерируемые коллекции объектов произвольных типов. Записываются в квадратных скобках [  ]"
   ]
  },
  {
   "cell_type": "code",
   "execution_count": null,
   "metadata": {
    "colab": {},
    "colab_type": "code",
    "id": "1chs7uBGgF7z"
   },
   "outputs": [],
   "source": [
    "my_list = [5,\"строки тоже можно\",7.09,\"lalala\"] # в списке могут быть элементы разных типов\n"
   ]
  },
  {
   "cell_type": "markdown",
   "metadata": {
    "colab_type": "text",
    "id": "Ti8qZ1StKKR8"
   },
   "source": [
    "как мы можем создать лист?"
   ]
  },
  {
   "cell_type": "code",
   "execution_count": null,
   "metadata": {
    "colab": {
     "base_uri": "https://localhost:8080/",
     "height": 34
    },
    "colab_type": "code",
    "id": "uw8pm_elKN-c",
    "outputId": "85daaa8e-d595-4699-bedb-7de084bc3c81"
   },
   "outputs": [
    {
     "data": {
      "text/plain": [
       "['s', 'a', 't', 'u', 'r', 'd', 'a', 'y']"
      ]
     },
     "execution_count": 8,
     "metadata": {
      "tags": []
     },
     "output_type": "execute_result"
    }
   ],
   "source": [
    " # способ 1: обработать любой итерируемый объект встроенной функцией list()\n",
    " \n",
    " list('saturday') # возвращает лист с набором элементов, по которым итерировался в строке"
   ]
  },
  {
   "cell_type": "code",
   "execution_count": 1,
   "metadata": {
    "colab": {},
    "colab_type": "code",
    "id": "aeH_8xKJWtxK"
   },
   "outputs": [],
   "source": [
    "# способ 2: создать пустой лист и добавить в него элементы\n",
    "test = []  # Пустой список, задали литералом [].  Давайте в него что-нибудь добавим."
   ]
  },
  {
   "cell_type": "markdown",
   "metadata": {
    "colab_type": "text",
    "id": "R2bMV2sXXa71"
   },
   "source": [
    "####методы списков"
   ]
  },
  {
   "cell_type": "code",
   "execution_count": 2,
   "metadata": {
    "colab": {
     "base_uri": "https://localhost:8080/",
     "height": 34
    },
    "colab_type": "code",
    "id": "Ru-E3cY0Xpno",
    "outputId": "c2b23c26-1aec-4cee-b756-c0f680312ca0"
   },
   "outputs": [
    {
     "name": "stdout",
     "output_type": "stream",
     "text": [
      "['hi']\n"
     ]
    }
   ],
   "source": [
    "test.append(\"hi\")\t#Добавляет элемент в конец списка. Элемент можно изменять\n",
    "print(test)"
   ]
  },
  {
   "cell_type": "code",
   "execution_count": 3,
   "metadata": {
    "colab": {
     "base_uri": "https://localhost:8080/",
     "height": 34
    },
    "colab_type": "code",
    "id": "eDkkKpPzbQmn",
    "outputId": "0a5ed660-f1d6-49a2-b7f4-99320d030f2c"
   },
   "outputs": [
    {
     "data": {
      "text/plain": [
       "['hi', 'Jane', 'Jack']"
      ]
     },
     "execution_count": 3,
     "metadata": {},
     "output_type": "execute_result"
    }
   ],
   "source": [
    "test.extend([\"Jane\",\"Jack\"])\t#Расширяет список list, добавляя в конец все элементы списка L\n",
    "test"
   ]
  },
  {
   "cell_type": "code",
   "execution_count": 4,
   "metadata": {
    "colab": {
     "base_uri": "https://localhost:8080/",
     "height": 34
    },
    "colab_type": "code",
    "id": "YwVzP0NYbTKp",
    "outputId": "bb4e4862-a688-4882-98a7-b494c908358c"
   },
   "outputs": [
    {
     "data": {
      "text/plain": [
       "[56, 'hi', 'Jane', 'Jack']"
      ]
     },
     "execution_count": 4,
     "metadata": {},
     "output_type": "execute_result"
    }
   ],
   "source": [
    "#аргументы в скобках: i-ый элемент(место) и значение, которое хотим вставить на это место\n",
    "test.insert(0, 56) # на 0е место вставили число 56\n",
    "test"
   ]
  },
  {
   "cell_type": "code",
   "execution_count": 5,
   "metadata": {
    "colab": {
     "base_uri": "https://localhost:8080/",
     "height": 230
    },
    "colab_type": "code",
    "id": "ORhHmP_LbVBu",
    "outputId": "9ec27de3-d6e5-47df-c5af-4107bc830883"
   },
   "outputs": [
    {
     "ename": "ValueError",
     "evalue": "list.remove(x): x not in list",
     "output_type": "error",
     "traceback": [
      "\u001b[0;31m---------------------------------------------------------------------------\u001b[0m",
      "\u001b[0;31mValueError\u001b[0m                                Traceback (most recent call last)",
      "\u001b[0;32m<ipython-input-5-fa27a7e0479a>\u001b[0m in \u001b[0;36m<module>\u001b[0;34m\u001b[0m\n\u001b[1;32m      3\u001b[0m \u001b[0;34m\u001b[0m\u001b[0m\n\u001b[1;32m      4\u001b[0m \u001b[0;31m# Выдает ValueError, если такого элемента не существует в списке\u001b[0m\u001b[0;34m\u001b[0m\u001b[0;34m\u001b[0m\u001b[0;34m\u001b[0m\u001b[0m\n\u001b[0;32m----> 5\u001b[0;31m \u001b[0mtest\u001b[0m\u001b[0;34m.\u001b[0m\u001b[0mremove\u001b[0m\u001b[0;34m(\u001b[0m\u001b[0;36m90\u001b[0m\u001b[0;34m)\u001b[0m \u001b[0;31m# раскомментьте эту строку, чтобы посмотреть, как работает ошибка\u001b[0m\u001b[0;34m\u001b[0m\u001b[0;34m\u001b[0m\u001b[0m\n\u001b[0m",
      "\u001b[0;31mValueError\u001b[0m: list.remove(x): x not in list"
     ]
    }
   ],
   "source": [
    "test.remove(14)\t#Удаляет первый элемент в списке, имеющий значение, переданное в скобках.\n",
    "test\n",
    "\n",
    "# Выдает ValueError, если такого элемента не существует в списке\n",
    "test.remove(90) # раскомментьте эту строку, чтобы посмотреть, как работает ошибка\n"
   ]
  },
  {
   "cell_type": "code",
   "execution_count": null,
   "metadata": {
    "colab": {
     "base_uri": "https://localhost:8080/",
     "height": 50
    },
    "colab_type": "code",
    "id": "4aSnm9AQbXfa",
    "outputId": "67c96dfd-5320-4553-e9c0-c54de00ab461"
   },
   "outputs": [
    {
     "name": "stdout",
     "output_type": "stream",
     "text": [
      "[56, 'hi', 'Jane', 'Jack']\n"
     ]
    },
    {
     "data": {
      "text/plain": [
       "2"
      ]
     },
     "execution_count": 14,
     "metadata": {
      "tags": []
     },
     "output_type": "execute_result"
    }
   ],
   "source": [
    "print(test)\n",
    "test.index('Jane') #Возвращает положение элемента со значением, заданным в скобках. \n",
    "#Если таких элементов больше одного, возвращает первый подошедший\t\n"
   ]
  },
  {
   "cell_type": "code",
   "execution_count": 7,
   "metadata": {
    "colab": {},
    "colab_type": "code",
    "id": "HFUVPNe7bZZi"
   },
   "outputs": [
    {
     "data": {
      "text/plain": [
       "1"
      ]
     },
     "execution_count": 7,
     "metadata": {},
     "output_type": "execute_result"
    }
   ],
   "source": [
    "test.count(\"Jane\")\t# Возвращает количество элементов со значением, заданным в скобках"
   ]
  },
  {
   "cell_type": "code",
   "execution_count": 6,
   "metadata": {
    "colab": {},
    "colab_type": "code",
    "id": "iHq2SgvAbah0"
   },
   "outputs": [
    {
     "data": {
      "text/plain": [
       "[0, 1.7, 2, 9, 88, 347]"
      ]
     },
     "execution_count": 6,
     "metadata": {},
     "output_type": "execute_result"
    }
   ],
   "source": [
    "# test.sort()\t#Сортирует список (не работает для элементов разных типов в одном листе)\n",
    "\n",
    "test2 = [1.7,9,0,347,88,2]\n",
    "test2.sort()\n",
    "test2"
   ]
  },
  {
   "cell_type": "code",
   "execution_count": 8,
   "metadata": {
    "colab": {},
    "colab_type": "code",
    "id": "b9rEJN3hbcEe"
   },
   "outputs": [
    {
     "data": {
      "text/plain": [
       "['Jack', 'Jane', 'hi', 56]"
      ]
     },
     "execution_count": 8,
     "metadata": {},
     "output_type": "execute_result"
    }
   ],
   "source": [
    "test.reverse()\t#Разворачивает список\n",
    "test\n"
   ]
  },
  {
   "cell_type": "code",
   "execution_count": 9,
   "metadata": {
    "colab": {},
    "colab_type": "code",
    "id": "K8sqmhJHbhoM"
   },
   "outputs": [
    {
     "data": {
      "text/plain": [
       "[]"
      ]
     },
     "execution_count": 9,
     "metadata": {},
     "output_type": "execute_result"
    }
   ],
   "source": [
    "test.clear()\t#Очищает список\n",
    "test"
   ]
  },
  {
   "cell_type": "markdown",
   "metadata": {
    "colab_type": "text",
    "id": "pase1Hbc-omO"
   },
   "source": [
    "модуль  random"
   ]
  },
  {
   "cell_type": "code",
   "execution_count": 24,
   "metadata": {
    "colab": {},
    "colab_type": "code",
    "id": "Bd7PtY2O-n8w"
   },
   "outputs": [
    {
     "name": "stdout",
     "output_type": "stream",
     "text": [
      "hello, Sam\n"
     ]
    }
   ],
   "source": [
    "import random # импортировали модуль в тетрадку/проект в Pycharm\n",
    "seq = [\"Jane\",\"Mary\",\"Alice\",\"Leo\",\"Nick\",\"Genevieve\",\"Sam\",\"yes, you\",\"and bye\"]\n",
    "chosen_name = random.choice(seq) \n",
    "# random.choice(x) выбирает в произвольном порядке один из элементов в последовательности, заданной в скобках, как аргумент метода\n",
    "# сохраним результат в переменную chosen_name (хорошо, когда названия переменных информативны)\n",
    "\n",
    "print(\"hello,\",chosen_name) \n",
    "# выводим на печать: фиксированную строку \"hello,\" и переменную, в которой результат выбора элемента из списка\n",
    "\n",
    "#запустите эту ячейку несколько раз, имена будут меняться"
   ]
  },
  {
   "cell_type": "markdown",
   "metadata": {
    "colab_type": "text",
    "id": "anf7YO01gIbP"
   },
   "source": [
    "## if (оператор ветвления) \n",
    "общая схема такая: сначала ```if``` с условным выражением, далее одна или более необязательных частей ```elif```, и в конце необязательная часть ```else```.\n",
    "\n",
    "\n",
    "    if test1:            # если условие1\n",
    "        state1           # выполни действие1\n",
    "    elif test2:          # если условие2\n",
    "        state2           # выполни действие2\n",
    "    else:                # в остальных случаях\n",
    "        state3           # выполни действие3"
   ]
  },
  {
   "cell_type": "code",
   "execution_count": 14,
   "metadata": {
    "colab": {},
    "colab_type": "code",
    "id": "qVgtREF7gKgT"
   },
   "outputs": [
    {
     "name": "stdin",
     "output_type": "stream",
     "text": [
      "введите число, а я угадаю, четное оно или нет: 5\n"
     ]
    },
    {
     "name": "stdout",
     "output_type": "stream",
     "text": [
      "число 5 нечетное\n"
     ]
    },
    {
     "data": {
      "text/plain": [
       "'Настя Черная: Питон выдаст ошибку, потому что функция int не сработает для букв и знаков препинания, \\nпотому что она может превратить в целое число только строку c цифрами'"
      ]
     },
     "execution_count": 14,
     "metadata": {},
     "output_type": "execute_result"
    }
   ],
   "source": [
    "# пример:\n",
    "inp = input(\"введите число, а я угадаю, четное оно или нет:\") # сохраняем в переменную значение, введенное с клавиатуры\n",
    "# функция input() выдает строки, а нам нужно для дальнейщих операций нужен тип данных \"число\". Преобразуем строку в число!\n",
    "inp = int(inp) # просто перезапишем переменную, применив к ней функцию int(). Она превращает числовую строку в число\n",
    "\n",
    "# Дальше создадим условие:\n",
    "if inp%2 == 0: # если остаток от деления числа, сохранненного в inp на 2 равен нулю (т.е. если число делится на 2 без остатка)\n",
    "    print('да, число', inp,\"четное\") # выводим ответ: строки и переменную, где лежит наше число\n",
    "else: # в ином случае\n",
    "    print('число',inp, 'нечетное') # также выводим ответ: строки и переменную, где лежит наше число\n",
    "\n",
    "# Вопрос для размышлений: что будет, если мы можем введем в поле input строку с буквами или знаками препинания?\n",
    "#Настя Черная: Питон выдаст ошибку, потому что функция int не сработает для букв и знаков препинания, \n",
    "#потому что она может превратить в целое число только строку c цифрами"
   ]
  },
  {
   "cell_type": "code",
   "execution_count": 30,
   "metadata": {
    "colab": {},
    "colab_type": "code",
    "id": "EdaYTFunmZTn"
   },
   "outputs": [
    {
     "name": "stdin",
     "output_type": "stream",
     "text": [
      "по шкале от 0 до 10, напишите, насколько Вы устали:  8\n"
     ]
    },
    {
     "name": "stdout",
     "output_type": "stream",
     "text": [
      "Вы на грани!\n"
     ]
    }
   ],
   "source": [
    "# определитель усталости\n",
    "\n",
    "a = float(input('по шкале от 0 до 10, напишите, насколько Вы устали: '))\n",
    "if a < 0.7:\n",
    "    print('Кажется, Вы совсем не устали')\n",
    "elif 0.7 <= a <= 6.8:\n",
    "    print('Вы средненько устали')\n",
    "# более тонкая настройка?\n",
    "elif 6.9<=a<=8.5:\n",
    "    print('Вы на грани!')\n",
    "else:\n",
    "    print('Скорее идите отдыхать!')\n"
   ]
  },
  {
   "cell_type": "code",
   "execution_count": null,
   "metadata": {
    "colab": {},
    "colab_type": "code",
    "id": "SUHa_7YVtGSq"
   },
   "outputs": [],
   "source": [
    "#короткий способ записать if\\else\n",
    "# действие1 если условие верно, иначе действие2\n",
    "x = input(\"какой кофе вы любите? \") \n",
    "\n",
    "print(\"я тоже!\") if x in [\"американо\",\"латте\",\"колдбрю\"] else print(\"отличный выбор\")\n",
    "\n"
   ]
  },
  {
   "cell_type": "markdown",
   "metadata": {
    "colab_type": "text",
    "id": "GwBwQmwpxS3f"
   },
   "source": [
    "### Логические операторы: (True|False)\n",
    "\n",
    "```x and y```\n",
    "True, если оба значения x и y = True\n",
    "\n",
    "```x or y```\n",
    "True, если хотя бы одно из значений x или y = True\n",
    "\n",
    "```not x```\n",
    "True, если x = False\n",
    "\n",
    "\n",
    "True = 1\n",
    "False = 0"
   ]
  },
  {
   "cell_type": "markdown",
   "metadata": {
    "colab_type": "text",
    "id": "5poDiBHfgLLW"
   },
   "source": [
    "## цикл while\n",
    "\n",
    "будет исполняться, пока условие = True"
   ]
  },
  {
   "cell_type": "markdown",
   "metadata": {
    "colab_type": "text",
    "id": "YjtDPTnHeE_I"
   },
   "source": []
  },
  {
   "cell_type": "code",
   "execution_count": 15,
   "metadata": {
    "colab": {},
    "colab_type": "code",
    "id": "87cypz05gUlD"
   },
   "outputs": [
    {
     "name": "stdout",
     "output_type": "stream",
     "text": [
      "5\n",
      "7\n",
      "9\n",
      "11\n",
      "13\n"
     ]
    }
   ],
   "source": [
    "i = 5 # вне цикла создали переменную, равную 5\n",
    "while i < 15: # начало цикла: до тех пор, пока i меньше 15\n",
    "    print(i) # тело цикла: печатаем i\n",
    "    i = i + 2 # тело цикла: пересохраняем значение i, прибавив к нему 2, повторяем сначала"
   ]
  },
  {
   "cell_type": "markdown",
   "metadata": {
    "colab_type": "text",
    "id": "W7UMswxs1-9M"
   },
   "source": [
    "будьте осторожны с условием ```while True: ```, это бесконечный цикл"
   ]
  },
  {
   "cell_type": "code",
   "execution_count": null,
   "metadata": {
    "colab": {},
    "colab_type": "code",
    "id": "oXS40-lQ2HMA"
   },
   "outputs": [],
   "source": [
    "n = 2 # вне цикла создали переменную, равную 2\n",
    "while n !=1: # пока n не равно единице\n",
    "    print(n) # печатем n\n",
    "    n += 1 #прибавляем единицу, повторяем сначала\n",
    "\n",
    "# цикл будет бесконечным, т.к. мы начали с двойки и задали условие \"пока результат меньше единицы,увеличивай на 1\"\n",
    "\n",
    "#прервать выполнение можно, нажав на стоп"
   ]
  },
  {
   "cell_type": "markdown",
   "metadata": {
    "colab_type": "text",
    "id": "F8B_SWjegVng"
   },
   "source": [
    "## цикл for\n",
    "\n",
    "проходится по любому итерируемому объекту (например строке или списку), выполняет заданное нами действие. Действие задается в **теле цикла**"
   ]
  },
  {
   "cell_type": "code",
   "execution_count": 16,
   "metadata": {
    "colab": {},
    "colab_type": "code",
    "id": "gQtQSDLpgXqb"
   },
   "outputs": [
    {
     "name": "stdout",
     "output_type": "stream",
     "text": [
      "['h'] False\n",
      "['e'] False\n",
      "['l'] False\n",
      "['l'] False\n",
      "['o'] False\n",
      "[' '] True\n",
      "['i'] False\n",
      "[' '] True\n",
      "['n'] False\n",
      "['o'] False\n",
      "['w'] False\n",
      "[' '] True\n",
      "['k'] False\n",
      "['n'] False\n",
      "['o'] False\n",
      "['w'] False\n",
      "[' '] True\n",
      "['a'] False\n",
      "[' '] True\n",
      "['l'] False\n",
      "['o'] False\n",
      "['t'] False\n",
      "[' '] True\n",
      "['o'] False\n",
      "['f'] False\n",
      "[' '] True\n",
      "['c'] False\n",
      "['o'] False\n",
      "['o'] False\n",
      "['l'] False\n",
      "[' '] True\n",
      "['s'] False\n",
      "['t'] False\n",
      "['u'] False\n",
      "['f'] False\n",
      "['f'] False\n",
      "[' '] True\n",
      "['a'] False\n",
      "['b'] False\n",
      "['o'] False\n",
      "['u'] False\n",
      "['t'] False\n",
      "[' '] True\n",
      "['c'] False\n",
      "['y'] False\n",
      "['c'] False\n",
      "['l'] False\n",
      "['e'] False\n",
      "['s'] False\n"
     ]
    }
   ],
   "source": [
    "# детектор пробелов в тексте\n",
    "\n",
    "string = 'hello i now know a lot of cool stuff about cycles'\n",
    "for s in string:\n",
    "    print([s],s.isspace()) # метод из прошлого занятия, позволяет проверить символ, возвращает True или False"
   ]
  },
  {
   "cell_type": "code",
   "execution_count": 17,
   "metadata": {
    "colab": {},
    "colab_type": "code",
    "id": "sljONgJC69cL"
   },
   "outputs": [
    {
     "name": "stdout",
     "output_type": "stream",
     "text": [
      "i never drink coffee alone, because it's too silly\n",
      "i never drink tea alone, because it's too silly\n",
      "i never drink wine alone, because it's too beautiful\n",
      "i never drink juice alone, because it's too sad\n"
     ]
    }
   ],
   "source": [
    "# генератор фраз \n",
    "seq2 = ['boring', 'dangerous','sad','beautiful','silly','difficult']\n",
    "\n",
    "for i in ['coffee','tea','wine','juice']:\n",
    "    i = \"i never drink \"+ i +\" alone, because it's too\"\n",
    "    print(i,random.choice(seq2))"
   ]
  },
  {
   "cell_type": "markdown",
   "metadata": {
    "colab_type": "text",
    "id": "EB34xQZ7cwAb"
   },
   "source": [
    "операторы break и continue\n",
    "\n",
    "\n",
    "<img class=\"fancybox-image\" src=\"http://labs-org.ru/wp-content/uploads/2016/05/1-6.png\">"
   ]
  },
  {
   "cell_type": "markdown",
   "metadata": {
    "colab_type": "text",
    "id": "ssmN_-5pBGlU"
   },
   "source": [
    "оператор break - позволяет прервать цикл (работает для for и while)"
   ]
  },
  {
   "cell_type": "code",
   "execution_count": 19,
   "metadata": {
    "colab": {},
    "colab_type": "code",
    "id": "ziwXy_XcBFS3"
   },
   "outputs": [
    {
     "name": "stdout",
     "output_type": "stream",
     "text": [
      "i never drink coffee alone, because it's too dangerous\n"
     ]
    }
   ],
   "source": [
    "seq2 = ['boring', 'dangerous','sad','beautiful','silly','difficult']\n",
    "\n",
    "for i in ['coffee','tea','wine','juice']:\n",
    "    i = \"i never drink \"+ i +\" alone, because it's too\"\n",
    "    print(i,random.choice(seq2))\n",
    "    break  # запустите ячейку сначала с этой строкой в виде комментария, а затем раскомментьте и запустите еще раз"
   ]
  },
  {
   "cell_type": "markdown",
   "metadata": {
    "colab_type": "text",
    "id": "P30DWz1lBzFF"
   },
   "source": [
    "оператор continue - начинает следующий проход цикла, минуя оставшееся тело цикла (работает для for и while)"
   ]
  },
  {
   "cell_type": "code",
   "execution_count": 23,
   "metadata": {
    "colab": {},
    "colab_type": "code",
    "id": "__tAmgMdB0PA"
   },
   "outputs": [
    {
     "name": "stdout",
     "output_type": "stream",
     "text": [
      "hheellll  wwrrlldd"
     ]
    }
   ],
   "source": [
    "for i in 'hello world': # проходимся по всем элементам строки\n",
    "    if i == 'o': # если элемент == o, то возвращаемся к следующему, не выполняя остаток цикла для o\n",
    "        continue\n",
    "    print(i * 2, end='') #end - по умолчанию печатает в новой строке, здесь мы просим распечатать в той же строке"
   ]
  },
  {
   "cell_type": "markdown",
   "metadata": {
    "colab_type": "text",
    "id": "yo6HyYX6gI73"
   },
   "source": [
    "## бонус"
   ]
  },
  {
   "cell_type": "code",
   "execution_count": 28,
   "metadata": {
    "colab": {},
    "colab_type": "code",
    "id": "WGhh5EnSgx6P"
   },
   "outputs": [
    {
     "name": "stdout",
     "output_type": "stream",
     "text": [
      "['hhh', 'eee', 'lll', 'lll', 'ooo']\n",
      "['lll', 'sss', 'ttt']\n",
      "['ls', 'lp', 'lm', 'ss', 'sp', 'sm', 'ts', 'tp', 'tm']\n"
     ]
    }
   ],
   "source": [
    "#@title сюрприз для гуру списков и циклов :) (кликните на ячейку два раза) { output-height: 10, display-mode: \"form\" }\n",
    "#@еще способ\n",
    "# еще один способ задать список - это использовать генератор списков, он же list comprehension\n",
    "cool_list = [i * 3 for i in 'hello']\n",
    "print(cool_list)\n",
    "\n",
    "# более сложные случаи\n",
    "new_fff = [c * 3 for c in 'list' if c != 'i']\n",
    "print(new_fff)\n",
    "\n",
    "new_ccc = [c + d for c in 'list' if c != 'i' for d in 'spam' if d != 'a']\n",
    "print(new_ccc)\n",
    "\n",
    "# в сложных случаях лучше пользоваться обычным циклом for для генерации списков, он более читабельный"
   ]
  },
  {
   "cell_type": "markdown",
   "metadata": {
    "colab_type": "text",
    "id": "ZCJWKHGVgY05"
   },
   "source": [
    "## homework\n",
    "\n",
    "Ниже представлены два варианта домашнего задания: easy mode и hard mode. Вы можете выбрать один из понравившихся (они оцениваются одинаково, без учета сложности). Hard mode создан для тех, кому может быть скучно с легкими заданиями."
   ]
  },
  {
   "cell_type": "markdown",
   "metadata": {
    "colab_type": "text",
    "id": "npH9oiwdu8qi"
   },
   "source": [
    "###**easy** mode\n",
    "\n",
    "\n"
   ]
  },
  {
   "cell_type": "markdown",
   "metadata": {
    "colab_type": "text",
    "id": "YJzLcQ97Z7_o"
   },
   "source": [
    "Задание 1: (условия if-elif-else)\n",
    "\n",
    "В ячейке ниже - код \"определителя усталости\" (мы разбирали его на паре). Сейчас он работает, но его можно улучшить: \n",
    "1.  добавьте условие, чтобы если пользователь вводит число больше 10, мы говорили ему, что так нельзя\n",
    "\n",
    "2. добавьте еще одно или два условия, чтобы датчик категорий усталости был еще точнее\n",
    "\n",
    "*Подсказка: может помочь нарисовать себе схему условий на бумаге*"
   ]
  },
  {
   "cell_type": "code",
   "execution_count": 14,
   "metadata": {
    "colab": {},
    "colab_type": "code",
    "id": "i6qZ_C4YgfCz"
   },
   "outputs": [
    {
     "name": "stdin",
     "output_type": "stream",
     "text": [
      "по шкале от 0 до 10, напишите, насколько Вы устали:  8\n"
     ]
    },
    {
     "name": "stdout",
     "output_type": "stream",
     "text": [
      "Вы устали чуть больше, чем средненько\n"
     ]
    }
   ],
   "source": [
    "# определитель усталости\n",
    "\n",
    "a = float(input('по шкале от 0 до 10, напишите, насколько Вы устали: '))\n",
    "if a < 0.7:\n",
    "    print('Кажется, Вы совсем не устали')\n",
    "elif 0.7 <= a <= 6.8:\n",
    "    print('Вы средненько устали')\n",
    "elif 6.9<=a<=8:\n",
    "    print('Вы устали чуть больше, чем средненько')\n",
    "elif 8.1<=a<=9:\n",
    "    print('Вы на грани! Берегите себя!')\n",
    "elif a>10:\n",
    "    print ('Вы ввели число больше 10. Пожалуйста, введите число от 0 до 10. Спасибо за понимание!')\n",
    "else:\n",
    "    print('Вы очень устали. Скорее отдыхать!') "
   ]
  },
  {
   "cell_type": "markdown",
   "metadata": {
    "colab_type": "text",
    "id": "IDFL32t-cA5I"
   },
   "source": [
    "Задание 2: (цикл while)\n",
    "\n",
    "a) Напишите код, который будет считать от 100 до 0 с шагом в 10и выводом промежуточных результатов на экран (то есть, 100-90-80-70...10-0). Когда дойдет до финиша, на экран должно выводиться сообщение, что программа завершилась. (здесь вам поможет ```print()``` )\n",
    "\n",
    "*Подсказка: вне цикла создайте переменную, равную 100, а в цикле цикле задайте шаг. Не забудьте про вывод результата о завершении работы* "
   ]
  },
  {
   "cell_type": "code",
   "execution_count": 18,
   "metadata": {
    "colab": {},
    "colab_type": "code",
    "id": "4-xQGvXNEbr0"
   },
   "outputs": [
    {
     "name": "stdout",
     "output_type": "stream",
     "text": [
      "90\n",
      "80\n",
      "70\n",
      "60\n",
      "50\n",
      "40\n",
      "30\n",
      "20\n",
      "10\n",
      "0\n",
      "Программа завершила свою работу\n"
     ]
    }
   ],
   "source": [
    "# Ваш код: \n",
    "n = 100\n",
    "while n >= 10:\n",
    "    n = n - 10\n",
    "    print(n)\n",
    "print ('Программа завершила свою работу')\n",
    "\n"
   ]
  },
  {
   "cell_type": "markdown",
   "metadata": {
    "colab_type": "text",
    "id": "40PLtt0WQNGh"
   },
   "source": [
    "Задача 3 (модуль random и операции со строками)\n",
    "\n",
    "программа \"миллион причин остаться дома\" выбирает причину, почему наш герой(или героиня) не идет на работу. В переменной excuses есть заданный список причин (Вы можете его расширить, по желанию: вручную или методом ```.append()``` ). Методом ```random.choice()``` нам нужно выбрать одну из них и вывести на печать вместе с фиксированной фразой.\n",
    "\n",
    "Наша программа должна выбрать причину и напечатать сообщение: \"Сегодня я не иду на работу, потому что\" и причину. "
   ]
  },
  {
   "cell_type": "code",
   "execution_count": 25,
   "metadata": {
    "colab": {},
    "colab_type": "code",
    "id": "aZzK4CieQNpN"
   },
   "outputs": [
    {
     "name": "stdout",
     "output_type": "stream",
     "text": [
      "Сегодня я не иду на работу, потому что у ребенка день рождения\n"
     ]
    }
   ],
   "source": [
    "import random\n",
    "excuses = [\"я устал\",\"я улетел к океану\",\"на улице холодно\",\"на улице жарко\", #мы можем переносить строки, пока в списке! \n",
    "           \"я в отпуске\",\"у меня день рождения\",\"сегодня выходной\",\"мне надоело\",\n",
    "           \"я работаю из дома\",\"не могу\",\"плохо себя чувствую\",\"не хочу\", \"у меня лапки\",\"я в отпуске!\",\n",
    "           \"на улице ураган\"]\n",
    "excuses.append(\"у ребенка день рождения\")\n",
    "choisen_excuse = random.choice(excuses)\n",
    "print (\"Сегодня я не иду на работу, потому что \"+choisen_excuse)\n",
    "# random.choice(x) выбирает в произвольном порядке один из элементов в последовательности, заданной в скобках, как аргумент метода\n",
    "# Ваш код:\n"
   ]
  },
  {
   "cell_type": "markdown",
   "metadata": {
    "colab_type": "text",
    "id": "6qrjVJlLccbT"
   },
   "source": [
    "### **hard** mode\n",
    "\n",
    "\n",
    "\n",
    "(если предыдущий вариант кажется скучным/ простым, и вы уже знаете про циклы for и операторы break/continue)\n",
    "\n",
    "Задача 1 определитель делимости числа на 5\n",
    "\n",
    "Напишите код, который проверяет делимость числа на 5. Числа нужно выбрать из списка. Если число делится, алгоритм должен выйти из цикла и вывести на экран искомое число и строку \"делится на 5\". Если не делится, выводим на экран \"это не делится на 5, продолжим поиск\". Продолжаем пока не найдем такое, которое бы делилось. Проверяя числа на делимость, алгоритм также должен игнорировать число 45, не прервав на нем цикл."
   ]
  },
  {
   "cell_type": "code",
   "execution_count": 28,
   "metadata": {
    "colab": {},
    "colab_type": "code",
    "id": "Pk0L9hbxcg_j"
   },
   "outputs": [
    {
     "name": "stdout",
     "output_type": "stream",
     "text": [
      "Это не делится на 5, продолжим поиск\n",
      "Это не делится на 5, продолжим поиск\n",
      "Это не делится на 5, продолжим поиск\n",
      "Это не делится на 5, продолжим поиск\n",
      "Это не делится на 5, продолжим поиск\n",
      "Это не делится на 5, продолжим поиск\n",
      "35 делится на 5\n"
     ]
    }
   ],
   "source": [
    "numbers = [2,6,7,45,1,89,678,35]\n",
    "\n",
    "# Ваш код\n",
    "for i in numbers: #циклом for проходимся по числовому списку (итерируемому объекту)\n",
    "    if i == 45:   #игнорируем число 45\n",
    "        continue  #чтобы не прерывать цикл на 45, используем continue\n",
    "    if i%5==0:    #проверяем, что число делится на 5 (т.е. остаток от деления должен быть равен 0)\n",
    "        print(i, \"делится на 5\")\n",
    "    else:\n",
    "        print('Это не делится на 5, продолжим поиск')\n"
   ]
  },
  {
   "cell_type": "markdown",
   "metadata": {
    "colab_type": "text",
    "id": "fHRyAz5ah2GG"
   },
   "source": [
    "Задача 2: робот, выбирающий пользователю коктейль:\n",
    "\n",
    "Представьте, что Вы разрабатываете (фрагмент) электронного помощника для ресторана. \n",
    "\n",
    "У Вас есть список коктейлей, где каждый коктейль представлен в виде списка ингридиентов. (у нас получается список списков). Программа рандомным образом должна выбрать один из коктейлей (т.е. один из списков в общем списке) и вывести на экран сообщение: \"Сегодня в вашем коктейле будет: \" и сам список ингридиентов\n",
    "\n",
    "Но есть одно условие: в некоторые из списков по ошибке попал \"лосось\" (может, его добавил незадачливый стажер-ассистент). Строку \"лосось\" нужно убрать *(здесь вам поможет один метод работы со списками)* ,но так как лосось есть не везде, нужно предварительно проверить его наличие в списке.\n",
    "\n",
    "Если можете, запишите проверку на наличие лосося и его последующее удаление из ингридиентов в виде list comprehension.\n",
    "\n",
    "Удачи!\n",
    "\n",
    "**Подсказка:** чтобы успешно свернуть цикл в list comprehension, попробуйте сначала написать цикл построчно, в классическом виде. Запустите его, проверьте, что все работает как надо. Если все хорошо, можно сворачивать. [Вот здесь](https://www.pythonforbeginners.com/basics/list-comprehensions-in-python) подсказка синтаксиса \n",
    "\n",
    "\n",
    "\n"
   ]
  },
  {
   "cell_type": "code",
   "execution_count": 100,
   "metadata": {
    "colab": {},
    "colab_type": "code",
    "id": "3Il9qv3OfoBD"
   },
   "outputs": [
    {
     "name": "stdout",
     "output_type": "stream",
     "text": [
      "Сегодня в вашем коктейле будет: водка, томатный сок, лимонный сок, вустерширский соус, черный перец, сельдерей.\n"
     ]
    }
   ],
   "source": [
    "import random\n",
    "\n",
    "cocktails = [[\"мартини\",\"грейпфрутовый сок\",\"жасмин\",\"тоник\",\"лосось\"],\n",
    "               [\"клубника\",\"какао\",\"мята\",\"марсала\"],\n",
    "               [\"водка\",\"томатный сок\",\"лимонный сок\",\"вустерширский соус\",\"черный перец\",\"сельдерей\",\"лосось\"],\n",
    "               [\"джин\",\"вермут\",\"ликер мараскино\",\"апельсины\",\"коктейльная вишня\",\"лосось\"],\n",
    "               [\"ром\",\"авокадо\",\"сахарный сироп\",\"сливки\",\"лимонный сок\",\"лед\"],\n",
    "               [\"красный вермут\",\"тоник\",\"апельсины\",\"лосось\"],\n",
    "               [\"только чай\"]\n",
    "        ]\n",
    "#Первый способ с классическими циклами, без List Сomprehension. Чтобы сработало, надо раскоммментить. \n",
    "\n",
    "#for i in cocktails: # проходим по каждому элементу во внешнем списке (у нас список состоит из списков)\n",
    "    #for s in i: #проходим по каждому элементу во вложенных списках\n",
    "        #if 'лосось' in s: # проверяем, если есть в списке 'лосось'\n",
    "            #i.remove('лосось') #удаляем элемент \"лосось\"\n",
    "#for i in cocktails: #снова проходим циклом по спискам, чтобы выбирать случайный список \n",
    "        #choisen_cocktail = random.choice(cocktails) #выбираем случайный список методом choice из библиотеки random\n",
    "#print('Сегодня в вашем коктейле будет:', ', '.join(choisen_cocktail)+'.') #методом join с помощью запятой преобразуем элементы списка в обычную строку при печати\n",
    "\n",
    "\n",
    "#Второй способ с помощью list comprehension: \n",
    "#Синтаксис list comprehension: [ expression for item in list if conditional ]\n",
    "\n",
    "for i in cocktails:\n",
    "    cool_list_of_cocktails = [i.remove ('лосось')for s in i if 'лосось' in s]\n",
    "#print(cool_list_of_cocktails) Мне тут непонятно, потому что если попросить вывести на печать результирующий список, то он будет пустой! Почему?\n",
    "\n",
    "for i in cocktails: #снова проходим циклом по спискам, чтобы сгенерировать случайный список в print \n",
    "        choisen_cocktail = random.choice(cocktails) #выбираем случайный список методом choice из библиотеки random\n",
    "print('Сегодня в вашем коктейле будет:', ', '.join(choisen_cocktail)+'.') #методом join с помощью запятой преобразуем элементы списка в обычную строку\n",
    "\n",
    "\n",
    "\n",
    "\n",
    "\n"
   ]
  },
  {
   "cell_type": "code",
   "execution_count": null,
   "metadata": {
    "colab": {},
    "colab_type": "code",
    "id": "K6IjDz4giUMC"
   },
   "outputs": [],
   "source": []
  }
 ],
 "metadata": {
  "colab": {
   "collapsed_sections": [],
   "include_colab_link": true,
   "name": "26oct_19.ipynb",
   "provenance": []
  },
  "kernelspec": {
   "display_name": "Python 3",
   "language": "python",
   "name": "python3"
  },
  "language_info": {
   "codemirror_mode": {
    "name": "ipython",
    "version": 3
   },
   "file_extension": ".py",
   "mimetype": "text/x-python",
   "name": "python",
   "nbconvert_exporter": "python",
   "pygments_lexer": "ipython3",
   "version": "3.7.3"
  }
 },
 "nbformat": 4,
 "nbformat_minor": 2
}
